{
  "nbformat": 4,
  "nbformat_minor": 0,
  "metadata": {
    "colab": {
      "provenance": [],
      "include_colab_link": true
    },
    "kernelspec": {
      "name": "python3",
      "display_name": "Python 3"
    },
    "language_info": {
      "name": "python"
    }
  },
  "cells": [
    {
      "cell_type": "markdown",
      "metadata": {
        "id": "view-in-github",
        "colab_type": "text"
      },
      "source": [
        "<a href=\"https://colab.research.google.com/github/FlowAlpha/SPIRES_kenya_sensing/blob/main/1-dd-kenya_apache.ipynb\" target=\"_parent\"><img src=\"https://colab.research.google.com/assets/colab-badge.svg\" alt=\"Open In Colab\"/></a>"
      ]
    },
    {
      "cell_type": "markdown",
      "source": [
        "# Introduction\n",
        "\n",
        "Kenya project prediction notebook using an [Apache-Beam workflow](https://colab.research.google.com/github/GoogleCloudPlatform/python-docs-samples/blob/mai[…]ple-and-planet-ai/land-cover-classification/README.ipynb). And\n",
        "\n",
        "\n",
        "\n",
        "\n",
        "https://colab.research.google.com/github/GoogleCloudPlatform/python-docs-samples/blob/main/people-and-planet-ai/land-cover-classification/cloud-tensorflow.ipynb#scrollTo=D8Kwmqa8CpQV\n",
        "\n",
        "\n",
        "\n",
        "---\n",
        "\n",
        "\n",
        "To Do:\n",
        "\n",
        "\n",
        "*   **FIX** misaligned tensor (under Train Model)\n",
        "*   Check  `target` variable\n",
        "*   Add block descriptions\n",
        "*   Add descriptions\n",
        "\n"
      ],
      "metadata": {
        "id": "5PN236AA1ckC"
      }
    },
    {
      "cell_type": "markdown",
      "source": [
        "# Initial Software and Libraries"
      ],
      "metadata": {
        "id": "lDiNaac9yi8O"
      }
    },
    {
      "cell_type": "code",
      "source": [
        "#After running this cell, restart your kernel and run it again to properly import geemap\n",
        "#import subprocess\n",
        "\n",
        "# try:\n",
        "#     import geemap\n",
        "# except ImportError:\n",
        "#     print('Installing geemap ...')\n",
        "    \n",
        "#     !pip install earthengine-api\n",
        "\n"
      ],
      "metadata": {
        "id": "ajFR2GQ4yoEv"
      },
      "execution_count": null,
      "outputs": []
    },
    {
      "cell_type": "markdown",
      "source": [
        "## Install the proper modules and then **restarts runtime**\n",
        "\n",
        "\n",
        "For standardization, we're pulling requirements directly from the git repo from [GoogleCloudPlatform](https://github.com/GoogleCloudPlatform)"
      ],
      "metadata": {
        "id": "m6TvuA9gzLP6"
      }
    },
    {
      "cell_type": "code",
      "source": [
        "repo_url = \"https://raw.githubusercontent.com/GoogleCloudPlatform/python-docs-samples/main/people-and-planet-ai/land-cover-classification\"\n",
        "\n",
        "!wget --quiet {repo_url}/requirements.txt"
      ],
      "metadata": {
        "id": "ZDlh0jmzytfG"
      },
      "execution_count": null,
      "outputs": []
    },
    {
      "cell_type": "code",
      "source": [
        "!pip install --quiet --upgrade pip"
      ],
      "metadata": {
        "colab": {
          "base_uri": "https://localhost:8080/"
        },
        "id": "eufmNiV3hhW9",
        "outputId": "d5650bb6-a6f8-4e13-da61-3cc949e53663"
      },
      "execution_count": null,
      "outputs": [
        {
          "output_type": "stream",
          "name": "stdout",
          "text": [
            "\u001b[2K     \u001b[90m━━━━━━━━━━━━━━━━━━━━━━━━━━━━━━━━━━━━━━━━\u001b[0m \u001b[32m2.1/2.1 MB\u001b[0m \u001b[31m8.9 MB/s\u001b[0m eta \u001b[36m0:00:00\u001b[0m\n",
            "\u001b[?25h"
          ]
        }
      ]
    },
    {
      "cell_type": "code",
      "source": [
        "# Install the dependencies.\n",
        "!pip install --quiet -r requirements.txt\n",
        "\n",
        "# Restart the runtime by ending the process.\n",
        "exit()"
      ],
      "metadata": {
        "colab": {
          "base_uri": "https://localhost:8080/"
        },
        "id": "T8rzDGCg5Cb6",
        "outputId": "b22e3a18-103c-4457-988b-e7824bc77c43"
      },
      "execution_count": null,
      "outputs": [
        {
          "output_type": "stream",
          "name": "stdout",
          "text": [
            "\u001b[2K     \u001b[90m━━━━━━━━━━━━━━━━━━━━━━━━━━━━━━━━━━━━━━━━\u001b[0m \u001b[32m14.5/14.5 MB\u001b[0m \u001b[31m46.7 MB/s\u001b[0m eta \u001b[36m0:00:00\u001b[0m\n",
            "\u001b[2K     \u001b[90m━━━━━━━━━━━━━━━━━━━━━━━━━━━━━━━━━━━━━━\u001b[0m \u001b[32m245.8/245.8 kB\u001b[0m \u001b[31m14.5 MB/s\u001b[0m eta \u001b[36m0:00:00\u001b[0m\n",
            "\u001b[?25h  Preparing metadata (setup.py) ... \u001b[?25l\u001b[?25hdone\n",
            "\u001b[2K     \u001b[90m━━━━━━━━━━━━━━━━━━━━━━━━━━━━━━━━━━━━━━━━\u001b[0m \u001b[32m2.5/2.5 MB\u001b[0m \u001b[31m47.5 MB/s\u001b[0m eta \u001b[36m0:00:00\u001b[0m\n",
            "\u001b[2K     \u001b[90m━━━━━━━━━━━━━━━━━━━━━━━━━━━━━━━━━━━━━━━━\u001b[0m \u001b[32m3.4/3.4 MB\u001b[0m \u001b[31m40.8 MB/s\u001b[0m eta \u001b[36m0:00:00\u001b[0m\n",
            "\u001b[2K     \u001b[90m━━━━━━━━━━━━━━━━━━━━━━━━━━━━━━━━━━━━━━━\u001b[0m \u001b[32m588.3/588.3 MB\u001b[0m \u001b[31m1.5 MB/s\u001b[0m eta \u001b[36m0:00:00\u001b[0m\n",
            "\u001b[2K     \u001b[90m━━━━━━━━━━━━━━━━━━━━━━━━━━━━━━━━━━━━━━\u001b[0m \u001b[32m515.5/515.5 kB\u001b[0m \u001b[31m32.0 MB/s\u001b[0m eta \u001b[36m0:00:00\u001b[0m\n",
            "\u001b[2K     \u001b[90m━━━━━━━━━━━━━━━━━━━━━━━━━━━━━━━━━━━━━━\u001b[0m \u001b[32m144.1/144.1 kB\u001b[0m \u001b[31m15.2 MB/s\u001b[0m eta \u001b[36m0:00:00\u001b[0m\n",
            "\u001b[2K     \u001b[90m━━━━━━━━━━━━━━━━━━━━━━━━━━━━━━━━━━━━━━━━\u001b[0m \u001b[32m2.6/2.6 MB\u001b[0m \u001b[31m68.9 MB/s\u001b[0m eta \u001b[36m0:00:00\u001b[0m\n",
            "\u001b[2K     \u001b[90m━━━━━━━━━━━━━━━━━━━━━━━━━━━━━━━━━━━━━━━━\u001b[0m \u001b[32m89.7/89.7 kB\u001b[0m \u001b[31m10.3 MB/s\u001b[0m eta \u001b[36m0:00:00\u001b[0m\n",
            "\u001b[?25h  Preparing metadata (setup.py) ... \u001b[?25l\u001b[?25hdone\n",
            "\u001b[2K     \u001b[90m━━━━━━━━━━━━━━━━━━━━━━━━━━━━━━━━━━━━━━━━\u001b[0m \u001b[32m2.7/2.7 MB\u001b[0m \u001b[31m65.7 MB/s\u001b[0m eta \u001b[36m0:00:00\u001b[0m\n",
            "\u001b[2K     \u001b[90m━━━━━━━━━━━━━━━━━━━━━━━━━━━━━━━━━━━━━━\u001b[0m \u001b[32m152.0/152.0 kB\u001b[0m \u001b[31m14.7 MB/s\u001b[0m eta \u001b[36m0:00:00\u001b[0m\n",
            "\u001b[?25h  Preparing metadata (setup.py) ... \u001b[?25l\u001b[?25hdone\n",
            "\u001b[2K     \u001b[90m━━━━━━━━━━━━━━━━━━━━━━━━━━━━━━━━━━━━━━\u001b[0m \u001b[32m288.1/288.1 kB\u001b[0m \u001b[31m16.8 MB/s\u001b[0m eta \u001b[36m0:00:00\u001b[0m\n",
            "\u001b[2K     \u001b[90m━━━━━━━━━━━━━━━━━━━━━━━━━━━━━━━━━━━━━━━━\u001b[0m \u001b[32m83.6/83.6 kB\u001b[0m \u001b[31m7.5 MB/s\u001b[0m eta \u001b[36m0:00:00\u001b[0m\n",
            "\u001b[2K     \u001b[90m━━━━━━━━━━━━━━━━━━━━━━━━━━━━━━━━━━━━━━\u001b[0m \u001b[32m148.2/148.2 kB\u001b[0m \u001b[31m12.4 MB/s\u001b[0m eta \u001b[36m0:00:00\u001b[0m\n",
            "\u001b[2K     \u001b[90m━━━━━━━━━━━━━━━━━━━━━━━━━━━━━━━━━━━━━━\u001b[0m \u001b[32m134.2/134.2 kB\u001b[0m \u001b[31m10.8 MB/s\u001b[0m eta \u001b[36m0:00:00\u001b[0m\n",
            "\u001b[2K     \u001b[90m━━━━━━━━━━━━━━━━━━━━━━━━━━━━━━━━━━━━━━━\u001b[0m \u001b[32m444.3/444.3 kB\u001b[0m \u001b[31m9.4 MB/s\u001b[0m eta \u001b[36m0:00:00\u001b[0m\n",
            "\u001b[2K     \u001b[90m━━━━━━━━━━━━━━━━━━━━━━━━━━━━━━━━━━━━━━\u001b[0m \u001b[32m143.4/143.4 kB\u001b[0m \u001b[31m12.9 MB/s\u001b[0m eta \u001b[36m0:00:00\u001b[0m\n",
            "\u001b[2K     \u001b[90m━━━━━━━━━━━━━━━━━━━━━━━━━━━━━━━━━━━━━━\u001b[0m \u001b[32m185.4/185.4 kB\u001b[0m \u001b[31m15.8 MB/s\u001b[0m eta \u001b[36m0:00:00\u001b[0m\n",
            "\u001b[2K     \u001b[90m━━━━━━━━━━━━━━━━━━━━━━━━━━━━━━━━━━━━━━\u001b[0m \u001b[32m268.7/268.7 kB\u001b[0m \u001b[31m20.7 MB/s\u001b[0m eta \u001b[36m0:00:00\u001b[0m\n",
            "\u001b[2K     \u001b[90m━━━━━━━━━━━━━━━━━━━━━━━━━━━━━━━━━━━━━━\u001b[0m \u001b[32m243.1/243.1 kB\u001b[0m \u001b[31m19.6 MB/s\u001b[0m eta \u001b[36m0:00:00\u001b[0m\n",
            "\u001b[2K     \u001b[90m━━━━━━━━━━━━━━━━━━━━━━━━━━━━━━━━━━━━━━\u001b[0m \u001b[32m183.9/183.9 kB\u001b[0m \u001b[31m13.9 MB/s\u001b[0m eta \u001b[36m0:00:00\u001b[0m\n",
            "\u001b[2K     \u001b[90m━━━━━━━━━━━━━━━━━━━━━━━━━━━━━━━━━━━━━━\u001b[0m \u001b[32m327.3/327.3 kB\u001b[0m \u001b[31m26.7 MB/s\u001b[0m eta \u001b[36m0:00:00\u001b[0m\n",
            "\u001b[2K     \u001b[90m━━━━━━━━━━━━━━━━━━━━━━━━━━━━━━━━━━━━━━\u001b[0m \u001b[32m173.5/173.5 kB\u001b[0m \u001b[31m17.0 MB/s\u001b[0m eta \u001b[36m0:00:00\u001b[0m\n",
            "\u001b[?25h  Preparing metadata (setup.py) ... \u001b[?25l\u001b[?25hdone\n",
            "\u001b[2K     \u001b[90m━━━━━━━━━━━━━━━━━━━━━━━━━━━━━━━━━━━━━━━━\u001b[0m \u001b[32m40.8/40.8 kB\u001b[0m \u001b[31m3.6 MB/s\u001b[0m eta \u001b[36m0:00:00\u001b[0m\n",
            "\u001b[2K     \u001b[90m━━━━━━━━━━━━━━━━━━━━━━━━━━━━━━━━━━━━━━━━\u001b[0m \u001b[32m2.1/2.1 MB\u001b[0m \u001b[31m66.2 MB/s\u001b[0m eta \u001b[36m0:00:00\u001b[0m\n",
            "\u001b[2K     \u001b[90m━━━━━━━━━━━━━━━━━━━━━━━━━━━━━━━━━━━━━━\u001b[0m \u001b[32m276.8/276.8 kB\u001b[0m \u001b[31m24.8 MB/s\u001b[0m eta \u001b[36m0:00:00\u001b[0m\n",
            "\u001b[2K     \u001b[90m━━━━━━━━━━━━━━━━━━━━━━━━━━━━━━━━━━━━━━━━\u001b[0m \u001b[32m6.0/6.0 MB\u001b[0m \u001b[31m78.5 MB/s\u001b[0m eta \u001b[36m0:00:00\u001b[0m\n",
            "\u001b[2K     \u001b[90m━━━━━━━━━━━━━━━━━━━━━━━━━━━━━━━━━━━━━━\u001b[0m \u001b[32m439.2/439.2 kB\u001b[0m \u001b[31m32.0 MB/s\u001b[0m eta \u001b[36m0:00:00\u001b[0m\n",
            "\u001b[2K     \u001b[90m━━━━━━━━━━━━━━━━━━━━━━━━━━━━━━━━━━━━━━━━\u001b[0m \u001b[32m1.1/1.1 MB\u001b[0m \u001b[31m56.2 MB/s\u001b[0m eta \u001b[36m0:00:00\u001b[0m\n",
            "\u001b[2K     \u001b[90m━━━━━━━━━━━━━━━━━━━━━━━━━━━━━━━━━━━━━━━━\u001b[0m \u001b[32m1.7/1.7 MB\u001b[0m \u001b[31m62.7 MB/s\u001b[0m eta \u001b[36m0:00:00\u001b[0m\n",
            "\u001b[?25h  Preparing metadata (setup.py) ... \u001b[?25l\u001b[?25hdone\n",
            "\u001b[2K     \u001b[90m━━━━━━━━━━━━━━━━━━━━━━━━━━━━━━━━━━━━━━━━\u001b[0m \u001b[32m4.9/4.9 MB\u001b[0m \u001b[31m68.9 MB/s\u001b[0m eta \u001b[36m0:00:00\u001b[0m\n",
            "\u001b[?25h  Building wheel for earthengine-api (setup.py) ... \u001b[?25l\u001b[?25hdone\n",
            "  Building wheel for crcmod (setup.py) ... \u001b[?25l\u001b[?25hdone\n",
            "  Building wheel for dill (setup.py) ... \u001b[?25l\u001b[?25hdone\n",
            "  Building wheel for google-apitools (setup.py) ... \u001b[?25l\u001b[?25hdone\n",
            "  Building wheel for docopt (setup.py) ... \u001b[?25l\u001b[?25hdone\n",
            "\u001b[33mWARNING: Running pip as the 'root' user can result in broken permissions and conflicting behaviour with the system package manager. It is recommended to use a virtual environment instead: https://pip.pypa.io/warnings/venv\u001b[0m\u001b[33m\n",
            "\u001b[0m"
          ]
        }
      ]
    },
    {
      "cell_type": "markdown",
      "source": [
        "**RESTART RUNTIME** (Runtime<Restart)"
      ],
      "metadata": {
        "id": "gTu-Xd2M5RrX"
      }
    },
    {
      "cell_type": "code",
      "source": [
        "# Tensorflow setup.\n",
        "import tensorflow as tf\n",
        "print(tf.__version__)\n",
        "# Folium setup.\n",
        "import folium\n",
        "print(folium.__version__)\n",
        "import numpy as np"
      ],
      "metadata": {
        "id": "OAolkiLr4Dbf",
        "colab": {
          "base_uri": "https://localhost:8080/"
        },
        "outputId": "01521134-0d2f-4457-83df-4fd28b98f8c9"
      },
      "execution_count": null,
      "outputs": [
        {
          "output_type": "stream",
          "name": "stdout",
          "text": [
            "2.11.0\n",
            "0.14.0\n"
          ]
        }
      ]
    },
    {
      "cell_type": "markdown",
      "source": [
        "## Google Setup\n",
        "\n",
        "Input your Google Cloud project id (might be different from name)"
      ],
      "metadata": {
        "id": "eFgkMvwM1_xx"
      }
    },
    {
      "cell_type": "code",
      "source": [
        "from __future__ import annotations\n",
        "\n",
        "import os\n",
        "from google.colab import auth\n",
        "\n",
        "auth.authenticate_user()\n",
        "\n",
        "# Please fill in these values.\n",
        "project = \"ls-test-3-24\" #@param {type:\"string\"}\n",
        "\n",
        "# Quick input validations.\n",
        "assert project, \"ERROR: Make sure you are providing a valid Google Cloud project ID\"\n",
        "\n",
        "# Set GOOGLE_CLOUD_PROJECT for google.auth.default().\n",
        "os.environ['GOOGLE_CLOUD_PROJECT'] = project\n",
        "\n",
        "# Set the gcloud project for other gcloud commands.\n",
        "!gcloud config set project {project}"
      ],
      "metadata": {
        "colab": {
          "base_uri": "https://localhost:8080/"
        },
        "id": "i2Xf5yFG2nPb",
        "outputId": "e4ee341c-7334-48a6-9a6c-916d025e6e45"
      },
      "execution_count": null,
      "outputs": [
        {
          "output_type": "stream",
          "name": "stdout",
          "text": [
            "Updated property [core/project].\n"
          ]
        }
      ]
    },
    {
      "cell_type": "code",
      "source": [
        "import ee\n",
        "import google.auth\n",
        "\n",
        "credentials, _ = google.auth.default()\n",
        "ee.Initialize(\n",
        "    credentials.with_quota_project(None),\n",
        "    project=project,\n",
        "    opt_url=\"https://earthengine-highvolume.googleapis.com\",\n",
        ")"
      ],
      "metadata": {
        "id": "XmnFfttT1EQj"
      },
      "execution_count": null,
      "outputs": []
    },
    {
      "cell_type": "markdown",
      "source": [
        "### Cloud Storage Setup\n",
        "\n",
        "You must have write access to a bucket to run this demo!  To run it read-only, use the demo bucket below, but note that writes to this bucket will not work."
      ],
      "metadata": {
        "id": "rWqB_hb04Pn_"
      }
    },
    {
      "cell_type": "code",
      "source": [
        "# INSERT YOUR BUCKET HERE:\n",
        "bucket = 'dump_bucket_1'  #@param {type:\"string\"}\n",
        "location = \"us-central1\" #@param {type:\"string\"}"
      ],
      "metadata": {
        "id": "jik67Tch4WJL"
      },
      "execution_count": null,
      "outputs": []
    },
    {
      "cell_type": "markdown",
      "source": [
        "## Other Configurations"
      ],
      "metadata": {
        "id": "pKhBRdNA5H9R"
      }
    },
    {
      "cell_type": "code",
      "source": [
        "# Defining neccessary functions\n",
        "\n",
        "def mask_clouds_landsat(image: ee.Image) -> ee.Image:\n",
        "  # Bits 3 and 5 are cloud shadow and cloud, respectively\n",
        "  cloudShadowBitMask = (1 << 3) # 1000 in base 2\n",
        "  cloudsBitMask = (1 << 5) # 100000 in base 2\n",
        "\n",
        "  # Get the pixel QA band\n",
        "  qa = image.select('pixel_qa')\n",
        "\n",
        "  #Both flags should be set to zero, indicating clear conditions\n",
        "  mask = qa.bitwiseAnd(cloudShadowBitMask).eq(0).bitwiseAnd(qa.bitwiseAnd(cloudsBitMask).eq(0))\n",
        "\n",
        "  # Mask image with clouds and shadows\n",
        "  return image.updateMask(mask)\n",
        "\n",
        "\n",
        "def get_input_image(year: int, default_value: float = 1000.0) -> ee.Image:\n",
        "  return(\n",
        "      ee.ImageCollection(\"LANDSAT/LE07/C01/T1_SR\")\n",
        "      .filterDate(f'{year}-01-01', f'{year}-12-31')\n",
        "      .map(mask_clouds_landsat)\n",
        "      .select(\"B.*\")\n",
        "      .median()\n",
        "      .unmask(default_value)\n",
        "      .float()\n",
        "  )\n",
        "\n",
        "\n",
        "def cloudMaskL457(image): \n",
        "  qa = image.select('pixel_qa')\n",
        "  # If the cloud bit (5) is set and the cloud confidence (7) is high\n",
        "  # or the cloud shadow bit is set (3), then it's a bad pixel.\n",
        "  cloud = qa.bitwiseAnd(1 << 5).And(qa.bitwiseAnd(1 << 7)).Or(qa.bitwiseAnd(1 << 3))\n",
        "  # Remove edge pixels that don't occur in all bands\n",
        "  mask2 = image.mask().reduce(ee.Reducer.min())\n",
        "  return image.updateMask(cloud.Not()).updateMask(mask2)"
      ],
      "metadata": {
        "id": "v4nPcyxp6hh7"
      },
      "execution_count": null,
      "outputs": []
    },
    {
      "cell_type": "code",
      "source": [
        "opticalBands = ['B3','B2','B1'] #RGB\n",
        "thermalBands = ['B4','B3'] #NIR\n",
        "\n",
        "# Specify inputs (Landsat bands) to the model and the response variable.\n",
        "\n",
        "BANDS = ['R', 'G', 'B', 'NDVI']\n",
        "RESPONSE = 'target'\n",
        "FEATURES = BANDS + [RESPONSE] \n",
        "\n",
        "# Specify the size and shape of patches expected by the model.\n",
        "KERNEL_SIZE = 128\n",
        "KERNEL_SHAPE = [KERNEL_SIZE, KERNEL_SIZE]\n",
        "COLUMNS = [\n",
        "  tf.io.FixedLenFeature(shape=KERNEL_SHAPE, dtype=tf.float32) for k in FEATURES\n",
        "]\n",
        "FEATURES_DICT = dict(zip(FEATURES, COLUMNS))\n",
        "\n",
        "CENSUS_YR = '2009'  #@param {type:\"string\"}"
      ],
      "metadata": {
        "id": "GHn0UrmY5Gjt"
      },
      "execution_count": null,
      "outputs": []
    },
    {
      "cell_type": "code",
      "source": [
        "#Download Kenya Data and create Raster of villages\n",
        "census_mask = ee.Image('projects/sanford-project-04a9/assets/Kenya/kenya_census_' + CENSUS_YR + '_rast').rename(\"target\")\n",
        "\n",
        "# #Get Kenya Feature collection\n",
        "kenya = ee.FeatureCollection(\"USDOS/LSIB_SIMPLE/2017\").filter(ee.Filter.eq('country_na','Kenya')).set('ORIG_FID',0)\n",
        "\n",
        "# Geometry selects from all of Kenya\n",
        "image = ee.ImageCollection(\"LANDSAT/LE07/C01/T1_SR\").filterDate(CENSUS_YR + '-01-01', CENSUS_YR + '-12-31')\\\n",
        "            .map(cloudMaskL457)\\\n",
        "            .median()\\\n",
        "            .clip(kenya.geometry().buffer(10000))\\\n",
        "            \n",
        "image_ndvi = image.normalizedDifference(thermalBands).rename(['NDVI'])\n",
        "image_rgb = image.select(opticalBands).rename(['R','G','B']) \n",
        "image = image_rgb.addBands(image_ndvi).unmask(0)\n",
        "\n",
        "\n",
        "#Code to add in bands for propensity score prediction\n",
        "\n",
        "#l7Unmasked = l7Masked.unmask(-9999)\n",
        "#outside_circle = 'b(\"R\") > -9000'\n",
        "target = census_mask"
      ],
      "metadata": {
        "id": "l3lQo5JgZtiU"
      },
      "execution_count": null,
      "outputs": []
    },
    {
      "cell_type": "code",
      "source": [
        "def get_label_image(image) -> ee.Image:\n",
        "  #Download Kenya Data and create Raster of villages\n",
        "  census_mask = ee.Image('projects/sanford-project-04a9/assets/Kenya/kenya_census_' + CENSUS_YR + '_rast')\n",
        "  census_target = census_mask.rename(\"target\")\n",
        "  # #Get Kenya Feature collection\n",
        "  kenya = ee.FeatureCollection(\"USDOS/LSIB_SIMPLE/2017\").filter(ee.Filter.eq('country_na','Kenya')).set('ORIG_FID',0)\n",
        "\n",
        "  # Geometry selects from all of Kenya\n",
        "  image = ee.ImageCollection(\"LANDSAT/LE07/C01/T1_SR\").filterDate(CENSUS_YR + '-01-01', CENSUS_YR + '-12-31')\\\n",
        "              .map(cloudMaskL457)\\\n",
        "              .median()\\\n",
        "              .clip(kenya.geometry().buffer(10000))\\\n",
        "              \n",
        "  image_ndvi = image.normalizedDifference(thermalBands).rename(['NDVI'])\n",
        "  image_rgb = image.select(opticalBands).rename(['R','G','B']) \n",
        "  image = image_rgb.addBands(image_ndvi).unmask(0)\n",
        "\n",
        "\n",
        "  #Code to add in bands for propensity score prediction\n",
        "\n",
        "  #target = image.updateMask(census_target)\n",
        "  #l7Unmasked = l7Masked.unmask(-9999)\n",
        "  #outside_circle = 'b(\"R\") > -9000'\n",
        "  #target = l7Masked.rename(\"target\")\n",
        "  return census_target\n"
      ],
      "metadata": {
        "id": "6RvpOQJyNZAP"
      },
      "execution_count": null,
      "outputs": []
    },
    {
      "cell_type": "code",
      "source": [
        "import folium\n",
        "\n",
        "def add_ee_layer(self, ee_image_object, vis_params, name):\n",
        "  map_id_dict = ee.Image(ee_image_object).getMapId(vis_params)\n",
        "  folium.raster_layers.TileLayer(\n",
        "      tiles=map_id_dict['tile_fetcher'].url_format,\n",
        "      attr='Map Data &copy; <a href=\"https://earthengine.google.com/\">Google Earth Engine</a>',\n",
        "      name=name,\n",
        "      overlay=True,\n",
        "      control=True\n",
        "  ).add_to(self)\n",
        "\n",
        "folium.Map.add_ee_layer = add_ee_layer"
      ],
      "metadata": {
        "id": "a2jC7eYUBQXB"
      },
      "execution_count": null,
      "outputs": []
    },
    {
      "cell_type": "markdown",
      "source": [
        "### View imagery\n",
        "Census mask and LANDSAT7 "
      ],
      "metadata": {
        "id": "D9r9U9R6AXuQ"
      }
    },
    {
      "cell_type": "code",
      "source": [
        "# Census mask visualization\n",
        "c_map = folium.Map(location=[0, 37], zoom_start = 6)\n",
        "\n",
        "c_map.add_ee_layer(target, None, 'census mask map')\n",
        "display(c_map)"
      ],
      "metadata": {
        "colab": {
          "base_uri": "https://localhost:8080/",
          "height": 634
        },
        "id": "DLQQoBfbAhOL",
        "outputId": "f21e7c2a-680d-4bea-de1e-9e3d1673a8cd"
      },
      "execution_count": null,
      "outputs": [
        {
          "output_type": "display_data",
          "data": {
            "text/plain": [
              "<folium.folium.Map at 0x7fcacbf43340>"
            ],
            "text/html": [
              "<div style=\"width:100%;\"><div style=\"position:relative;width:100%;height:0;padding-bottom:60%;\"><span style=\"color:#565656\">Make this Notebook Trusted to load map: File -> Trust Notebook</span><iframe srcdoc=\"&lt;!DOCTYPE html&gt;\n",
              "&lt;html&gt;\n",
              "&lt;head&gt;\n",
              "    \n",
              "    &lt;meta http-equiv=&quot;content-type&quot; content=&quot;text/html; charset=UTF-8&quot; /&gt;\n",
              "    \n",
              "        &lt;script&gt;\n",
              "            L_NO_TOUCH = false;\n",
              "            L_DISABLE_3D = false;\n",
              "        &lt;/script&gt;\n",
              "    \n",
              "    &lt;style&gt;html, body {width: 100%;height: 100%;margin: 0;padding: 0;}&lt;/style&gt;\n",
              "    &lt;style&gt;#map {position:absolute;top:0;bottom:0;right:0;left:0;}&lt;/style&gt;\n",
              "    &lt;script src=&quot;https://cdn.jsdelivr.net/npm/leaflet@1.9.3/dist/leaflet.js&quot;&gt;&lt;/script&gt;\n",
              "    &lt;script src=&quot;https://code.jquery.com/jquery-1.12.4.min.js&quot;&gt;&lt;/script&gt;\n",
              "    &lt;script src=&quot;https://cdn.jsdelivr.net/npm/bootstrap@5.2.2/dist/js/bootstrap.bundle.min.js&quot;&gt;&lt;/script&gt;\n",
              "    &lt;script src=&quot;https://cdnjs.cloudflare.com/ajax/libs/Leaflet.awesome-markers/2.0.2/leaflet.awesome-markers.js&quot;&gt;&lt;/script&gt;\n",
              "    &lt;link rel=&quot;stylesheet&quot; href=&quot;https://cdn.jsdelivr.net/npm/leaflet@1.9.3/dist/leaflet.css&quot;/&gt;\n",
              "    &lt;link rel=&quot;stylesheet&quot; href=&quot;https://cdn.jsdelivr.net/npm/bootstrap@5.2.2/dist/css/bootstrap.min.css&quot;/&gt;\n",
              "    &lt;link rel=&quot;stylesheet&quot; href=&quot;https://netdna.bootstrapcdn.com/bootstrap/3.0.0/css/bootstrap.min.css&quot;/&gt;\n",
              "    &lt;link rel=&quot;stylesheet&quot; href=&quot;https://cdn.jsdelivr.net/npm/@fortawesome/fontawesome-free@6.2.0/css/all.min.css&quot;/&gt;\n",
              "    &lt;link rel=&quot;stylesheet&quot; href=&quot;https://cdnjs.cloudflare.com/ajax/libs/Leaflet.awesome-markers/2.0.2/leaflet.awesome-markers.css&quot;/&gt;\n",
              "    &lt;link rel=&quot;stylesheet&quot; href=&quot;https://cdn.jsdelivr.net/gh/python-visualization/folium/folium/templates/leaflet.awesome.rotate.min.css&quot;/&gt;\n",
              "    \n",
              "            &lt;meta name=&quot;viewport&quot; content=&quot;width=device-width,\n",
              "                initial-scale=1.0, maximum-scale=1.0, user-scalable=no&quot; /&gt;\n",
              "            &lt;style&gt;\n",
              "                #map_66afddb855ba9aab482a4bf0b3113ae4 {\n",
              "                    position: relative;\n",
              "                    width: 100.0%;\n",
              "                    height: 100.0%;\n",
              "                    left: 0.0%;\n",
              "                    top: 0.0%;\n",
              "                }\n",
              "                .leaflet-container { font-size: 1rem; }\n",
              "            &lt;/style&gt;\n",
              "        \n",
              "&lt;/head&gt;\n",
              "&lt;body&gt;\n",
              "    \n",
              "    \n",
              "            &lt;div class=&quot;folium-map&quot; id=&quot;map_66afddb855ba9aab482a4bf0b3113ae4&quot; &gt;&lt;/div&gt;\n",
              "        \n",
              "&lt;/body&gt;\n",
              "&lt;script&gt;\n",
              "    \n",
              "    \n",
              "            var map_66afddb855ba9aab482a4bf0b3113ae4 = L.map(\n",
              "                &quot;map_66afddb855ba9aab482a4bf0b3113ae4&quot;,\n",
              "                {\n",
              "                    center: [0.0, 37.0],\n",
              "                    crs: L.CRS.EPSG3857,\n",
              "                    zoom: 6,\n",
              "                    zoomControl: true,\n",
              "                    preferCanvas: false,\n",
              "                }\n",
              "            );\n",
              "\n",
              "            \n",
              "\n",
              "        \n",
              "    \n",
              "            var tile_layer_651f97d76048ea8fd5b6c16f02d7dc1e = L.tileLayer(\n",
              "                &quot;https://{s}.tile.openstreetmap.org/{z}/{x}/{y}.png&quot;,\n",
              "                {&quot;attribution&quot;: &quot;Data by \\u0026copy; \\u003ca target=\\&quot;_blank\\&quot; href=\\&quot;http://openstreetmap.org\\&quot;\\u003eOpenStreetMap\\u003c/a\\u003e, under \\u003ca target=\\&quot;_blank\\&quot; href=\\&quot;http://www.openstreetmap.org/copyright\\&quot;\\u003eODbL\\u003c/a\\u003e.&quot;, &quot;detectRetina&quot;: false, &quot;maxNativeZoom&quot;: 18, &quot;maxZoom&quot;: 18, &quot;minZoom&quot;: 0, &quot;noWrap&quot;: false, &quot;opacity&quot;: 1, &quot;subdomains&quot;: &quot;abc&quot;, &quot;tms&quot;: false}\n",
              "            ).addTo(map_66afddb855ba9aab482a4bf0b3113ae4);\n",
              "        \n",
              "    \n",
              "            var tile_layer_f48f4319811d89647d59a3a0b1c72421 = L.tileLayer(\n",
              "                &quot;https://earthengine-highvolume.googleapis.com/v1alpha/projects/ls-test-3-24/maps/eb15fe1553500cfa19d8a5d765c6c9e5-18b01e82d2b2f297e400333a6f2d63a1/tiles/{z}/{x}/{y}&quot;,\n",
              "                {&quot;attribution&quot;: &quot;Map Data \\u0026copy; \\u003ca href=\\&quot;https://earthengine.google.com/\\&quot;\\u003eGoogle Earth Engine\\u003c/a\\u003e&quot;, &quot;detectRetina&quot;: false, &quot;maxNativeZoom&quot;: 18, &quot;maxZoom&quot;: 18, &quot;minZoom&quot;: 0, &quot;noWrap&quot;: false, &quot;opacity&quot;: 1, &quot;subdomains&quot;: &quot;abc&quot;, &quot;tms&quot;: false}\n",
              "            ).addTo(map_66afddb855ba9aab482a4bf0b3113ae4);\n",
              "        \n",
              "&lt;/script&gt;\n",
              "&lt;/html&gt;\" style=\"position:absolute;width:100%;height:100%;left:0;top:0;border:none !important;\" allowfullscreen webkitallowfullscreen mozallowfullscreen></iframe></div></div>"
            ]
          },
          "metadata": {}
        }
      ]
    },
    {
      "cell_type": "code",
      "source": [
        "# Image mask visualization\n",
        "mapid = image.getMapId({'bands': ['R', 'G', 'B'], 'min': 0, 'max': 3000})\n",
        "map = folium.Map(location=[0, 37], zoom_start = 6)\n",
        "folium.TileLayer(\n",
        "    tiles=mapid['tile_fetcher'].url_format,\n",
        "    attr='Map Data &copy; <a href=\"https://earthengine.google.com/\">Google Earth Engine</a>',\n",
        "    overlay=True,\n",
        "    name='median composite',\n",
        "  ).add_to(map)\n",
        "map.add_child(folium.LayerControl())\n",
        "map"
      ],
      "metadata": {
        "id": "5IxJ2FW3P0f6"
      },
      "execution_count": null,
      "outputs": []
    },
    {
      "cell_type": "markdown",
      "source": [
        "# Training"
      ],
      "metadata": {
        "id": "YO0xmP1478t1"
      }
    },
    {
      "cell_type": "markdown",
      "source": [
        "## Sampling\n",
        "\n",
        "Currently using stratified sampling in the Kenyan geometry"
      ],
      "metadata": {
        "id": "8nhTcGXLGFks"
      }
    },
    {
      "cell_type": "code",
      "source": [
        "from typing import Iterable\n",
        "\n",
        "# seed: int, region = region: ee.Geometry, image = image: ee.Image, \n",
        "#    points_per_class = points_per_class: int, scale = scale: int\n",
        "def sample_points(\n",
        "    seed: int, region = None, image = None, points_per_class = None, scale = None\n",
        ") -> Iterable[tuple[float, float]]:\n",
        "    points = image.stratifiedSample(\n",
        "        points_per_class,\n",
        "        region=region,\n",
        "        scale=scale,\n",
        "        seed=seed,\n",
        "        geometries=True,\n",
        "    )\n",
        "    for point in points.toList(points.size()).getInfo():\n",
        "        yield point[\"geometry\"][\"coordinates\"]\n",
        "\n",
        "# Oversimplified North America region.\n",
        "region = kenya.geometry()\n",
        "labels_image = target\n",
        "for point in sample_points(0, region, labels_image, points_per_class=2, scale=1000):\n",
        "  print(point)"
      ],
      "metadata": {
        "colab": {
          "base_uri": "https://localhost:8080/",
          "height": 1000
        },
        "id": "iXUgGiyI7-bd",
        "outputId": "22227837-5026-4eb8-e707-75d736ce8f4b"
      },
      "execution_count": null,
      "outputs": [
        {
          "output_type": "error",
          "ename": "EEException",
          "evalue": "ignored",
          "traceback": [
            "\u001b[0;31m---------------------------------------------------------------------------\u001b[0m",
            "\u001b[0;31mHttpError\u001b[0m                                 Traceback (most recent call last)",
            "\u001b[0;32m/usr/local/lib/python3.9/dist-packages/ee/data.py\u001b[0m in \u001b[0;36m_execute_cloud_call\u001b[0;34m(call, num_retries)\u001b[0m\n\u001b[1;32m    328\u001b[0m   \u001b[0;32mtry\u001b[0m\u001b[0;34m:\u001b[0m\u001b[0;34m\u001b[0m\u001b[0;34m\u001b[0m\u001b[0m\n\u001b[0;32m--> 329\u001b[0;31m     \u001b[0;32mreturn\u001b[0m \u001b[0mcall\u001b[0m\u001b[0;34m.\u001b[0m\u001b[0mexecute\u001b[0m\u001b[0;34m(\u001b[0m\u001b[0mnum_retries\u001b[0m\u001b[0;34m=\u001b[0m\u001b[0mnum_retries\u001b[0m\u001b[0;34m)\u001b[0m\u001b[0;34m\u001b[0m\u001b[0;34m\u001b[0m\u001b[0m\n\u001b[0m\u001b[1;32m    330\u001b[0m   \u001b[0;32mexcept\u001b[0m \u001b[0mgoogleapiclient\u001b[0m\u001b[0;34m.\u001b[0m\u001b[0merrors\u001b[0m\u001b[0;34m.\u001b[0m\u001b[0mHttpError\u001b[0m \u001b[0;32mas\u001b[0m \u001b[0me\u001b[0m\u001b[0;34m:\u001b[0m\u001b[0;34m\u001b[0m\u001b[0;34m\u001b[0m\u001b[0m\n",
            "\u001b[0;32m/usr/local/lib/python3.9/dist-packages/googleapiclient/_helpers.py\u001b[0m in \u001b[0;36mpositional_wrapper\u001b[0;34m(*args, **kwargs)\u001b[0m\n\u001b[1;32m    129\u001b[0m                     \u001b[0mlogger\u001b[0m\u001b[0;34m.\u001b[0m\u001b[0mwarning\u001b[0m\u001b[0;34m(\u001b[0m\u001b[0mmessage\u001b[0m\u001b[0;34m)\u001b[0m\u001b[0;34m\u001b[0m\u001b[0;34m\u001b[0m\u001b[0m\n\u001b[0;32m--> 130\u001b[0;31m             \u001b[0;32mreturn\u001b[0m \u001b[0mwrapped\u001b[0m\u001b[0;34m(\u001b[0m\u001b[0;34m*\u001b[0m\u001b[0margs\u001b[0m\u001b[0;34m,\u001b[0m \u001b[0;34m**\u001b[0m\u001b[0mkwargs\u001b[0m\u001b[0;34m)\u001b[0m\u001b[0;34m\u001b[0m\u001b[0;34m\u001b[0m\u001b[0m\n\u001b[0m\u001b[1;32m    131\u001b[0m \u001b[0;34m\u001b[0m\u001b[0m\n",
            "\u001b[0;32m/usr/local/lib/python3.9/dist-packages/googleapiclient/http.py\u001b[0m in \u001b[0;36mexecute\u001b[0;34m(self, http, num_retries)\u001b[0m\n\u001b[1;32m    937\u001b[0m         \u001b[0;32mif\u001b[0m \u001b[0mresp\u001b[0m\u001b[0;34m.\u001b[0m\u001b[0mstatus\u001b[0m \u001b[0;34m>=\u001b[0m \u001b[0;36m300\u001b[0m\u001b[0;34m:\u001b[0m\u001b[0;34m\u001b[0m\u001b[0;34m\u001b[0m\u001b[0m\n\u001b[0;32m--> 938\u001b[0;31m             \u001b[0;32mraise\u001b[0m \u001b[0mHttpError\u001b[0m\u001b[0;34m(\u001b[0m\u001b[0mresp\u001b[0m\u001b[0;34m,\u001b[0m \u001b[0mcontent\u001b[0m\u001b[0;34m,\u001b[0m \u001b[0muri\u001b[0m\u001b[0;34m=\u001b[0m\u001b[0mself\u001b[0m\u001b[0;34m.\u001b[0m\u001b[0muri\u001b[0m\u001b[0;34m)\u001b[0m\u001b[0;34m\u001b[0m\u001b[0;34m\u001b[0m\u001b[0m\n\u001b[0m\u001b[1;32m    939\u001b[0m         \u001b[0;32mreturn\u001b[0m \u001b[0mself\u001b[0m\u001b[0;34m.\u001b[0m\u001b[0mpostproc\u001b[0m\u001b[0;34m(\u001b[0m\u001b[0mresp\u001b[0m\u001b[0;34m,\u001b[0m \u001b[0mcontent\u001b[0m\u001b[0;34m)\u001b[0m\u001b[0;34m\u001b[0m\u001b[0;34m\u001b[0m\u001b[0m\n",
            "\u001b[0;31mHttpError\u001b[0m: <HttpError 400 when requesting https://earthengine-highvolume.googleapis.com/v1alpha/projects/ls-test-3-24/value:compute?prettyPrint=false&alt=json returned \"Image.stratifiedSample: The class band must be integer typed.\". Details: \"Image.stratifiedSample: The class band must be integer typed.\">",
            "\nDuring handling of the above exception, another exception occurred:\n",
            "\u001b[0;31mEEException\u001b[0m                               Traceback (most recent call last)",
            "\u001b[0;32m<ipython-input-11-489210d71247>\u001b[0m in \u001b[0;36m<cell line: 21>\u001b[0;34m()\u001b[0m\n\u001b[1;32m     19\u001b[0m \u001b[0mregion\u001b[0m \u001b[0;34m=\u001b[0m \u001b[0mkenya\u001b[0m\u001b[0;34m.\u001b[0m\u001b[0mgeometry\u001b[0m\u001b[0;34m(\u001b[0m\u001b[0;34m)\u001b[0m\u001b[0;34m\u001b[0m\u001b[0;34m\u001b[0m\u001b[0m\n\u001b[1;32m     20\u001b[0m \u001b[0mlabels_image\u001b[0m \u001b[0;34m=\u001b[0m \u001b[0mtarget\u001b[0m\u001b[0;34m\u001b[0m\u001b[0;34m\u001b[0m\u001b[0m\n\u001b[0;32m---> 21\u001b[0;31m \u001b[0;32mfor\u001b[0m \u001b[0mpoint\u001b[0m \u001b[0;32min\u001b[0m \u001b[0msample_points\u001b[0m\u001b[0;34m(\u001b[0m\u001b[0;36m0\u001b[0m\u001b[0;34m,\u001b[0m \u001b[0mregion\u001b[0m\u001b[0;34m,\u001b[0m \u001b[0mlabels_image\u001b[0m\u001b[0;34m,\u001b[0m \u001b[0mpoints_per_class\u001b[0m\u001b[0;34m=\u001b[0m\u001b[0;36m2\u001b[0m\u001b[0;34m,\u001b[0m \u001b[0mscale\u001b[0m\u001b[0;34m=\u001b[0m\u001b[0;36m1000\u001b[0m\u001b[0;34m)\u001b[0m\u001b[0;34m:\u001b[0m\u001b[0;34m\u001b[0m\u001b[0;34m\u001b[0m\u001b[0m\n\u001b[0m\u001b[1;32m     22\u001b[0m   \u001b[0mprint\u001b[0m\u001b[0;34m(\u001b[0m\u001b[0mpoint\u001b[0m\u001b[0;34m)\u001b[0m\u001b[0;34m\u001b[0m\u001b[0;34m\u001b[0m\u001b[0m\n",
            "\u001b[0;32m<ipython-input-11-489210d71247>\u001b[0m in \u001b[0;36msample_points\u001b[0;34m(seed, region, image, points_per_class, scale)\u001b[0m\n\u001b[1;32m     13\u001b[0m         \u001b[0mgeometries\u001b[0m\u001b[0;34m=\u001b[0m\u001b[0;32mTrue\u001b[0m\u001b[0;34m,\u001b[0m\u001b[0;34m\u001b[0m\u001b[0;34m\u001b[0m\u001b[0m\n\u001b[1;32m     14\u001b[0m     )\n\u001b[0;32m---> 15\u001b[0;31m     \u001b[0;32mfor\u001b[0m \u001b[0mpoint\u001b[0m \u001b[0;32min\u001b[0m \u001b[0mpoints\u001b[0m\u001b[0;34m.\u001b[0m\u001b[0mtoList\u001b[0m\u001b[0;34m(\u001b[0m\u001b[0mpoints\u001b[0m\u001b[0;34m.\u001b[0m\u001b[0msize\u001b[0m\u001b[0;34m(\u001b[0m\u001b[0;34m)\u001b[0m\u001b[0;34m)\u001b[0m\u001b[0;34m.\u001b[0m\u001b[0mgetInfo\u001b[0m\u001b[0;34m(\u001b[0m\u001b[0;34m)\u001b[0m\u001b[0;34m:\u001b[0m\u001b[0;34m\u001b[0m\u001b[0;34m\u001b[0m\u001b[0m\n\u001b[0m\u001b[1;32m     16\u001b[0m         \u001b[0;32myield\u001b[0m \u001b[0mpoint\u001b[0m\u001b[0;34m[\u001b[0m\u001b[0;34m\"geometry\"\u001b[0m\u001b[0;34m]\u001b[0m\u001b[0;34m[\u001b[0m\u001b[0;34m\"coordinates\"\u001b[0m\u001b[0;34m]\u001b[0m\u001b[0;34m\u001b[0m\u001b[0;34m\u001b[0m\u001b[0m\n\u001b[1;32m     17\u001b[0m \u001b[0;34m\u001b[0m\u001b[0m\n",
            "\u001b[0;32m/usr/local/lib/python3.9/dist-packages/ee/computedobject.py\u001b[0m in \u001b[0;36mgetInfo\u001b[0;34m(self)\u001b[0m\n\u001b[1;32m     94\u001b[0m       \u001b[0mThe\u001b[0m \u001b[0mobject\u001b[0m \u001b[0mcan\u001b[0m \u001b[0mevaluate\u001b[0m \u001b[0mto\u001b[0m \u001b[0manything\u001b[0m\u001b[0;34m.\u001b[0m\u001b[0;34m\u001b[0m\u001b[0;34m\u001b[0m\u001b[0m\n\u001b[1;32m     95\u001b[0m     \"\"\"\n\u001b[0;32m---> 96\u001b[0;31m     \u001b[0;32mreturn\u001b[0m \u001b[0mdata\u001b[0m\u001b[0;34m.\u001b[0m\u001b[0mcomputeValue\u001b[0m\u001b[0;34m(\u001b[0m\u001b[0mself\u001b[0m\u001b[0;34m)\u001b[0m\u001b[0;34m\u001b[0m\u001b[0;34m\u001b[0m\u001b[0m\n\u001b[0m\u001b[1;32m     97\u001b[0m \u001b[0;34m\u001b[0m\u001b[0m\n\u001b[1;32m     98\u001b[0m   \u001b[0;32mdef\u001b[0m \u001b[0mencode\u001b[0m\u001b[0;34m(\u001b[0m\u001b[0mself\u001b[0m\u001b[0;34m,\u001b[0m \u001b[0mencoder\u001b[0m\u001b[0;34m)\u001b[0m\u001b[0;34m:\u001b[0m\u001b[0;34m\u001b[0m\u001b[0;34m\u001b[0m\u001b[0m\n",
            "\u001b[0;32m/usr/local/lib/python3.9/dist-packages/ee/data.py\u001b[0m in \u001b[0;36mcomputeValue\u001b[0;34m(obj)\u001b[0m\n\u001b[1;32m    896\u001b[0m   \u001b[0m_maybe_populate_workload_tag\u001b[0m\u001b[0;34m(\u001b[0m\u001b[0mbody\u001b[0m\u001b[0;34m)\u001b[0m\u001b[0;34m\u001b[0m\u001b[0;34m\u001b[0m\u001b[0m\n\u001b[1;32m    897\u001b[0m \u001b[0;34m\u001b[0m\u001b[0m\n\u001b[0;32m--> 898\u001b[0;31m   return _execute_cloud_call(\n\u001b[0m\u001b[1;32m    899\u001b[0m       _get_cloud_api_resource().projects().value().compute(\n\u001b[1;32m    900\u001b[0m           \u001b[0mbody\u001b[0m\u001b[0;34m=\u001b[0m\u001b[0mbody\u001b[0m\u001b[0;34m,\u001b[0m\u001b[0;34m\u001b[0m\u001b[0;34m\u001b[0m\u001b[0m\n",
            "\u001b[0;32m/usr/local/lib/python3.9/dist-packages/ee/data.py\u001b[0m in \u001b[0;36m_execute_cloud_call\u001b[0;34m(call, num_retries)\u001b[0m\n\u001b[1;32m    329\u001b[0m     \u001b[0;32mreturn\u001b[0m \u001b[0mcall\u001b[0m\u001b[0;34m.\u001b[0m\u001b[0mexecute\u001b[0m\u001b[0;34m(\u001b[0m\u001b[0mnum_retries\u001b[0m\u001b[0;34m=\u001b[0m\u001b[0mnum_retries\u001b[0m\u001b[0;34m)\u001b[0m\u001b[0;34m\u001b[0m\u001b[0;34m\u001b[0m\u001b[0m\n\u001b[1;32m    330\u001b[0m   \u001b[0;32mexcept\u001b[0m \u001b[0mgoogleapiclient\u001b[0m\u001b[0;34m.\u001b[0m\u001b[0merrors\u001b[0m\u001b[0;34m.\u001b[0m\u001b[0mHttpError\u001b[0m \u001b[0;32mas\u001b[0m \u001b[0me\u001b[0m\u001b[0;34m:\u001b[0m\u001b[0;34m\u001b[0m\u001b[0;34m\u001b[0m\u001b[0m\n\u001b[0;32m--> 331\u001b[0;31m     \u001b[0;32mraise\u001b[0m \u001b[0m_translate_cloud_exception\u001b[0m\u001b[0;34m(\u001b[0m\u001b[0me\u001b[0m\u001b[0;34m)\u001b[0m\u001b[0;34m\u001b[0m\u001b[0;34m\u001b[0m\u001b[0m\n\u001b[0m\u001b[1;32m    332\u001b[0m \u001b[0;34m\u001b[0m\u001b[0m\n\u001b[1;32m    333\u001b[0m \u001b[0;34m\u001b[0m\u001b[0m\n",
            "\u001b[0;31mEEException\u001b[0m: Image.stratifiedSample: The class band must be integer typed."
          ]
        }
      ]
    },
    {
      "cell_type": "markdown",
      "source": [
        "## Get training examples"
      ],
      "metadata": {
        "id": "TSb2yJDoGUNB"
      }
    },
    {
      "cell_type": "code",
      "source": [
        "import io\n",
        "import numpy as np\n",
        "import requests\n",
        "from google.api_core import exceptions, retry\n",
        "\n",
        "@retry.Retry(deadline=10 * 60)  # seconds\n",
        "def get_patch(image: ee.Image, lonlat: tuple[float, float], patch_size: int, scale: int) -> np.ndarray:\n",
        "    point = ee.Geometry.Point(lonlat)\n",
        "    url = image.getDownloadURL({\n",
        "        \"region\": point.buffer(scale * patch_size / 2, 1).bounds(1),\n",
        "        \"dimensions\": [patch_size, patch_size],\n",
        "        \"format\": \"NPY\",\n",
        "    })\n",
        "\n",
        "    # If we get \"429: Too Many Requests\" errors, it's safe to retry the request.\n",
        "    # The Retry library only works with `google.api_core` exceptions.\n",
        "    response = requests.get(url)\n",
        "    if response.status_code == 429:\n",
        "        raise exceptions.TooManyRequests(response.text)\n",
        "\n",
        "    # Still raise any other exceptions to make sure we got valid data.\n",
        "    response.raise_for_status()\n",
        "    return np.load(io.BytesIO(response.content), allow_pickle=True)"
      ],
      "metadata": {
        "id": "D--vVyOE8f_-"
      },
      "execution_count": null,
      "outputs": []
    },
    {
      "cell_type": "markdown",
      "source": [
        "Helper functions to get the inputs and labels patches of pixels. We'll use this function both for getting inputs for the training examples, and for predictions later on."
      ],
      "metadata": {
        "id": "suNCHzXDHOm3"
      }
    },
    {
      "cell_type": "code",
      "source": [
        "from numpy.lib.recfunctions import structured_to_unstructured\n",
        "\n",
        "def get_input_patch(image, year: int, lonlat: tuple[float, float], patch_size: int) -> np.ndarray:\n",
        "    patch = get_patch(image, lonlat, patch_size, scale=30)\n",
        "    return structured_to_unstructured(patch)\n",
        "\n",
        "def get_label_patch(image, lonlat: tuple[float, float], patch_size: int) -> np.ndarray:\n",
        "\n",
        "    patch = get_patch(image, lonlat, patch_size, scale=30)\n",
        "    return structured_to_unstructured(patch)"
      ],
      "metadata": {
        "id": "ihP9blrtFwAc"
      },
      "execution_count": null,
      "outputs": []
    },
    {
      "cell_type": "code",
      "source": [
        "# Note: Changed get_input_patch(image, 2020, lonlat, patch_size) to be CENSUS_YR\n",
        "def get_training_example(lonlat, image = None, labels = None, patch_size = 128):\n",
        "    return (\n",
        "        get_input_patch(image, CENSUS_YR, lonlat, patch_size),\n",
        "        get_label_patch(labels, lonlat, patch_size),\n",
        "    )\n",
        "\n",
        "point = (40.86885385101763, 1.2531498213467325) # this point comes from sample_points[0] return\n",
        "(inputs, labels) = get_training_example(point, image = image, labels = target, patch_size = 128)\n",
        "print(f\"inputs : {inputs.dtype} {inputs.shape}\")\n",
        "print(f\"labels : {labels.dtype} {labels.shape}\")\n"
      ],
      "metadata": {
        "colab": {
          "base_uri": "https://localhost:8080/"
        },
        "id": "xqWEzEh2Fxwq",
        "outputId": "cbf6e286-52ed-4ea5-dfe8-5eb7a5694f92"
      },
      "execution_count": null,
      "outputs": [
        {
          "output_type": "stream",
          "name": "stdout",
          "text": [
            "inputs : float64 (128, 128, 4)\n",
            "labels : uint8 (128, 128, 1)\n"
          ]
        }
      ]
    },
    {
      "cell_type": "code",
      "source": [
        "# Test that we have inputs (shouldn't be 0)\n",
        "np.amax(inputs)"
      ],
      "metadata": {
        "colab": {
          "base_uri": "https://localhost:8080/"
        },
        "id": "Rj347hm-FUhW",
        "outputId": "c10a64ad-4d1a-44af-95fd-e563d15e06ea"
      },
      "execution_count": null,
      "outputs": [
        {
          "output_type": "execute_result",
          "data": {
            "text/plain": [
              "2505.5"
            ]
          },
          "metadata": {},
          "execution_count": 84
        }
      ]
    },
    {
      "cell_type": "markdown",
      "source": [
        "Visualize"
      ],
      "metadata": {
        "id": "KMxBiX3DJU_8"
      }
    },
    {
      "cell_type": "code",
      "source": [
        "# Grab visuals\n",
        "inputs_visual = inputs[:,:, :3]\n",
        "inputs_visual = inputs_visual/np.amax(inputs_visual)"
      ],
      "metadata": {
        "id": "b8E6RnzxEToc"
      },
      "execution_count": null,
      "outputs": []
    },
    {
      "cell_type": "code",
      "source": [
        "import matplotlib.pyplot as plt\n",
        "\n",
        "# Show visuals\n",
        "plt.imshow(inputs_visual)\n",
        "plt.show()"
      ],
      "metadata": {
        "colab": {
          "base_uri": "https://localhost:8080/",
          "height": 268
        },
        "id": "9ARhSCYWJWlh",
        "outputId": "6bf9940b-4f75-4631-9b58-5e28e47601d4"
      },
      "execution_count": null,
      "outputs": [
        {
          "output_type": "display_data",
          "data": {
            "text/plain": [
              "<Figure size 432x288 with 1 Axes>"
            ],
            "image/png": "[encoded data removed]"
          },
          "metadata": {
            "needs_background": "light"
          }
        }
      ]
    },
    {
      "cell_type": "code",
      "source": [
        "# Currently 0\n",
        "np.amax(labels)\n",
        "plt.imshow(labels)\n",
        "plt.show()"
      ],
      "metadata": {
        "colab": {
          "base_uri": "https://localhost:8080/",
          "height": 268
        },
        "id": "HSQaAtEdHq88",
        "outputId": "432ba3f1-a906-474a-b94d-f415f65a98e5"
      },
      "execution_count": null,
      "outputs": [
        {
          "output_type": "display_data",
          "data": {
            "text/plain": [
              "<Figure size 432x288 with 1 Axes>"
            ],
            "image/png": "[encoded data removed]"
          },
          "metadata": {
            "needs_background": "light"
          }
        }
      ]
    },
    {
      "cell_type": "code",
      "source": [
        "# Showing correct(?) output\n",
        "import folium\n",
        "\n",
        "mapid = target.getMapId({'min': 0, 'max': 1})\n",
        "map = folium.Map(location=[0, 37], zoom_start = 6)\n",
        "folium.TileLayer(\n",
        "    tiles=mapid['tile_fetcher'].url_format,\n",
        "    attr='Map Data &copy; <a href=\"https://earthengine.google.com/\">Google Earth Engine</a>',\n",
        "    overlay=True,\n",
        "    name='target variable',\n",
        "  ).add_to(map)\n",
        "map.add_child(folium.LayerControl())\n",
        "map"
      ],
      "metadata": {
        "colab": {
          "base_uri": "https://localhost:8080/",
          "height": 634
        },
        "id": "JTEMIL_-Hz8J",
        "outputId": "8e51cbc2-8bcb-4dc5-fcaf-9a3f7a706003"
      },
      "execution_count": null,
      "outputs": [
        {
          "output_type": "execute_result",
          "data": {
            "text/plain": [
              "<folium.folium.Map at 0x7f79bc22c5e0>"
            ],
            "text/html": [
              "<div style=\"width:100%;\"><div style=\"position:relative;width:100%;height:0;padding-bottom:60%;\"><span style=\"color:#565656\">Make this Notebook Trusted to load map: File -> Trust Notebook</span><iframe srcdoc=\"&lt;!DOCTYPE html&gt;\n",
              "&lt;html&gt;\n",
              "&lt;head&gt;\n",
              "    \n",
              "    &lt;meta http-equiv=&quot;content-type&quot; content=&quot;text/html; charset=UTF-8&quot; /&gt;\n",
              "    \n",
              "        &lt;script&gt;\n",
              "            L_NO_TOUCH = false;\n",
              "            L_DISABLE_3D = false;\n",
              "        &lt;/script&gt;\n",
              "    \n",
              "    &lt;style&gt;html, body {width: 100%;height: 100%;margin: 0;padding: 0;}&lt;/style&gt;\n",
              "    &lt;style&gt;#map {position:absolute;top:0;bottom:0;right:0;left:0;}&lt;/style&gt;\n",
              "    &lt;script src=&quot;https://cdn.jsdelivr.net/npm/leaflet@1.6.0/dist/leaflet.js&quot;&gt;&lt;/script&gt;\n",
              "    &lt;script src=&quot;https://code.jquery.com/jquery-1.12.4.min.js&quot;&gt;&lt;/script&gt;\n",
              "    &lt;script src=&quot;https://maxcdn.bootstrapcdn.com/bootstrap/3.2.0/js/bootstrap.min.js&quot;&gt;&lt;/script&gt;\n",
              "    &lt;script src=&quot;https://cdnjs.cloudflare.com/ajax/libs/Leaflet.awesome-markers/2.0.2/leaflet.awesome-markers.js&quot;&gt;&lt;/script&gt;\n",
              "    &lt;link rel=&quot;stylesheet&quot; href=&quot;https://cdn.jsdelivr.net/npm/leaflet@1.6.0/dist/leaflet.css&quot;/&gt;\n",
              "    &lt;link rel=&quot;stylesheet&quot; href=&quot;https://maxcdn.bootstrapcdn.com/bootstrap/3.2.0/css/bootstrap.min.css&quot;/&gt;\n",
              "    &lt;link rel=&quot;stylesheet&quot; href=&quot;https://maxcdn.bootstrapcdn.com/bootstrap/3.2.0/css/bootstrap-theme.min.css&quot;/&gt;\n",
              "    &lt;link rel=&quot;stylesheet&quot; href=&quot;https://maxcdn.bootstrapcdn.com/font-awesome/4.6.3/css/font-awesome.min.css&quot;/&gt;\n",
              "    &lt;link rel=&quot;stylesheet&quot; href=&quot;https://cdnjs.cloudflare.com/ajax/libs/Leaflet.awesome-markers/2.0.2/leaflet.awesome-markers.css&quot;/&gt;\n",
              "    &lt;link rel=&quot;stylesheet&quot; href=&quot;https://cdn.jsdelivr.net/gh/python-visualization/folium/folium/templates/leaflet.awesome.rotate.min.css&quot;/&gt;\n",
              "    \n",
              "            &lt;meta name=&quot;viewport&quot; content=&quot;width=device-width,\n",
              "                initial-scale=1.0, maximum-scale=1.0, user-scalable=no&quot; /&gt;\n",
              "            &lt;style&gt;\n",
              "                #map_e878e69b264806feed32b776a73721e8 {\n",
              "                    position: relative;\n",
              "                    width: 100.0%;\n",
              "                    height: 100.0%;\n",
              "                    left: 0.0%;\n",
              "                    top: 0.0%;\n",
              "                }\n",
              "            &lt;/style&gt;\n",
              "        \n",
              "&lt;/head&gt;\n",
              "&lt;body&gt;\n",
              "    \n",
              "    \n",
              "            &lt;div class=&quot;folium-map&quot; id=&quot;map_e878e69b264806feed32b776a73721e8&quot; &gt;&lt;/div&gt;\n",
              "        \n",
              "&lt;/body&gt;\n",
              "&lt;script&gt;\n",
              "    \n",
              "    \n",
              "            var map_e878e69b264806feed32b776a73721e8 = L.map(\n",
              "                &quot;map_e878e69b264806feed32b776a73721e8&quot;,\n",
              "                {\n",
              "                    center: [0.0, 37.0],\n",
              "                    crs: L.CRS.EPSG3857,\n",
              "                    zoom: 6,\n",
              "                    zoomControl: true,\n",
              "                    preferCanvas: false,\n",
              "                }\n",
              "            );\n",
              "\n",
              "            \n",
              "\n",
              "        \n",
              "    \n",
              "            var tile_layer_e5d5746c716008bf98177131d255829b = L.tileLayer(\n",
              "                &quot;https://{s}.tile.openstreetmap.org/{z}/{x}/{y}.png&quot;,\n",
              "                {&quot;attribution&quot;: &quot;Data by \\u0026copy; \\u003ca href=\\&quot;http://openstreetmap.org\\&quot;\\u003eOpenStreetMap\\u003c/a\\u003e, under \\u003ca href=\\&quot;http://www.openstreetmap.org/copyright\\&quot;\\u003eODbL\\u003c/a\\u003e.&quot;, &quot;detectRetina&quot;: false, &quot;maxNativeZoom&quot;: 18, &quot;maxZoom&quot;: 18, &quot;minZoom&quot;: 0, &quot;noWrap&quot;: false, &quot;opacity&quot;: 1, &quot;subdomains&quot;: &quot;abc&quot;, &quot;tms&quot;: false}\n",
              "            ).addTo(map_e878e69b264806feed32b776a73721e8);\n",
              "        \n",
              "    \n",
              "            var tile_layer_1cdb2324d42fb046698ca09d53857a7d = L.tileLayer(\n",
              "                &quot;https://earthengine-highvolume.googleapis.com/v1alpha/projects/sanford-project-04a9/maps/8f475b16392b93485ee9751dddc27b68-dc7949d030f0474c0508198190446242/tiles/{z}/{x}/{y}&quot;,\n",
              "                {&quot;attribution&quot;: &quot;Map Data \\u0026copy; \\u003ca href=\\&quot;https://earthengine.google.com/\\&quot;\\u003eGoogle Earth Engine\\u003c/a\\u003e&quot;, &quot;detectRetina&quot;: false, &quot;maxNativeZoom&quot;: 18, &quot;maxZoom&quot;: 18, &quot;minZoom&quot;: 0, &quot;noWrap&quot;: false, &quot;opacity&quot;: 1, &quot;subdomains&quot;: &quot;abc&quot;, &quot;tms&quot;: false}\n",
              "            ).addTo(map_e878e69b264806feed32b776a73721e8);\n",
              "        \n",
              "    \n",
              "            var layer_control_6725d0b38a92a1582cfdfde127fcac47 = {\n",
              "                base_layers : {\n",
              "                    &quot;openstreetmap&quot; : tile_layer_e5d5746c716008bf98177131d255829b,\n",
              "                },\n",
              "                overlays :  {\n",
              "                    &quot;target variable&quot; : tile_layer_1cdb2324d42fb046698ca09d53857a7d,\n",
              "                },\n",
              "            };\n",
              "            L.control.layers(\n",
              "                layer_control_6725d0b38a92a1582cfdfde127fcac47.base_layers,\n",
              "                layer_control_6725d0b38a92a1582cfdfde127fcac47.overlays,\n",
              "                {&quot;autoZIndex&quot;: true, &quot;collapsed&quot;: true, &quot;position&quot;: &quot;topright&quot;}\n",
              "            ).addTo(map_e878e69b264806feed32b776a73721e8);\n",
              "        \n",
              "&lt;/script&gt;\n",
              "&lt;/html&gt;\" style=\"position:absolute;width:100%;height:100%;left:0;top:0;border:none !important;\" allowfullscreen webkitallowfullscreen mozallowfullscreen></iframe></div></div>"
            ]
          },
          "metadata": {},
          "execution_count": 108
        }
      ]
    },
    {
      "cell_type": "code",
      "source": [
        "#Showing correct output\n",
        "\n",
        "import folium\n",
        "\n",
        "vis_params = {\n",
        "  \"min\": 0,\n",
        "  \"max\": 3000,\n",
        "  \"bands\": [\"R\", \"G\", \"B\"],\n",
        "}\n",
        "folium.Map(\n",
        "    location=(0,37),\n",
        "    zoom_start=6,\n",
        "    tiles=image.getMapId(vis_params)[\"tile_fetcher\"].url_format,\n",
        "    attr='Map Data &copy; <a href=\"https://earthengine.google.com/\">Google Earth Engine</a>',\n",
        ")"
      ],
      "metadata": {
        "id": "wD3tYXlwMtft",
        "colab": {
          "base_uri": "https://localhost:8080/",
          "height": 634
        },
        "outputId": "2b499ccc-8fdf-494e-cb18-775c84f4266e"
      },
      "execution_count": null,
      "outputs": [
        {
          "output_type": "execute_result",
          "data": {
            "text/plain": [
              "<folium.folium.Map at 0x7f79c1f97fd0>"
            ],
            "text/html": [
              "<div style=\"width:100%;\"><div style=\"position:relative;width:100%;height:0;padding-bottom:60%;\"><span style=\"color:#565656\">Make this Notebook Trusted to load map: File -> Trust Notebook</span><iframe srcdoc=\"&lt;!DOCTYPE html&gt;\n",
              "&lt;html&gt;\n",
              "&lt;head&gt;\n",
              "    \n",
              "    &lt;meta http-equiv=&quot;content-type&quot; content=&quot;text/html; charset=UTF-8&quot; /&gt;\n",
              "    \n",
              "        &lt;script&gt;\n",
              "            L_NO_TOUCH = false;\n",
              "            L_DISABLE_3D = false;\n",
              "        &lt;/script&gt;\n",
              "    \n",
              "    &lt;style&gt;html, body {width: 100%;height: 100%;margin: 0;padding: 0;}&lt;/style&gt;\n",
              "    &lt;style&gt;#map {position:absolute;top:0;bottom:0;right:0;left:0;}&lt;/style&gt;\n",
              "    &lt;script src=&quot;https://cdn.jsdelivr.net/npm/leaflet@1.6.0/dist/leaflet.js&quot;&gt;&lt;/script&gt;\n",
              "    &lt;script src=&quot;https://code.jquery.com/jquery-1.12.4.min.js&quot;&gt;&lt;/script&gt;\n",
              "    &lt;script src=&quot;https://maxcdn.bootstrapcdn.com/bootstrap/3.2.0/js/bootstrap.min.js&quot;&gt;&lt;/script&gt;\n",
              "    &lt;script src=&quot;https://cdnjs.cloudflare.com/ajax/libs/Leaflet.awesome-markers/2.0.2/leaflet.awesome-markers.js&quot;&gt;&lt;/script&gt;\n",
              "    &lt;link rel=&quot;stylesheet&quot; href=&quot;https://cdn.jsdelivr.net/npm/leaflet@1.6.0/dist/leaflet.css&quot;/&gt;\n",
              "    &lt;link rel=&quot;stylesheet&quot; href=&quot;https://maxcdn.bootstrapcdn.com/bootstrap/3.2.0/css/bootstrap.min.css&quot;/&gt;\n",
              "    &lt;link rel=&quot;stylesheet&quot; href=&quot;https://maxcdn.bootstrapcdn.com/bootstrap/3.2.0/css/bootstrap-theme.min.css&quot;/&gt;\n",
              "    &lt;link rel=&quot;stylesheet&quot; href=&quot;https://maxcdn.bootstrapcdn.com/font-awesome/4.6.3/css/font-awesome.min.css&quot;/&gt;\n",
              "    &lt;link rel=&quot;stylesheet&quot; href=&quot;https://cdnjs.cloudflare.com/ajax/libs/Leaflet.awesome-markers/2.0.2/leaflet.awesome-markers.css&quot;/&gt;\n",
              "    &lt;link rel=&quot;stylesheet&quot; href=&quot;https://cdn.jsdelivr.net/gh/python-visualization/folium/folium/templates/leaflet.awesome.rotate.min.css&quot;/&gt;\n",
              "    \n",
              "            &lt;meta name=&quot;viewport&quot; content=&quot;width=device-width,\n",
              "                initial-scale=1.0, maximum-scale=1.0, user-scalable=no&quot; /&gt;\n",
              "            &lt;style&gt;\n",
              "                #map_da7739890f32211bedad8637f4044567 {\n",
              "                    position: relative;\n",
              "                    width: 100.0%;\n",
              "                    height: 100.0%;\n",
              "                    left: 0.0%;\n",
              "                    top: 0.0%;\n",
              "                }\n",
              "            &lt;/style&gt;\n",
              "        \n",
              "&lt;/head&gt;\n",
              "&lt;body&gt;\n",
              "    \n",
              "    \n",
              "            &lt;div class=&quot;folium-map&quot; id=&quot;map_da7739890f32211bedad8637f4044567&quot; &gt;&lt;/div&gt;\n",
              "        \n",
              "&lt;/body&gt;\n",
              "&lt;script&gt;\n",
              "    \n",
              "    \n",
              "            var map_da7739890f32211bedad8637f4044567 = L.map(\n",
              "                &quot;map_da7739890f32211bedad8637f4044567&quot;,\n",
              "                {\n",
              "                    center: [0.0, 37.0],\n",
              "                    crs: L.CRS.EPSG3857,\n",
              "                    zoom: 6,\n",
              "                    zoomControl: true,\n",
              "                    preferCanvas: false,\n",
              "                }\n",
              "            );\n",
              "\n",
              "            \n",
              "\n",
              "        \n",
              "    \n",
              "            var tile_layer_bf1be74bbd5b25922e4734acc8dd5680 = L.tileLayer(\n",
              "                &quot;https://earthengine-highvolume.googleapis.com/v1alpha/projects/sanford-project-04a9/maps/c614bc5df5456d4a8e0bbcda1ccc7c94-87b1ffa16833c4f52567d0a1d134985c/tiles/{z}/{x}/{y}&quot;,\n",
              "                {&quot;attribution&quot;: &quot;Map Data \\u0026copy; \\u003ca href=\\&quot;https://earthengine.google.com/\\&quot;\\u003eGoogle Earth Engine\\u003c/a\\u003e&quot;, &quot;detectRetina&quot;: false, &quot;maxNativeZoom&quot;: 18, &quot;maxZoom&quot;: 18, &quot;minZoom&quot;: 0, &quot;noWrap&quot;: false, &quot;opacity&quot;: 1, &quot;subdomains&quot;: &quot;abc&quot;, &quot;tms&quot;: false}\n",
              "            ).addTo(map_da7739890f32211bedad8637f4044567);\n",
              "        \n",
              "&lt;/script&gt;\n",
              "&lt;/html&gt;\" style=\"position:absolute;width:100%;height:100%;left:0;top:0;border:none !important;\" allowfullscreen webkitallowfullscreen mozallowfullscreen></iframe></div></div>"
            ]
          },
          "metadata": {},
          "execution_count": 59
        }
      ]
    },
    {
      "cell_type": "markdown",
      "source": [
        "## Apache-beam"
      ],
      "metadata": {
        "id": "scR4yxBrPV6g"
      }
    },
    {
      "cell_type": "markdown",
      "source": [
        "Serialize to TFRecords"
      ],
      "metadata": {
        "id": "nkxoFsYWPr4a"
      }
    },
    {
      "cell_type": "code",
      "source": [
        "import tensorflow as tf\n",
        "\n",
        "def serialize(inputs: np.ndarray, labels: np.ndarray) -> bytes:\n",
        "    features = {\n",
        "        name: tf.train.Feature(\n",
        "            bytes_list=tf.train.BytesList(value=[tf.io.serialize_tensor(data).numpy()])\n",
        "        )\n",
        "        for name, data in {\"inputs\": inputs, \"labels\": labels}.items()\n",
        "    }\n",
        "    example = tf.train.Example(features=tf.train.Features(feature=features))\n",
        "    return example.SerializeToString()\n",
        "\n",
        "serialized = serialize(inputs, labels)\n",
        "print(f\"serialized: {len(serialized)} bytes\")"
      ],
      "metadata": {
        "colab": {
          "base_uri": "https://localhost:8080/"
        },
        "id": "B7lmwYrgP3K7",
        "outputId": "38542e89-abc0-4607-fc3e-f51dc22d33ab"
      },
      "execution_count": null,
      "outputs": [
        {
          "output_type": "stream",
          "name": "stdout",
          "text": [
            "serialized: 540768 bytes\n"
          ]
        }
      ]
    },
    {
      "cell_type": "markdown",
      "source": [
        "### Creating Dataset\n"
      ],
      "metadata": {
        "id": "ojnCAnrzP3lu"
      }
    },
    {
      "cell_type": "code",
      "source": [
        "# Now let's get the code from GitHub and navigate to the sample.\n",
        "!git clone https://github.com/GoogleCloudPlatform/python-docs-samples.git\n",
        "%cd python-docs-samples/people-and-planet-ai/land-cover-classification"
      ],
      "metadata": {
        "colab": {
          "base_uri": "https://localhost:8080/"
        },
        "id": "9iZZyVcQPU7v",
        "outputId": "f2fe143d-e357-4ed2-a141-0db302357409"
      },
      "execution_count": null,
      "outputs": [
        {
          "output_type": "stream",
          "name": "stdout",
          "text": [
            "fatal: destination path 'python-docs-samples' already exists and is not an empty directory.\n",
            "/content/python-docs-samples/people-and-planet-ai/land-cover-classification\n"
          ]
        }
      ]
    },
    {
      "cell_type": "code",
      "source": [
        "from create_dataset import serialize_tensorflow\n",
        "inputs = inputs_visual\n",
        "serialized = serialize_tensorflow(inputs, labels)\n",
        "print(f\"serialized: {len(serialized)} bytes\")"
      ],
      "metadata": {
        "colab": {
          "base_uri": "https://localhost:8080/"
        },
        "id": "jo3BQNtGPbJr",
        "outputId": "b8223518-63e9-4d4d-c70e-4d2dca0c5c89"
      },
      "execution_count": null,
      "outputs": [
        {
          "output_type": "stream",
          "name": "stdout",
          "text": [
            "serialized: 409696 bytes\n"
          ]
        }
      ]
    },
    {
      "cell_type": "markdown",
      "source": [
        "### Pipeline info\n",
        "\n",
        "\n",
        "```\n",
        "with beam.Pipeline() as pipeline:\n",
        "    (...\n",
        "```\n",
        "\n",
        "\n",
        "[Example1 Notebook](https://colab.research.google.com/github/GoogleCloudPlatform/python-docs-samples/blob/main/people-and-planet-ai/land-cover-classification/cloud-tensorflow.ipynb#scrollTo=-HB0AdqOr06y)\n",
        "\n",
        "[Example2 Notebook](https://colab.research.google.com/github/GoogleCloudPlatform/python-docs-samples/blob/mai[%E2%80%A6]ple-and-planet-ai/land-cover-classification/README.ipynb) \n",
        "\n",
        "Useful links:\n",
        "\n",
        "* [Beam Quickstart](https://beam.apache.org/get-started/quickstart/python/)\n",
        "\n",
        "* [Beam Guide](https://beam.apache.org/documentation/programming-guide/)\n",
        "\n",
        "* [Pipeline Options](https://beam.apache.org/documentation/programming-guide/#configuring-pipeline-options)\n",
        "\n",
        "\n"
      ],
      "metadata": {
        "id": "GMq_gBvOYfNy"
      }
    },
    {
      "cell_type": "code",
      "source": [
        "import apache_beam as beam\n",
        "from apache_beam.options.pipeline_options import PipelineOptions\n",
        "# note to self: sample_points in the example takes \n",
        "#def sample_points(seed: int, polygons: list[list[tuple[float, float]]], \n",
        "#points_per_class: int, scale: int=1000) ->Iterable[tuple[float, float]]\n",
        "\n",
        "class CustomFn(beam.CombineFn):\n",
        "    def create_accumulator(self):\n",
        "        sum = 0.0\n",
        "        count = 0\n",
        "        accumulator = sum, count\n",
        "        return accumulator\n",
        "\n",
        "    def add_input(self, accumulator, input):\n",
        "        sum, count = accumulator\n",
        "        return sum + len(input), count + 1\n",
        "\n",
        "    def merge_accumulators(self, accumulators):\n",
        "        sums, counts = zip(*accumulators)\n",
        "        return sum(sums), sum(counts)\n",
        "     \n",
        "    # [END COPIED CODE] - MODIFIED LINES:\n",
        "    def extract_output(self, accumulator, MODE='AVERAGE'):\n",
        "        sum, count = accumulator\n",
        "        if count == 0:\n",
        "            return float('NaN')\n",
        "\n",
        "        if MODE == 'SUM':\n",
        "            return int(sum)\n",
        "        elif MODE == 'COUNT':\n",
        "            return int(count)\n",
        "        elif MODE == 'INT_AVERAGE':\n",
        "            return int(sum / count)\n",
        "        else:\n",
        "            return sum / count\n",
        "\n",
        "\n",
        "def prepare_key_value_pairs(element):\n",
        "    key_value_tuple = ( (element['key_column_1'], \n",
        "          element['key_column_...'],  \n",
        "          element['key_column_n'] \n",
        "          ), \n",
        "          element['value_column_1'] )\n",
        "    return key_value_tuple\n",
        "\n",
        "def transform_data(data):\n",
        "    data_out = (\n",
        "            data\n",
        "            | 'Step 1' >> beam.Map(prepare_key_value_pairs)\n",
        "            | 'Step 2' >> beam.GroupByKey()\n",
        "            \n",
        "            # This line fails with DataflowRunner, but not with DirectRunner (locally):\n",
        "            # | 'Old Step 3' >> beam.CombineValues(beam.combiners.CountCombineFn())\n",
        "\n",
        "            # This works with DataflowRunner: CombinePerKey instead of CombineValues\n",
        "            # https://beam.apache.org/documentation/transforms/python/aggregation/combineperkey/#example-5-combining-with-a-combinefn\n",
        "            | 'New Step 3 New' >> beam.CombinePerKey(CustomFn())\n",
        "    )\n",
        "    return data_out\n",
        "\n",
        "\n",
        "with beam.Pipeline() as pipeline:\n",
        "    (\n",
        "        pipeline\n",
        "        | \"🌱 Make seeds\" >> beam.Create([0])\n",
        "        | \"🛰 Sample points\" >> beam.FlatMap(sample_points, region = region, image = labels_image, points_per_class = 2, scale = 1000)\n",
        "        | \"📖 Get examples\" >> beam.Map(get_training_example, image = image, labels = target, patch_size = 128)\n",
        "        | \"✍🏽 Serialize\" >> beam.MapTuple(serialize_tensorflow)\n",
        "        | \"📚 Write TFRecords\" >> beam.io.WriteToTFRecord(\n",
        "            \"data/part\", file_name_suffix=\".tfrecord.gz\"\n",
        "        )\n",
        "    )"
      ],
      "metadata": {
        "colab": {
          "base_uri": "https://localhost:8080/"
        },
        "id": "1CZpLvL4P47n",
        "outputId": "1ca70356-64a5-4eb3-9da2-c3d3926c314e"
      },
      "execution_count": null,
      "outputs": [
        {
          "output_type": "stream",
          "name": "stderr",
          "text": [
            "WARNING:apache_beam.io.filebasedsink:Deleting 1 existing files in target path matching: -*-of-%(num_shards)05d\n"
          ]
        }
      ]
    },
    {
      "cell_type": "code",
      "source": [
        "# Let's take a look at the dataset files.\n",
        "!ls -lh data"
      ],
      "metadata": {
        "colab": {
          "base_uri": "https://localhost:8080/"
        },
        "id": "AKaeTuRzYTaB",
        "outputId": "7e9c5a14-418a-4e19-ed56-f4f3f4f8bed0"
      },
      "execution_count": null,
      "outputs": [
        {
          "output_type": "stream",
          "name": "stdout",
          "text": [
            "total 668K\n",
            "-rw-r--r-- 1 root root 666K Mar 16 12:44 part-00000-of-00001.tfrecord.gz\n"
          ]
        }
      ]
    },
    {
      "cell_type": "markdown",
      "source": [
        "Next use a distributed runner to run on a larger dataset"
      ],
      "metadata": {
        "id": "0XnoIcrbYXtf"
      }
    },
    {
      "cell_type": "code",
      "source": [
        "points_per_class = 100\n",
        "\n",
        "!python create_dataset.py \"tensorflow\" \\\n",
        "  --data-path=\"gs://{bucket}/land-cover/data\" \\\n",
        "  --points-per-class=\"{points_per_class}\" \\\n",
        "  --runner=\"DataflowRunner\" \\\n",
        "  --project=\"{project}\" \\\n",
        "  --region=\"{location}\" \\\n",
        "  --temp_location=\"gs://{bucket}/land-cover/temp\""
      ],
      "metadata": {
        "colab": {
          "base_uri": "https://localhost:8080/"
        },
        "id": "BjM4DyNxYXQO",
        "outputId": "cb0e8636-4b64-44b4-985d-93c7581e5575"
      },
      "execution_count": null,
      "outputs": [
        {
          "output_type": "stream",
          "name": "stdout",
          "text": [
            "INFO:apache_beam.typehints.native_type_compatibility:Converting string literal type hint to Any: \"int\"\n",
            "INFO:apache_beam.typehints.native_type_compatibility:Converting string literal type hint to Any: \"list[list[tuple[float, float]]]\"\n",
            "INFO:apache_beam.typehints.native_type_compatibility:Converting string literal type hint to Any: \"int\"\n",
            "INFO:apache_beam.typehints.native_type_compatibility:Converting string literal type hint to Any: \"int\"\n",
            "INFO:apache_beam.typehints.native_type_compatibility:Converting string literal type hint to Any: \"Iterable[tuple[float, float]]\"\n",
            "INFO:apache_beam.typehints.native_type_compatibility:Converting string literal type hint to Any: \"int\"\n",
            "INFO:apache_beam.typehints.native_type_compatibility:Converting string literal type hint to Any: \"list[list[tuple[float, float]]]\"\n",
            "INFO:apache_beam.typehints.native_type_compatibility:Converting string literal type hint to Any: \"int\"\n",
            "INFO:apache_beam.typehints.native_type_compatibility:Converting string literal type hint to Any: \"int\"\n",
            "INFO:apache_beam.typehints.native_type_compatibility:Converting string literal type hint to Any: \"Iterable[tuple[float, float]]\"\n",
            "INFO:apache_beam.typehints.native_type_compatibility:Converting string literal type hint to Any: \"int\"\n",
            "INFO:apache_beam.typehints.native_type_compatibility:Converting string literal type hint to Any: \"list[list[tuple[float, float]]]\"\n",
            "INFO:apache_beam.typehints.native_type_compatibility:Converting string literal type hint to Any: \"int\"\n",
            "INFO:apache_beam.typehints.native_type_compatibility:Converting string literal type hint to Any: \"int\"\n",
            "INFO:apache_beam.typehints.native_type_compatibility:Converting string literal type hint to Any: \"Iterable[tuple[float, float]]\"\n",
            "INFO:apache_beam.typehints.native_type_compatibility:Converting string literal type hint to Any: \"tuple[float, float]\"\n",
            "INFO:apache_beam.typehints.native_type_compatibility:Converting string literal type hint to Any: \"int\"\n",
            "INFO:apache_beam.typehints.native_type_compatibility:Converting string literal type hint to Any: \"Iterable[tuple[np.ndarray, np.ndarray]]\"\n",
            "INFO:apache_beam.typehints.native_type_compatibility:Converting string literal type hint to Any: \"tuple[float, float]\"\n",
            "INFO:apache_beam.typehints.native_type_compatibility:Converting string literal type hint to Any: \"int\"\n",
            "INFO:apache_beam.typehints.native_type_compatibility:Converting string literal type hint to Any: \"Iterable[tuple[np.ndarray, np.ndarray]]\"\n",
            "INFO:apache_beam.typehints.native_type_compatibility:Converting string literal type hint to Any: \"tuple[float, float]\"\n",
            "INFO:apache_beam.typehints.native_type_compatibility:Converting string literal type hint to Any: \"int\"\n",
            "INFO:apache_beam.typehints.native_type_compatibility:Converting string literal type hint to Any: \"Iterable[tuple[np.ndarray, np.ndarray]]\"\n",
            "INFO:apache_beam.typehints.native_type_compatibility:Converting string literal type hint to Any: \"np.ndarray\"\n",
            "INFO:apache_beam.typehints.native_type_compatibility:Converting string literal type hint to Any: \"np.ndarray\"\n",
            "INFO:apache_beam.typehints.native_type_compatibility:Converting string literal type hint to Any: \"bytes\"\n",
            "INFO:apache_beam.runners.portability.stager:Executing command: ['/usr/bin/python3', 'setup.py', 'sdist', '--dist-dir', '/tmp/tmpb7gpyg9v']\n",
            "warning: check: missing meta-data: either (author and author_email) or (maintainer and maintainer_email) should be supplied\n",
            "\n",
            "INFO:apache_beam.runners.portability.stager:Downloading source distribution of the SDK from PyPi\n",
            "INFO:apache_beam.runners.portability.stager:Executing command: ['/usr/bin/python3', '-m', 'pip', 'download', '--dest', '/tmp/tmpb7gpyg9v', 'apache-beam==2.42.0', '--no-deps', '--no-binary', ':all:']\n",
            "INFO:apache_beam.runners.portability.stager:Staging SDK sources from PyPI: dataflow_python_sdk.tar\n",
            "INFO:apache_beam.runners.portability.stager:Downloading binary distribution of the SDK from PyPi\n",
            "INFO:apache_beam.runners.portability.stager:Executing command: ['/usr/bin/python3', '-m', 'pip', 'download', '--dest', '/tmp/tmpb7gpyg9v', 'apache-beam==2.42.0', '--no-deps', '--only-binary', ':all:', '--python-version', '39', '--implementation', 'cp', '--abi', 'cp39', '--platform', 'manylinux1_x86_64']\n",
            "INFO:apache_beam.runners.portability.stager:Staging binary distribution of the SDK from PyPI: apache_beam-2.42.0-cp39-cp39-manylinux1_x86_64.whl\n",
            "INFO:root:Default Python SDK image for environment is apache/beam_python3.9_sdk:2.42.0\n",
            "INFO:root:Using provided Python SDK container image: gcr.io/cloud-dataflow/v1beta3/python39:2.42.0\n",
            "INFO:root:Python SDK container image set to \"gcr.io/cloud-dataflow/v1beta3/python39:2.42.0\" for Docker environment\n",
            "INFO:apache_beam.runners.portability.fn_api_runner.translations:==================== <function pack_combiners at 0x7f997d4f6f70> ====================\n",
            "INFO:apache_beam.runners.portability.fn_api_runner.translations:==================== <function sort_stages at 0x7f997d4f7790> ====================\n",
            "INFO:apache_beam.runners.dataflow.internal.apiclient:Defaulting to the temp_location as staging_location: gs://cx_bucket_1/land-cover/temp\n",
            "INFO:apache_beam.internal.gcp.auth:Setting socket default timeout to 60 seconds.\n",
            "INFO:apache_beam.internal.gcp.auth:socket default timeout is 60.0 seconds.\n",
            "INFO:apache_beam.runners.dataflow.internal.apiclient:Starting GCS upload to gs://cx_bucket_1/land-cover/temp/beamapp-root-0316125025-687621-nkmlced3.1678971025.688029/pickled_main_session...\n",
            "INFO:apache_beam.runners.dataflow.internal.apiclient:Completed GCS upload to gs://cx_bucket_1/land-cover/temp/beamapp-root-0316125025-687621-nkmlced3.1678971025.688029/pickled_main_session in 0 seconds.\n",
            "INFO:apache_beam.runners.dataflow.internal.apiclient:Starting GCS upload to gs://cx_bucket_1/land-cover/temp/beamapp-root-0316125025-687621-nkmlced3.1678971025.688029/dataflow_python_sdk.tar...\n",
            "INFO:apache_beam.runners.dataflow.internal.apiclient:Completed GCS upload to gs://cx_bucket_1/land-cover/temp/beamapp-root-0316125025-687621-nkmlced3.1678971025.688029/dataflow_python_sdk.tar in 0 seconds.\n",
            "INFO:apache_beam.runners.dataflow.internal.apiclient:Starting GCS upload to gs://cx_bucket_1/land-cover/temp/beamapp-root-0316125025-687621-nkmlced3.1678971025.688029/workflow.tar.gz...\n",
            "INFO:apache_beam.runners.dataflow.internal.apiclient:Completed GCS upload to gs://cx_bucket_1/land-cover/temp/beamapp-root-0316125025-687621-nkmlced3.1678971025.688029/workflow.tar.gz in 0 seconds.\n",
            "INFO:apache_beam.runners.dataflow.internal.apiclient:Starting GCS upload to gs://cx_bucket_1/land-cover/temp/beamapp-root-0316125025-687621-nkmlced3.1678971025.688029/apache_beam-2.42.0-cp39-cp39-manylinux1_x86_64.whl...\n",
            "INFO:apache_beam.runners.dataflow.internal.apiclient:Completed GCS upload to gs://cx_bucket_1/land-cover/temp/beamapp-root-0316125025-687621-nkmlced3.1678971025.688029/apache_beam-2.42.0-cp39-cp39-manylinux1_x86_64.whl in 0 seconds.\n",
            "INFO:apache_beam.runners.dataflow.internal.apiclient:Starting GCS upload to gs://cx_bucket_1/land-cover/temp/beamapp-root-0316125025-687621-nkmlced3.1678971025.688029/pipeline.pb...\n",
            "INFO:apache_beam.runners.dataflow.internal.apiclient:Completed GCS upload to gs://cx_bucket_1/land-cover/temp/beamapp-root-0316125025-687621-nkmlced3.1678971025.688029/pipeline.pb in 0 seconds.\n",
            "INFO:apache_beam.runners.dataflow.internal.apiclient:Create job: <Job\n",
            " clientRequestId: '20230316125025689119-4684'\n",
            " createTime: '2023-03-16T12:50:28.604402Z'\n",
            " currentStateTime: '1970-01-01T00:00:00Z'\n",
            " id: '2023-03-16_05_50_28-809431741573800969'\n",
            " location: 'us-central1'\n",
            " name: 'beamapp-root-0316125025-687621-nkmlced3'\n",
            " projectId: 'sanford-project-04a9'\n",
            " stageStates: []\n",
            " startTime: '2023-03-16T12:50:28.604402Z'\n",
            " steps: []\n",
            " tempFiles: []\n",
            " type: TypeValueValuesEnum(JOB_TYPE_BATCH, 1)>\n",
            "INFO:apache_beam.runners.dataflow.internal.apiclient:Created job with id: [2023-03-16_05_50_28-809431741573800969]\n",
            "INFO:apache_beam.runners.dataflow.internal.apiclient:Submitted job: 2023-03-16_05_50_28-809431741573800969\n",
            "INFO:apache_beam.runners.dataflow.internal.apiclient:To access the Dataflow monitoring console, please navigate to https://console.cloud.google.com/dataflow/jobs/us-central1/2023-03-16_05_50_28-809431741573800969?project=sanford-project-04a9\n",
            "INFO:apache_beam.runners.dataflow.dataflow_runner:Job 2023-03-16_05_50_28-809431741573800969 is in state JOB_STATE_PENDING\n",
            "INFO:apache_beam.runners.dataflow.dataflow_runner:2023-03-16T12:50:28.278Z: JOB_MESSAGE_BASIC: Dataflow Runner V2 auto-enabled. Use --experiments=disable_runner_v2 to opt out.\n",
            "INFO:apache_beam.runners.dataflow.dataflow_runner:2023-03-16T12:50:29.737Z: JOB_MESSAGE_BASIC: The pipeline is using shuffle service with a (boot) persistent disk size / type other than the default. If that configuration was intended solely to speed up the non-service shuffle, consider removing it to reduce costs as those disks are unused by the shuffle service.\n",
            "INFO:apache_beam.runners.dataflow.dataflow_runner:2023-03-16T12:50:30.055Z: JOB_MESSAGE_DETAILED: Autoscaling is enabled for job 2023-03-16_05_50_28-809431741573800969. The number of workers will be between 1 and 20.\n",
            "INFO:apache_beam.runners.dataflow.dataflow_runner:2023-03-16T12:50:30.073Z: JOB_MESSAGE_DETAILED: Autoscaling was automatically enabled for job 2023-03-16_05_50_28-809431741573800969.\n",
            "INFO:apache_beam.runners.dataflow.dataflow_runner:2023-03-16T12:51:00.661Z: JOB_MESSAGE_ERROR: Error processing pipeline.\n",
            "INFO:apache_beam.runners.dataflow.dataflow_runner:Job 2023-03-16_05_50_28-809431741573800969 is in state JOB_STATE_FAILED\n",
            "ERROR:apache_beam.runners.dataflow.dataflow_runner:Console URL: https://console.cloud.google.com/dataflow/jobs/<RegionId>/2023-03-16_05_50_28-809431741573800969?project=<ProjectId>\n",
            "Traceback (most recent call last):\n",
            "  File \"/content/python-docs-samples/people-and-planet-ai/land-cover-classification/create_dataset.py\", line 231, in <module>\n",
            "    run_tensorflow(\n",
            "  File \"/content/python-docs-samples/people-and-planet-ai/land-cover-classification/create_dataset.py\", line 183, in run_tensorflow\n",
            "    (\n",
            "  File \"/usr/local/lib/python3.9/dist-packages/apache_beam/pipeline.py\", line 598, in __exit__\n",
            "    self.result.wait_until_finish()\n",
            "  File \"/usr/local/lib/python3.9/dist-packages/apache_beam/runners/dataflow/dataflow_runner.py\", line 1673, in wait_until_finish\n",
            "    raise DataflowRuntimeException(\n",
            "apache_beam.runners.dataflow.dataflow_runner.DataflowRuntimeException: Dataflow pipeline failed. State: FAILED, Error:\n",
            "Error processing pipeline.\n"
          ]
        }
      ]
    },
    {
      "cell_type": "code",
      "source": [
        "print(target.getInfo())"
      ],
      "metadata": {
        "colab": {
          "base_uri": "https://localhost:8080/"
        },
        "id": "Nu0wretXaG26",
        "outputId": "8920b348-9278-4a7f-dd44-38655182b669"
      },
      "execution_count": null,
      "outputs": [
        {
          "output_type": "stream",
          "name": "stdout",
          "text": [
            "{'type': 'Image', 'bands': [{'id': 'target', 'data_type': {'type': 'PixelType', 'precision': 'float'}, 'dimensions': [29676, 37426], 'crs': 'EPSG:32737', 'crs_transform': [30, 0, -67088.3816999998, 0, -30, 10605534.1865]}], 'version': 1667329384912485, 'id': 'projects/sanford-project-04a9/assets/Kenya/kenya_census_2009_rast', 'properties': {'system:footprint': {'type': 'LinearRing', 'coordinates': [[33.899676480467825, -3.712381049241454], [33.89351506051154, -4.661100260662413], [37.900507946594495, -4.678851591182628], [41.91295489440698, -4.673655155923738], [41.90670508116313, -2.7713382186237463], [41.90334965079649, -0.23517632895609153], [41.90379440308304, 1.032915523138402], [41.90893442251192, 3.5690508582490628], [41.916536101341734, 5.471324856577909], [37.899154212658445, 5.477412980838261], [33.88725958188004, 5.456615444350572], [33.902203461985884, 3.2433133930818694], [33.90731169057764, 1.978657066626101], [33.910330837555634, 0.08162750001535511], [33.9092551841757, -1.1830638177104547], [33.90570657939833, -2.447739075555494], [33.899676480467825, -3.712381049241454]]}, 'system:asset_size': 20024629}}\n"
          ]
        }
      ]
    },
    {
      "cell_type": "code",
      "source": [
        "target.bandNames().getInfo()"
      ],
      "metadata": {
        "colab": {
          "base_uri": "https://localhost:8080/"
        },
        "id": "KRidrXxpZ9wa",
        "outputId": "85a79b2a-12c5-40b9-cb75-60589baa1ee6"
      },
      "execution_count": null,
      "outputs": [
        {
          "output_type": "execute_result",
          "data": {
            "text/plain": [
              "['target']"
            ]
          },
          "metadata": {},
          "execution_count": 120
        }
      ]
    },
    {
      "cell_type": "code",
      "source": [
        "target = get_label_image(image)\n",
        "#Visualize imagery\n",
        "map_target = folium.Map(location=[0, 37], zoom_start = 6)\n",
        "map_target.add_ee_layer(target, None, 'target')\n",
        "\n",
        "display(map_target)"
      ],
      "metadata": {
        "colab": {
          "base_uri": "https://localhost:8080/",
          "height": 634
        },
        "id": "uw2gyBzSaOHP",
        "outputId": "e0f1e2bd-863b-4fb7-effc-30429c13bff4"
      },
      "execution_count": null,
      "outputs": [
        {
          "output_type": "display_data",
          "data": {
            "text/plain": [
              "<folium.folium.Map at 0x7f79ae3ba850>"
            ],
            "text/html": [
              "<div style=\"width:100%;\"><div style=\"position:relative;width:100%;height:0;padding-bottom:60%;\"><span style=\"color:#565656\">Make this Notebook Trusted to load map: File -> Trust Notebook</span><iframe srcdoc=\"&lt;!DOCTYPE html&gt;\n",
              "&lt;html&gt;\n",
              "&lt;head&gt;\n",
              "    \n",
              "    &lt;meta http-equiv=&quot;content-type&quot; content=&quot;text/html; charset=UTF-8&quot; /&gt;\n",
              "    \n",
              "        &lt;script&gt;\n",
              "            L_NO_TOUCH = false;\n",
              "            L_DISABLE_3D = false;\n",
              "        &lt;/script&gt;\n",
              "    \n",
              "    &lt;style&gt;html, body {width: 100%;height: 100%;margin: 0;padding: 0;}&lt;/style&gt;\n",
              "    &lt;style&gt;#map {position:absolute;top:0;bottom:0;right:0;left:0;}&lt;/style&gt;\n",
              "    &lt;script src=&quot;https://cdn.jsdelivr.net/npm/leaflet@1.6.0/dist/leaflet.js&quot;&gt;&lt;/script&gt;\n",
              "    &lt;script src=&quot;https://code.jquery.com/jquery-1.12.4.min.js&quot;&gt;&lt;/script&gt;\n",
              "    &lt;script src=&quot;https://maxcdn.bootstrapcdn.com/bootstrap/3.2.0/js/bootstrap.min.js&quot;&gt;&lt;/script&gt;\n",
              "    &lt;script src=&quot;https://cdnjs.cloudflare.com/ajax/libs/Leaflet.awesome-markers/2.0.2/leaflet.awesome-markers.js&quot;&gt;&lt;/script&gt;\n",
              "    &lt;link rel=&quot;stylesheet&quot; href=&quot;https://cdn.jsdelivr.net/npm/leaflet@1.6.0/dist/leaflet.css&quot;/&gt;\n",
              "    &lt;link rel=&quot;stylesheet&quot; href=&quot;https://maxcdn.bootstrapcdn.com/bootstrap/3.2.0/css/bootstrap.min.css&quot;/&gt;\n",
              "    &lt;link rel=&quot;stylesheet&quot; href=&quot;https://maxcdn.bootstrapcdn.com/bootstrap/3.2.0/css/bootstrap-theme.min.css&quot;/&gt;\n",
              "    &lt;link rel=&quot;stylesheet&quot; href=&quot;https://maxcdn.bootstrapcdn.com/font-awesome/4.6.3/css/font-awesome.min.css&quot;/&gt;\n",
              "    &lt;link rel=&quot;stylesheet&quot; href=&quot;https://cdnjs.cloudflare.com/ajax/libs/Leaflet.awesome-markers/2.0.2/leaflet.awesome-markers.css&quot;/&gt;\n",
              "    &lt;link rel=&quot;stylesheet&quot; href=&quot;https://cdn.jsdelivr.net/gh/python-visualization/folium/folium/templates/leaflet.awesome.rotate.min.css&quot;/&gt;\n",
              "    \n",
              "            &lt;meta name=&quot;viewport&quot; content=&quot;width=device-width,\n",
              "                initial-scale=1.0, maximum-scale=1.0, user-scalable=no&quot; /&gt;\n",
              "            &lt;style&gt;\n",
              "                #map_3e36172ac36edf27c0eca22e2c8f69f9 {\n",
              "                    position: relative;\n",
              "                    width: 100.0%;\n",
              "                    height: 100.0%;\n",
              "                    left: 0.0%;\n",
              "                    top: 0.0%;\n",
              "                }\n",
              "            &lt;/style&gt;\n",
              "        \n",
              "&lt;/head&gt;\n",
              "&lt;body&gt;\n",
              "    \n",
              "    \n",
              "            &lt;div class=&quot;folium-map&quot; id=&quot;map_3e36172ac36edf27c0eca22e2c8f69f9&quot; &gt;&lt;/div&gt;\n",
              "        \n",
              "&lt;/body&gt;\n",
              "&lt;script&gt;\n",
              "    \n",
              "    \n",
              "            var map_3e36172ac36edf27c0eca22e2c8f69f9 = L.map(\n",
              "                &quot;map_3e36172ac36edf27c0eca22e2c8f69f9&quot;,\n",
              "                {\n",
              "                    center: [0.0, 37.0],\n",
              "                    crs: L.CRS.EPSG3857,\n",
              "                    zoom: 6,\n",
              "                    zoomControl: true,\n",
              "                    preferCanvas: false,\n",
              "                }\n",
              "            );\n",
              "\n",
              "            \n",
              "\n",
              "        \n",
              "    \n",
              "            var tile_layer_66049803304df96969512a7169f2b830 = L.tileLayer(\n",
              "                &quot;https://{s}.tile.openstreetmap.org/{z}/{x}/{y}.png&quot;,\n",
              "                {&quot;attribution&quot;: &quot;Data by \\u0026copy; \\u003ca href=\\&quot;http://openstreetmap.org\\&quot;\\u003eOpenStreetMap\\u003c/a\\u003e, under \\u003ca href=\\&quot;http://www.openstreetmap.org/copyright\\&quot;\\u003eODbL\\u003c/a\\u003e.&quot;, &quot;detectRetina&quot;: false, &quot;maxNativeZoom&quot;: 18, &quot;maxZoom&quot;: 18, &quot;minZoom&quot;: 0, &quot;noWrap&quot;: false, &quot;opacity&quot;: 1, &quot;subdomains&quot;: &quot;abc&quot;, &quot;tms&quot;: false}\n",
              "            ).addTo(map_3e36172ac36edf27c0eca22e2c8f69f9);\n",
              "        \n",
              "    \n",
              "            var tile_layer_f5ec4ab2ef747dc476d22e473bc2fbb0 = L.tileLayer(\n",
              "                &quot;https://earthengine-highvolume.googleapis.com/v1alpha/projects/sanford-project-04a9/maps/eb15fe1553500cfa19d8a5d765c6c9e5-6bd8e5488aafa09f42484d432011232b/tiles/{z}/{x}/{y}&quot;,\n",
              "                {&quot;attribution&quot;: &quot;Map Data \\u0026copy; \\u003ca href=\\&quot;https://earthengine.google.com/\\&quot;\\u003eGoogle Earth Engine\\u003c/a\\u003e&quot;, &quot;detectRetina&quot;: false, &quot;maxNativeZoom&quot;: 18, &quot;maxZoom&quot;: 18, &quot;minZoom&quot;: 0, &quot;noWrap&quot;: false, &quot;opacity&quot;: 1, &quot;subdomains&quot;: &quot;abc&quot;, &quot;tms&quot;: false}\n",
              "            ).addTo(map_3e36172ac36edf27c0eca22e2c8f69f9);\n",
              "        \n",
              "&lt;/script&gt;\n",
              "&lt;/html&gt;\" style=\"position:absolute;width:100%;height:100%;left:0;top:0;border:none !important;\" allowfullscreen webkitallowfullscreen mozallowfullscreen></iframe></div></div>"
            ]
          },
          "metadata": {}
        }
      ]
    },
    {
      "cell_type": "markdown",
      "source": [
        "# Train Model"
      ],
      "metadata": {
        "id": "qDWPMb27Yw9N"
      }
    },
    {
      "cell_type": "code",
      "source": [
        "# Specify names locations for outputs in Cloud Storage. \n",
        "FOLDER = 'unet_11-17_128_tiles_kenya_r_g_b_ndvi_treatment'\n",
        "TRAINING_BASE = 'training_patches'\n",
        "EVAL_BASE = 'eval_patches'"
      ],
      "metadata": {
        "id": "Xbi9BbETcE2B"
      },
      "execution_count": null,
      "outputs": []
    },
    {
      "cell_type": "code",
      "source": [
        "!pwd\n",
        "\n",
        "!cd ~\n",
        "!cd data\n",
        "!ls"
      ],
      "metadata": {
        "colab": {
          "base_uri": "https://localhost:8080/"
        },
        "id": "_4sWwUaiYwjU",
        "outputId": "e4350883-b689-4abf-8b83-0a754263ba30"
      },
      "execution_count": null,
      "outputs": [
        {
          "output_type": "stream",
          "name": "stdout",
          "text": [
            "/content/python-docs-samples/people-and-planet-ai/land-cover-classification\n",
            "cloud-tensorflow.ipynb\t noxfile_config.py\trequirements-test.txt\n",
            "create_dataset.py\t predict_batch.py\trequirements.txt\n",
            "data\t\t\t predict-locations.csv\tserving\n",
            "e2e_test.py\t\t pretrained-model\tsetup.py\n",
            "images\t\t\t __pycache__\t\ttrainer\n",
            "land-cover-change.ipynb  README.ipynb\t\tvisualize.py\n",
            "MANIFEST.in\t\t README.md\n"
          ]
        }
      ]
    },
    {
      "cell_type": "markdown",
      "source": [
        "**Issue**\n",
        "\n",
        "Running into error:\n",
        "\n",
        "```\n",
        "InvalidArgumentError: {{function_node __wrapped__IteratorGetNext_output_types_2_device_/job:localhost/replica:0/task:0/device:CPU:0}} Type mismatch between parsed tensor (float) and dtype (uint8)\n",
        "\t [[{{node ParseTensor_1}}]] [Op:IteratorGetNext]\n",
        "```\n",
        "\n",
        "Notably,\n",
        "\n",
        "\n",
        "```\n",
        "Type mismatch between parsed tensor (float) and dtype (uint8)\n",
        "```\n",
        "\n",
        "\n",
        "\n"
      ],
      "metadata": {
        "id": "OOOOxY3qZ409"
      }
    },
    {
      "cell_type": "code",
      "source": [
        "from trainer.tf_model import read_dataset\n",
        "\n",
        "data_path = f\"data\"\n",
        "dataset = read_dataset(data_path)\n",
        "\n",
        "for x, y in dataset.take(1):\n",
        "  print(\"inputs:\", x.dtype.name, x.shape)\n",
        "  print(\"labels:\", y.dtype.name, y.shape)"
      ],
      "metadata": {
        "colab": {
          "base_uri": "https://localhost:8080/",
          "height": 443
        },
        "id": "3_co5dr2Y_Wz",
        "outputId": "778102b0-7766-47bf-b2d4-bf9ca64fdc68"
      },
      "execution_count": null,
      "outputs": [
        {
          "output_type": "error",
          "ename": "InvalidArgumentError",
          "evalue": "ignored",
          "traceback": [
            "\u001b[0;31m---------------------------------------------------------------------------\u001b[0m",
            "\u001b[0;31mInvalidArgumentError\u001b[0m                      Traceback (most recent call last)",
            "\u001b[0;32m<ipython-input-123-5403a3724169>\u001b[0m in \u001b[0;36m<module>\u001b[0;34m\u001b[0m\n\u001b[1;32m      4\u001b[0m \u001b[0mdataset\u001b[0m \u001b[0;34m=\u001b[0m \u001b[0mread_dataset\u001b[0m\u001b[0;34m(\u001b[0m\u001b[0mdata_path\u001b[0m\u001b[0;34m)\u001b[0m\u001b[0;34m\u001b[0m\u001b[0;34m\u001b[0m\u001b[0m\n\u001b[1;32m      5\u001b[0m \u001b[0;34m\u001b[0m\u001b[0m\n\u001b[0;32m----> 6\u001b[0;31m \u001b[0;32mfor\u001b[0m \u001b[0mx\u001b[0m\u001b[0;34m,\u001b[0m \u001b[0my\u001b[0m \u001b[0;32min\u001b[0m \u001b[0mdataset\u001b[0m\u001b[0;34m.\u001b[0m\u001b[0mtake\u001b[0m\u001b[0;34m(\u001b[0m\u001b[0;36m1\u001b[0m\u001b[0;34m)\u001b[0m\u001b[0;34m:\u001b[0m\u001b[0;34m\u001b[0m\u001b[0;34m\u001b[0m\u001b[0m\n\u001b[0m\u001b[1;32m      7\u001b[0m   \u001b[0mprint\u001b[0m\u001b[0;34m(\u001b[0m\u001b[0;34m\"inputs:\"\u001b[0m\u001b[0;34m,\u001b[0m \u001b[0mx\u001b[0m\u001b[0;34m.\u001b[0m\u001b[0mdtype\u001b[0m\u001b[0;34m.\u001b[0m\u001b[0mname\u001b[0m\u001b[0;34m,\u001b[0m \u001b[0mx\u001b[0m\u001b[0;34m.\u001b[0m\u001b[0mshape\u001b[0m\u001b[0;34m)\u001b[0m\u001b[0;34m\u001b[0m\u001b[0;34m\u001b[0m\u001b[0m\n\u001b[1;32m      8\u001b[0m   \u001b[0mprint\u001b[0m\u001b[0;34m(\u001b[0m\u001b[0;34m\"labels:\"\u001b[0m\u001b[0;34m,\u001b[0m \u001b[0my\u001b[0m\u001b[0;34m.\u001b[0m\u001b[0mdtype\u001b[0m\u001b[0;34m.\u001b[0m\u001b[0mname\u001b[0m\u001b[0;34m,\u001b[0m \u001b[0my\u001b[0m\u001b[0;34m.\u001b[0m\u001b[0mshape\u001b[0m\u001b[0;34m)\u001b[0m\u001b[0;34m\u001b[0m\u001b[0;34m\u001b[0m\u001b[0m\n",
            "\u001b[0;32m/usr/local/lib/python3.9/dist-packages/tensorflow/python/data/ops/iterator_ops.py\u001b[0m in \u001b[0;36m__next__\u001b[0;34m(self)\u001b[0m\n\u001b[1;32m    764\u001b[0m   \u001b[0;32mdef\u001b[0m \u001b[0m__next__\u001b[0m\u001b[0;34m(\u001b[0m\u001b[0mself\u001b[0m\u001b[0;34m)\u001b[0m\u001b[0;34m:\u001b[0m\u001b[0;34m\u001b[0m\u001b[0;34m\u001b[0m\u001b[0m\n\u001b[1;32m    765\u001b[0m     \u001b[0;32mtry\u001b[0m\u001b[0;34m:\u001b[0m\u001b[0;34m\u001b[0m\u001b[0;34m\u001b[0m\u001b[0m\n\u001b[0;32m--> 766\u001b[0;31m       \u001b[0;32mreturn\u001b[0m \u001b[0mself\u001b[0m\u001b[0;34m.\u001b[0m\u001b[0m_next_internal\u001b[0m\u001b[0;34m(\u001b[0m\u001b[0;34m)\u001b[0m\u001b[0;34m\u001b[0m\u001b[0;34m\u001b[0m\u001b[0m\n\u001b[0m\u001b[1;32m    767\u001b[0m     \u001b[0;32mexcept\u001b[0m \u001b[0merrors\u001b[0m\u001b[0;34m.\u001b[0m\u001b[0mOutOfRangeError\u001b[0m\u001b[0;34m:\u001b[0m\u001b[0;34m\u001b[0m\u001b[0;34m\u001b[0m\u001b[0m\n\u001b[1;32m    768\u001b[0m       \u001b[0;32mraise\u001b[0m \u001b[0mStopIteration\u001b[0m\u001b[0;34m\u001b[0m\u001b[0;34m\u001b[0m\u001b[0m\n",
            "\u001b[0;32m/usr/local/lib/python3.9/dist-packages/tensorflow/python/data/ops/iterator_ops.py\u001b[0m in \u001b[0;36m_next_internal\u001b[0;34m(self)\u001b[0m\n\u001b[1;32m    747\u001b[0m     \u001b[0;31m# to communicate that there is no more data to iterate over.\u001b[0m\u001b[0;34m\u001b[0m\u001b[0;34m\u001b[0m\u001b[0m\n\u001b[1;32m    748\u001b[0m     \u001b[0;32mwith\u001b[0m \u001b[0mcontext\u001b[0m\u001b[0;34m.\u001b[0m\u001b[0mexecution_mode\u001b[0m\u001b[0;34m(\u001b[0m\u001b[0mcontext\u001b[0m\u001b[0;34m.\u001b[0m\u001b[0mSYNC\u001b[0m\u001b[0;34m)\u001b[0m\u001b[0;34m:\u001b[0m\u001b[0;34m\u001b[0m\u001b[0;34m\u001b[0m\u001b[0m\n\u001b[0;32m--> 749\u001b[0;31m       ret = gen_dataset_ops.iterator_get_next(\n\u001b[0m\u001b[1;32m    750\u001b[0m           \u001b[0mself\u001b[0m\u001b[0;34m.\u001b[0m\u001b[0m_iterator_resource\u001b[0m\u001b[0;34m,\u001b[0m\u001b[0;34m\u001b[0m\u001b[0;34m\u001b[0m\u001b[0m\n\u001b[1;32m    751\u001b[0m           \u001b[0moutput_types\u001b[0m\u001b[0;34m=\u001b[0m\u001b[0mself\u001b[0m\u001b[0;34m.\u001b[0m\u001b[0m_flat_output_types\u001b[0m\u001b[0;34m,\u001b[0m\u001b[0;34m\u001b[0m\u001b[0;34m\u001b[0m\u001b[0m\n",
            "\u001b[0;32m/usr/local/lib/python3.9/dist-packages/tensorflow/python/ops/gen_dataset_ops.py\u001b[0m in \u001b[0;36miterator_get_next\u001b[0;34m(iterator, output_types, output_shapes, name)\u001b[0m\n\u001b[1;32m   3015\u001b[0m       \u001b[0;32mreturn\u001b[0m \u001b[0m_result\u001b[0m\u001b[0;34m\u001b[0m\u001b[0;34m\u001b[0m\u001b[0m\n\u001b[1;32m   3016\u001b[0m     \u001b[0;32mexcept\u001b[0m \u001b[0m_core\u001b[0m\u001b[0;34m.\u001b[0m\u001b[0m_NotOkStatusException\u001b[0m \u001b[0;32mas\u001b[0m \u001b[0me\u001b[0m\u001b[0;34m:\u001b[0m\u001b[0;34m\u001b[0m\u001b[0;34m\u001b[0m\u001b[0m\n\u001b[0;32m-> 3017\u001b[0;31m       \u001b[0m_ops\u001b[0m\u001b[0;34m.\u001b[0m\u001b[0mraise_from_not_ok_status\u001b[0m\u001b[0;34m(\u001b[0m\u001b[0me\u001b[0m\u001b[0;34m,\u001b[0m \u001b[0mname\u001b[0m\u001b[0;34m)\u001b[0m\u001b[0;34m\u001b[0m\u001b[0;34m\u001b[0m\u001b[0m\n\u001b[0m\u001b[1;32m   3018\u001b[0m     \u001b[0;32mexcept\u001b[0m \u001b[0m_core\u001b[0m\u001b[0;34m.\u001b[0m\u001b[0m_FallbackException\u001b[0m\u001b[0;34m:\u001b[0m\u001b[0;34m\u001b[0m\u001b[0;34m\u001b[0m\u001b[0m\n\u001b[1;32m   3019\u001b[0m       \u001b[0;32mpass\u001b[0m\u001b[0;34m\u001b[0m\u001b[0;34m\u001b[0m\u001b[0m\n",
            "\u001b[0;32m/usr/local/lib/python3.9/dist-packages/tensorflow/python/framework/ops.py\u001b[0m in \u001b[0;36mraise_from_not_ok_status\u001b[0;34m(e, name)\u001b[0m\n\u001b[1;32m   7207\u001b[0m \u001b[0;32mdef\u001b[0m \u001b[0mraise_from_not_ok_status\u001b[0m\u001b[0;34m(\u001b[0m\u001b[0me\u001b[0m\u001b[0;34m,\u001b[0m \u001b[0mname\u001b[0m\u001b[0;34m)\u001b[0m\u001b[0;34m:\u001b[0m\u001b[0;34m\u001b[0m\u001b[0;34m\u001b[0m\u001b[0m\n\u001b[1;32m   7208\u001b[0m   \u001b[0me\u001b[0m\u001b[0;34m.\u001b[0m\u001b[0mmessage\u001b[0m \u001b[0;34m+=\u001b[0m \u001b[0;34m(\u001b[0m\u001b[0;34m\" name: \"\u001b[0m \u001b[0;34m+\u001b[0m \u001b[0mname\u001b[0m \u001b[0;32mif\u001b[0m \u001b[0mname\u001b[0m \u001b[0;32mis\u001b[0m \u001b[0;32mnot\u001b[0m \u001b[0;32mNone\u001b[0m \u001b[0;32melse\u001b[0m \u001b[0;34m\"\"\u001b[0m\u001b[0;34m)\u001b[0m\u001b[0;34m\u001b[0m\u001b[0;34m\u001b[0m\u001b[0m\n\u001b[0;32m-> 7209\u001b[0;31m   \u001b[0;32mraise\u001b[0m \u001b[0mcore\u001b[0m\u001b[0;34m.\u001b[0m\u001b[0m_status_to_exception\u001b[0m\u001b[0;34m(\u001b[0m\u001b[0me\u001b[0m\u001b[0;34m)\u001b[0m \u001b[0;32mfrom\u001b[0m \u001b[0;32mNone\u001b[0m  \u001b[0;31m# pylint: disable=protected-access\u001b[0m\u001b[0;34m\u001b[0m\u001b[0;34m\u001b[0m\u001b[0m\n\u001b[0m\u001b[1;32m   7210\u001b[0m \u001b[0;34m\u001b[0m\u001b[0m\n\u001b[1;32m   7211\u001b[0m \u001b[0;34m\u001b[0m\u001b[0m\n",
            "\u001b[0;31mInvalidArgumentError\u001b[0m: {{function_node __wrapped__IteratorGetNext_output_types_2_device_/job:localhost/replica:0/task:0/device:CPU:0}} Type mismatch between parsed tensor (float) and dtype (uint8)\n\t [[{{node ParseTensor_1}}]] [Op:IteratorGetNext]"
          ]
        }
      ]
    },
    {
      "cell_type": "code",
      "source": [
        "import tensorflow as tf\n",
        "from trainer.tf_model import create_model, split_dataset\n",
        "\n",
        "# (train_dataset, test_dataset) = split_dataset(dataset)\n",
        "model = create_model(dataset)\n",
        "\n",
        "model.summary()\n",
        "tf.keras.utils.plot_model(model, show_shapes=True)"
      ],
      "metadata": {
        "id": "iGXYLyRSZPC9"
      },
      "execution_count": null,
      "outputs": []
    }
  ]
}
