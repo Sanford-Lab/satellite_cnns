{
  "cells": [
    {
      "cell_type": "markdown",
      "metadata": {
        "id": "view-in-github",
        "colab_type": "text"
      },
      "source": [
        "<a href=\"https://colab.research.google.com/github/Sanford-Lab/satellite_cnns/blob/main/1-ls_apachae_pipeline.ipynb\" target=\"_parent\"><img src=\"https://colab.research.google.com/assets/colab-badge.svg\" alt=\"Open In Colab\"/></a>"
      ]
    },
    {
      "cell_type": "markdown",
      "metadata": {
        "id": "_SHAc5qbiR8l"
      },
      "source": [
        "# Introduction\n",
        "\n",
        "Adapted code from the updated cloud tensorflow notebook (linked below). Currently supports the creation of a .tfrecord file with stratified sampling from points in villages and points outside of villages using an apache beam pipeline that runs locally. For larger datasets, the tutorial recommends using a distributed runner. The tutorial uses Dataflow, but the code does not run in the tutorial so perhaps there are issues that need to be worked out by the google or dataflow developers. Some error while trying to read in the tfrecord files locally persist and inhibit further progress at the moment.\n",
        "\n",
        "Current TODOs: \n",
        "\n",
        "* Periodically check the tutorial to see if there are any changes to the Dataflow code.\n",
        "* Resolve the file read process and training. \n",
        "* Train a model using the pipeline (should be quick once the above parts are working)\n",
        "* Make the code general to take in any country/geometry, land cover classifications, etc. \n",
        "\n",
        "https://colab.research.google.com/github/GoogleCloudPlatform/python-docs-samples/blob/main/people-and-planet-ai/land-cover-classification/cloud-tensorflow.ipynb#scrollTo=D8Kwmqa8CpQV"
      ]
    },
    {
      "cell_type": "markdown",
      "metadata": {
        "id": "_MJ4kW1pEhwP"
      },
      "source": [
        "## Setup"
      ]
    },
    {
      "cell_type": "code",
      "execution_count": null,
      "metadata": {
        "id": "as3xyWjhClJy"
      },
      "outputs": [],
      "source": [
        "repo_url = \"https://raw.githubusercontent.com/GoogleCloudPlatform/python-docs-samples/main/people-and-planet-ai/land-cover-classification\"\n",
        "\n",
        "!wget --quiet {repo_url}/requirements.txt"
      ]
    },
    {
      "cell_type": "code",
      "execution_count": null,
      "metadata": {
        "colab": {
          "base_uri": "https://localhost:8080/"
        },
        "id": "ZB6CSs7CNaNw",
        "outputId": "1301eb32-da19-4dce-e596-dfacae33a39a"
      },
      "outputs": [
        {
          "name": "stdout",
          "output_type": "stream",
          "text": [
            "\u001b[?25l     \u001b[90m━━━━━━━━━━━━━━━━━━━━━━━━━━━━━━━━━━━━━━━━\u001b[0m \u001b[32m0.0/2.1 MB\u001b[0m \u001b[31m?\u001b[0m eta \u001b[36m-:--:--\u001b[0m\r\u001b[2K     \u001b[91m━━━━━━━━━━━━━━━━━━━━━━━━━━━━━━━━━━━━━━━\u001b[0m\u001b[91m╸\u001b[0m \u001b[32m2.0/2.1 MB\u001b[0m \u001b[31m69.1 MB/s\u001b[0m eta \u001b[36m0:00:01\u001b[0m\r\u001b[2K     \u001b[91m━━━━━━━━━━━━━━━━━━━━━━━━━━━━━━━━━━━━━━━\u001b[0m\u001b[91m╸\u001b[0m \u001b[32m2.0/2.1 MB\u001b[0m \u001b[31m69.1 MB/s\u001b[0m eta \u001b[36m0:00:01\u001b[0m\r\u001b[2K     \u001b[90m━━━━━━━━━━━━━━━━━━━━━━━━━━━━━━━━━━━━━━━━\u001b[0m \u001b[32m2.1/2.1 MB\u001b[0m \u001b[31m25.5 MB/s\u001b[0m eta \u001b[36m0:00:00\u001b[0m\n",
            "\u001b[?25h"
          ]
        }
      ],
      "source": [
        "!pip install --quiet --upgrade pip"
      ]
    },
    {
      "cell_type": "code",
      "execution_count": null,
      "metadata": {
        "colab": {
          "base_uri": "https://localhost:8080/"
        },
        "id": "neIa46CpciXq",
        "outputId": "a860e4e1-fc1b-4f7d-9281-cf6c5f2d2ad1"
      },
      "outputs": [
        {
          "name": "stdout",
          "output_type": "stream",
          "text": [
            "\u001b[2K     \u001b[90m━━━━━━━━━━━━━━━━━━━━━━━━━━━━━━━━━━━━━━━━\u001b[0m \u001b[32m14.5/14.5 MB\u001b[0m \u001b[31m35.0 MB/s\u001b[0m eta \u001b[36m0:00:00\u001b[0m\n",
            "\u001b[2K     \u001b[90m━━━━━━━━━━━━━━━━━━━━━━━━━━━━━━━━━━━━━━\u001b[0m \u001b[32m245.8/245.8 kB\u001b[0m \u001b[31m18.7 MB/s\u001b[0m eta \u001b[36m0:00:00\u001b[0m\n",
            "\u001b[?25h  Preparing metadata (setup.py) ... \u001b[?25l\u001b[?25hdone\n",
            "\u001b[2K     \u001b[90m━━━━━━━━━━━━━━━━━━━━━━━━━━━━━━━━━━━━━━━━\u001b[0m \u001b[32m2.5/2.5 MB\u001b[0m \u001b[31m16.2 MB/s\u001b[0m eta \u001b[36m0:00:00\u001b[0m\n",
            "\u001b[2K     \u001b[90m━━━━━━━━━━━━━━━━━━━━━━━━━━━━━━━━━━━━━━━━\u001b[0m \u001b[32m3.4/3.4 MB\u001b[0m \u001b[31m91.4 MB/s\u001b[0m eta \u001b[36m0:00:00\u001b[0m\n",
            "\u001b[2K     \u001b[90m━━━━━━━━━━━━━━━━━━━━━━━━━━━━━━━━━━━━━━━\u001b[0m \u001b[32m588.3/588.3 MB\u001b[0m \u001b[31m2.8 MB/s\u001b[0m eta \u001b[36m0:00:00\u001b[0m\n",
            "\u001b[2K     \u001b[90m━━━━━━━━━━━━━━━━━━━━━━━━━━━━━━━━━━━━━━━━\u001b[0m \u001b[32m89.7/89.7 kB\u001b[0m \u001b[31m3.6 MB/s\u001b[0m eta \u001b[36m0:00:00\u001b[0m\n",
            "\u001b[?25h  Preparing metadata (setup.py) ... \u001b[?25l\u001b[?25hdone\n",
            "\u001b[2K     \u001b[90m━━━━━━━━━━━━━━━━━━━━━━━━━━━━━━━━━━━━━━━━\u001b[0m \u001b[32m2.6/2.6 MB\u001b[0m \u001b[31m67.6 MB/s\u001b[0m eta \u001b[36m0:00:00\u001b[0m\n",
            "\u001b[2K     \u001b[90m━━━━━━━━━━━━━━━━━━━━━━━━━━━━━━━━━━━━━━\u001b[0m \u001b[32m152.0/152.0 kB\u001b[0m \u001b[31m15.7 MB/s\u001b[0m eta \u001b[36m0:00:00\u001b[0m\n",
            "\u001b[?25h  Preparing metadata (setup.py) ... \u001b[?25l\u001b[?25hdone\n",
            "\u001b[2K     \u001b[90m━━━━━━━━━━━━━━━━━━━━━━━━━━━━━━━━━━━━━━\u001b[0m \u001b[32m515.5/515.5 kB\u001b[0m \u001b[31m37.2 MB/s\u001b[0m eta \u001b[36m0:00:00\u001b[0m\n",
            "\u001b[2K     \u001b[90m━━━━━━━━━━━━━━━━━━━━━━━━━━━━━━━━━━━━━━\u001b[0m \u001b[32m144.1/144.1 kB\u001b[0m \u001b[31m15.0 MB/s\u001b[0m eta \u001b[36m0:00:00\u001b[0m\n",
            "\u001b[2K     \u001b[90m━━━━━━━━━━━━━━━━━━━━━━━━━━━━━━━━━━━━━━━━\u001b[0m \u001b[32m2.7/2.7 MB\u001b[0m \u001b[31m20.2 MB/s\u001b[0m eta \u001b[36m0:00:00\u001b[0m\n",
            "\u001b[2K     \u001b[90m━━━━━━━━━━━━━━━━━━━━━━━━━━━━━━━━━━━━━━\u001b[0m \u001b[32m173.5/173.5 kB\u001b[0m \u001b[31m20.1 MB/s\u001b[0m eta \u001b[36m0:00:00\u001b[0m\n",
            "\u001b[?25h  Preparing metadata (setup.py) ... \u001b[?25l\u001b[?25hdone\n",
            "\u001b[2K     \u001b[90m━━━━━━━━━━━━━━━━━━━━━━━━━━━━━━━━━━━━━━\u001b[0m \u001b[32m263.9/263.9 kB\u001b[0m \u001b[31m23.7 MB/s\u001b[0m eta \u001b[36m0:00:00\u001b[0m\n",
            "\u001b[2K     \u001b[90m━━━━━━━━━━━━━━━━━━━━━━━━━━━━━━━━━━━━━━\u001b[0m \u001b[32m185.4/185.4 kB\u001b[0m \u001b[31m18.0 MB/s\u001b[0m eta \u001b[36m0:00:00\u001b[0m\n",
            "\u001b[2K     \u001b[90m━━━━━━━━━━━━━━━━━━━━━━━━━━━━━━━━━━━━━━\u001b[0m \u001b[32m268.7/268.7 kB\u001b[0m \u001b[31m25.8 MB/s\u001b[0m eta \u001b[36m0:00:00\u001b[0m\n",
            "\u001b[2K     \u001b[90m━━━━━━━━━━━━━━━━━━━━━━━━━━━━━━━━━━━━━━\u001b[0m \u001b[32m148.2/148.2 kB\u001b[0m \u001b[31m16.4 MB/s\u001b[0m eta \u001b[36m0:00:00\u001b[0m\n",
            "\u001b[2K     \u001b[90m━━━━━━━━━━━━━━━━━━━━━━━━━━━━━━━━━━━━━━\u001b[0m \u001b[32m183.9/183.9 kB\u001b[0m \u001b[31m19.0 MB/s\u001b[0m eta \u001b[36m0:00:00\u001b[0m\n",
            "\u001b[2K     \u001b[90m━━━━━━━━━━━━━━━━━━━━━━━━━━━━━━━━━━━━━━\u001b[0m \u001b[32m143.4/143.4 kB\u001b[0m \u001b[31m15.8 MB/s\u001b[0m eta \u001b[36m0:00:00\u001b[0m\n",
            "\u001b[2K     \u001b[90m━━━━━━━━━━━━━━━━━━━━━━━━━━━━━━━━━━━━━━━━\u001b[0m \u001b[32m83.6/83.6 kB\u001b[0m \u001b[31m9.3 MB/s\u001b[0m eta \u001b[36m0:00:00\u001b[0m\n",
            "\u001b[2K     \u001b[90m━━━━━━━━━━━━━━━━━━━━━━━━━━━━━━━━━━━━━━\u001b[0m \u001b[32m444.3/444.3 kB\u001b[0m \u001b[31m40.1 MB/s\u001b[0m eta \u001b[36m0:00:00\u001b[0m\n",
            "\u001b[2K     \u001b[90m━━━━━━━━━━━━━━━━━━━━━━━━━━━━━━━━━━━━━━\u001b[0m \u001b[32m134.2/134.2 kB\u001b[0m \u001b[31m13.6 MB/s\u001b[0m eta \u001b[36m0:00:00\u001b[0m\n",
            "\u001b[2K     \u001b[90m━━━━━━━━━━━━━━━━━━━━━━━━━━━━━━━━━━━━━━\u001b[0m \u001b[32m327.3/327.3 kB\u001b[0m \u001b[31m36.0 MB/s\u001b[0m eta \u001b[36m0:00:00\u001b[0m\n",
            "\u001b[2K     \u001b[90m━━━━━━━━━━━━━━━━━━━━━━━━━━━━━━━━━━━━━━\u001b[0m \u001b[32m288.1/288.1 kB\u001b[0m \u001b[31m30.3 MB/s\u001b[0m eta \u001b[36m0:00:00\u001b[0m\n",
            "\u001b[2K     \u001b[90m━━━━━━━━━━━━━━━━━━━━━━━━━━━━━━━━━━━━━━\u001b[0m \u001b[32m276.8/276.8 kB\u001b[0m \u001b[31m29.3 MB/s\u001b[0m eta \u001b[36m0:00:00\u001b[0m\n",
            "\u001b[2K     \u001b[90m━━━━━━━━━━━━━━━━━━━━━━━━━━━━━━━━━━━━━━━━\u001b[0m \u001b[32m2.1/2.1 MB\u001b[0m \u001b[31m101.8 MB/s\u001b[0m eta \u001b[36m0:00:00\u001b[0m\n",
            "\u001b[2K     \u001b[90m━━━━━━━━━━━━━━━━━━━━━━━━━━━━━━━━━━━━━━━━\u001b[0m \u001b[32m40.8/40.8 kB\u001b[0m \u001b[31m4.5 MB/s\u001b[0m eta \u001b[36m0:00:00\u001b[0m\n",
            "\u001b[2K     \u001b[90m━━━━━━━━━━━━━━━━━━━━━━━━━━━━━━━━━━━━━━━━\u001b[0m \u001b[32m6.0/6.0 MB\u001b[0m \u001b[31m117.1 MB/s\u001b[0m eta \u001b[36m0:00:00\u001b[0m\n",
            "\u001b[2K     \u001b[90m━━━━━━━━━━━━━━━━━━━━━━━━━━━━━━━━━━━━━━\u001b[0m \u001b[32m439.2/439.2 kB\u001b[0m \u001b[31m41.8 MB/s\u001b[0m eta \u001b[36m0:00:00\u001b[0m\n",
            "\u001b[2K     \u001b[90m━━━━━━━━━━━━━━━━━━━━━━━━━━━━━━━━━━━━━━━━\u001b[0m \u001b[32m1.7/1.7 MB\u001b[0m \u001b[31m85.5 MB/s\u001b[0m eta \u001b[36m0:00:00\u001b[0m\n",
            "\u001b[2K     \u001b[90m━━━━━━━━━━━━━━━━━━━━━━━━━━━━━━━━━━━━━━━━\u001b[0m \u001b[32m1.1/1.1 MB\u001b[0m \u001b[31m76.5 MB/s\u001b[0m eta \u001b[36m0:00:00\u001b[0m\n",
            "\u001b[?25h  Preparing metadata (setup.py) ... \u001b[?25l\u001b[?25hdone\n",
            "\u001b[2K     \u001b[90m━━━━━━━━━━━━━━━━━━━━━━━━━━━━━━━━━━━━━━━━\u001b[0m \u001b[32m4.9/4.9 MB\u001b[0m \u001b[31m104.1 MB/s\u001b[0m eta \u001b[36m0:00:00\u001b[0m\n",
            "\u001b[?25h  Building wheel for earthengine-api (setup.py) ... \u001b[?25l\u001b[?25hdone\n",
            "  Building wheel for crcmod (setup.py) ... \u001b[?25l\u001b[?25hdone\n",
            "  Building wheel for dill (setup.py) ... \u001b[?25l\u001b[?25hdone\n",
            "  Building wheel for google-apitools (setup.py) ... \u001b[?25l\u001b[?25hdone\n",
            "  Building wheel for docopt (setup.py) ... \u001b[?25l\u001b[?25hdone\n",
            "\u001b[33mWARNING: Running pip as the 'root' user can result in broken permissions and conflicting behaviour with the system package manager. It is recommended to use a virtual environment instead: https://pip.pypa.io/warnings/venv\u001b[0m\u001b[33m\n",
            "\u001b[0m"
          ]
        }
      ],
      "source": [
        "# Install the dependencies.\n",
        "!pip install --quiet -r requirements.txt\n",
        "\n",
        "# Restart the runtime by ending the process.\n",
        "exit()"
      ]
    },
    {
      "cell_type": "markdown",
      "metadata": {
        "id": "OMU82mRYNfFp"
      },
      "source": [
        "At this point restart the runtime"
      ]
    },
    {
      "cell_type": "code",
      "execution_count": null,
      "metadata": {
        "colab": {
          "base_uri": "https://localhost:8080/"
        },
        "id": "_2iFfceKGhMC",
        "outputId": "219608cb-ac25-4d2e-8e1e-b8c2bb567f55"
      },
      "outputs": [
        {
          "name": "stdout",
          "output_type": "stream",
          "text": [
            "Updated property [core/project].\n"
          ]
        }
      ],
      "source": [
        "from __future__ import annotations\n",
        "\n",
        "import os\n",
        "from google.colab import auth\n",
        "\n",
        "auth.authenticate_user()\n",
        "\n",
        "# Please fill in these values.\n",
        "project = \"ls-test-3-24\" #@param {type:\"string\"}\n",
        "bucket = \"example-bucket-ls-3-24\" #@param {type:\"string\"}\n",
        "location = \"us-central1\" #@param {type:\"string\"}\n",
        "\n",
        "# Quick input validations.\n",
        "assert project, \"⚠️ Please provide a Google Cloud project ID\"\n",
        "assert bucket, \"⚠️ Please provide a Cloud Storage bucket name\"\n",
        "assert not bucket.startswith('gs://'), f\"⚠️ Please remove the gs:// prefix from the bucket name: {bucket}\"\n",
        "assert location, \"⚠️ Please provide a Google Cloud location\"\n",
        "\n",
        "# Set GOOGLE_CLOUD_PROJECT for google.auth.default().\n",
        "os.environ['GOOGLE_CLOUD_PROJECT'] = project\n",
        "\n",
        "# Set the gcloud project for other gcloud commands.\n",
        "!gcloud config set project {project}"
      ]
    },
    {
      "cell_type": "code",
      "execution_count": null,
      "metadata": {
        "colab": {
          "base_uri": "https://localhost:8080/"
        },
        "id": "38oPbKriNuqP",
        "outputId": "99310a75-dbd9-439e-aaf8-1212f5d74d49"
      },
      "outputs": [
        {
          "name": "stdout",
          "output_type": "stream",
          "text": [
            "Cloning into 'python-docs-samples'...\n",
            "remote: Enumerating objects: 91454, done.\u001b[K\n",
            "remote: Counting objects: 100% (79/79), done.\u001b[K\n",
            "remote: Compressing objects: 100% (63/63), done.\u001b[K\n",
            "remote: Total 91454 (delta 26), reused 50 (delta 14), pack-reused 91375\u001b[K\n",
            "Receiving objects: 100% (91454/91454), 197.55 MiB | 24.00 MiB/s, done.\n",
            "Resolving deltas: 100% (54932/54932), done.\n",
            "/content/python-docs-samples/people-and-planet-ai/land-cover-classification\n"
          ]
        }
      ],
      "source": [
        "# Now let's get the code from GitHub and navigate to the sample.\n",
        "!git clone https://github.com/GoogleCloudPlatform/python-docs-samples.git\n",
        "%cd python-docs-samples/people-and-planet-ai/land-cover-classification"
      ]
    },
    {
      "cell_type": "code",
      "execution_count": null,
      "metadata": {
        "id": "y_MaPEZ4HIwr"
      },
      "outputs": [],
      "source": [
        "import ee\n",
        "import google.auth\n",
        "\n",
        "credentials, _ = google.auth.default()\n",
        "ee.Initialize(\n",
        "    credentials.with_quota_project(None),\n",
        "    project=project,\n",
        "    opt_url=\"https://earthengine-highvolume.googleapis.com\",\n",
        ")"
      ]
    },
    {
      "cell_type": "code",
      "execution_count": null,
      "metadata": {
        "colab": {
          "base_uri": "https://localhost:8080/"
        },
        "id": "8RnZzcYhcpsQ",
        "outputId": "03ce2b64-7794-4ef6-f3fd-44b2bf38e6b1"
      },
      "outputs": [
        {
          "name": "stdout",
          "output_type": "stream",
          "text": [
            "2.10.0\n",
            "0.13.0\n"
          ]
        }
      ],
      "source": [
        "# # Tensorflow setup.\n",
        "# import tensorflow as tf\n",
        "# print(tf.__version__)\n",
        "# # Folium setup.\n",
        "# import folium\n",
        "# print(folium.__version__)\n",
        "# import numpy as np"
      ]
    },
    {
      "cell_type": "markdown",
      "metadata": {
        "id": "qKs6HuxOzjMl"
      },
      "source": [
        "## Define functions for dataset creation"
      ]
    },
    {
      "cell_type": "code",
      "execution_count": null,
      "metadata": {
        "id": "C1lpX5aoID2u"
      },
      "outputs": [],
      "source": [
        "def mask_clouds_landsat(image: ee.Image) -> ee.Image:\n",
        "  # Bits 3 and 5 are cloud shadow and cloud, respectively\n",
        "  cloudShadowBitMask = (1 << 3) # 1000 in base 2\n",
        "  cloudsBitMask = (1 << 5) # 100000 in base 2\n",
        "\n",
        "  # Get the pixel QA band\n",
        "  qa = image.select('pixel_qa')\n",
        "\n",
        "  #Both flags should be set to zero, indicating clear conditions\n",
        "  mask = qa.bitwiseAnd(cloudShadowBitMask).eq(0).bitwiseAnd(qa.bitwiseAnd(cloudsBitMask).eq(0))\n",
        "\n",
        "  # Mask image with clouds and shadows\n",
        "  return image.updateMask(mask)"
      ]
    },
    {
      "cell_type": "code",
      "execution_count": null,
      "metadata": {
        "id": "Aef5f4GyIl2D"
      },
      "outputs": [],
      "source": [
        "def get_input_image(year: int, default_value: float = 1000.0) -> ee.Image:\n",
        "  return(\n",
        "      ee.ImageCollection(\"LANDSAT/LE07/C01/T1_SR\")\n",
        "      .filterDate(f'{year}-01-01', f'{year}-12-31')\n",
        "      .map(mask_clouds_landsat)\n",
        "      .select(\"B.*\")\n",
        "      .median()\n",
        "      .unmask(default_value)\n",
        "      .float()\n",
        "  )"
      ]
    },
    {
      "cell_type": "code",
      "execution_count": null,
      "metadata": {
        "id": "sXHIPfNdO34Y"
      },
      "outputs": [],
      "source": [
        "opticalBands = ['B3','B2','B1'] #RGB\n",
        "thermalBands = ['B4','B3'] #NIR\n",
        "\n",
        "# Specify inputs (Landsat bands) to the model and the response variable.\n",
        "\n",
        "BANDS = ['R', 'G', 'B', 'NDVI']\n",
        "RESPONSE = 'target'\n",
        "\n",
        "# no more clean code... \n",
        "def cloudMaskL457(image): \n",
        "  qa = image.select('pixel_qa')\n",
        "  # If the cloud bit (5) is set and the cloud confidence (7) is high\n",
        "  # or the cloud shadow bit is set (3), then it's a bad pixel.\n",
        "  cloud = qa.bitwiseAnd(1 << 5).And(qa.bitwiseAnd(1 << 7)).Or(qa.bitwiseAnd(1 << 3))\n",
        "  # Remove edge pixels that don't occur in all bands\n",
        "  mask2 = image.mask().reduce(ee.Reducer.min())\n",
        "  return image.updateMask(cloud.Not()).updateMask(mask2)\n",
        "\n",
        "#Import Voronoi Raster here:\n",
        "voronoi = ee.FeatureCollection('projects/ls-test-3-24/assets/voronoi_villages')\n",
        "\n",
        "treated_voronoi = voronoi.filter(ee.Filter.eq('treated', 1))\n",
        "\n",
        "#Get Benin Feature collection\n",
        "benin = ee.FeatureCollection(\"USDOS/LSIB_SIMPLE/2017\").filter(ee.Filter.eq('country_na','Benin')).set('ORIG_FID',0)\n",
        "treated_voronoi_rast = treated_voronoi.filter(ee.Filter.notNull(['VID'])).reduceToImage(properties=['VID'],reducer= ee.Reducer.first())\n",
        "\n",
        "# Create a village mask based on the treated village raster\n",
        "villagemask = treated_voronoi_rast.mask() #select(['ORIG_FID']).gt(.1)\n",
        "\n",
        "image = ee.ImageCollection(\"LANDSAT/LE07/C01/T1_SR\").filterDate('2007-01-01', '2008-12-31')\n",
        "image = (image.map(cloudMaskL457).median().clip(benin.geometry().buffer(10000)))\n",
        "image_ndvi = image.normalizedDifference(thermalBands).rename(['NDVI'])\n",
        "image_rgb = image.select(opticalBands).rename(['R','G','B']) \n",
        "image = image_rgb.addBands(image_ndvi)\n",
        "image = image.unmask(0)\n",
        "\n",
        "#Code to add in bands for propensity score prediction \n",
        "l7Masked = image.updateMask(villagemask)\n",
        "l7Unmasked = l7Masked.unmask(-9999)\n",
        "outside_circle = 'b(\"R\") > -9000'\n",
        "target = l7Unmasked.expression(outside_circle).rename(\"target\")\n",
        "\n"
      ]
    },
    {
      "cell_type": "code",
      "execution_count": null,
      "metadata": {
        "colab": {
          "base_uri": "https://localhost:8080/"
        },
        "id": "yNYBZENYMh8T",
        "outputId": "5b891fac-5973-48e7-d2c9-bf908302f872"
      },
      "outputs": [
        {
          "name": "stdout",
          "output_type": "stream",
          "text": [
            "[2.474858607749282, 12.03293323078099]\n",
            "[1.899936825912788, 7.325761141994698]\n",
            "[2.241296633878206, 11.197500016549837]\n",
            "[2.5826564418436244, 6.948468722664499]\n"
          ]
        }
      ],
      "source": [
        "from typing import Iterable\n",
        "\n",
        "# seed: int, region = region: ee.Geometry, image = image: ee.Image, \n",
        "#    points_per_class = points_per_class: int, scale = scale: int\n",
        "def sample_points(\n",
        "    seed: int, region = None, image = None, points_per_class = None, scale = None\n",
        ") -> Iterable[tuple[float, float]]:\n",
        "    points = image.stratifiedSample(\n",
        "        points_per_class,\n",
        "        region=region,\n",
        "        scale=scale,\n",
        "        seed=seed,\n",
        "        geometries=True,\n",
        "    )\n",
        "    for point in points.toList(points.size()).getInfo():\n",
        "        yield point[\"geometry\"][\"coordinates\"]\n",
        "\n",
        "# Oversimplified North America region.\n",
        "region = benin.geometry()\n",
        "labels_image = target\n",
        "for point in sample_points(0, region, labels_image, points_per_class=2, scale=1000):\n",
        "  print(point)"
      ]
    },
    {
      "cell_type": "code",
      "execution_count": null,
      "metadata": {
        "id": "o-30BpBeTBeV"
      },
      "outputs": [],
      "source": [
        "import io\n",
        "import numpy as np\n",
        "import requests\n",
        "from google.api_core import exceptions, retry\n",
        "\n",
        "@retry.Retry(deadline=10 * 60)  # seconds\n",
        "def get_patch(image: ee.Image, lonlat: tuple[float, float], patch_size: int, scale: int) -> np.ndarray:\n",
        "    point = ee.Geometry.Point(lonlat)\n",
        "    url = image.getDownloadURL({\n",
        "        \"region\": point.buffer(scale * patch_size / 2, 1).bounds(1),\n",
        "        \"dimensions\": [patch_size, patch_size],\n",
        "        \"format\": \"NPY\",\n",
        "    })\n",
        "\n",
        "    # If we get \"429: Too Many Requests\" errors, it's safe to retry the request.\n",
        "    # The Retry library only works with `google.api_core` exceptions.\n",
        "    response = requests.get(url)\n",
        "    if response.status_code == 429:\n",
        "        raise exceptions.TooManyRequests(response.text)\n",
        "\n",
        "    # Still raise any other exceptions to make sure we got valid data.\n",
        "    response.raise_for_status()\n",
        "    return np.load(io.BytesIO(response.content), allow_pickle=True)"
      ]
    },
    {
      "cell_type": "code",
      "execution_count": null,
      "metadata": {
        "id": "KTb8FS0bTDLy"
      },
      "outputs": [],
      "source": [
        "from numpy.lib.recfunctions import structured_to_unstructured\n",
        "\n",
        "def get_input_patch(image, year: int, lonlat: tuple[float, float], patch_size: int) -> np.ndarray:\n",
        "    patch = get_patch(image, lonlat, patch_size, scale=30)\n",
        "    return structured_to_unstructured(patch)\n",
        "\n",
        "def get_label_patch(image, lonlat: tuple[float, float], patch_size: int) -> np.ndarray:\n",
        "\n",
        "    patch = get_patch(image, lonlat, patch_size, scale=30)\n",
        "    return structured_to_unstructured(patch)"
      ]
    },
    {
      "cell_type": "markdown",
      "metadata": {
        "id": "jzLjL3PZWToy"
      },
      "source": [
        "## Small test/visualization"
      ]
    },
    {
      "cell_type": "code",
      "execution_count": null,
      "metadata": {
        "colab": {
          "base_uri": "https://localhost:8080/"
        },
        "id": "hLq_GcBGTF5-",
        "outputId": "010f9bad-e76f-4ece-ef10-e4942c17f8e3"
      },
      "outputs": [
        {
          "name": "stdout",
          "output_type": "stream",
          "text": [
            "inputs : float64 (128, 128, 4)\n",
            "labels : uint8 (128, 128, 1)\n"
          ]
        }
      ],
      "source": [
        "# def get_training_example(image, labels, lonlat: tuple[float, float], patch_size: int = 128) -> tuple[np.ndarray, np.ndarray]:\n",
        "#     return (\n",
        "#         get_input_patch(image, 2020, lonlat, patch_size),\n",
        "#         get_label_patch(labels, lonlat, patch_size),\n",
        "#     )\n",
        "\n",
        "# this version of get_training_example works with the apache pipeline\n",
        "def get_training_example(lonlat, image = None, labels = None, patch_size = 128):\n",
        "    return (\n",
        "        get_input_patch(image, 2020, lonlat, patch_size),\n",
        "        get_label_patch(labels, lonlat, patch_size),\n",
        "    )\n",
        "point = (2.474858607749282,12.03293323078099)\n",
        "#point = (2.4, 9.8)  # (lon, lat)\n",
        "(inputs, labels) = get_training_example(point, image = image, labels = target, patch_size = 128)\n",
        "print(f\"inputs : {inputs.dtype} {inputs.shape}\")\n",
        "print(f\"labels : {labels.dtype} {labels.shape}\")\n",
        "\n",
        "## is the longitude and latitude reversed??!?!?!?!?!?!?!?"
      ]
    },
    {
      "cell_type": "code",
      "execution_count": null,
      "metadata": {
        "colab": {
          "base_uri": "https://localhost:8080/"
        },
        "id": "77X5uHKdVS-U",
        "outputId": "304321a1-d004-4beb-a596-1ccba55ab627"
      },
      "outputs": [
        {
          "data": {
            "text/plain": [
              "2252.0"
            ]
          },
          "execution_count": 13,
          "metadata": {},
          "output_type": "execute_result"
        }
      ],
      "source": [
        "np.amax(inputs)"
      ]
    },
    {
      "cell_type": "code",
      "execution_count": null,
      "metadata": {
        "colab": {
          "base_uri": "https://localhost:8080/"
        },
        "id": "83-2JvjuFWou",
        "outputId": "bb221f8c-9aa5-4e5b-849e-b60cdf97afff"
      },
      "outputs": [
        {
          "data": {
            "text/plain": [
              "(128, 128, 4)"
            ]
          },
          "execution_count": 14,
          "metadata": {},
          "output_type": "execute_result"
        }
      ],
      "source": [
        "inputs.shape"
      ]
    },
    {
      "cell_type": "code",
      "execution_count": null,
      "metadata": {
        "id": "3igw8VPTWni7"
      },
      "outputs": [],
      "source": [
        "inputs_visual = inputs[:,:, :3]\n",
        "inputs_visual = inputs_visual/np.amax(inputs_visual)"
      ]
    },
    {
      "cell_type": "code",
      "execution_count": null,
      "metadata": {
        "colab": {
          "base_uri": "https://localhost:8080/",
          "height": 285
        },
        "id": "PUVCus-6Tfbt",
        "outputId": "add29e2f-cb1f-4f1d-863f-d4f6e1d97f16"
      },
      "outputs": [
        {
          "data": {
            "text/plain": [
              "<matplotlib.image.AxesImage at 0x7f406e7cce50>"
            ]
          },
          "execution_count": 16,
          "metadata": {},
          "output_type": "execute_result"
        },
        {
          "data": {
            "image/png": "[encoded data removed]",
            "text/plain": [
              "<Figure size 432x288 with 1 Axes>"
            ]
          },
          "metadata": {},
          "output_type": "display_data"
        }
      ],
      "source": [
        "import matplotlib.pyplot as plt\n",
        "\n",
        "plt.imshow(inputs_visual)"
      ]
    },
    {
      "cell_type": "code",
      "execution_count": null,
      "metadata": {
        "colab": {
          "base_uri": "https://localhost:8080/",
          "height": 268
        },
        "id": "uCfcaqJiYPJH",
        "outputId": "0958d6cc-7595-4f41-b659-50ff6e23fe3e"
      },
      "outputs": [
        {
          "data": {
            "image/png": "[encoded data removed]",
            "text/plain": [
              "<Figure size 432x288 with 1 Axes>"
            ]
          },
          "metadata": {},
          "output_type": "display_data"
        }
      ],
      "source": [
        "plt.imshow(labels)\n",
        "plt.show()"
      ]
    },
    {
      "cell_type": "code",
      "execution_count": null,
      "metadata": {
        "colab": {
          "base_uri": "https://localhost:8080/",
          "height": 808
        },
        "id": "uGh8wy3TSIXr",
        "outputId": "41d760ac-4e48-48af-d448-d2d121f924c4"
      },
      "outputs": [
        {
          "data": {
            "text/html": [
              "<div style=\"width:100%;\"><div style=\"position:relative;width:100%;height:0;padding-bottom:60%;\"><span style=\"color:#565656\">Make this Notebook Trusted to load map: File -> Trust Notebook</span><iframe srcdoc=\"&lt;!DOCTYPE html&gt;\n",
              "&lt;html&gt;\n",
              "&lt;head&gt;\n",
              "    \n",
              "    &lt;meta http-equiv=&quot;content-type&quot; content=&quot;text/html; charset=UTF-8&quot; /&gt;\n",
              "    \n",
              "        &lt;script&gt;\n",
              "            L_NO_TOUCH = false;\n",
              "            L_DISABLE_3D = false;\n",
              "        &lt;/script&gt;\n",
              "    \n",
              "    &lt;style&gt;html, body {width: 100%;height: 100%;margin: 0;padding: 0;}&lt;/style&gt;\n",
              "    &lt;style&gt;#map {position:absolute;top:0;bottom:0;right:0;left:0;}&lt;/style&gt;\n",
              "    &lt;script src=&quot;https://cdn.jsdelivr.net/npm/leaflet@1.6.0/dist/leaflet.js&quot;&gt;&lt;/script&gt;\n",
              "    &lt;script src=&quot;https://code.jquery.com/jquery-1.12.4.min.js&quot;&gt;&lt;/script&gt;\n",
              "    &lt;script src=&quot;https://maxcdn.bootstrapcdn.com/bootstrap/3.2.0/js/bootstrap.min.js&quot;&gt;&lt;/script&gt;\n",
              "    &lt;script src=&quot;https://cdnjs.cloudflare.com/ajax/libs/Leaflet.awesome-markers/2.0.2/leaflet.awesome-markers.js&quot;&gt;&lt;/script&gt;\n",
              "    &lt;link rel=&quot;stylesheet&quot; href=&quot;https://cdn.jsdelivr.net/npm/leaflet@1.6.0/dist/leaflet.css&quot;/&gt;\n",
              "    &lt;link rel=&quot;stylesheet&quot; href=&quot;https://maxcdn.bootstrapcdn.com/bootstrap/3.2.0/css/bootstrap.min.css&quot;/&gt;\n",
              "    &lt;link rel=&quot;stylesheet&quot; href=&quot;https://maxcdn.bootstrapcdn.com/bootstrap/3.2.0/css/bootstrap-theme.min.css&quot;/&gt;\n",
              "    &lt;link rel=&quot;stylesheet&quot; href=&quot;https://maxcdn.bootstrapcdn.com/font-awesome/4.6.3/css/font-awesome.min.css&quot;/&gt;\n",
              "    &lt;link rel=&quot;stylesheet&quot; href=&quot;https://cdnjs.cloudflare.com/ajax/libs/Leaflet.awesome-markers/2.0.2/leaflet.awesome-markers.css&quot;/&gt;\n",
              "    &lt;link rel=&quot;stylesheet&quot; href=&quot;https://cdn.jsdelivr.net/gh/python-visualization/folium/folium/templates/leaflet.awesome.rotate.min.css&quot;/&gt;\n",
              "    \n",
              "            &lt;meta name=&quot;viewport&quot; content=&quot;width=device-width,\n",
              "                initial-scale=1.0, maximum-scale=1.0, user-scalable=no&quot; /&gt;\n",
              "            &lt;style&gt;\n",
              "                #map_7d0acc10c1056284516ebbaadfbd7bd0 {\n",
              "                    position: relative;\n",
              "                    width: 100.0%;\n",
              "                    height: 100.0%;\n",
              "                    left: 0.0%;\n",
              "                    top: 0.0%;\n",
              "                }\n",
              "            &lt;/style&gt;\n",
              "        \n",
              "&lt;/head&gt;\n",
              "&lt;body&gt;\n",
              "    \n",
              "    \n",
              "            &lt;div class=&quot;folium-map&quot; id=&quot;map_7d0acc10c1056284516ebbaadfbd7bd0&quot; &gt;&lt;/div&gt;\n",
              "        \n",
              "&lt;/body&gt;\n",
              "&lt;script&gt;\n",
              "    \n",
              "    \n",
              "            var map_7d0acc10c1056284516ebbaadfbd7bd0 = L.map(\n",
              "                &quot;map_7d0acc10c1056284516ebbaadfbd7bd0&quot;,\n",
              "                {\n",
              "                    center: [9.8, 2.4],\n",
              "                    crs: L.CRS.EPSG3857,\n",
              "                    zoom: 7,\n",
              "                    zoomControl: true,\n",
              "                    preferCanvas: false,\n",
              "                }\n",
              "            );\n",
              "\n",
              "            \n",
              "\n",
              "        \n",
              "    \n",
              "            var tile_layer_7fff7e2aa05fc87c9f0deae63092c451 = L.tileLayer(\n",
              "                &quot;https://{s}.tile.openstreetmap.org/{z}/{x}/{y}.png&quot;,\n",
              "                {&quot;attribution&quot;: &quot;Data by \\u0026copy; \\u003ca href=\\&quot;http://openstreetmap.org\\&quot;\\u003eOpenStreetMap\\u003c/a\\u003e, under \\u003ca href=\\&quot;http://www.openstreetmap.org/copyright\\&quot;\\u003eODbL\\u003c/a\\u003e.&quot;, &quot;detectRetina&quot;: false, &quot;maxNativeZoom&quot;: 18, &quot;maxZoom&quot;: 18, &quot;minZoom&quot;: 0, &quot;noWrap&quot;: false, &quot;opacity&quot;: 1, &quot;subdomains&quot;: &quot;abc&quot;, &quot;tms&quot;: false}\n",
              "            ).addTo(map_7d0acc10c1056284516ebbaadfbd7bd0);\n",
              "        \n",
              "    \n",
              "            var tile_layer_a722bdb88ff88300426bd6b4edb8feae = L.tileLayer(\n",
              "                &quot;https://earthengine-highvolume.googleapis.com/v1alpha/projects/ls-test-3-24/maps/8c7a9c1882efc932e1f3e7c697bfc6de-28e21debe154e46024295df0ef67057b/tiles/{z}/{x}/{y}&quot;,\n",
              "                {&quot;attribution&quot;: &quot;Map Data \\u0026copy; \\u003ca href=\\&quot;https://earthengine.google.com/\\&quot;\\u003eGoogle Earth Engine\\u003c/a\\u003e&quot;, &quot;detectRetina&quot;: false, &quot;maxNativeZoom&quot;: 18, &quot;maxZoom&quot;: 18, &quot;minZoom&quot;: 0, &quot;noWrap&quot;: false, &quot;opacity&quot;: 1, &quot;subdomains&quot;: &quot;abc&quot;, &quot;tms&quot;: false}\n",
              "            ).addTo(map_7d0acc10c1056284516ebbaadfbd7bd0);\n",
              "        \n",
              "    \n",
              "            var layer_control_8d862bcbb8df01cce51f9ce26099408a = {\n",
              "                base_layers : {\n",
              "                    &quot;openstreetmap&quot; : tile_layer_7fff7e2aa05fc87c9f0deae63092c451,\n",
              "                },\n",
              "                overlays :  {\n",
              "                    &quot;target variable&quot; : tile_layer_a722bdb88ff88300426bd6b4edb8feae,\n",
              "                },\n",
              "            };\n",
              "            L.control.layers(\n",
              "                layer_control_8d862bcbb8df01cce51f9ce26099408a.base_layers,\n",
              "                layer_control_8d862bcbb8df01cce51f9ce26099408a.overlays,\n",
              "                {&quot;autoZIndex&quot;: true, &quot;collapsed&quot;: true, &quot;position&quot;: &quot;topright&quot;}\n",
              "            ).addTo(map_7d0acc10c1056284516ebbaadfbd7bd0);\n",
              "        \n",
              "&lt;/script&gt;\n",
              "&lt;/html&gt;\" style=\"position:absolute;width:100%;height:100%;left:0;top:0;border:none !important;\" allowfullscreen webkitallowfullscreen mozallowfullscreen></iframe></div></div>"
            ],
            "text/plain": [
              "<folium.folium.Map at 0x7f406de724c0>"
            ]
          },
          "execution_count": 19,
          "metadata": {},
          "output_type": "execute_result"
        }
      ],
      "source": [
        "#Visualize imagery\n",
        "import folium\n",
        "mapid = target.getMapId({'min': 0, 'max': 1})\n",
        "map = folium.Map(location=[9.8, 2.4], zoom_start = 7)\n",
        "folium.TileLayer(\n",
        "    tiles=mapid['tile_fetcher'].url_format,\n",
        "    attr='Map Data &copy; <a href=\"https://earthengine.google.com/\">Google Earth Engine</a>',\n",
        "    overlay=True,\n",
        "    name='target variable',\n",
        "  ).add_to(map)\n",
        "map.add_child(folium.LayerControl())\n",
        "map"
      ]
    },
    {
      "cell_type": "code",
      "execution_count": null,
      "metadata": {
        "id": "ErfTHdZlKleg"
      },
      "outputs": [],
      "source": [
        "image.info()"
      ]
    },
    {
      "cell_type": "code",
      "execution_count": null,
      "metadata": {
        "colab": {
          "base_uri": "https://localhost:8080/",
          "height": 808
        },
        "id": "szy9X2zjKXmw",
        "outputId": "b278cece-99f1-4fe2-977f-2119caaaabfb"
      },
      "outputs": [
        {
          "data": {
            "text/html": [
              "<div style=\"width:100%;\"><div style=\"position:relative;width:100%;height:0;padding-bottom:60%;\"><span style=\"color:#565656\">Make this Notebook Trusted to load map: File -> Trust Notebook</span><iframe srcdoc=\"&lt;!DOCTYPE html&gt;\n",
              "&lt;html&gt;\n",
              "&lt;head&gt;\n",
              "    \n",
              "    &lt;meta http-equiv=&quot;content-type&quot; content=&quot;text/html; charset=UTF-8&quot; /&gt;\n",
              "    \n",
              "        &lt;script&gt;\n",
              "            L_NO_TOUCH = false;\n",
              "            L_DISABLE_3D = false;\n",
              "        &lt;/script&gt;\n",
              "    \n",
              "    &lt;style&gt;html, body {width: 100%;height: 100%;margin: 0;padding: 0;}&lt;/style&gt;\n",
              "    &lt;style&gt;#map {position:absolute;top:0;bottom:0;right:0;left:0;}&lt;/style&gt;\n",
              "    &lt;script src=&quot;https://cdn.jsdelivr.net/npm/leaflet@1.6.0/dist/leaflet.js&quot;&gt;&lt;/script&gt;\n",
              "    &lt;script src=&quot;https://code.jquery.com/jquery-1.12.4.min.js&quot;&gt;&lt;/script&gt;\n",
              "    &lt;script src=&quot;https://maxcdn.bootstrapcdn.com/bootstrap/3.2.0/js/bootstrap.min.js&quot;&gt;&lt;/script&gt;\n",
              "    &lt;script src=&quot;https://cdnjs.cloudflare.com/ajax/libs/Leaflet.awesome-markers/2.0.2/leaflet.awesome-markers.js&quot;&gt;&lt;/script&gt;\n",
              "    &lt;link rel=&quot;stylesheet&quot; href=&quot;https://cdn.jsdelivr.net/npm/leaflet@1.6.0/dist/leaflet.css&quot;/&gt;\n",
              "    &lt;link rel=&quot;stylesheet&quot; href=&quot;https://maxcdn.bootstrapcdn.com/bootstrap/3.2.0/css/bootstrap.min.css&quot;/&gt;\n",
              "    &lt;link rel=&quot;stylesheet&quot; href=&quot;https://maxcdn.bootstrapcdn.com/bootstrap/3.2.0/css/bootstrap-theme.min.css&quot;/&gt;\n",
              "    &lt;link rel=&quot;stylesheet&quot; href=&quot;https://maxcdn.bootstrapcdn.com/font-awesome/4.6.3/css/font-awesome.min.css&quot;/&gt;\n",
              "    &lt;link rel=&quot;stylesheet&quot; href=&quot;https://cdnjs.cloudflare.com/ajax/libs/Leaflet.awesome-markers/2.0.2/leaflet.awesome-markers.css&quot;/&gt;\n",
              "    &lt;link rel=&quot;stylesheet&quot; href=&quot;https://cdn.jsdelivr.net/gh/python-visualization/folium/folium/templates/leaflet.awesome.rotate.min.css&quot;/&gt;\n",
              "    \n",
              "            &lt;meta name=&quot;viewport&quot; content=&quot;width=device-width,\n",
              "                initial-scale=1.0, maximum-scale=1.0, user-scalable=no&quot; /&gt;\n",
              "            &lt;style&gt;\n",
              "                #map_d9bb515cf404c80eb248c1518e152f4f {\n",
              "                    position: relative;\n",
              "                    width: 100.0%;\n",
              "                    height: 100.0%;\n",
              "                    left: 0.0%;\n",
              "                    top: 0.0%;\n",
              "                }\n",
              "            &lt;/style&gt;\n",
              "        \n",
              "&lt;/head&gt;\n",
              "&lt;body&gt;\n",
              "    \n",
              "    \n",
              "            &lt;div class=&quot;folium-map&quot; id=&quot;map_d9bb515cf404c80eb248c1518e152f4f&quot; &gt;&lt;/div&gt;\n",
              "        \n",
              "&lt;/body&gt;\n",
              "&lt;script&gt;\n",
              "    \n",
              "    \n",
              "            var map_d9bb515cf404c80eb248c1518e152f4f = L.map(\n",
              "                &quot;map_d9bb515cf404c80eb248c1518e152f4f&quot;,\n",
              "                {\n",
              "                    center: [9.8, 2.4],\n",
              "                    crs: L.CRS.EPSG3857,\n",
              "                    zoom: 7,\n",
              "                    zoomControl: true,\n",
              "                    preferCanvas: false,\n",
              "                }\n",
              "            );\n",
              "\n",
              "            \n",
              "\n",
              "        \n",
              "    \n",
              "            var tile_layer_95a00b072c99009d8c1f7eb239669360 = L.tileLayer(\n",
              "                &quot;https://earthengine-highvolume.googleapis.com/v1alpha/projects/ls-test-3-24/maps/efdb34eac3ff4d443343fe4f8e5d06ec-a61b6b3de414f645ea7f3a21779b397c/tiles/{z}/{x}/{y}&quot;,\n",
              "                {&quot;attribution&quot;: &quot;Map Data \\u0026copy; \\u003ca href=\\&quot;https://earthengine.google.com/\\&quot;\\u003eGoogle Earth Engine\\u003c/a\\u003e&quot;, &quot;detectRetina&quot;: false, &quot;maxNativeZoom&quot;: 18, &quot;maxZoom&quot;: 18, &quot;minZoom&quot;: 0, &quot;noWrap&quot;: false, &quot;opacity&quot;: 1, &quot;subdomains&quot;: &quot;abc&quot;, &quot;tms&quot;: false}\n",
              "            ).addTo(map_d9bb515cf404c80eb248c1518e152f4f);\n",
              "        \n",
              "&lt;/script&gt;\n",
              "&lt;/html&gt;\" style=\"position:absolute;width:100%;height:100%;left:0;top:0;border:none !important;\" allowfullscreen webkitallowfullscreen mozallowfullscreen></iframe></div></div>"
            ],
            "text/plain": [
              "<folium.folium.Map at 0x7f406c5b42b0>"
            ]
          },
          "execution_count": 20,
          "metadata": {},
          "output_type": "execute_result"
        }
      ],
      "source": [
        "import folium\n",
        "\n",
        "vis_params = {\n",
        "  \"min\": 0,\n",
        "  \"max\": 3000,\n",
        "  \"bands\": [\"R\", \"G\", \"B\"],\n",
        "}\n",
        "folium.Map(\n",
        "    location=(9.8, 2.4),\n",
        "    zoom_start=7,\n",
        "    tiles=image.getMapId(vis_params)[\"tile_fetcher\"].url_format,\n",
        "    attr='Map Data &copy; <a href=\"https://earthengine.google.com/\">Google Earth Engine</a>',\n",
        ")"
      ]
    },
    {
      "cell_type": "markdown",
      "metadata": {
        "id": "HTNIvTqnWWo0"
      },
      "source": [
        "## Serialize data and create pipeline"
      ]
    },
    {
      "cell_type": "code",
      "execution_count": null,
      "metadata": {
        "colab": {
          "base_uri": "https://localhost:8080/"
        },
        "id": "jXAcF4PYQ-EW",
        "outputId": "c2c3dd26-580d-4fc3-92e2-8f2759cf6d45"
      },
      "outputs": [
        {
          "name": "stdout",
          "output_type": "stream",
          "text": [
            "serialized: 409696 bytes\n"
          ]
        }
      ],
      "source": [
        "from create_dataset import serialize_tensorflow\n",
        "inputs = inputs_visual\n",
        "serialized = serialize_tensorflow(inputs, labels)\n",
        "print(f\"serialized: {len(serialized)} bytes\")"
      ]
    },
    {
      "cell_type": "markdown",
      "metadata": {
        "id": "33aHZAg3KOET"
      },
      "source": [
        "This is a helpful resource for understanding and using Apache beam: https://beam.apache.org/get-started/tour-of-beam/\n",
        "\n",
        "The code below runs locally, and takes approximately 1.5 mins to run"
      ]
    },
    {
      "cell_type": "code",
      "execution_count": null,
      "metadata": {
        "colab": {
          "base_uri": "https://localhost:8080/",
          "height": 72
        },
        "id": "vQ8K3w6nSrAv",
        "outputId": "890dab97-335f-4eee-b9e7-5b33845b60ad"
      },
      "outputs": [
        {
          "name": "stderr",
          "output_type": "stream",
          "text": [
            "WARNING:apache_beam.runners.interactive.interactive_environment:Dependencies required for Interactive Beam PCollection visualization are not available, please use: `pip install apache-beam[interactive]` to install necessary dependencies to enable all data visualization features.\n"
          ]
        },
        {
          "data": {
            "application/javascript": [
              "\n",
              "        if (typeof window.interactive_beam_jquery == 'undefined') {\n",
              "          var jqueryScript = document.createElement('script');\n",
              "          jqueryScript.src = 'https://code.jquery.com/jquery-3.4.1.slim.min.js';\n",
              "          jqueryScript.type = 'text/javascript';\n",
              "          jqueryScript.onload = function() {\n",
              "            var datatableScript = document.createElement('script');\n",
              "            datatableScript.src = 'https://cdn.datatables.net/1.10.20/js/jquery.dataTables.min.js';\n",
              "            datatableScript.type = 'text/javascript';\n",
              "            datatableScript.onload = function() {\n",
              "              window.interactive_beam_jquery = jQuery.noConflict(true);\n",
              "              window.interactive_beam_jquery(document).ready(function($){\n",
              "                \n",
              "              });\n",
              "            }\n",
              "            document.head.appendChild(datatableScript);\n",
              "          };\n",
              "          document.head.appendChild(jqueryScript);\n",
              "        } else {\n",
              "          window.interactive_beam_jquery(document).ready(function($){\n",
              "            \n",
              "          });\n",
              "        }"
            ]
          },
          "metadata": {},
          "output_type": "display_data"
        },
        {
          "name": "stderr",
          "output_type": "stream",
          "text": [
            "WARNING:apache_beam.io.tfrecordio:Couldn't find python-snappy so the implementation of _TFRecordUtil._masked_crc32c is not as fast as it could be.\n"
          ]
        }
      ],
      "source": [
        "import apache_beam as beam\n",
        "from apache_beam.options.pipeline_options import PipelineOptions\n",
        "# note to self: sample_points in the example takes \n",
        "#def sample_points(seed: int, polygons: list[list[tuple[float, float]]], \n",
        "#points_per_class: int, scale: int=1000) ->Iterable[tuple[float, float]]\n",
        "with beam.Pipeline() as pipeline:\n",
        "    (\n",
        "        pipeline\n",
        "        | \"🌱 Make seeds\" >> beam.Create([0])\n",
        "        | \"🛰 Sample points\" >> beam.FlatMap(sample_points, region = region, image = labels_image, points_per_class = 2, scale = 1000)\n",
        "        | \"📖 Get examples\" >> beam.Map(get_training_example, image = image, labels = target, patch_size = 128)\n",
        "        | \"✍🏽 Serialize\" >> beam.MapTuple(serialize_tensorflow)\n",
        "        | \"📚 Write TFRecords\" >> beam.io.WriteToTFRecord(\n",
        "            \"data/part\", file_name_suffix=\".tfrecord.gz\"\n",
        "        )\n",
        "    )"
      ]
    },
    {
      "cell_type": "code",
      "execution_count": null,
      "metadata": {
        "colab": {
          "base_uri": "https://localhost:8080/"
        },
        "id": "UHlSNCmuKg6X",
        "outputId": "5f3c28fc-39ad-4b76-a131-bc8e4bf6f9ae"
      },
      "outputs": [
        {
          "name": "stdout",
          "output_type": "stream",
          "text": [
            "total 636K\n",
            "-rw-r--r-- 1 root root 634K Mar 24 17:23 part-00000-of-00001.tfrecord.gz\n"
          ]
        }
      ],
      "source": [
        "# Let's take a look at the dataset files.\n",
        "!ls -lh data"
      ]
    },
    {
      "cell_type": "markdown",
      "metadata": {
        "id": "1oX66N-NKm4O"
      },
      "source": [
        "Next use a distributed runner to run on a larger dataset"
      ]
    },
    {
      "cell_type": "code",
      "execution_count": null,
      "metadata": {
        "colab": {
          "base_uri": "https://localhost:8080/"
        },
        "id": "kz7FlIbPK7kS",
        "outputId": "f8aae5ce-cb91-4d98-9366-692d9b45e2cf"
      },
      "outputs": [
        {
          "name": "stdout",
          "output_type": "stream",
          "text": [
            "INFO:apache_beam.typehints.native_type_compatibility:Converting string literal type hint to Any: \"int\"\n",
            "INFO:apache_beam.typehints.native_type_compatibility:Converting string literal type hint to Any: \"list[list[tuple[float, float]]]\"\n",
            "INFO:apache_beam.typehints.native_type_compatibility:Converting string literal type hint to Any: \"int\"\n",
            "INFO:apache_beam.typehints.native_type_compatibility:Converting string literal type hint to Any: \"int\"\n",
            "INFO:apache_beam.typehints.native_type_compatibility:Converting string literal type hint to Any: \"Iterable[tuple[float, float]]\"\n",
            "INFO:apache_beam.typehints.native_type_compatibility:Converting string literal type hint to Any: \"int\"\n",
            "INFO:apache_beam.typehints.native_type_compatibility:Converting string literal type hint to Any: \"list[list[tuple[float, float]]]\"\n",
            "INFO:apache_beam.typehints.native_type_compatibility:Converting string literal type hint to Any: \"int\"\n",
            "INFO:apache_beam.typehints.native_type_compatibility:Converting string literal type hint to Any: \"int\"\n",
            "INFO:apache_beam.typehints.native_type_compatibility:Converting string literal type hint to Any: \"Iterable[tuple[float, float]]\"\n",
            "INFO:apache_beam.typehints.native_type_compatibility:Converting string literal type hint to Any: \"int\"\n",
            "INFO:apache_beam.typehints.native_type_compatibility:Converting string literal type hint to Any: \"list[list[tuple[float, float]]]\"\n",
            "INFO:apache_beam.typehints.native_type_compatibility:Converting string literal type hint to Any: \"int\"\n",
            "INFO:apache_beam.typehints.native_type_compatibility:Converting string literal type hint to Any: \"int\"\n",
            "INFO:apache_beam.typehints.native_type_compatibility:Converting string literal type hint to Any: \"Iterable[tuple[float, float]]\"\n",
            "INFO:apache_beam.typehints.native_type_compatibility:Converting string literal type hint to Any: \"tuple[float, float]\"\n",
            "INFO:apache_beam.typehints.native_type_compatibility:Converting string literal type hint to Any: \"int\"\n",
            "INFO:apache_beam.typehints.native_type_compatibility:Converting string literal type hint to Any: \"Iterable[tuple[np.ndarray, np.ndarray]]\"\n",
            "INFO:apache_beam.typehints.native_type_compatibility:Converting string literal type hint to Any: \"tuple[float, float]\"\n",
            "INFO:apache_beam.typehints.native_type_compatibility:Converting string literal type hint to Any: \"int\"\n",
            "INFO:apache_beam.typehints.native_type_compatibility:Converting string literal type hint to Any: \"Iterable[tuple[np.ndarray, np.ndarray]]\"\n",
            "INFO:apache_beam.typehints.native_type_compatibility:Converting string literal type hint to Any: \"tuple[float, float]\"\n",
            "INFO:apache_beam.typehints.native_type_compatibility:Converting string literal type hint to Any: \"int\"\n",
            "INFO:apache_beam.typehints.native_type_compatibility:Converting string literal type hint to Any: \"Iterable[tuple[np.ndarray, np.ndarray]]\"\n",
            "INFO:apache_beam.typehints.native_type_compatibility:Converting string literal type hint to Any: \"np.ndarray\"\n",
            "INFO:apache_beam.typehints.native_type_compatibility:Converting string literal type hint to Any: \"np.ndarray\"\n",
            "INFO:apache_beam.typehints.native_type_compatibility:Converting string literal type hint to Any: \"bytes\"\n",
            "INFO:apache_beam.runners.portability.stager:Executing command: ['/usr/bin/python3', 'setup.py', 'sdist', '--dist-dir', '/tmp/tmpa0e5ywjt']\n",
            "warning: check: missing meta-data: either (author and author_email) or (maintainer and maintainer_email) should be supplied\n",
            "\n",
            "INFO:apache_beam.runners.portability.stager:Downloading source distribution of the SDK from PyPi\n",
            "INFO:apache_beam.runners.portability.stager:Executing command: ['/usr/bin/python3', '-m', 'pip', 'download', '--dest', '/tmp/tmpa0e5ywjt', 'apache-beam==2.42.0', '--no-deps', '--no-binary', ':all:']\n",
            "INFO:apache_beam.runners.portability.stager:Staging SDK sources from PyPI: dataflow_python_sdk.tar\n",
            "INFO:apache_beam.runners.portability.stager:Downloading binary distribution of the SDK from PyPi\n",
            "INFO:apache_beam.runners.portability.stager:Executing command: ['/usr/bin/python3', '-m', 'pip', 'download', '--dest', '/tmp/tmpa0e5ywjt', 'apache-beam==2.42.0', '--no-deps', '--only-binary', ':all:', '--python-version', '39', '--implementation', 'cp', '--abi', 'cp39', '--platform', 'manylinux1_x86_64']\n",
            "INFO:apache_beam.runners.portability.stager:Staging binary distribution of the SDK from PyPI: apache_beam-2.42.0-cp39-cp39-manylinux1_x86_64.whl\n",
            "INFO:root:Default Python SDK image for environment is apache/beam_python3.9_sdk:2.42.0\n",
            "INFO:root:Using provided Python SDK container image: gcr.io/cloud-dataflow/v1beta3/python39:2.42.0\n",
            "INFO:root:Python SDK container image set to \"gcr.io/cloud-dataflow/v1beta3/python39:2.42.0\" for Docker environment\n",
            "INFO:apache_beam.runners.portability.fn_api_runner.translations:==================== <function pack_combiners at 0x7f1a00750a60> ====================\n",
            "INFO:apache_beam.runners.portability.fn_api_runner.translations:==================== <function sort_stages at 0x7f1a00752280> ====================\n",
            "INFO:apache_beam.runners.dataflow.internal.apiclient:Defaulting to the temp_location as staging_location: gs://example-bucket-ls-3-24/land-cover/temp/benin\n",
            "INFO:apache_beam.internal.gcp.auth:Setting socket default timeout to 60 seconds.\n",
            "INFO:apache_beam.internal.gcp.auth:socket default timeout is 60.0 seconds.\n",
            "INFO:apache_beam.runners.dataflow.internal.apiclient:Starting GCS upload to gs://example-bucket-ls-3-24/land-cover/temp/benin/beamapp-root-0324172517-343437-k5me6jxr.1679678717.343919/pickled_main_session...\n",
            "INFO:apache_beam.runners.dataflow.internal.apiclient:Completed GCS upload to gs://example-bucket-ls-3-24/land-cover/temp/benin/beamapp-root-0324172517-343437-k5me6jxr.1679678717.343919/pickled_main_session in 1 seconds.\n",
            "INFO:apache_beam.runners.dataflow.internal.apiclient:Starting GCS upload to gs://example-bucket-ls-3-24/land-cover/temp/benin/beamapp-root-0324172517-343437-k5me6jxr.1679678717.343919/dataflow_python_sdk.tar...\n",
            "INFO:apache_beam.runners.dataflow.internal.apiclient:Completed GCS upload to gs://example-bucket-ls-3-24/land-cover/temp/benin/beamapp-root-0324172517-343437-k5me6jxr.1679678717.343919/dataflow_python_sdk.tar in 0 seconds.\n",
            "INFO:apache_beam.runners.dataflow.internal.apiclient:Starting GCS upload to gs://example-bucket-ls-3-24/land-cover/temp/benin/beamapp-root-0324172517-343437-k5me6jxr.1679678717.343919/workflow.tar.gz...\n",
            "INFO:apache_beam.runners.dataflow.internal.apiclient:Completed GCS upload to gs://example-bucket-ls-3-24/land-cover/temp/benin/beamapp-root-0324172517-343437-k5me6jxr.1679678717.343919/workflow.tar.gz in 0 seconds.\n",
            "INFO:apache_beam.runners.dataflow.internal.apiclient:Starting GCS upload to gs://example-bucket-ls-3-24/land-cover/temp/benin/beamapp-root-0324172517-343437-k5me6jxr.1679678717.343919/apache_beam-2.42.0-cp39-cp39-manylinux1_x86_64.whl...\n",
            "INFO:apache_beam.runners.dataflow.internal.apiclient:Completed GCS upload to gs://example-bucket-ls-3-24/land-cover/temp/benin/beamapp-root-0324172517-343437-k5me6jxr.1679678717.343919/apache_beam-2.42.0-cp39-cp39-manylinux1_x86_64.whl in 0 seconds.\n",
            "INFO:apache_beam.runners.dataflow.internal.apiclient:Starting GCS upload to gs://example-bucket-ls-3-24/land-cover/temp/benin/beamapp-root-0324172517-343437-k5me6jxr.1679678717.343919/pipeline.pb...\n",
            "INFO:apache_beam.runners.dataflow.internal.apiclient:Completed GCS upload to gs://example-bucket-ls-3-24/land-cover/temp/benin/beamapp-root-0324172517-343437-k5me6jxr.1679678717.343919/pipeline.pb in 0 seconds.\n",
            "INFO:apache_beam.runners.dataflow.internal.apiclient:Create job: <Job\n",
            " clientRequestId: '20230324172517345079-5723'\n",
            " createTime: '2023-03-24T17:25:21.537156Z'\n",
            " currentStateTime: '1970-01-01T00:00:00Z'\n",
            " id: '2023-03-24_10_25_20-15891780612864180539'\n",
            " location: 'us-central1'\n",
            " name: 'beamapp-root-0324172517-343437-k5me6jxr'\n",
            " projectId: 'ls-test-3-24'\n",
            " stageStates: []\n",
            " startTime: '2023-03-24T17:25:21.537156Z'\n",
            " steps: []\n",
            " tempFiles: []\n",
            " type: TypeValueValuesEnum(JOB_TYPE_BATCH, 1)>\n",
            "INFO:apache_beam.runners.dataflow.internal.apiclient:Created job with id: [2023-03-24_10_25_20-15891780612864180539]\n",
            "INFO:apache_beam.runners.dataflow.internal.apiclient:Submitted job: 2023-03-24_10_25_20-15891780612864180539\n",
            "INFO:apache_beam.runners.dataflow.internal.apiclient:To access the Dataflow monitoring console, please navigate to https://console.cloud.google.com/dataflow/jobs/us-central1/2023-03-24_10_25_20-15891780612864180539?project=ls-test-3-24\n",
            "INFO:apache_beam.runners.dataflow.dataflow_runner:Job 2023-03-24_10_25_20-15891780612864180539 is in state JOB_STATE_PENDING\n",
            "INFO:apache_beam.runners.dataflow.dataflow_runner:2023-03-24T17:25:21.081Z: JOB_MESSAGE_BASIC: Dataflow Runner V2 auto-enabled. Use --experiments=disable_runner_v2 to opt out.\n",
            "INFO:apache_beam.runners.dataflow.dataflow_runner:2023-03-24T17:25:22.897Z: JOB_MESSAGE_BASIC: The pipeline is using shuffle service with a (boot) persistent disk size / type other than the default. If that configuration was intended solely to speed up the non-service shuffle, consider removing it to reduce costs as those disks are unused by the shuffle service.\n",
            "INFO:apache_beam.runners.dataflow.dataflow_runner:2023-03-24T17:25:23.207Z: JOB_MESSAGE_DETAILED: Autoscaling is enabled for job 2023-03-24_10_25_20-15891780612864180539. The number of workers will be between 1 and 20.\n",
            "INFO:apache_beam.runners.dataflow.dataflow_runner:2023-03-24T17:25:23.241Z: JOB_MESSAGE_DETAILED: Autoscaling was automatically enabled for job 2023-03-24_10_25_20-15891780612864180539.\n",
            "INFO:apache_beam.runners.dataflow.dataflow_runner:2023-03-24T17:25:25.044Z: JOB_MESSAGE_BASIC: Worker configuration: n1-standard-1 in us-central1-b.\n",
            "INFO:apache_beam.runners.dataflow.dataflow_runner:2023-03-24T17:25:25.527Z: JOB_MESSAGE_DETAILED: Expanding SplittableParDo operations into optimizable parts.\n",
            "INFO:apache_beam.runners.dataflow.dataflow_runner:2023-03-24T17:25:25.561Z: JOB_MESSAGE_DETAILED: Expanding CollectionToSingleton operations into optimizable parts.\n",
            "INFO:apache_beam.runners.dataflow.dataflow_runner:2023-03-24T17:25:25.616Z: JOB_MESSAGE_DETAILED: Expanding CoGroupByKey operations into optimizable parts.\n",
            "INFO:apache_beam.runners.dataflow.dataflow_runner:2023-03-24T17:25:25.650Z: JOB_MESSAGE_DEBUG: Combiner lifting skipped for step 📚 Write TFRecords/Write/WriteImpl/GroupByKey: GroupByKey not followed by a combiner.\n",
            "INFO:apache_beam.runners.dataflow.dataflow_runner:2023-03-24T17:25:25.679Z: JOB_MESSAGE_DEBUG: Combiner lifting skipped for step 🃏 Reshuffle/ReshufflePerKey/GroupByKey: GroupByKey not followed by a combiner.\n",
            "INFO:apache_beam.runners.dataflow.dataflow_runner:2023-03-24T17:25:25.714Z: JOB_MESSAGE_DEBUG: Combiner lifting skipped for step 🌱 Make seeds/MaybeReshuffle/Reshuffle/ReshufflePerKey/GroupByKey: GroupByKey not followed by a combiner.\n",
            "INFO:apache_beam.runners.dataflow.dataflow_runner:2023-03-24T17:25:25.753Z: JOB_MESSAGE_DETAILED: Expanding GroupByKey operations into optimizable parts.\n",
            "INFO:apache_beam.runners.dataflow.dataflow_runner:2023-03-24T17:25:25.780Z: JOB_MESSAGE_DEBUG: Annotating graph with Autotuner information.\n",
            "INFO:apache_beam.runners.dataflow.dataflow_runner:2023-03-24T17:25:25.824Z: JOB_MESSAGE_DETAILED: Fusing adjacent ParDo, Read, Write, and Flatten operations\n",
            "INFO:apache_beam.runners.dataflow.dataflow_runner:2023-03-24T17:25:25.853Z: JOB_MESSAGE_DETAILED: Fusing consumer 📚 Write TFRecords/Write/WriteImpl/InitializeWrite into 📚 Write TFRecords/Write/WriteImpl/DoOnce/Map(decode)\n",
            "INFO:apache_beam.runners.dataflow.dataflow_runner:2023-03-24T17:25:25.890Z: JOB_MESSAGE_DETAILED: Fusing consumer 🌱 Make seeds/FlatMap(<lambda at core.py:3481>) into 🌱 Make seeds/Impulse\n",
            "INFO:apache_beam.runners.dataflow.dataflow_runner:2023-03-24T17:25:25.916Z: JOB_MESSAGE_DETAILED: Fusing consumer 🌱 Make seeds/MaybeReshuffle/Reshuffle/AddRandomKeys into 🌱 Make seeds/FlatMap(<lambda at core.py:3481>)\n",
            "INFO:apache_beam.runners.dataflow.dataflow_runner:2023-03-24T17:25:25.951Z: JOB_MESSAGE_DETAILED: Fusing consumer 🌱 Make seeds/MaybeReshuffle/Reshuffle/ReshufflePerKey/Map(reify_timestamps) into 🌱 Make seeds/MaybeReshuffle/Reshuffle/AddRandomKeys\n",
            "INFO:apache_beam.runners.dataflow.dataflow_runner:2023-03-24T17:25:25.985Z: JOB_MESSAGE_DETAILED: Fusing consumer 🌱 Make seeds/MaybeReshuffle/Reshuffle/ReshufflePerKey/GroupByKey/Reify into 🌱 Make seeds/MaybeReshuffle/Reshuffle/ReshufflePerKey/Map(reify_timestamps)\n",
            "INFO:apache_beam.runners.dataflow.dataflow_runner:2023-03-24T17:25:26.016Z: JOB_MESSAGE_DETAILED: Fusing consumer 🌱 Make seeds/MaybeReshuffle/Reshuffle/ReshufflePerKey/GroupByKey/Write into 🌱 Make seeds/MaybeReshuffle/Reshuffle/ReshufflePerKey/GroupByKey/Reify\n",
            "INFO:apache_beam.runners.dataflow.dataflow_runner:2023-03-24T17:25:26.049Z: JOB_MESSAGE_DETAILED: Fusing consumer 🌱 Make seeds/MaybeReshuffle/Reshuffle/ReshufflePerKey/GroupByKey/GroupByWindow into 🌱 Make seeds/MaybeReshuffle/Reshuffle/ReshufflePerKey/GroupByKey/Read\n",
            "INFO:apache_beam.runners.dataflow.dataflow_runner:2023-03-24T17:25:26.081Z: JOB_MESSAGE_DETAILED: Fusing consumer 🌱 Make seeds/MaybeReshuffle/Reshuffle/ReshufflePerKey/FlatMap(restore_timestamps) into 🌱 Make seeds/MaybeReshuffle/Reshuffle/ReshufflePerKey/GroupByKey/GroupByWindow\n",
            "INFO:apache_beam.runners.dataflow.dataflow_runner:2023-03-24T17:25:26.115Z: JOB_MESSAGE_DETAILED: Fusing consumer 🌱 Make seeds/MaybeReshuffle/Reshuffle/RemoveRandomKeys into 🌱 Make seeds/MaybeReshuffle/Reshuffle/ReshufflePerKey/FlatMap(restore_timestamps)\n",
            "INFO:apache_beam.runners.dataflow.dataflow_runner:2023-03-24T17:25:26.151Z: JOB_MESSAGE_DETAILED: Fusing consumer 🌱 Make seeds/Map(decode) into 🌱 Make seeds/MaybeReshuffle/Reshuffle/RemoveRandomKeys\n",
            "INFO:apache_beam.runners.dataflow.dataflow_runner:2023-03-24T17:25:26.174Z: JOB_MESSAGE_DETAILED: Fusing consumer 📌 Sample points into 🌱 Make seeds/Map(decode)\n",
            "INFO:apache_beam.runners.dataflow.dataflow_runner:2023-03-24T17:25:26.198Z: JOB_MESSAGE_DETAILED: Fusing consumer 🃏 Reshuffle/AddRandomKeys into 📌 Sample points\n",
            "INFO:apache_beam.runners.dataflow.dataflow_runner:2023-03-24T17:25:26.233Z: JOB_MESSAGE_DETAILED: Fusing consumer 🃏 Reshuffle/ReshufflePerKey/Map(reify_timestamps) into 🃏 Reshuffle/AddRandomKeys\n",
            "INFO:apache_beam.runners.dataflow.dataflow_runner:2023-03-24T17:25:26.265Z: JOB_MESSAGE_DETAILED: Fusing consumer 🃏 Reshuffle/ReshufflePerKey/GroupByKey/Reify into 🃏 Reshuffle/ReshufflePerKey/Map(reify_timestamps)\n",
            "INFO:apache_beam.runners.dataflow.dataflow_runner:2023-03-24T17:25:26.297Z: JOB_MESSAGE_DETAILED: Fusing consumer 🃏 Reshuffle/ReshufflePerKey/GroupByKey/Write into 🃏 Reshuffle/ReshufflePerKey/GroupByKey/Reify\n",
            "INFO:apache_beam.runners.dataflow.dataflow_runner:2023-03-24T17:25:26.330Z: JOB_MESSAGE_DETAILED: Fusing consumer 🃏 Reshuffle/ReshufflePerKey/GroupByKey/GroupByWindow into 🃏 Reshuffle/ReshufflePerKey/GroupByKey/Read\n",
            "INFO:apache_beam.runners.dataflow.dataflow_runner:2023-03-24T17:25:26.360Z: JOB_MESSAGE_DETAILED: Fusing consumer 🃏 Reshuffle/ReshufflePerKey/FlatMap(restore_timestamps) into 🃏 Reshuffle/ReshufflePerKey/GroupByKey/GroupByWindow\n",
            "INFO:apache_beam.runners.dataflow.dataflow_runner:2023-03-24T17:25:26.394Z: JOB_MESSAGE_DETAILED: Fusing consumer 🃏 Reshuffle/RemoveRandomKeys into 🃏 Reshuffle/ReshufflePerKey/FlatMap(restore_timestamps)\n",
            "INFO:apache_beam.runners.dataflow.dataflow_runner:2023-03-24T17:25:26.429Z: JOB_MESSAGE_DETAILED: Fusing consumer 📑 Get examples into 🃏 Reshuffle/RemoveRandomKeys\n",
            "INFO:apache_beam.runners.dataflow.dataflow_runner:2023-03-24T17:25:26.462Z: JOB_MESSAGE_DETAILED: Fusing consumer ✍🏽 Serialize into 📑 Get examples\n",
            "INFO:apache_beam.runners.dataflow.dataflow_runner:2023-03-24T17:25:26.491Z: JOB_MESSAGE_DETAILED: Fusing consumer 📚 Write TFRecords/Write/WriteImpl/WindowInto(WindowIntoFn) into ✍🏽 Serialize\n",
            "INFO:apache_beam.runners.dataflow.dataflow_runner:2023-03-24T17:25:26.525Z: JOB_MESSAGE_DETAILED: Fusing consumer 📚 Write TFRecords/Write/WriteImpl/DoOnce/FlatMap(<lambda at core.py:3481>) into 📚 Write TFRecords/Write/WriteImpl/DoOnce/Impulse\n",
            "INFO:apache_beam.runners.dataflow.dataflow_runner:2023-03-24T17:25:26.557Z: JOB_MESSAGE_DETAILED: Fusing consumer 📚 Write TFRecords/Write/WriteImpl/DoOnce/Map(decode) into 📚 Write TFRecords/Write/WriteImpl/DoOnce/FlatMap(<lambda at core.py:3481>)\n",
            "INFO:apache_beam.runners.dataflow.dataflow_runner:2023-03-24T17:25:26.593Z: JOB_MESSAGE_DETAILED: Fusing consumer 📚 Write TFRecords/Write/WriteImpl/WriteBundles into 📚 Write TFRecords/Write/WriteImpl/WindowInto(WindowIntoFn)\n",
            "INFO:apache_beam.runners.dataflow.dataflow_runner:2023-03-24T17:25:26.618Z: JOB_MESSAGE_DETAILED: Fusing consumer 📚 Write TFRecords/Write/WriteImpl/Pair into 📚 Write TFRecords/Write/WriteImpl/WriteBundles\n",
            "INFO:apache_beam.runners.dataflow.dataflow_runner:2023-03-24T17:25:26.647Z: JOB_MESSAGE_DETAILED: Fusing consumer 📚 Write TFRecords/Write/WriteImpl/GroupByKey/Write into 📚 Write TFRecords/Write/WriteImpl/Pair\n",
            "INFO:apache_beam.runners.dataflow.dataflow_runner:2023-03-24T17:25:26.680Z: JOB_MESSAGE_DETAILED: Fusing consumer 📚 Write TFRecords/Write/WriteImpl/Extract into 📚 Write TFRecords/Write/WriteImpl/GroupByKey/Read\n",
            "INFO:apache_beam.runners.dataflow.dataflow_runner:2023-03-24T17:25:26.729Z: JOB_MESSAGE_DEBUG: Workflow config is missing a default resource spec.\n",
            "INFO:apache_beam.runners.dataflow.dataflow_runner:2023-03-24T17:25:26.771Z: JOB_MESSAGE_DEBUG: Adding StepResource setup and teardown to workflow graph.\n",
            "INFO:apache_beam.runners.dataflow.dataflow_runner:2023-03-24T17:25:26.803Z: JOB_MESSAGE_DEBUG: Adding workflow start and stop steps.\n",
            "INFO:apache_beam.runners.dataflow.dataflow_runner:2023-03-24T17:25:26.837Z: JOB_MESSAGE_DEBUG: Assigning stage ids.\n",
            "INFO:apache_beam.runners.dataflow.dataflow_runner:Job 2023-03-24_10_25_20-15891780612864180539 is in state JOB_STATE_RUNNING\n",
            "INFO:apache_beam.runners.dataflow.dataflow_runner:2023-03-24T17:25:26.995Z: JOB_MESSAGE_DEBUG: Executing wait step start32\n",
            "INFO:apache_beam.runners.dataflow.dataflow_runner:2023-03-24T17:25:27.050Z: JOB_MESSAGE_BASIC: Executing operation 📚 Write TFRecords/Write/WriteImpl/DoOnce/Impulse+📚 Write TFRecords/Write/WriteImpl/DoOnce/FlatMap(<lambda at core.py:3481>)+📚 Write TFRecords/Write/WriteImpl/DoOnce/Map(decode)+📚 Write TFRecords/Write/WriteImpl/InitializeWrite\n",
            "INFO:apache_beam.runners.dataflow.dataflow_runner:2023-03-24T17:25:27.085Z: JOB_MESSAGE_BASIC: Executing operation 🌱 Make seeds/MaybeReshuffle/Reshuffle/ReshufflePerKey/GroupByKey/Create\n",
            "INFO:apache_beam.runners.dataflow.dataflow_runner:2023-03-24T17:25:27.098Z: JOB_MESSAGE_DEBUG: Starting worker pool setup.\n",
            "INFO:apache_beam.runners.dataflow.dataflow_runner:2023-03-24T17:25:27.129Z: JOB_MESSAGE_BASIC: Starting 1 workers in us-central1-b...\n",
            "INFO:apache_beam.runners.dataflow.dataflow_runner:2023-03-24T17:25:27.536Z: JOB_MESSAGE_BASIC: Finished operation 🌱 Make seeds/MaybeReshuffle/Reshuffle/ReshufflePerKey/GroupByKey/Create\n",
            "INFO:apache_beam.runners.dataflow.dataflow_runner:2023-03-24T17:25:27.597Z: JOB_MESSAGE_DEBUG: Value \"🌱 Make seeds/MaybeReshuffle/Reshuffle/ReshufflePerKey/GroupByKey/Session\" materialized.\n",
            "INFO:apache_beam.runners.dataflow.dataflow_runner:2023-03-24T17:25:27.668Z: JOB_MESSAGE_BASIC: Executing operation 🌱 Make seeds/Impulse+🌱 Make seeds/FlatMap(<lambda at core.py:3481>)+🌱 Make seeds/MaybeReshuffle/Reshuffle/AddRandomKeys+🌱 Make seeds/MaybeReshuffle/Reshuffle/ReshufflePerKey/Map(reify_timestamps)+🌱 Make seeds/MaybeReshuffle/Reshuffle/ReshufflePerKey/GroupByKey/Reify+🌱 Make seeds/MaybeReshuffle/Reshuffle/ReshufflePerKey/GroupByKey/Write\n",
            "INFO:apache_beam.runners.dataflow.dataflow_runner:2023-03-24T17:26:10.955Z: JOB_MESSAGE_DETAILED: Autoscaling: Raised the number of workers to 1 based on the rate of progress in the currently running stage(s).\n",
            "INFO:apache_beam.runners.dataflow.dataflow_runner:2023-03-24T17:26:47.245Z: JOB_MESSAGE_DETAILED: Workers have started successfully.\n",
            "INFO:apache_beam.runners.dataflow.dataflow_runner:2023-03-24T17:32:31.233Z: JOB_MESSAGE_DETAILED: All workers have finished the startup processes and began to receive work requests.\n",
            "INFO:apache_beam.runners.dataflow.dataflow_runner:2023-03-24T17:32:33.855Z: JOB_MESSAGE_BASIC: Finished operation 📚 Write TFRecords/Write/WriteImpl/DoOnce/Impulse+📚 Write TFRecords/Write/WriteImpl/DoOnce/FlatMap(<lambda at core.py:3481>)+📚 Write TFRecords/Write/WriteImpl/DoOnce/Map(decode)+📚 Write TFRecords/Write/WriteImpl/InitializeWrite\n",
            "INFO:apache_beam.runners.dataflow.dataflow_runner:2023-03-24T17:32:33.919Z: JOB_MESSAGE_DEBUG: Value \"📚 Write TFRecords/Write/WriteImpl/DoOnce/Map(decode).None\" materialized.\n",
            "INFO:apache_beam.runners.dataflow.dataflow_runner:2023-03-24T17:32:33.950Z: JOB_MESSAGE_DEBUG: Value \"📚 Write TFRecords/Write/WriteImpl/InitializeWrite.None\" materialized.\n",
            "INFO:apache_beam.runners.dataflow.dataflow_runner:2023-03-24T17:32:34.020Z: JOB_MESSAGE_BASIC: Executing operation 📚 Write TFRecords/Write/WriteImpl/FinalizeWrite/View-python_side_input0-📚 Write TFRecords/Write/WriteImpl/FinalizeWrite\n",
            "INFO:apache_beam.runners.dataflow.dataflow_runner:2023-03-24T17:32:34.055Z: JOB_MESSAGE_BASIC: Executing operation 📚 Write TFRecords/Write/WriteImpl/WriteBundles/View-python_side_input0-📚 Write TFRecords/Write/WriteImpl/WriteBundles\n",
            "INFO:apache_beam.runners.dataflow.dataflow_runner:2023-03-24T17:32:34.079Z: JOB_MESSAGE_BASIC: Finished operation 📚 Write TFRecords/Write/WriteImpl/FinalizeWrite/View-python_side_input0-📚 Write TFRecords/Write/WriteImpl/FinalizeWrite\n",
            "INFO:apache_beam.runners.dataflow.dataflow_runner:2023-03-24T17:32:34.088Z: JOB_MESSAGE_BASIC: Executing operation 📚 Write TFRecords/Write/WriteImpl/PreFinalize/View-python_side_input0-📚 Write TFRecords/Write/WriteImpl/PreFinalize\n",
            "INFO:apache_beam.runners.dataflow.dataflow_runner:2023-03-24T17:32:34.118Z: JOB_MESSAGE_BASIC: Finished operation 📚 Write TFRecords/Write/WriteImpl/WriteBundles/View-python_side_input0-📚 Write TFRecords/Write/WriteImpl/WriteBundles\n",
            "INFO:apache_beam.runners.dataflow.dataflow_runner:2023-03-24T17:32:34.123Z: JOB_MESSAGE_DEBUG: Value \"📚 Write TFRecords/Write/WriteImpl/FinalizeWrite/View-python_side_input0-📚 Write TFRecords/Write/WriteImpl/FinalizeWrite.out\" materialized.\n",
            "INFO:apache_beam.runners.dataflow.dataflow_runner:2023-03-24T17:32:34.166Z: JOB_MESSAGE_BASIC: Finished operation 📚 Write TFRecords/Write/WriteImpl/PreFinalize/View-python_side_input0-📚 Write TFRecords/Write/WriteImpl/PreFinalize\n",
            "INFO:apache_beam.runners.dataflow.dataflow_runner:2023-03-24T17:32:34.167Z: JOB_MESSAGE_DEBUG: Value \"📚 Write TFRecords/Write/WriteImpl/WriteBundles/View-python_side_input0-📚 Write TFRecords/Write/WriteImpl/WriteBundles.out\" materialized.\n",
            "INFO:apache_beam.runners.dataflow.dataflow_runner:2023-03-24T17:32:34.232Z: JOB_MESSAGE_DEBUG: Value \"📚 Write TFRecords/Write/WriteImpl/PreFinalize/View-python_side_input0-📚 Write TFRecords/Write/WriteImpl/PreFinalize.out\" materialized.\n",
            "INFO:apache_beam.runners.dataflow.dataflow_runner:2023-03-24T17:32:36.501Z: JOB_MESSAGE_BASIC: Finished operation 🌱 Make seeds/Impulse+🌱 Make seeds/FlatMap(<lambda at core.py:3481>)+🌱 Make seeds/MaybeReshuffle/Reshuffle/AddRandomKeys+🌱 Make seeds/MaybeReshuffle/Reshuffle/ReshufflePerKey/Map(reify_timestamps)+🌱 Make seeds/MaybeReshuffle/Reshuffle/ReshufflePerKey/GroupByKey/Reify+🌱 Make seeds/MaybeReshuffle/Reshuffle/ReshufflePerKey/GroupByKey/Write\n",
            "INFO:apache_beam.runners.dataflow.dataflow_runner:2023-03-24T17:32:36.574Z: JOB_MESSAGE_BASIC: Executing operation 🌱 Make seeds/MaybeReshuffle/Reshuffle/ReshufflePerKey/GroupByKey/Close\n",
            "INFO:apache_beam.runners.dataflow.dataflow_runner:2023-03-24T17:32:36.632Z: JOB_MESSAGE_BASIC: Finished operation 🌱 Make seeds/MaybeReshuffle/Reshuffle/ReshufflePerKey/GroupByKey/Close\n",
            "INFO:apache_beam.runners.dataflow.dataflow_runner:2023-03-24T17:32:36.700Z: JOB_MESSAGE_BASIC: Executing operation 🃏 Reshuffle/ReshufflePerKey/GroupByKey/Create\n",
            "INFO:apache_beam.runners.dataflow.dataflow_runner:2023-03-24T17:32:36.869Z: JOB_MESSAGE_BASIC: Finished operation 🃏 Reshuffle/ReshufflePerKey/GroupByKey/Create\n",
            "INFO:apache_beam.runners.dataflow.dataflow_runner:2023-03-24T17:32:36.926Z: JOB_MESSAGE_DEBUG: Value \"🃏 Reshuffle/ReshufflePerKey/GroupByKey/Session\" materialized.\n",
            "INFO:apache_beam.runners.dataflow.dataflow_runner:2023-03-24T17:32:37.003Z: JOB_MESSAGE_BASIC: Executing operation 🌱 Make seeds/MaybeReshuffle/Reshuffle/ReshufflePerKey/GroupByKey/Read+🌱 Make seeds/MaybeReshuffle/Reshuffle/ReshufflePerKey/GroupByKey/GroupByWindow+🌱 Make seeds/MaybeReshuffle/Reshuffle/ReshufflePerKey/FlatMap(restore_timestamps)+🌱 Make seeds/MaybeReshuffle/Reshuffle/RemoveRandomKeys+🌱 Make seeds/Map(decode)+📌 Sample points+🃏 Reshuffle/AddRandomKeys+🃏 Reshuffle/ReshufflePerKey/Map(reify_timestamps)+🃏 Reshuffle/ReshufflePerKey/GroupByKey/Reify+🃏 Reshuffle/ReshufflePerKey/GroupByKey/Write\n",
            "INFO:apache_beam.runners.dataflow.dataflow_runner:2023-03-24T17:33:02.452Z: JOB_MESSAGE_BASIC: Finished operation 🌱 Make seeds/MaybeReshuffle/Reshuffle/ReshufflePerKey/GroupByKey/Read+🌱 Make seeds/MaybeReshuffle/Reshuffle/ReshufflePerKey/GroupByKey/GroupByWindow+🌱 Make seeds/MaybeReshuffle/Reshuffle/ReshufflePerKey/FlatMap(restore_timestamps)+🌱 Make seeds/MaybeReshuffle/Reshuffle/RemoveRandomKeys+🌱 Make seeds/Map(decode)+📌 Sample points+🃏 Reshuffle/AddRandomKeys+🃏 Reshuffle/ReshufflePerKey/Map(reify_timestamps)+🃏 Reshuffle/ReshufflePerKey/GroupByKey/Reify+🃏 Reshuffle/ReshufflePerKey/GroupByKey/Write\n",
            "INFO:apache_beam.runners.dataflow.dataflow_runner:2023-03-24T17:33:02.517Z: JOB_MESSAGE_BASIC: Executing operation 🃏 Reshuffle/ReshufflePerKey/GroupByKey/Close\n",
            "INFO:apache_beam.runners.dataflow.dataflow_runner:2023-03-24T17:33:02.570Z: JOB_MESSAGE_BASIC: Finished operation 🃏 Reshuffle/ReshufflePerKey/GroupByKey/Close\n",
            "INFO:apache_beam.runners.dataflow.dataflow_runner:2023-03-24T17:33:02.629Z: JOB_MESSAGE_BASIC: Executing operation 📚 Write TFRecords/Write/WriteImpl/GroupByKey/Create\n",
            "INFO:apache_beam.runners.dataflow.dataflow_runner:2023-03-24T17:33:02.775Z: JOB_MESSAGE_BASIC: Finished operation 📚 Write TFRecords/Write/WriteImpl/GroupByKey/Create\n",
            "INFO:apache_beam.runners.dataflow.dataflow_runner:2023-03-24T17:33:02.843Z: JOB_MESSAGE_DEBUG: Value \"📚 Write TFRecords/Write/WriteImpl/GroupByKey/Session\" materialized.\n",
            "INFO:apache_beam.runners.dataflow.dataflow_runner:2023-03-24T17:33:02.915Z: JOB_MESSAGE_BASIC: Executing operation 🃏 Reshuffle/ReshufflePerKey/GroupByKey/Read+🃏 Reshuffle/ReshufflePerKey/GroupByKey/GroupByWindow+🃏 Reshuffle/ReshufflePerKey/FlatMap(restore_timestamps)+🃏 Reshuffle/RemoveRandomKeys+📑 Get examples+✍🏽 Serialize+📚 Write TFRecords/Write/WriteImpl/WindowInto(WindowIntoFn)+📚 Write TFRecords/Write/WriteImpl/WriteBundles+📚 Write TFRecords/Write/WriteImpl/Pair+📚 Write TFRecords/Write/WriteImpl/GroupByKey/Write\n",
            "INFO:apache_beam.runners.dataflow.dataflow_runner:2023-03-24T17:35:07.594Z: JOB_MESSAGE_WARNING: Autoscaling: Unable to reach resize target in zone us-central1-b. QUOTA_EXCEEDED: Instance 'beamapp-root-0324172517-3-03241025-bv1i-harness-dp16' creation failed: Quota 'IN_USE_ADDRESSES' exceeded.  Limit: 8.0 in region us-central1.\n",
            "INFO:apache_beam.runners.dataflow.dataflow_runner:2023-03-24T17:35:12.255Z: JOB_MESSAGE_DETAILED: Autoscaling: Resizing worker pool from 1 to 10.\n",
            "INFO:apache_beam.runners.dataflow.dataflow_runner:2023-03-24T17:38:41.711Z: JOB_MESSAGE_DETAILED: Autoscaling: Resizing worker pool from 10 to 8.\n",
            "INFO:apache_beam.runners.dataflow.dataflow_runner:2023-03-24T17:40:28.791Z: JOB_MESSAGE_DETAILED: Autoscaling: Resizing worker pool from 8 to 9.\n",
            "INFO:apache_beam.runners.dataflow.dataflow_runner:2023-03-24T17:42:59.657Z: JOB_MESSAGE_DETAILED: Autoscaling: Resizing worker pool from 9 to 10.\n",
            "INFO:apache_beam.runners.dataflow.dataflow_runner:2023-03-24T17:47:05.143Z: JOB_MESSAGE_DETAILED: Autoscaling: Raised the number of workers to 2 based on the rate of progress in the currently running stage(s).\n",
            "INFO:apache_beam.runners.dataflow.dataflow_runner:2023-03-24T17:47:05.163Z: JOB_MESSAGE_DETAILED: Autoscaling: Resized worker pool to 2, though goal was 10.  This could be a quota issue.\n",
            "INFO:apache_beam.runners.dataflow.dataflow_runner:2023-03-24T17:47:35.904Z: JOB_MESSAGE_WARNING: Autoscaling: Unable to reach resize target in zone us-central1-b. QUOTA_EXCEEDED: Instance 'beamapp-root-0324172517-3-03241025-bv1i-harness-hj2z' creation failed: Quota 'IN_USE_ADDRESSES' exceeded.  Limit: 8.0 in region us-central1.\n",
            "INFO:apache_beam.runners.dataflow.dataflow_runner:2023-03-24T17:47:35.925Z: JOB_MESSAGE_DETAILED: Autoscaling: Raised the number of workers to 8 based on the rate of progress in the currently running stage(s).\n",
            "INFO:apache_beam.runners.dataflow.dataflow_runner:2023-03-24T17:47:35.950Z: JOB_MESSAGE_DETAILED: Autoscaling: Resized worker pool to 8, though goal was 10.  This could be a quota issue.\n",
            "INFO:apache_beam.runners.dataflow.dataflow_runner:2023-03-24T17:56:17.425Z: JOB_MESSAGE_BASIC: Finished operation 🃏 Reshuffle/ReshufflePerKey/GroupByKey/Read+🃏 Reshuffle/ReshufflePerKey/GroupByKey/GroupByWindow+🃏 Reshuffle/ReshufflePerKey/FlatMap(restore_timestamps)+🃏 Reshuffle/RemoveRandomKeys+📑 Get examples+✍🏽 Serialize+📚 Write TFRecords/Write/WriteImpl/WindowInto(WindowIntoFn)+📚 Write TFRecords/Write/WriteImpl/WriteBundles+📚 Write TFRecords/Write/WriteImpl/Pair+📚 Write TFRecords/Write/WriteImpl/GroupByKey/Write\n",
            "INFO:apache_beam.runners.dataflow.dataflow_runner:2023-03-24T17:56:17.500Z: JOB_MESSAGE_BASIC: Executing operation 📚 Write TFRecords/Write/WriteImpl/GroupByKey/Close\n",
            "INFO:apache_beam.runners.dataflow.dataflow_runner:2023-03-24T17:56:17.689Z: JOB_MESSAGE_BASIC: Finished operation 📚 Write TFRecords/Write/WriteImpl/GroupByKey/Close\n",
            "INFO:apache_beam.runners.dataflow.dataflow_runner:2023-03-24T17:56:17.749Z: JOB_MESSAGE_BASIC: Executing operation 📚 Write TFRecords/Write/WriteImpl/GroupByKey/Read+📚 Write TFRecords/Write/WriteImpl/Extract\n",
            "INFO:apache_beam.runners.dataflow.dataflow_runner:2023-03-24T17:56:19.434Z: JOB_MESSAGE_BASIC: Finished operation 📚 Write TFRecords/Write/WriteImpl/GroupByKey/Read+📚 Write TFRecords/Write/WriteImpl/Extract\n",
            "INFO:apache_beam.runners.dataflow.dataflow_runner:2023-03-24T17:56:19.489Z: JOB_MESSAGE_DEBUG: Value \"📚 Write TFRecords/Write/WriteImpl/Extract.None\" materialized.\n",
            "INFO:apache_beam.runners.dataflow.dataflow_runner:2023-03-24T17:56:19.549Z: JOB_MESSAGE_BASIC: Executing operation 📚 Write TFRecords/Write/WriteImpl/FinalizeWrite/View-python_side_input1-📚 Write TFRecords/Write/WriteImpl/FinalizeWrite\n",
            "INFO:apache_beam.runners.dataflow.dataflow_runner:2023-03-24T17:56:19.583Z: JOB_MESSAGE_BASIC: Executing operation 📚 Write TFRecords/Write/WriteImpl/PreFinalize/View-python_side_input1-📚 Write TFRecords/Write/WriteImpl/PreFinalize\n",
            "INFO:apache_beam.runners.dataflow.dataflow_runner:2023-03-24T17:56:19.594Z: JOB_MESSAGE_BASIC: Finished operation 📚 Write TFRecords/Write/WriteImpl/FinalizeWrite/View-python_side_input1-📚 Write TFRecords/Write/WriteImpl/FinalizeWrite\n",
            "INFO:apache_beam.runners.dataflow.dataflow_runner:2023-03-24T17:56:19.644Z: JOB_MESSAGE_BASIC: Finished operation 📚 Write TFRecords/Write/WriteImpl/PreFinalize/View-python_side_input1-📚 Write TFRecords/Write/WriteImpl/PreFinalize\n",
            "INFO:apache_beam.runners.dataflow.dataflow_runner:2023-03-24T17:56:19.652Z: JOB_MESSAGE_DEBUG: Value \"📚 Write TFRecords/Write/WriteImpl/FinalizeWrite/View-python_side_input1-📚 Write TFRecords/Write/WriteImpl/FinalizeWrite.out\" materialized.\n",
            "INFO:apache_beam.runners.dataflow.dataflow_runner:2023-03-24T17:56:19.701Z: JOB_MESSAGE_DEBUG: Value \"📚 Write TFRecords/Write/WriteImpl/PreFinalize/View-python_side_input1-📚 Write TFRecords/Write/WriteImpl/PreFinalize.out\" materialized.\n",
            "INFO:apache_beam.runners.dataflow.dataflow_runner:2023-03-24T17:56:19.754Z: JOB_MESSAGE_BASIC: Executing operation 📚 Write TFRecords/Write/WriteImpl/PreFinalize\n",
            "INFO:apache_beam.runners.dataflow.dataflow_runner:2023-03-24T17:56:21.917Z: JOB_MESSAGE_BASIC: Finished operation 📚 Write TFRecords/Write/WriteImpl/PreFinalize\n",
            "INFO:apache_beam.runners.dataflow.dataflow_runner:2023-03-24T17:56:21.962Z: JOB_MESSAGE_DEBUG: Value \"📚 Write TFRecords/Write/WriteImpl/PreFinalize.None\" materialized.\n",
            "INFO:apache_beam.runners.dataflow.dataflow_runner:2023-03-24T17:56:22.019Z: JOB_MESSAGE_BASIC: Executing operation 📚 Write TFRecords/Write/WriteImpl/FinalizeWrite/View-python_side_input2-📚 Write TFRecords/Write/WriteImpl/FinalizeWrite\n",
            "INFO:apache_beam.runners.dataflow.dataflow_runner:2023-03-24T17:56:22.083Z: JOB_MESSAGE_BASIC: Finished operation 📚 Write TFRecords/Write/WriteImpl/FinalizeWrite/View-python_side_input2-📚 Write TFRecords/Write/WriteImpl/FinalizeWrite\n",
            "INFO:apache_beam.runners.dataflow.dataflow_runner:2023-03-24T17:56:22.134Z: JOB_MESSAGE_DEBUG: Value \"📚 Write TFRecords/Write/WriteImpl/FinalizeWrite/View-python_side_input2-📚 Write TFRecords/Write/WriteImpl/FinalizeWrite.out\" materialized.\n",
            "INFO:apache_beam.runners.dataflow.dataflow_runner:2023-03-24T17:56:22.183Z: JOB_MESSAGE_BASIC: Executing operation 📚 Write TFRecords/Write/WriteImpl/FinalizeWrite\n",
            "INFO:apache_beam.runners.dataflow.dataflow_runner:2023-03-24T17:56:25.419Z: JOB_MESSAGE_BASIC: Finished operation 📚 Write TFRecords/Write/WriteImpl/FinalizeWrite\n",
            "INFO:apache_beam.runners.dataflow.dataflow_runner:2023-03-24T17:56:25.465Z: JOB_MESSAGE_DEBUG: Executing success step success30\n",
            "INFO:apache_beam.runners.dataflow.dataflow_runner:2023-03-24T17:56:25.520Z: JOB_MESSAGE_DETAILED: Cleaning up.\n",
            "INFO:apache_beam.runners.dataflow.dataflow_runner:2023-03-24T17:56:25.692Z: JOB_MESSAGE_DEBUG: Starting worker pool teardown.\n",
            "INFO:apache_beam.runners.dataflow.dataflow_runner:2023-03-24T17:56:25.712Z: JOB_MESSAGE_BASIC: Stopping worker pool...\n",
            "INFO:apache_beam.runners.dataflow.dataflow_runner:2023-03-24T17:57:21.583Z: JOB_MESSAGE_DETAILED: Autoscaling: Resized worker pool from 8 to 0.\n",
            "INFO:apache_beam.runners.dataflow.dataflow_runner:2023-03-24T17:57:21.616Z: JOB_MESSAGE_BASIC: Worker pool stopped.\n",
            "INFO:apache_beam.runners.dataflow.dataflow_runner:2023-03-24T17:57:21.649Z: JOB_MESSAGE_DEBUG: Tearing down pending resources...\n",
            "INFO:apache_beam.runners.dataflow.dataflow_runner:Job 2023-03-24_10_25_20-15891780612864180539 is in state JOB_STATE_DONE\n"
          ]
        }
      ],
      "source": [
        "points_per_class = 100\n",
        "\n",
        "!python create_dataset.py \"tensorflow\" \\\n",
        "  --data-path=\"gs://{bucket}/land-cover/data\" \\\n",
        "  --points-per-class=\"{points_per_class}\" \\\n",
        "  --runner=\"DataflowRunner\" \\\n",
        "  --project=\"{project}\" \\\n",
        "  --region=\"{location}\" \\\n",
        "  --temp_location=\"gs://{bucket}/land-cover/temp/benin\""
      ]
    },
    {
      "cell_type": "markdown",
      "metadata": {
        "id": "MnFolSmbQZWW"
      },
      "source": [
        "There is some error with the Dataflow pipeline. The original tutorial also does not work, so I do not believe that this is an error on our end. \n",
        "\n",
        "LS: should work now, I think it's a permissions issue with the cloud project"
      ]
    },
    {
      "cell_type": "markdown",
      "metadata": {
        "id": "fuHHM5pXQ_DJ"
      },
      "source": [
        "## Read data and train model\n"
      ]
    },
    {
      "cell_type": "code",
      "execution_count": null,
      "metadata": {
        "colab": {
          "base_uri": "https://localhost:8080/"
        },
        "id": "UoeylQ6WRCPX",
        "outputId": "04cc3f1a-eecb-4ae2-a9ca-1e99f9278d1f"
      },
      "outputs": [
        {
          "name": "stdout",
          "output_type": "stream",
          "text": [
            "/content/python-docs-samples/people-and-planet-ai/land-cover-classification\n"
          ]
        }
      ],
      "source": [
        "!pwd"
      ]
    },
    {
      "cell_type": "code",
      "execution_count": null,
      "metadata": {
        "id": "lQj-6T36RJEy"
      },
      "outputs": [],
      "source": [
        "!cd ~"
      ]
    },
    {
      "cell_type": "code",
      "execution_count": null,
      "metadata": {
        "colab": {
          "base_uri": "https://localhost:8080/"
        },
        "id": "vqxVFDAsRMpV",
        "outputId": "8232b18f-34d1-462f-fb85-05bd09a62836"
      },
      "outputs": [
        {
          "name": "stdout",
          "output_type": "stream",
          "text": [
            "/bin/bash: line 0: cd: data: No such file or directory\n",
            "cloud-tensorflow.ipynb\t noxfile_config.py\trequirements-test.txt\n",
            "create_dataset.py\t predict_batch.py\trequirements.txt\n",
            "e2e_test.py\t\t predict-locations.csv\tserving\n",
            "images\t\t\t pretrained-model\tsetup.py\n",
            "land-cover-change.ipynb  README.ipynb\t\ttrainer\n",
            "MANIFEST.in\t\t README.md\t\tvisualize.py\n"
          ]
        }
      ],
      "source": [
        "!cd data\n",
        "!ls"
      ]
    },
    {
      "cell_type": "markdown",
      "metadata": {
        "id": "q9g94fsPg86R"
      },
      "source": [
        "Running into error:\n",
        "\n",
        "InvalidArgumentError: {{function_node __wrapped__IteratorGetNext_output_types_2_device_/job:localhost/replica:0/task:0/device:CPU:0}} Type mismatch between parsed tensor (double) and dtype (float)\n",
        "\t [[{{node ParseTensor}}]] [Op:IteratorGetNext]\n"
      ]
    },
    {
      "cell_type": "code",
      "execution_count": null,
      "metadata": {
        "colab": {
          "base_uri": "https://localhost:8080/"
        },
        "id": "jD-8nVqJQiFl",
        "outputId": "f6f34a56-7ed9-462f-e12e-064dbfa2b9b1"
      },
      "outputs": [
        {
          "name": "stdout",
          "output_type": "stream",
          "text": [
            "inputs: float32 (128, 128, 13)\n",
            "labels: float32 (128, 128, 9)\n"
          ]
        }
      ],
      "source": [
        "from trainer.tf_model import read_dataset\n",
        "\n",
        "data_path = f\"gs://{bucket}/land-cover/data\"\n",
        "dataset = read_dataset(data_path)\n",
        "\n",
        "for x, y in dataset.take(1):\n",
        "  print(\"inputs:\", x.dtype.name, x.shape)\n",
        "  print(\"labels:\", y.dtype.name, y.shape)"
      ]
    },
    {
      "cell_type": "code",
      "execution_count": null,
      "metadata": {
        "colab": {
          "background_save": true,
          "base_uri": "https://localhost:8080/"
        },
        "id": "uJqzkn47gnth",
        "outputId": "40054464-4a9d-4b82-8846-857ebb48d40c"
      },
      "outputs": [
        {
          "name": "stderr",
          "output_type": "stream",
          "text": [
            "WARNING:tensorflow:From /usr/local/lib/python3.9/dist-packages/tensorflow/python/autograph/pyct/static_analysis/liveness.py:83: Analyzer.lamba_check (from tensorflow.python.autograph.pyct.static_analysis.liveness) is deprecated and will be removed after 2023-09-23.\n",
            "Instructions for updating:\n",
            "Lambda fuctions will be no more assumed to be used in the statement where they are used, or at least in the same block. https://github.com/tensorflow/tensorflow/issues/56089\n"
          ]
        }
      ],
      "source": [
        "import tensorflow as tf\n",
        "from trainer.tf_model import create_model, split_dataset\n",
        "\n",
        "(train_dataset, test_dataset) = split_dataset(dataset)\n",
        "model = create_model(dataset)\n",
        "\n",
        "model.summary()\n",
        "tf.keras.utils.plot_model(model, show_shapes=True)"
      ]
    },
    {
      "cell_type": "code",
      "execution_count": null,
      "metadata": {
        "colab": {
          "base_uri": "https://localhost:8080/"
        },
        "id": "LHHDV8DegqZ7",
        "outputId": "e406affd-7eb3-42bf-e57b-8c8dc1a20fcb"
      },
      "outputs": [
        {
          "name": "stdout",
          "output_type": "stream",
          "text": [
            "Epoch 1/5\n",
            "5/5 [==============================] - 195s 33s/step - loss: 2.0863 - one_hot_io_u_1: 0.1172 - val_loss: 1.8768 - val_one_hot_io_u_1: 0.1661\n",
            "Epoch 2/5\n",
            "5/5 [==============================] - 137s 28s/step - loss: 1.7655 - one_hot_io_u_1: 0.1955 - val_loss: 1.6627 - val_one_hot_io_u_1: 0.2288\n",
            "Epoch 3/5\n",
            "5/5 [==============================] - 136s 27s/step - loss: 1.5594 - one_hot_io_u_1: 0.2295 - val_loss: 1.4927 - val_one_hot_io_u_1: 0.2468\n",
            "Epoch 4/5\n",
            "5/5 [==============================] - 136s 27s/step - loss: 1.4437 - one_hot_io_u_1: 0.2481 - val_loss: 1.3854 - val_one_hot_io_u_1: 0.2659\n",
            "Epoch 5/5\n",
            "5/5 [==============================] - 136s 27s/step - loss: 1.3648 - one_hot_io_u_1: 0.2738 - val_loss: 1.3204 - val_one_hot_io_u_1: 0.2921\n"
          ]
        },
        {
          "name": "stderr",
          "output_type": "stream",
          "text": [
            "WARNING:absl:Found untraced functions such as _jit_compiled_convolution_op, _jit_compiled_convolution_op while saving (showing 2 of 2). These functions will not be directly callable after loading.\n"
          ]
        }
      ],
      "source": [
        "# Number of times to go through the training dataset.\n",
        "epochs = 5\n",
        "\n",
        "# Train the model.\n",
        "model.fit(train_dataset, validation_data=test_dataset, epochs=epochs)\n",
        "\n",
        "# Save it as files.\n",
        "model.save(\"model\")"
      ]
    },
    {
      "cell_type": "code",
      "execution_count": null,
      "metadata": {
        "colab": {
          "base_uri": "https://localhost:8080/",
          "height": 609
        },
        "id": "iWQ3Gnre1uaZ",
        "outputId": "4093a681-f51f-4c98-8846-1bb2f3088d2f"
      },
      "outputs": [
        {
          "name": "stdout",
          "output_type": "stream",
          "text": [
            "Looking in indexes: https://pypi.org/simple, https://us-python.pkg.dev/colab-wheels/public/simple/\n",
            "Requirement already satisfied: shapely in /usr/local/lib/python3.9/dist-packages (2.0.1)\n",
            "Requirement already satisfied: numpy>=1.14 in /usr/local/lib/python3.9/dist-packages (from shapely) (1.22.4)\n",
            "\u001b[33mWARNING: Running pip as the 'root' user can result in broken permissions and conflicting behaviour with the system package manager. It is recommended to use a virtual environment instead: https://pip.pypa.io/warnings/venv\u001b[0m\u001b[33m\n",
            "\u001b[0m"
          ]
        },
        {
          "ename": "ImportError",
          "evalue": "ignored",
          "output_type": "error",
          "traceback": [
            "\u001b[0;31m---------------------------------------------------------------------------\u001b[0m",
            "\u001b[0;31mImportError\u001b[0m                               Traceback (most recent call last)",
            "\u001b[0;32m<ipython-input-35-05d6c42b3ad2>\u001b[0m in \u001b[0;36m<module>\u001b[0;34m\u001b[0m\n\u001b[1;32m      1\u001b[0m \u001b[0mget_ipython\u001b[0m\u001b[0;34m(\u001b[0m\u001b[0;34m)\u001b[0m\u001b[0;34m.\u001b[0m\u001b[0msystem\u001b[0m\u001b[0;34m(\u001b[0m\u001b[0;34m'pip install shapely'\u001b[0m\u001b[0;34m)\u001b[0m\u001b[0;34m\u001b[0m\u001b[0;34m\u001b[0m\u001b[0m\n\u001b[0;32m----> 2\u001b[0;31m \u001b[0;32mfrom\u001b[0m \u001b[0mgoogle\u001b[0m\u001b[0;34m.\u001b[0m\u001b[0mcloud\u001b[0m \u001b[0;32mimport\u001b[0m \u001b[0maiplatform\u001b[0m\u001b[0;34m\u001b[0m\u001b[0;34m\u001b[0m\u001b[0m\n\u001b[0m\u001b[1;32m      3\u001b[0m \u001b[0;34m\u001b[0m\u001b[0m\n\u001b[1;32m      4\u001b[0m \u001b[0mepochs\u001b[0m \u001b[0;34m=\u001b[0m \u001b[0;36m100\u001b[0m\u001b[0;34m\u001b[0m\u001b[0;34m\u001b[0m\u001b[0m\n\u001b[1;32m      5\u001b[0m \u001b[0;34m\u001b[0m\u001b[0m\n",
            "\u001b[0;32m/usr/local/lib/python3.9/dist-packages/google/cloud/aiplatform/__init__.py\u001b[0m in \u001b[0;36m<module>\u001b[0;34m\u001b[0m\n\u001b[1;32m     22\u001b[0m \u001b[0;34m\u001b[0m\u001b[0m\n\u001b[1;32m     23\u001b[0m \u001b[0;34m\u001b[0m\u001b[0m\n\u001b[0;32m---> 24\u001b[0;31m \u001b[0;32mfrom\u001b[0m \u001b[0mgoogle\u001b[0m\u001b[0;34m.\u001b[0m\u001b[0mcloud\u001b[0m\u001b[0;34m.\u001b[0m\u001b[0maiplatform\u001b[0m \u001b[0;32mimport\u001b[0m \u001b[0minitializer\u001b[0m\u001b[0;34m\u001b[0m\u001b[0;34m\u001b[0m\u001b[0m\n\u001b[0m\u001b[1;32m     25\u001b[0m \u001b[0;34m\u001b[0m\u001b[0m\n\u001b[1;32m     26\u001b[0m from google.cloud.aiplatform.datasets import (\n",
            "\u001b[0;32m/usr/local/lib/python3.9/dist-packages/google/cloud/aiplatform/initializer.py\u001b[0m in \u001b[0;36m<module>\u001b[0;34m\u001b[0m\n\u001b[1;32m     32\u001b[0m \u001b[0;32mfrom\u001b[0m \u001b[0mgoogle\u001b[0m\u001b[0;34m.\u001b[0m\u001b[0mcloud\u001b[0m\u001b[0;34m.\u001b[0m\u001b[0maiplatform\u001b[0m\u001b[0;34m.\u001b[0m\u001b[0mconstants\u001b[0m \u001b[0;32mimport\u001b[0m \u001b[0mbase\u001b[0m \u001b[0;32mas\u001b[0m \u001b[0mconstants\u001b[0m\u001b[0;34m\u001b[0m\u001b[0;34m\u001b[0m\u001b[0m\n\u001b[1;32m     33\u001b[0m \u001b[0;32mfrom\u001b[0m \u001b[0mgoogle\u001b[0m\u001b[0;34m.\u001b[0m\u001b[0mcloud\u001b[0m\u001b[0;34m.\u001b[0m\u001b[0maiplatform\u001b[0m \u001b[0;32mimport\u001b[0m \u001b[0mutils\u001b[0m\u001b[0;34m\u001b[0m\u001b[0;34m\u001b[0m\u001b[0m\n\u001b[0;32m---> 34\u001b[0;31m \u001b[0;32mfrom\u001b[0m \u001b[0mgoogle\u001b[0m\u001b[0;34m.\u001b[0m\u001b[0mcloud\u001b[0m\u001b[0;34m.\u001b[0m\u001b[0maiplatform\u001b[0m\u001b[0;34m.\u001b[0m\u001b[0mmetadata\u001b[0m \u001b[0;32mimport\u001b[0m \u001b[0mmetadata\u001b[0m\u001b[0;34m\u001b[0m\u001b[0;34m\u001b[0m\u001b[0m\n\u001b[0m\u001b[1;32m     35\u001b[0m \u001b[0;32mfrom\u001b[0m \u001b[0mgoogle\u001b[0m\u001b[0;34m.\u001b[0m\u001b[0mcloud\u001b[0m\u001b[0;34m.\u001b[0m\u001b[0maiplatform\u001b[0m\u001b[0;34m.\u001b[0m\u001b[0mutils\u001b[0m \u001b[0;32mimport\u001b[0m \u001b[0mresource_manager_utils\u001b[0m\u001b[0;34m\u001b[0m\u001b[0;34m\u001b[0m\u001b[0m\n\u001b[1;32m     36\u001b[0m \u001b[0;32mfrom\u001b[0m \u001b[0mgoogle\u001b[0m\u001b[0;34m.\u001b[0m\u001b[0mcloud\u001b[0m\u001b[0;34m.\u001b[0m\u001b[0maiplatform\u001b[0m\u001b[0;34m.\u001b[0m\u001b[0mtensorboard\u001b[0m \u001b[0;32mimport\u001b[0m \u001b[0mtensorboard_resource\u001b[0m\u001b[0;34m\u001b[0m\u001b[0;34m\u001b[0m\u001b[0m\n",
            "\u001b[0;32m/usr/local/lib/python3.9/dist-packages/google/cloud/aiplatform/metadata/metadata.py\u001b[0m in \u001b[0;36m<module>\u001b[0;34m\u001b[0m\n\u001b[1;32m     24\u001b[0m \u001b[0;32mfrom\u001b[0m \u001b[0mgoogle\u001b[0m\u001b[0;34m.\u001b[0m\u001b[0mcloud\u001b[0m\u001b[0;34m.\u001b[0m\u001b[0maiplatform\u001b[0m \u001b[0;32mimport\u001b[0m \u001b[0mbase\u001b[0m\u001b[0;34m\u001b[0m\u001b[0;34m\u001b[0m\u001b[0m\n\u001b[1;32m     25\u001b[0m \u001b[0;32mfrom\u001b[0m \u001b[0mgoogle\u001b[0m\u001b[0;34m.\u001b[0m\u001b[0mcloud\u001b[0m\u001b[0;34m.\u001b[0m\u001b[0maiplatform\u001b[0m \u001b[0;32mimport\u001b[0m \u001b[0mgapic\u001b[0m\u001b[0;34m\u001b[0m\u001b[0;34m\u001b[0m\u001b[0m\n\u001b[0;32m---> 26\u001b[0;31m \u001b[0;32mfrom\u001b[0m \u001b[0mgoogle\u001b[0m\u001b[0;34m.\u001b[0m\u001b[0mcloud\u001b[0m\u001b[0;34m.\u001b[0m\u001b[0maiplatform\u001b[0m \u001b[0;32mimport\u001b[0m \u001b[0mpipeline_jobs\u001b[0m\u001b[0;34m\u001b[0m\u001b[0;34m\u001b[0m\u001b[0m\n\u001b[0m\u001b[1;32m     27\u001b[0m \u001b[0;32mfrom\u001b[0m \u001b[0mgoogle\u001b[0m\u001b[0;34m.\u001b[0m\u001b[0mcloud\u001b[0m\u001b[0;34m.\u001b[0m\u001b[0maiplatform\u001b[0m\u001b[0;34m.\u001b[0m\u001b[0mcompat\u001b[0m\u001b[0;34m.\u001b[0m\u001b[0mtypes\u001b[0m \u001b[0;32mimport\u001b[0m \u001b[0mexecution\u001b[0m \u001b[0;32mas\u001b[0m \u001b[0mgca_execution\u001b[0m\u001b[0;34m\u001b[0m\u001b[0;34m\u001b[0m\u001b[0m\n\u001b[1;32m     28\u001b[0m \u001b[0;32mfrom\u001b[0m \u001b[0mgoogle\u001b[0m\u001b[0;34m.\u001b[0m\u001b[0mcloud\u001b[0m\u001b[0;34m.\u001b[0m\u001b[0maiplatform\u001b[0m\u001b[0;34m.\u001b[0m\u001b[0mmetadata\u001b[0m \u001b[0;32mimport\u001b[0m \u001b[0mconstants\u001b[0m\u001b[0;34m\u001b[0m\u001b[0;34m\u001b[0m\u001b[0m\n",
            "\u001b[0;32m/usr/local/lib/python3.9/dist-packages/google/cloud/aiplatform/pipeline_jobs.py\u001b[0m in \u001b[0;36m<module>\u001b[0;34m\u001b[0m\n\u001b[1;32m     29\u001b[0m \u001b[0;32mfrom\u001b[0m \u001b[0mgoogle\u001b[0m\u001b[0;34m.\u001b[0m\u001b[0mcloud\u001b[0m\u001b[0;34m.\u001b[0m\u001b[0maiplatform\u001b[0m \u001b[0;32mimport\u001b[0m \u001b[0mutils\u001b[0m\u001b[0;34m\u001b[0m\u001b[0;34m\u001b[0m\u001b[0m\n\u001b[1;32m     30\u001b[0m \u001b[0;32mfrom\u001b[0m \u001b[0mgoogle\u001b[0m\u001b[0;34m.\u001b[0m\u001b[0mcloud\u001b[0m\u001b[0;34m.\u001b[0m\u001b[0maiplatform\u001b[0m\u001b[0;34m.\u001b[0m\u001b[0mconstants\u001b[0m \u001b[0;32mimport\u001b[0m \u001b[0mpipeline\u001b[0m \u001b[0;32mas\u001b[0m \u001b[0mpipeline_constants\u001b[0m\u001b[0;34m\u001b[0m\u001b[0;34m\u001b[0m\u001b[0m\n\u001b[0;32m---> 31\u001b[0;31m \u001b[0;32mfrom\u001b[0m \u001b[0mgoogle\u001b[0m\u001b[0;34m.\u001b[0m\u001b[0mcloud\u001b[0m\u001b[0;34m.\u001b[0m\u001b[0maiplatform\u001b[0m\u001b[0;34m.\u001b[0m\u001b[0mmetadata\u001b[0m \u001b[0;32mimport\u001b[0m \u001b[0martifact\u001b[0m\u001b[0;34m\u001b[0m\u001b[0;34m\u001b[0m\u001b[0m\n\u001b[0m\u001b[1;32m     32\u001b[0m \u001b[0;32mfrom\u001b[0m \u001b[0mgoogle\u001b[0m\u001b[0;34m.\u001b[0m\u001b[0mcloud\u001b[0m\u001b[0;34m.\u001b[0m\u001b[0maiplatform\u001b[0m\u001b[0;34m.\u001b[0m\u001b[0mmetadata\u001b[0m \u001b[0;32mimport\u001b[0m \u001b[0mcontext\u001b[0m\u001b[0;34m\u001b[0m\u001b[0;34m\u001b[0m\u001b[0m\n\u001b[1;32m     33\u001b[0m \u001b[0;32mfrom\u001b[0m \u001b[0mgoogle\u001b[0m\u001b[0;34m.\u001b[0m\u001b[0mcloud\u001b[0m\u001b[0;34m.\u001b[0m\u001b[0maiplatform\u001b[0m\u001b[0;34m.\u001b[0m\u001b[0mmetadata\u001b[0m \u001b[0;32mimport\u001b[0m \u001b[0mexecution\u001b[0m\u001b[0;34m\u001b[0m\u001b[0;34m\u001b[0m\u001b[0m\n",
            "\u001b[0;32m/usr/local/lib/python3.9/dist-packages/google/cloud/aiplatform/metadata/artifact.py\u001b[0m in \u001b[0;36m<module>\u001b[0;34m\u001b[0m\n\u001b[1;32m     23\u001b[0m \u001b[0;34m\u001b[0m\u001b[0m\n\u001b[1;32m     24\u001b[0m \u001b[0;32mfrom\u001b[0m \u001b[0mgoogle\u001b[0m\u001b[0;34m.\u001b[0m\u001b[0mcloud\u001b[0m\u001b[0;34m.\u001b[0m\u001b[0maiplatform\u001b[0m \u001b[0;32mimport\u001b[0m \u001b[0mbase\u001b[0m\u001b[0;34m\u001b[0m\u001b[0;34m\u001b[0m\u001b[0m\n\u001b[0;32m---> 25\u001b[0;31m \u001b[0;32mfrom\u001b[0m \u001b[0mgoogle\u001b[0m\u001b[0;34m.\u001b[0m\u001b[0mcloud\u001b[0m\u001b[0;34m.\u001b[0m\u001b[0maiplatform\u001b[0m \u001b[0;32mimport\u001b[0m \u001b[0mmodels\u001b[0m\u001b[0;34m\u001b[0m\u001b[0;34m\u001b[0m\u001b[0m\n\u001b[0m\u001b[1;32m     26\u001b[0m \u001b[0;32mfrom\u001b[0m \u001b[0mgoogle\u001b[0m\u001b[0;34m.\u001b[0m\u001b[0mcloud\u001b[0m\u001b[0;34m.\u001b[0m\u001b[0maiplatform\u001b[0m \u001b[0;32mimport\u001b[0m \u001b[0mutils\u001b[0m\u001b[0;34m\u001b[0m\u001b[0;34m\u001b[0m\u001b[0m\n\u001b[1;32m     27\u001b[0m \u001b[0;32mfrom\u001b[0m \u001b[0mgoogle\u001b[0m\u001b[0;34m.\u001b[0m\u001b[0mcloud\u001b[0m\u001b[0;34m.\u001b[0m\u001b[0maiplatform\u001b[0m\u001b[0;34m.\u001b[0m\u001b[0mcompat\u001b[0m\u001b[0;34m.\u001b[0m\u001b[0mtypes\u001b[0m \u001b[0;32mimport\u001b[0m \u001b[0martifact\u001b[0m \u001b[0;32mas\u001b[0m \u001b[0mgca_artifact\u001b[0m\u001b[0;34m\u001b[0m\u001b[0;34m\u001b[0m\u001b[0m\n",
            "\u001b[0;32m/usr/local/lib/python3.9/dist-packages/google/cloud/aiplatform/models.py\u001b[0m in \u001b[0;36m<module>\u001b[0;34m\u001b[0m\n\u001b[1;32m     44\u001b[0m \u001b[0;32mfrom\u001b[0m \u001b[0mgoogle\u001b[0m\u001b[0;34m.\u001b[0m\u001b[0mcloud\u001b[0m\u001b[0;34m.\u001b[0m\u001b[0maiplatform\u001b[0m \u001b[0;32mimport\u001b[0m \u001b[0mexplain\u001b[0m\u001b[0;34m\u001b[0m\u001b[0;34m\u001b[0m\u001b[0m\n\u001b[1;32m     45\u001b[0m \u001b[0;32mfrom\u001b[0m \u001b[0mgoogle\u001b[0m\u001b[0;34m.\u001b[0m\u001b[0mcloud\u001b[0m\u001b[0;34m.\u001b[0m\u001b[0maiplatform\u001b[0m \u001b[0;32mimport\u001b[0m \u001b[0minitializer\u001b[0m\u001b[0;34m\u001b[0m\u001b[0;34m\u001b[0m\u001b[0m\n\u001b[0;32m---> 46\u001b[0;31m \u001b[0;32mfrom\u001b[0m \u001b[0mgoogle\u001b[0m\u001b[0;34m.\u001b[0m\u001b[0mcloud\u001b[0m\u001b[0;34m.\u001b[0m\u001b[0maiplatform\u001b[0m \u001b[0;32mimport\u001b[0m \u001b[0mjobs\u001b[0m\u001b[0;34m\u001b[0m\u001b[0;34m\u001b[0m\u001b[0m\n\u001b[0m\u001b[1;32m     47\u001b[0m \u001b[0;32mfrom\u001b[0m \u001b[0mgoogle\u001b[0m\u001b[0;34m.\u001b[0m\u001b[0mcloud\u001b[0m\u001b[0;34m.\u001b[0m\u001b[0maiplatform\u001b[0m \u001b[0;32mimport\u001b[0m \u001b[0mmodels\u001b[0m\u001b[0;34m\u001b[0m\u001b[0;34m\u001b[0m\u001b[0m\n\u001b[1;32m     48\u001b[0m \u001b[0;32mfrom\u001b[0m \u001b[0mgoogle\u001b[0m\u001b[0;34m.\u001b[0m\u001b[0mcloud\u001b[0m\u001b[0;34m.\u001b[0m\u001b[0maiplatform\u001b[0m \u001b[0;32mimport\u001b[0m \u001b[0mutils\u001b[0m\u001b[0;34m\u001b[0m\u001b[0;34m\u001b[0m\u001b[0m\n",
            "\u001b[0;32m/usr/local/lib/python3.9/dist-packages/google/cloud/aiplatform/jobs.py\u001b[0m in \u001b[0;36m<module>\u001b[0;34m\u001b[0m\n\u001b[1;32m     24\u001b[0m \u001b[0;34m\u001b[0m\u001b[0m\n\u001b[1;32m     25\u001b[0m \u001b[0;32mfrom\u001b[0m \u001b[0mgoogle\u001b[0m\u001b[0;34m.\u001b[0m\u001b[0mcloud\u001b[0m \u001b[0;32mimport\u001b[0m \u001b[0mstorage\u001b[0m\u001b[0;34m\u001b[0m\u001b[0;34m\u001b[0m\u001b[0m\n\u001b[0;32m---> 26\u001b[0;31m \u001b[0;32mfrom\u001b[0m \u001b[0mgoogle\u001b[0m\u001b[0;34m.\u001b[0m\u001b[0mcloud\u001b[0m \u001b[0;32mimport\u001b[0m \u001b[0mbigquery\u001b[0m\u001b[0;34m\u001b[0m\u001b[0;34m\u001b[0m\u001b[0m\n\u001b[0m\u001b[1;32m     27\u001b[0m \u001b[0;34m\u001b[0m\u001b[0m\n\u001b[1;32m     28\u001b[0m \u001b[0;32mfrom\u001b[0m \u001b[0mgoogle\u001b[0m\u001b[0;34m.\u001b[0m\u001b[0mauth\u001b[0m \u001b[0;32mimport\u001b[0m \u001b[0mcredentials\u001b[0m \u001b[0;32mas\u001b[0m \u001b[0mauth_credentials\u001b[0m\u001b[0;34m\u001b[0m\u001b[0;34m\u001b[0m\u001b[0m\n",
            "\u001b[0;32m/usr/local/lib/python3.9/dist-packages/google/cloud/bigquery/__init__.py\u001b[0m in \u001b[0;36m<module>\u001b[0;34m\u001b[0m\n\u001b[1;32m     33\u001b[0m \u001b[0m__version__\u001b[0m \u001b[0;34m=\u001b[0m \u001b[0mbigquery_version\u001b[0m\u001b[0;34m.\u001b[0m\u001b[0m__version__\u001b[0m\u001b[0;34m\u001b[0m\u001b[0;34m\u001b[0m\u001b[0m\n\u001b[1;32m     34\u001b[0m \u001b[0;34m\u001b[0m\u001b[0m\n\u001b[0;32m---> 35\u001b[0;31m \u001b[0;32mfrom\u001b[0m \u001b[0mgoogle\u001b[0m\u001b[0;34m.\u001b[0m\u001b[0mcloud\u001b[0m\u001b[0;34m.\u001b[0m\u001b[0mbigquery\u001b[0m\u001b[0;34m.\u001b[0m\u001b[0mclient\u001b[0m \u001b[0;32mimport\u001b[0m \u001b[0mClient\u001b[0m\u001b[0;34m\u001b[0m\u001b[0;34m\u001b[0m\u001b[0m\n\u001b[0m\u001b[1;32m     36\u001b[0m \u001b[0;32mfrom\u001b[0m \u001b[0mgoogle\u001b[0m\u001b[0;34m.\u001b[0m\u001b[0mcloud\u001b[0m\u001b[0;34m.\u001b[0m\u001b[0mbigquery\u001b[0m\u001b[0;34m.\u001b[0m\u001b[0mdataset\u001b[0m \u001b[0;32mimport\u001b[0m \u001b[0mAccessEntry\u001b[0m\u001b[0;34m\u001b[0m\u001b[0;34m\u001b[0m\u001b[0m\n\u001b[1;32m     37\u001b[0m \u001b[0;32mfrom\u001b[0m \u001b[0mgoogle\u001b[0m\u001b[0;34m.\u001b[0m\u001b[0mcloud\u001b[0m\u001b[0;34m.\u001b[0m\u001b[0mbigquery\u001b[0m\u001b[0;34m.\u001b[0m\u001b[0mdataset\u001b[0m \u001b[0;32mimport\u001b[0m \u001b[0mDataset\u001b[0m\u001b[0;34m\u001b[0m\u001b[0;34m\u001b[0m\u001b[0m\n",
            "\u001b[0;32m/usr/local/lib/python3.9/dist-packages/google/cloud/bigquery/client.py\u001b[0m in \u001b[0;36m<module>\u001b[0;34m\u001b[0m\n\u001b[1;32m     72\u001b[0m \u001b[0;32mfrom\u001b[0m \u001b[0mgoogle\u001b[0m\u001b[0;34m.\u001b[0m\u001b[0mcloud\u001b[0m\u001b[0;34m.\u001b[0m\u001b[0mbigquery\u001b[0m\u001b[0;34m.\u001b[0m\u001b[0m_helpers\u001b[0m \u001b[0;32mimport\u001b[0m \u001b[0m_verify_job_config_type\u001b[0m\u001b[0;34m\u001b[0m\u001b[0;34m\u001b[0m\u001b[0m\n\u001b[1;32m     73\u001b[0m \u001b[0;32mfrom\u001b[0m \u001b[0mgoogle\u001b[0m\u001b[0;34m.\u001b[0m\u001b[0mcloud\u001b[0m\u001b[0;34m.\u001b[0m\u001b[0mbigquery\u001b[0m\u001b[0;34m.\u001b[0m\u001b[0m_http\u001b[0m \u001b[0;32mimport\u001b[0m \u001b[0mConnection\u001b[0m\u001b[0;34m\u001b[0m\u001b[0;34m\u001b[0m\u001b[0m\n\u001b[0;32m---> 74\u001b[0;31m \u001b[0;32mfrom\u001b[0m \u001b[0mgoogle\u001b[0m\u001b[0;34m.\u001b[0m\u001b[0mcloud\u001b[0m\u001b[0;34m.\u001b[0m\u001b[0mbigquery\u001b[0m \u001b[0;32mimport\u001b[0m \u001b[0m_pandas_helpers\u001b[0m\u001b[0;34m\u001b[0m\u001b[0;34m\u001b[0m\u001b[0m\n\u001b[0m\u001b[1;32m     75\u001b[0m \u001b[0;32mfrom\u001b[0m \u001b[0mgoogle\u001b[0m\u001b[0;34m.\u001b[0m\u001b[0mcloud\u001b[0m\u001b[0;34m.\u001b[0m\u001b[0mbigquery\u001b[0m\u001b[0;34m.\u001b[0m\u001b[0mdataset\u001b[0m \u001b[0;32mimport\u001b[0m \u001b[0mDataset\u001b[0m\u001b[0;34m\u001b[0m\u001b[0;34m\u001b[0m\u001b[0m\n\u001b[1;32m     76\u001b[0m \u001b[0;32mfrom\u001b[0m \u001b[0mgoogle\u001b[0m\u001b[0;34m.\u001b[0m\u001b[0mcloud\u001b[0m\u001b[0;34m.\u001b[0m\u001b[0mbigquery\u001b[0m\u001b[0;34m.\u001b[0m\u001b[0mdataset\u001b[0m \u001b[0;32mimport\u001b[0m \u001b[0mDatasetListItem\u001b[0m\u001b[0;34m\u001b[0m\u001b[0;34m\u001b[0m\u001b[0m\n",
            "\u001b[0;32m/usr/local/lib/python3.9/dist-packages/google/cloud/bigquery/_pandas_helpers.py\u001b[0m in \u001b[0;36m<module>\u001b[0;34m\u001b[0m\n\u001b[1;32m     54\u001b[0m             \u001b[0;32mreturn\u001b[0m \u001b[0m_to_wkb\u001b[0m\u001b[0;34m\u001b[0m\u001b[0;34m\u001b[0m\u001b[0m\n\u001b[1;32m     55\u001b[0m \u001b[0;34m\u001b[0m\u001b[0m\n\u001b[0;32m---> 56\u001b[0;31m         \u001b[0m_to_wkb\u001b[0m \u001b[0;34m=\u001b[0m \u001b[0m_to_wkb\u001b[0m\u001b[0;34m(\u001b[0m\u001b[0;34m)\u001b[0m\u001b[0;34m\u001b[0m\u001b[0;34m\u001b[0m\u001b[0m\n\u001b[0m\u001b[1;32m     57\u001b[0m \u001b[0;34m\u001b[0m\u001b[0m\n\u001b[1;32m     58\u001b[0m \u001b[0;32mtry\u001b[0m\u001b[0;34m:\u001b[0m\u001b[0;34m\u001b[0m\u001b[0;34m\u001b[0m\u001b[0m\n",
            "\u001b[0;32m/usr/local/lib/python3.9/dist-packages/google/cloud/bigquery/_pandas_helpers.py\u001b[0m in \u001b[0;36m_to_wkb\u001b[0;34m()\u001b[0m\n\u001b[1;32m     44\u001b[0m             \u001b[0;31m# - Caches the WKBWriter (and write method lookup :) )\u001b[0m\u001b[0;34m\u001b[0m\u001b[0;34m\u001b[0m\u001b[0m\n\u001b[1;32m     45\u001b[0m             \u001b[0;31m# - Avoids adding WKBWriter, lgeos, and notnull to the module namespace.\u001b[0m\u001b[0;34m\u001b[0m\u001b[0;34m\u001b[0m\u001b[0m\n\u001b[0;32m---> 46\u001b[0;31m             \u001b[0;32mfrom\u001b[0m \u001b[0mshapely\u001b[0m\u001b[0;34m.\u001b[0m\u001b[0mgeos\u001b[0m \u001b[0;32mimport\u001b[0m \u001b[0mWKBWriter\u001b[0m\u001b[0;34m,\u001b[0m \u001b[0mlgeos\u001b[0m  \u001b[0;31m# type: ignore\u001b[0m\u001b[0;34m\u001b[0m\u001b[0;34m\u001b[0m\u001b[0m\n\u001b[0m\u001b[1;32m     47\u001b[0m \u001b[0;34m\u001b[0m\u001b[0m\n\u001b[1;32m     48\u001b[0m             \u001b[0mwrite\u001b[0m \u001b[0;34m=\u001b[0m \u001b[0mWKBWriter\u001b[0m\u001b[0;34m(\u001b[0m\u001b[0mlgeos\u001b[0m\u001b[0;34m)\u001b[0m\u001b[0;34m.\u001b[0m\u001b[0mwrite\u001b[0m\u001b[0;34m\u001b[0m\u001b[0;34m\u001b[0m\u001b[0m\n",
            "\u001b[0;31mImportError\u001b[0m: cannot import name 'WKBWriter' from 'shapely.geos' (/usr/local/lib/python3.9/dist-packages/shapely/geos.py)",
            "",
            "\u001b[0;31m---------------------------------------------------------------------------\u001b[0;32m\nNOTE: If your import is failing due to a missing package, you can\nmanually install dependencies using either !pip or !apt.\n\nTo view examples of installing some common dependencies, click the\n\"Open Examples\" button below.\n\u001b[0;31m---------------------------------------------------------------------------\u001b[0m\n"
          ]
        }
      ],
      "source": [
        "!pip install shapely\n",
        "from google.cloud import aiplatform\n",
        "\n",
        "epochs = 100\n",
        "\n",
        "aiplatform.init(project=project, location=location, staging_bucket=bucket)\n",
        "\n",
        "# https://cloud.google.com/python/docs/reference/aiplatform/latest/google.cloud.aiplatform.CustomTrainingJob\n",
        "job = aiplatform.CustomTrainingJob(\n",
        "    display_name=f\"land-cover\",\n",
        "    script_path=\"trainer/tf_model.py\",\n",
        "    container_uri=\"us-docker.pkg.dev/vertex-ai/training/tf-gpu.2-9:latest\",\n",
        ")\n",
        "\n",
        "job.run(\n",
        "    machine_type='n1-highmem-8',\n",
        "    accelerator_type='NVIDIA_TESLA_T4',\n",
        "    accelerator_count=1,\n",
        "    args=[\n",
        "        f\"--data-path=/gcs/{bucket}/land-cover/data\",\n",
        "        f\"--model-path=/gcs/{bucket}/land-cover/model-large\",\n",
        "        f\"--epochs={epochs}\",\n",
        "    ],\n",
        ")"
      ]
    },
    {
      "cell_type": "markdown",
      "metadata": {
        "id": "AboF_pMw6-15"
      },
      "source": [
        "## ☁️ Cloud Run predictions\n",
        "\n",
        "[Cloud Run](https://cloud.google.com/run) allows us to deploy\n",
        "[_serverless_](https://en.wikipedia.org/wiki/Serverless_computing)\n",
        "web services with a\n",
        "[REST API](https://en.wikipedia.org/wiki/Representational_state_transfer).\n",
        "Cloud Run autoscales from zero workers when there are no requests, to enough workers to handle high traffic of requests.\n",
        "It's a great and efficient option to host a predictions server without having to have servers up and running all the time.\n",
        "\n",
        "Cloud Run autoscales from zero workers when there are no requests, to enough workers to handle high traffic of requests.\n",
        "It's a great and efficient option to host a predictions server without having to have servers up and running all the time.\n",
        "\n",
        "We deploy our service to Cloud Run\n",
        "[directly from source code](https://cloud.google.com/run/docs/deploying-source-code)\n",
        "so we don't need to build the container image first.\n",
        "Behind the scenes, this command uses Google Cloud [Buildpacks](https://buildpacks.io/) and\n",
        "[Cloud Build](https://cloud.google.com/build)\n",
        "to automatically build a container image from our source code in the [`serving`](serving) directory.\n",
        "\n",
        "TensorFlow can use a lot of memory, so we increase the\n",
        "[memory limit](https://cloud.google.com/run/docs/configuring/memory-limits)\n",
        "for our service to 1GB.\n",
        "We also want to define a default model to use by passing an\n",
        "[environment variable](https://cloud.google.com/run/docs/configuring/environment-variables)\n",
        "to our container image.\n",
        "We can override the model path via the `model-path`\n",
        "[URL query parameter](https://en.wikipedia.org/wiki/Query_string).\n",
        "For Cloud Run to access the model, it _must_ be in Cloud Storage.\n",
        "\n",
        "> <button>\n",
        ">\n",
        "> [![Open in GitHub](https://www.tensorflow.org/images/GitHub-Mark-32px.png) `serving/main.py`](serving/main.py)\n",
        "> </button>"
      ]
    },
    {
      "cell_type": "code",
      "execution_count": null,
      "metadata": {
        "colab": {
          "base_uri": "https://localhost:8080/"
        },
        "id": "3OtnjGg46nd5",
        "outputId": "ce1bfc85-b32c-4887-b0b6-574fbe4d9c3c"
      },
      "outputs": [
        {
          "name": "stdout",
          "output_type": "stream",
          "text": [
            "API [artifactregistry.googleapis.com] not enabled on project [978289642310]. \n",
            "Would you like to enable and retry (this will take a few minutes)? (y/N)?  y\n",
            "\n",
            "Enabling service [artifactregistry.googleapis.com] on project [978289642310]...\n",
            "Operation \"operations/acat.p2-978289642310-91bf02ea-2fcc-4ea3-937a-ccb1b3df4e9c\" finished successfully.\n",
            "Deploying from source requires an Artifact Registry Docker repository to store \n",
            "built containers. A repository named [cloud-run-source-deploy] in region \n",
            "[us-central1] will be created.\n",
            "\n",
            "Do you want to continue (Y/n)?  y\n",
            "\n",
            "This command is equivalent to running `gcloud builds submit --pack image=[IMAGE] serving/` and `gcloud run deploy land-cover --image [IMAGE]`\n",
            "\n",
            "Building using Buildpacks and deploying container to Cloud Run service [\u001b[1mland-cover\u001b[m] in project [\u001b[1mls-test-3-24\u001b[m] region [\u001b[1mus-central1\u001b[m]\n",
            "API [cloudbuild.googleapis.com] not enabled on project [978289642310]. Would you\n",
            " like to enable and retry (this will take a few minutes)? (y/N)?  y\n",
            "\n",
            "Enabling service [cloudbuild.googleapis.com] on project [978289642310]...\n",
            "Operation \"operations/acf.p2-978289642310-0100ab5d-a22c-4f31-b7d3-5827f808751f\" finished successfully.\n"
          ]
        }
      ],
      "source": [
        "service_name = \"land-cover\"\n",
        "model_path = f\"gs://{bucket}/land-cover/model\"\n",
        "\n",
        "!gcloud run deploy {service_name} \\\n",
        "  --source=\"serving/\" \\\n",
        "  --region=\"{location}\" \\\n",
        "  --update-env-vars=\"MODEL_PATH={model_path}\" \\\n",
        "  --memory=\"1G\" \\\n",
        "  --no-allow-unauthenticated"
      ]
    },
    {
      "cell_type": "markdown",
      "metadata": {
        "id": "qA4p0O827PFa"
      },
      "source": [
        "> 💡 Look at your Cloud Run services: https://console.cloud.google.com/run\n",
        "\n",
        "When the Cloud Run service is deployed, you'll see some information including the Service URL.\n",
        "\n",
        "We can also get the URL from the Cloud Console, or with [`gcloud run services describe`](https://cloud.google.com/sdk/gcloud/reference/run/services/describe).\n"
      ]
    },
    {
      "cell_type": "code",
      "execution_count": null,
      "metadata": {
        "id": "0zjlCgL27RXs"
      },
      "outputs": [],
      "source": [
        "import subprocess\n",
        "\n",
        "cmd = [\"gcloud\", \"run\", \"services\", \"describe\", service_name, f\"--region={location}\", \"--format=get(status.url)\"]\n",
        "model_url = subprocess.run(cmd, check=True, stdout=subprocess.PIPE).stdout.decode('utf-8').strip()\n",
        "print(f\"model_url: {model_url}\")"
      ]
    },
    {
      "cell_type": "markdown",
      "metadata": {
        "id": "IEcQDR8H7Xcr"
      },
      "source": [
        "Since we only accept authorized calls in our web service, we also need to authenticate each call.\n",
        "\n",
        "Colab notebooks aren't tied to a Service Account, so we can't get the identity token here.\n",
        "\n",
        "Run this command in your **local terminal** or in [**Cloud Shell**](https://shell.cloud.google.com/?show=terminal), and then copy-paste your **🔑 Identity token** from the output of the command into the following variable and run that cell.\n",
        "\n",
        "```sh\n",
        "# Run in a terminal and copy-paste the outputs.\n",
        "gcloud auth print-identity-token\n",
        "```"
      ]
    },
    {
      "cell_type": "code",
      "execution_count": null,
      "metadata": {
        "id": "C2krN2dH7c4x"
      },
      "outputs": [],
      "source": [
        "identity_token = \"\" #@param {type:\"string\"}"
      ]
    },
    {
      "cell_type": "markdown",
      "metadata": {
        "id": "hW6ROz8a7j_4"
      },
      "source": [
        "> 💡 Your identity token changes over time, so you might need to generate a new one if you're getting authentication errors.\n",
        "\n",
        "> 💡 To learn more on how to authenticate to Cloud Run, see the\n",
        "> [Authentication overview](https://cloud.google.com/run/docs/authenticating/overview) page.\n",
        "\n",
        "Now let's get some predictions from our Cloud Run service.\n",
        "The service first gets the input data from Earth Engine, gets the predictions and returns them as JSON."
      ]
    },
    {
      "cell_type": "code",
      "execution_count": null,
      "metadata": {
        "id": "nDePlGhh7lFl"
      },
      "outputs": [],
      "source": [
        "import numpy as np\n",
        "import requests\n",
        "\n",
        "response = requests.get(\n",
        "    f\"{model_url}/predict/-121.526/39.781/2018\",\n",
        "    headers={\"Authorization\": f\"Bearer {identity_token}\"},\n",
        "    params={\"patch-size\": 512},\n",
        ")\n",
        "\n",
        "response.raise_for_status()\n",
        "results = response.json()\n",
        "\n",
        "predictions = np.array(results['predictions'], np.uint8)\n",
        "print(f\"predictions : {predictions.dtype.name} {predictions.shape}\")"
      ]
    },
    {
      "cell_type": "code",
      "execution_count": null,
      "metadata": {
        "id": "_ViOKYO57qNZ"
      },
      "outputs": [],
      "source": [
        "from visualize import show_outputs\n",
        "\n",
        "show_outputs(predictions[:, :, None])"
      ]
    },
    {
      "cell_type": "markdown",
      "metadata": {
        "id": "XaZMDCyV7wjY"
      },
      "source": [
        "> 💡 We return the prediction results as plain JSON since it's simple and human-readable.\n",
        "> If you're expecting large outputs, it might be a good idea to serialize and compress the predictions response before sending them, but the receiving end would have to decompress and deserialize the results back.\n",
        "> You could also write large results to a Cloud Storage location."
      ]
    }
  ],
  "metadata": {
    "accelerator": "TPU",
    "colab": {
      "machine_shape": "hm",
      "provenance": [],
      "include_colab_link": true
    },
    "gpuClass": "premium",
    "kernelspec": {
      "display_name": "Python 3",
      "name": "python3"
    }
  },
  "nbformat": 4,
  "nbformat_minor": 0
}