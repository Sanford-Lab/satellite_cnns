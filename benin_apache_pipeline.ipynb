{
  "cells": [
    {
      "cell_type": "markdown",
      "metadata": {
        "id": "view-in-github",
        "colab_type": "text"
      },
      "source": [
        "<a href=\"https://colab.research.google.com/github/Sanford-Lab/satellite_cnns/blob/main/benin_apache_pipeline.ipynb\" target=\"_parent\"><img src=\"https://colab.research.google.com/assets/colab-badge.svg\" alt=\"Open In Colab\"/></a>"
      ]
    },
    {
      "cell_type": "markdown",
      "metadata": {
        "id": "_SHAc5qbiR8l"
      },
      "source": [
        "# Introduction\n",
        "\n",
        "This notebook is based on the tutorial for [land cover classification.](https://colab.research.google.com/github/GoogleCloudPlatform/python-docs-samples/blob/main/people-and-planet-ai/land-cover-classification/cloud-tensorflow.ipynb#scrollTo=D8Kwmqa8CpQV) and [weather forcasting](https://github.com/GoogleCloudPlatform/python-docs-samples/tree/main/people-and-planet-ai/weather-forecasting).\n",
        "\n",
        "Our current objective is to prepare a dataset of Benin which will be used to train a model to predict which pixels belong to a village. We wish to take in the feature collection from 'projects/satellite-cnns/assets/benin/voronoi_villages' which has circles around villages in Benin and use this as a target for prediction. As input, we wish to use landsat 7 imagery of Benin.\n",
        "\n",
        "The notebook has the sections:\n",
        "\n",
        "\n",
        "1.   Setup\n",
        "2.   Pull defined functions for dataset creation and sampling\n",
        "3.   Create pipeline and do data export\n",
        "4. Read data\n",
        "\n",
        "Sections 1-2 closely follow the tutorial notebook and appear to be working. Section 3 has been updated to follow the weather forcasting sample by using compressed NumPy files instead of TFrecord files.\n",
        "\n",
        "dd: **Moved change notes to [CHANGELOG.md](CHANGELOG.md)**\n",
        "\n",
        "rb: **Need to update changelog and clean data.py a little, LS C2 composite works now**\n",
        "\n",
        "\n"
      ]
    },
    {
      "cell_type": "markdown",
      "metadata": {
        "id": "_MJ4kW1pEhwP"
      },
      "source": [
        "# Setup"
      ]
    },
    {
      "cell_type": "code",
      "execution_count": 26,
      "metadata": {
        "colab": {
          "base_uri": "https://localhost:8080/"
        },
        "id": "Mh4fElJHEplh",
        "outputId": "d2561aa8-8984-4b24-d44f-90a0da925541"
      },
      "outputs": [
        {
          "output_type": "stream",
          "name": "stdout",
          "text": [
            "/content\n"
          ]
        }
      ],
      "source": [
        "%rm -r /content/satellite_cnns\n",
        "%cd /content"
      ]
    },
    {
      "cell_type": "code",
      "execution_count": 27,
      "metadata": {
        "id": "AHIHF4D6FORr"
      },
      "outputs": [],
      "source": [
        "branch = \"main\""
      ]
    },
    {
      "cell_type": "code",
      "execution_count": 28,
      "metadata": {
        "colab": {
          "base_uri": "https://localhost:8080/"
        },
        "id": "as3xyWjhClJy",
        "outputId": "622b565f-8ca7-48ab-b7a3-50c542016860"
      },
      "outputs": [
        {
          "output_type": "stream",
          "name": "stdout",
          "text": [
            "Cloning into 'satellite_cnns'...\n",
            "remote: Enumerating objects: 803, done.\u001b[K\n",
            "remote: Counting objects: 100% (242/242), done.\u001b[K\n",
            "remote: Compressing objects: 100% (230/230), done.\u001b[K\n",
            "remote: Total 803 (delta 65), reused 24 (delta 12), pack-reused 561\u001b[K\n",
            "Receiving objects: 100% (803/803), 4.79 MiB | 9.06 MiB/s, done.\n",
            "Resolving deltas: 100% (418/418), done.\n",
            "/content/satellite_cnns\n"
          ]
        }
      ],
      "source": [
        "# Clone from SPIRES Repo\n",
        "!git clone --branch {branch} https://github.com/Sanford-Lab/satellite_cnns.git\n",
        "%cd /content/satellite_cnns"
      ]
    },
    {
      "cell_type": "markdown",
      "metadata": {
        "id": "HZIDEamO_gM2"
      },
      "source": [
        "**New**: The notebook now sources files from the Sanford-Lab/satellite_cnns repo. For this notebook, it will use the `benin-data` package. It's built it based on the weather-forcasting notebook patterns and to allow importing for project-specific packages to *plug and play* for data creation. The new patterns should allow the workflow to be much more modular. All a new project would need to do is define 3 main functions `get_inputs_image`, `get_labels_image`, and `sample_points`. The create_dataset.py script should then be able to synthesize the dataset through abstraction. I've kept most of the demonstration functionality the same to show how using the package works."
      ]
    },
    {
      "cell_type": "code",
      "execution_count": 29,
      "metadata": {
        "colab": {
          "base_uri": "https://localhost:8080/"
        },
        "id": "ZB6CSs7CNaNw",
        "outputId": "663900e2-14c5-44ff-f57a-754c5d173eee"
      },
      "outputs": [
        {
          "output_type": "stream",
          "name": "stdout",
          "text": [
            "Processing ./src/benin-data\n",
            "  Installing build dependencies ... \u001b[?25l\u001b[?25hdone\n",
            "  Getting requirements to build wheel ... \u001b[?25l\u001b[?25hdone\n",
            "  Preparing metadata (pyproject.toml) ... \u001b[?25l\u001b[?25hdone\n",
            "Requirement already satisfied: apache-beam[gcp] in /usr/local/lib/python3.10/dist-packages (2.57.0)\n",
            "Requirement already satisfied: crcmod<2.0,>=1.7 in /usr/local/lib/python3.10/dist-packages (from apache-beam[gcp]) (1.7)\n",
            "Requirement already satisfied: orjson<4,>=3.9.7 in /usr/local/lib/python3.10/dist-packages (from apache-beam[gcp]) (3.10.6)\n",
            "Requirement already satisfied: dill<0.3.2,>=0.3.1.1 in /usr/local/lib/python3.10/dist-packages (from apache-beam[gcp]) (0.3.1.1)\n",
            "Requirement already satisfied: cloudpickle~=2.2.1 in /usr/local/lib/python3.10/dist-packages (from apache-beam[gcp]) (2.2.1)\n",
            "Requirement already satisfied: fastavro<2,>=0.23.6 in /usr/local/lib/python3.10/dist-packages (from apache-beam[gcp]) (1.9.5)\n",
            "Requirement already satisfied: fasteners<1.0,>=0.3 in /usr/local/lib/python3.10/dist-packages (from apache-beam[gcp]) (0.19)\n",
            "Requirement already satisfied: grpcio!=1.48.0,!=1.59.*,!=1.60.*,!=1.61.*,!=1.62.0,!=1.62.1,<2,>=1.33.1 in /usr/local/lib/python3.10/dist-packages (from apache-beam[gcp]) (1.64.1)\n",
            "Requirement already satisfied: hdfs<3.0.0,>=2.1.0 in /usr/local/lib/python3.10/dist-packages (from apache-beam[gcp]) (2.7.3)\n",
            "Requirement already satisfied: httplib2<0.23.0,>=0.8 in /usr/local/lib/python3.10/dist-packages (from apache-beam[gcp]) (0.22.0)\n",
            "Requirement already satisfied: jsonschema<5.0.0,>=4.0.0 in /usr/local/lib/python3.10/dist-packages (from apache-beam[gcp]) (4.19.2)\n",
            "Requirement already satisfied: jsonpickle<4.0.0,>=3.0.0 in /usr/local/lib/python3.10/dist-packages (from apache-beam[gcp]) (3.2.2)\n",
            "Requirement already satisfied: numpy<1.27.0,>=1.14.3 in /usr/local/lib/python3.10/dist-packages (from apache-beam[gcp]) (1.25.2)\n",
            "Requirement already satisfied: objsize<0.8.0,>=0.6.1 in /usr/local/lib/python3.10/dist-packages (from apache-beam[gcp]) (0.7.0)\n",
            "Requirement already satisfied: packaging>=22.0 in /usr/local/lib/python3.10/dist-packages (from apache-beam[gcp]) (24.1)\n",
            "Requirement already satisfied: pymongo<5.0.0,>=3.8.0 in /usr/local/lib/python3.10/dist-packages (from apache-beam[gcp]) (4.8.0)\n",
            "Requirement already satisfied: proto-plus<2,>=1.7.1 in /usr/local/lib/python3.10/dist-packages (from apache-beam[gcp]) (1.24.0)\n",
            "Requirement already satisfied: protobuf!=4.0.*,!=4.21.*,!=4.22.0,!=4.23.*,!=4.24.*,<4.26.0,>=3.20.3 in /usr/local/lib/python3.10/dist-packages (from apache-beam[gcp]) (3.20.3)\n",
            "Requirement already satisfied: pydot<2,>=1.2.0 in /usr/local/lib/python3.10/dist-packages (from apache-beam[gcp]) (1.4.2)\n",
            "Requirement already satisfied: python-dateutil<3,>=2.8.0 in /usr/local/lib/python3.10/dist-packages (from apache-beam[gcp]) (2.8.2)\n",
            "Requirement already satisfied: pytz>=2018.3 in /usr/local/lib/python3.10/dist-packages (from apache-beam[gcp]) (2023.4)\n",
            "Requirement already satisfied: redis<6,>=5.0.0 in /usr/local/lib/python3.10/dist-packages (from apache-beam[gcp]) (5.0.7)\n",
            "Requirement already satisfied: regex>=2020.6.8 in /usr/local/lib/python3.10/dist-packages (from apache-beam[gcp]) (2024.5.15)\n",
            "Requirement already satisfied: requests!=2.32.*,<3.0.0,>=2.24.0 in /usr/local/lib/python3.10/dist-packages (from apache-beam[gcp]) (2.31.0)\n",
            "Requirement already satisfied: typing-extensions>=3.7.0 in /usr/local/lib/python3.10/dist-packages (from apache-beam[gcp]) (4.12.2)\n",
            "Requirement already satisfied: zstandard<1,>=0.18.0 in /usr/local/lib/python3.10/dist-packages (from apache-beam[gcp]) (0.23.0)\n",
            "Requirement already satisfied: pyarrow<17.0.0,>=3.0.0 in /usr/local/lib/python3.10/dist-packages (from apache-beam[gcp]) (14.0.2)\n",
            "Requirement already satisfied: pyarrow-hotfix<1 in /usr/local/lib/python3.10/dist-packages (from apache-beam[gcp]) (0.6)\n",
            "Requirement already satisfied: js2py<1,>=0.74 in /usr/local/lib/python3.10/dist-packages (from apache-beam[gcp]) (0.74)\n",
            "Requirement already satisfied: cachetools<6,>=3.1.0 in /usr/local/lib/python3.10/dist-packages (from apache-beam[gcp]) (5.4.0)\n",
            "Requirement already satisfied: google-api-core<3,>=2.0.0 in /usr/local/lib/python3.10/dist-packages (from apache-beam[gcp]) (2.19.1)\n",
            "Requirement already satisfied: google-apitools<0.5.32,>=0.5.31 in /usr/local/lib/python3.10/dist-packages (from apache-beam[gcp]) (0.5.31)\n",
            "Requirement already satisfied: google-auth<3,>=1.18.0 in /usr/local/lib/python3.10/dist-packages (from apache-beam[gcp]) (2.27.0)\n",
            "Requirement already satisfied: google-auth-httplib2<0.3.0,>=0.1.0 in /usr/local/lib/python3.10/dist-packages (from apache-beam[gcp]) (0.2.0)\n",
            "Requirement already satisfied: google-cloud-datastore<3,>=2.0.0 in /usr/local/lib/python3.10/dist-packages (from apache-beam[gcp]) (2.19.0)\n",
            "Requirement already satisfied: google-cloud-pubsub<3,>=2.1.0 in /usr/local/lib/python3.10/dist-packages (from apache-beam[gcp]) (2.22.0)\n",
            "Requirement already satisfied: google-cloud-pubsublite<2,>=1.2.0 in /usr/local/lib/python3.10/dist-packages (from apache-beam[gcp]) (1.11.0)\n",
            "Requirement already satisfied: google-cloud-storage<3,>=2.16.0 in /usr/local/lib/python3.10/dist-packages (from apache-beam[gcp]) (2.18.0)\n",
            "Requirement already satisfied: google-cloud-bigquery<4,>=2.0.0 in /usr/local/lib/python3.10/dist-packages (from apache-beam[gcp]) (3.25.0)\n",
            "Requirement already satisfied: google-cloud-bigquery-storage<3,>=2.6.3 in /usr/local/lib/python3.10/dist-packages (from apache-beam[gcp]) (2.25.0)\n",
            "Requirement already satisfied: google-cloud-core<3,>=2.0.0 in /usr/local/lib/python3.10/dist-packages (from apache-beam[gcp]) (2.4.1)\n",
            "Requirement already satisfied: google-cloud-bigtable<3,>=2.19.0 in /usr/local/lib/python3.10/dist-packages (from apache-beam[gcp]) (2.25.0)\n",
            "Requirement already satisfied: google-cloud-spanner<4,>=3.0.0 in /usr/local/lib/python3.10/dist-packages (from apache-beam[gcp]) (3.47.0)\n",
            "Requirement already satisfied: google-cloud-dlp<4,>=3.0.0 in /usr/local/lib/python3.10/dist-packages (from apache-beam[gcp]) (3.18.1)\n",
            "Requirement already satisfied: google-cloud-language<3,>=2.0 in /usr/local/lib/python3.10/dist-packages (from apache-beam[gcp]) (2.13.4)\n",
            "Requirement already satisfied: google-cloud-videointelligence<3,>=2.0 in /usr/local/lib/python3.10/dist-packages (from apache-beam[gcp]) (2.13.4)\n",
            "Requirement already satisfied: google-cloud-vision<4,>=2 in /usr/local/lib/python3.10/dist-packages (from apache-beam[gcp]) (3.7.3)\n",
            "Requirement already satisfied: google-cloud-recommendations-ai<0.11.0,>=0.1.0 in /usr/local/lib/python3.10/dist-packages (from apache-beam[gcp]) (0.10.11)\n",
            "Requirement already satisfied: google-cloud-aiplatform<2.0,>=1.26.0 in /usr/local/lib/python3.10/dist-packages (from apache-beam[gcp]) (1.59.0)\n",
            "Requirement already satisfied: earthengine-api>=0.1.355 in /usr/local/lib/python3.10/dist-packages (from benin-data==1.1.0) (0.1.412)\n",
            "Requirement already satisfied: google-api-python-client>=1.12.1 in /usr/local/lib/python3.10/dist-packages (from earthengine-api>=0.1.355->benin-data==1.1.0) (2.137.0)\n",
            "Requirement already satisfied: googleapis-common-protos<2.0.dev0,>=1.56.2 in /usr/local/lib/python3.10/dist-packages (from google-api-core<3,>=2.0.0->apache-beam[gcp]) (1.63.2)\n",
            "Requirement already satisfied: oauth2client>=1.4.12 in /usr/local/lib/python3.10/dist-packages (from google-apitools<0.5.32,>=0.5.31->apache-beam[gcp]) (4.1.3)\n",
            "Requirement already satisfied: six>=1.12.0 in /usr/local/lib/python3.10/dist-packages (from google-apitools<0.5.32,>=0.5.31->apache-beam[gcp]) (1.16.0)\n",
            "Requirement already satisfied: pyasn1-modules>=0.2.1 in /usr/local/lib/python3.10/dist-packages (from google-auth<3,>=1.18.0->apache-beam[gcp]) (0.4.0)\n",
            "Requirement already satisfied: rsa<5,>=3.1.4 in /usr/local/lib/python3.10/dist-packages (from google-auth<3,>=1.18.0->apache-beam[gcp]) (4.9)\n",
            "Requirement already satisfied: google-cloud-resource-manager<3.0.0dev,>=1.3.3 in /usr/local/lib/python3.10/dist-packages (from google-cloud-aiplatform<2.0,>=1.26.0->apache-beam[gcp]) (1.12.4)\n",
            "Requirement already satisfied: shapely<3.0.0dev in /usr/local/lib/python3.10/dist-packages (from google-cloud-aiplatform<2.0,>=1.26.0->apache-beam[gcp]) (2.0.5)\n",
            "Requirement already satisfied: pydantic<3 in /usr/local/lib/python3.10/dist-packages (from google-cloud-aiplatform<2.0,>=1.26.0->apache-beam[gcp]) (2.8.2)\n",
            "Requirement already satisfied: docstring-parser<1 in /usr/local/lib/python3.10/dist-packages (from google-cloud-aiplatform<2.0,>=1.26.0->apache-beam[gcp]) (0.16)\n",
            "Requirement already satisfied: google-resumable-media<3.0dev,>=0.6.0 in /usr/local/lib/python3.10/dist-packages (from google-cloud-bigquery<4,>=2.0.0->apache-beam[gcp]) (2.7.1)\n",
            "Requirement already satisfied: grpc-google-iam-v1<1.0.0dev,>=0.12.4 in /usr/local/lib/python3.10/dist-packages (from google-cloud-bigtable<3,>=2.19.0->apache-beam[gcp]) (0.13.1)\n",
            "Requirement already satisfied: grpcio-status>=1.33.2 in /usr/local/lib/python3.10/dist-packages (from google-cloud-pubsub<3,>=2.1.0->apache-beam[gcp]) (1.48.2)\n",
            "Requirement already satisfied: overrides<8.0.0,>=6.0.1 in /usr/local/lib/python3.10/dist-packages (from google-cloud-pubsublite<2,>=1.2.0->apache-beam[gcp]) (7.7.0)\n",
            "Requirement already satisfied: sqlparse>=0.4.4 in /usr/local/lib/python3.10/dist-packages (from google-cloud-spanner<4,>=3.0.0->apache-beam[gcp]) (0.5.1)\n",
            "Requirement already satisfied: grpc-interceptor>=0.15.4 in /usr/local/lib/python3.10/dist-packages (from google-cloud-spanner<4,>=3.0.0->apache-beam[gcp]) (0.15.4)\n",
            "Requirement already satisfied: google-crc32c<2.0dev,>=1.0 in /usr/local/lib/python3.10/dist-packages (from google-cloud-storage<3,>=2.16.0->apache-beam[gcp]) (1.5.0)\n",
            "Requirement already satisfied: docopt in /usr/local/lib/python3.10/dist-packages (from hdfs<3.0.0,>=2.1.0->apache-beam[gcp]) (0.6.2)\n",
            "Requirement already satisfied: pyparsing!=3.0.0,!=3.0.1,!=3.0.2,!=3.0.3,<4,>=2.4.2 in /usr/local/lib/python3.10/dist-packages (from httplib2<0.23.0,>=0.8->apache-beam[gcp]) (3.1.2)\n",
            "Requirement already satisfied: tzlocal>=1.2 in /usr/local/lib/python3.10/dist-packages (from js2py<1,>=0.74->apache-beam[gcp]) (5.2)\n",
            "Requirement already satisfied: pyjsparser>=2.5.1 in /usr/local/lib/python3.10/dist-packages (from js2py<1,>=0.74->apache-beam[gcp]) (2.7.1)\n",
            "Requirement already satisfied: attrs>=22.2.0 in /usr/local/lib/python3.10/dist-packages (from jsonschema<5.0.0,>=4.0.0->apache-beam[gcp]) (23.2.0)\n",
            "Requirement already satisfied: jsonschema-specifications>=2023.03.6 in /usr/local/lib/python3.10/dist-packages (from jsonschema<5.0.0,>=4.0.0->apache-beam[gcp]) (2023.12.1)\n",
            "Requirement already satisfied: referencing>=0.28.4 in /usr/local/lib/python3.10/dist-packages (from jsonschema<5.0.0,>=4.0.0->apache-beam[gcp]) (0.35.1)\n",
            "Requirement already satisfied: rpds-py>=0.7.1 in /usr/local/lib/python3.10/dist-packages (from jsonschema<5.0.0,>=4.0.0->apache-beam[gcp]) (0.19.0)\n",
            "Requirement already satisfied: dnspython<3.0.0,>=1.16.0 in /usr/local/lib/python3.10/dist-packages (from pymongo<5.0.0,>=3.8.0->apache-beam[gcp]) (2.6.1)\n",
            "Requirement already satisfied: async-timeout>=4.0.3 in /usr/local/lib/python3.10/dist-packages (from redis<6,>=5.0.0->apache-beam[gcp]) (4.0.3)\n",
            "Requirement already satisfied: charset-normalizer<4,>=2 in /usr/local/lib/python3.10/dist-packages (from requests!=2.32.*,<3.0.0,>=2.24.0->apache-beam[gcp]) (3.3.2)\n",
            "Requirement already satisfied: idna<4,>=2.5 in /usr/local/lib/python3.10/dist-packages (from requests!=2.32.*,<3.0.0,>=2.24.0->apache-beam[gcp]) (3.7)\n",
            "Requirement already satisfied: urllib3<3,>=1.21.1 in /usr/local/lib/python3.10/dist-packages (from requests!=2.32.*,<3.0.0,>=2.24.0->apache-beam[gcp]) (2.0.7)\n",
            "Requirement already satisfied: certifi>=2017.4.17 in /usr/local/lib/python3.10/dist-packages (from requests!=2.32.*,<3.0.0,>=2.24.0->apache-beam[gcp]) (2024.7.4)\n",
            "Requirement already satisfied: uritemplate<5,>=3.0.1 in /usr/local/lib/python3.10/dist-packages (from google-api-python-client>=1.12.1->earthengine-api>=0.1.355->benin-data==1.1.0) (4.1.1)\n",
            "Requirement already satisfied: pyasn1>=0.1.7 in /usr/local/lib/python3.10/dist-packages (from oauth2client>=1.4.12->google-apitools<0.5.32,>=0.5.31->apache-beam[gcp]) (0.6.0)\n",
            "Requirement already satisfied: annotated-types>=0.4.0 in /usr/local/lib/python3.10/dist-packages (from pydantic<3->google-cloud-aiplatform<2.0,>=1.26.0->apache-beam[gcp]) (0.7.0)\n",
            "Requirement already satisfied: pydantic-core==2.20.1 in /usr/local/lib/python3.10/dist-packages (from pydantic<3->google-cloud-aiplatform<2.0,>=1.26.0->apache-beam[gcp]) (2.20.1)\n",
            "Building wheels for collected packages: benin-data\n",
            "  Building wheel for benin-data (pyproject.toml) ... \u001b[?25l\u001b[?25hdone\n",
            "  Created wheel for benin-data: filename=benin_data-1.1.0-py3-none-any.whl size=4814 sha256=5a728ec5b62593a16827d4d4c0cdb992b003f2e3a4f96c17c55cc16c872541cd\n",
            "  Stored in directory: /root/.cache/pip/wheels/bb/97/28/55f64f8c7f681200ffa99188a415a0b206b432702b855ccfe9\n",
            "Successfully built benin-data\n",
            "Installing collected packages: benin-data\n",
            "  Attempting uninstall: benin-data\n",
            "    Found existing installation: benin-data 1.1.0\n",
            "    Uninstalling benin-data-1.1.0:\n",
            "      Successfully uninstalled benin-data-1.1.0\n",
            "Successfully installed benin-data-1.1.0\n"
          ]
        }
      ],
      "source": [
        "!pip install --quiet --upgrade pip\n",
        "\n",
        "# We need `build` and `virtualenv` to build the local packages.\n",
        "!pip install --quiet build virtualenv\n",
        "\n",
        "# Install Apache Beam and the `benin-data` local package.\n",
        "!pip install apache-beam[gcp] src/benin-data"
      ]
    },
    {
      "cell_type": "code",
      "execution_count": 1,
      "metadata": {
        "id": "VebxlGd3Jf8Z"
      },
      "outputs": [],
      "source": [
        "# run to manually restart runtime by ending process\n",
        "# exit()"
      ]
    },
    {
      "cell_type": "markdown",
      "metadata": {
        "id": "OMU82mRYNfFp"
      },
      "source": [
        "At this point runtime is restarted. Navigate back to our working directory."
      ]
    },
    {
      "cell_type": "code",
      "execution_count": 2,
      "metadata": {
        "colab": {
          "base_uri": "https://localhost:8080/"
        },
        "id": "54QJoqywApQO",
        "outputId": "2b915f51-9f9a-48a0-a75c-987d4f6c96c5"
      },
      "outputs": [
        {
          "output_type": "stream",
          "name": "stdout",
          "text": [
            "/content/satellite_cnns\n"
          ]
        }
      ],
      "source": [
        "%cd /content/satellite_cnns"
      ]
    },
    {
      "cell_type": "code",
      "execution_count": 3,
      "metadata": {
        "cellView": "form",
        "colab": {
          "base_uri": "https://localhost:8080/"
        },
        "id": "_2iFfceKGhMC",
        "outputId": "5913c6f2-7096-4bce-f6de-3edcc8a61a60"
      },
      "outputs": [
        {
          "output_type": "stream",
          "name": "stdout",
          "text": [
            "Updated property [core/project].\n"
          ]
        }
      ],
      "source": [
        "#@title Project settings\n",
        "from __future__ import annotations\n",
        "\n",
        "import os\n",
        "from google.colab import auth\n",
        "\n",
        "auth.authenticate_user()\n",
        "\n",
        "# Please fill in these values.\n",
        "project = \"satellite-cnns\" #@param {type:\"string\"}\n",
        "bucket = \"beninbucket\" #@param {type:\"string\"}\n",
        "location = \"us-central1\" #@param {type:\"string\"}\n",
        "\n",
        "# Quick input validations.\n",
        "assert project, \"⚠️ Please provide a Google Cloud project ID\"\n",
        "assert bucket, \"⚠️ Please provide a Cloud Storage bucket name\"\n",
        "assert not bucket.startswith('gs://'), f\"⚠️ Please remove the gs:// prefix from the bucket name: {bucket}\"\n",
        "assert location, \"⚠️ Please provide a Google Cloud location\"\n",
        "\n",
        "# Authenticate to Colab.\n",
        "auth.authenticate_user()\n",
        "\n",
        "# Set GOOGLE_CLOUD_PROJECT for google.auth.default().\n",
        "os.environ['GOOGLE_CLOUD_PROJECT'] = project\n",
        "\n",
        "# Set the gcloud project for other gcloud commands.\n",
        "!gcloud config set project {project}"
      ]
    },
    {
      "cell_type": "code",
      "execution_count": 4,
      "metadata": {
        "id": "y_MaPEZ4HIwr"
      },
      "outputs": [],
      "source": [
        "import ee\n",
        "import google.auth\n",
        "\n",
        "credentials, _ = google.auth.default()\n",
        "ee.Initialize(\n",
        "    credentials.with_quota_project(None),\n",
        "    project=project,\n",
        "    opt_url=\"https://earthengine-highvolume.googleapis.com\",\n",
        ")"
      ]
    },
    {
      "cell_type": "markdown",
      "metadata": {
        "id": "qKs6HuxOzjMl"
      },
      "source": [
        "# Define functions for dataset creation\n",
        "\n",
        "This section generally follows the tutorial notebook. In the end, we wish for the inputs to be LANDSAT 7 data of Benin. We select R, G, B, and NDVI bands for the input data. As labels, we wish to prepare a binary image with a target label of 1 if pixel belongs to a village and a 0 if it does not belong to a village. The village circles are specified in a feature collection available at: 'projects/satellite-cnns/assets/voronoi_villages'\n",
        "\n",
        "Based on our visulizations with folium at the end, this section appears to be working fine.\n",
        "\n",
        "**dd_NEW**: To utilize the new package data, I replaced the function definitions in the notebook with their imports from the package. You can see the function declarations here:\n",
        "\n",
        "> <button>\n",
        ">\n",
        "> [![Open in GitHub](https://www.tensorflow.org/images/GitHub-Mark-32px.png) `benin/data.py`](src/benin-data/benin/data.py)\n",
        "> </button>"
      ]
    },
    {
      "cell_type": "markdown",
      "metadata": {
        "id": "rBgXuyyu-mHt"
      },
      "source": [
        "In this next code chunk, we prepare the inputs and label images."
      ]
    },
    {
      "cell_type": "code",
      "execution_count": 5,
      "metadata": {
        "id": "Z2Nr2FFrt10z"
      },
      "outputs": [],
      "source": [
        "from benin.data import get_inputs_image"
      ]
    },
    {
      "cell_type": "code",
      "execution_count": 6,
      "metadata": {
        "id": "42leaJCyw8iq"
      },
      "outputs": [],
      "source": [
        "from benin.data import get_labels_image"
      ]
    },
    {
      "cell_type": "markdown",
      "metadata": {
        "id": "_gptCgcTZ-ZK"
      },
      "source": [
        "## Visualize the input and target"
      ]
    },
    {
      "cell_type": "code",
      "execution_count": 7,
      "metadata": {
        "colab": {
          "base_uri": "https://localhost:8080/",
          "height": 1000
        },
        "id": "uGh8wy3TSIXr",
        "outputId": "b5ed4294-eee5-4899-97e2-4edb850645f8"
      },
      "outputs": [
        {
          "output_type": "execute_result",
          "data": {
            "text/plain": [
              "<folium.folium.Map at 0x7e35bdf09ea0>"
            ],
            "text/html": [
              "<div style=\"width:100%;\"><div style=\"position:relative;width:100%;height:0;padding-bottom:60%;\"><span style=\"color:#565656\">Make this Notebook Trusted to load map: File -> Trust Notebook</span><iframe srcdoc=\"&lt;!DOCTYPE html&gt;\n",
              "&lt;html&gt;\n",
              "&lt;head&gt;\n",
              "    \n",
              "    &lt;meta http-equiv=&quot;content-type&quot; content=&quot;text/html; charset=UTF-8&quot; /&gt;\n",
              "    \n",
              "        &lt;script&gt;\n",
              "            L_NO_TOUCH = false;\n",
              "            L_DISABLE_3D = false;\n",
              "        &lt;/script&gt;\n",
              "    \n",
              "    &lt;style&gt;html, body {width: 100%;height: 100%;margin: 0;padding: 0;}&lt;/style&gt;\n",
              "    &lt;style&gt;#map {position:absolute;top:0;bottom:0;right:0;left:0;}&lt;/style&gt;\n",
              "    &lt;script src=&quot;https://cdn.jsdelivr.net/npm/leaflet@1.9.3/dist/leaflet.js&quot;&gt;&lt;/script&gt;\n",
              "    &lt;script src=&quot;https://code.jquery.com/jquery-1.12.4.min.js&quot;&gt;&lt;/script&gt;\n",
              "    &lt;script src=&quot;https://cdn.jsdelivr.net/npm/bootstrap@5.2.2/dist/js/bootstrap.bundle.min.js&quot;&gt;&lt;/script&gt;\n",
              "    &lt;script src=&quot;https://cdnjs.cloudflare.com/ajax/libs/Leaflet.awesome-markers/2.0.2/leaflet.awesome-markers.js&quot;&gt;&lt;/script&gt;\n",
              "    &lt;link rel=&quot;stylesheet&quot; href=&quot;https://cdn.jsdelivr.net/npm/leaflet@1.9.3/dist/leaflet.css&quot;/&gt;\n",
              "    &lt;link rel=&quot;stylesheet&quot; href=&quot;https://cdn.jsdelivr.net/npm/bootstrap@5.2.2/dist/css/bootstrap.min.css&quot;/&gt;\n",
              "    &lt;link rel=&quot;stylesheet&quot; href=&quot;https://netdna.bootstrapcdn.com/bootstrap/3.0.0/css/bootstrap.min.css&quot;/&gt;\n",
              "    &lt;link rel=&quot;stylesheet&quot; href=&quot;https://cdn.jsdelivr.net/npm/@fortawesome/fontawesome-free@6.2.0/css/all.min.css&quot;/&gt;\n",
              "    &lt;link rel=&quot;stylesheet&quot; href=&quot;https://cdnjs.cloudflare.com/ajax/libs/Leaflet.awesome-markers/2.0.2/leaflet.awesome-markers.css&quot;/&gt;\n",
              "    &lt;link rel=&quot;stylesheet&quot; href=&quot;https://cdn.jsdelivr.net/gh/python-visualization/folium/folium/templates/leaflet.awesome.rotate.min.css&quot;/&gt;\n",
              "    \n",
              "            &lt;meta name=&quot;viewport&quot; content=&quot;width=device-width,\n",
              "                initial-scale=1.0, maximum-scale=1.0, user-scalable=no&quot; /&gt;\n",
              "            &lt;style&gt;\n",
              "                #map_8c29ffc2e390158617a6e4abfbf3344b {\n",
              "                    position: relative;\n",
              "                    width: 100.0%;\n",
              "                    height: 100.0%;\n",
              "                    left: 0.0%;\n",
              "                    top: 0.0%;\n",
              "                }\n",
              "                .leaflet-container { font-size: 1rem; }\n",
              "            &lt;/style&gt;\n",
              "        \n",
              "&lt;/head&gt;\n",
              "&lt;body&gt;\n",
              "    \n",
              "    \n",
              "            &lt;div class=&quot;folium-map&quot; id=&quot;map_8c29ffc2e390158617a6e4abfbf3344b&quot; &gt;&lt;/div&gt;\n",
              "        \n",
              "&lt;/body&gt;\n",
              "&lt;script&gt;\n",
              "    \n",
              "    \n",
              "            var map_8c29ffc2e390158617a6e4abfbf3344b = L.map(\n",
              "                &quot;map_8c29ffc2e390158617a6e4abfbf3344b&quot;,\n",
              "                {\n",
              "                    center: [9.8, 2.4],\n",
              "                    crs: L.CRS.EPSG3857,\n",
              "                    zoom: 7,\n",
              "                    zoomControl: true,\n",
              "                    preferCanvas: false,\n",
              "                }\n",
              "            );\n",
              "\n",
              "            \n",
              "\n",
              "        \n",
              "    \n",
              "            var tile_layer_dc58430a6d8d27d9a530967db9b3f817 = L.tileLayer(\n",
              "                &quot;https://{s}.tile.openstreetmap.org/{z}/{x}/{y}.png&quot;,\n",
              "                {&quot;attribution&quot;: &quot;Data by \\u0026copy; \\u003ca target=\\&quot;_blank\\&quot; href=\\&quot;http://openstreetmap.org\\&quot;\\u003eOpenStreetMap\\u003c/a\\u003e, under \\u003ca target=\\&quot;_blank\\&quot; href=\\&quot;http://www.openstreetmap.org/copyright\\&quot;\\u003eODbL\\u003c/a\\u003e.&quot;, &quot;detectRetina&quot;: false, &quot;maxNativeZoom&quot;: 18, &quot;maxZoom&quot;: 18, &quot;minZoom&quot;: 0, &quot;noWrap&quot;: false, &quot;opacity&quot;: 1, &quot;subdomains&quot;: &quot;abc&quot;, &quot;tms&quot;: false}\n",
              "            ).addTo(map_8c29ffc2e390158617a6e4abfbf3344b);\n",
              "        \n",
              "    \n",
              "            var tile_layer_58bd9c16bff2562b41c0727f3fbe4408 = L.tileLayer(\n",
              "                &quot;https://earthengine-highvolume.googleapis.com/v1/projects/satellite-cnns/maps/0e1f1db1c21e9edc8889b311f7c36f56-2dd1fb96a78aa8f09724d6b3ea8060dc/tiles/{z}/{x}/{y}&quot;,\n",
              "                {&quot;attribution&quot;: &quot;Map Data \\u0026copy; \\u003ca href=\\&quot;https://earthengine.google.com/\\&quot;\\u003eGoogle Earth Engine\\u003c/a\\u003e&quot;, &quot;detectRetina&quot;: false, &quot;maxNativeZoom&quot;: 18, &quot;maxZoom&quot;: 18, &quot;minZoom&quot;: 0, &quot;noWrap&quot;: false, &quot;opacity&quot;: 1, &quot;subdomains&quot;: &quot;abc&quot;, &quot;tms&quot;: false}\n",
              "            ).addTo(map_8c29ffc2e390158617a6e4abfbf3344b);\n",
              "        \n",
              "    \n",
              "            var layer_control_1a6438a86b503936d86f224009016cc7 = {\n",
              "                base_layers : {\n",
              "                    &quot;openstreetmap&quot; : tile_layer_dc58430a6d8d27d9a530967db9b3f817,\n",
              "                },\n",
              "                overlays :  {\n",
              "                    &quot;target variable&quot; : tile_layer_58bd9c16bff2562b41c0727f3fbe4408,\n",
              "                },\n",
              "            };\n",
              "            L.control.layers(\n",
              "                layer_control_1a6438a86b503936d86f224009016cc7.base_layers,\n",
              "                layer_control_1a6438a86b503936d86f224009016cc7.overlays,\n",
              "                {&quot;autoZIndex&quot;: true, &quot;collapsed&quot;: true, &quot;position&quot;: &quot;topright&quot;}\n",
              "            ).addTo(map_8c29ffc2e390158617a6e4abfbf3344b);\n",
              "        \n",
              "&lt;/script&gt;\n",
              "&lt;/html&gt;\" style=\"position:absolute;width:100%;height:100%;left:0;top:0;border:none !important;\" allowfullscreen webkitallowfullscreen mozallowfullscreen></iframe></div></div>"
            ]
          },
          "metadata": {},
          "execution_count": 7
        }
      ],
      "source": [
        "#Visualize the target. White circles are inside villages, black circles are outside villages\n",
        "# RB did it always look like this? White with the rest all black or is the viz messed up?\n",
        "import folium\n",
        "\n",
        "mapid = get_labels_image().getMapId({'min': 0, 'max': 1})\n",
        "map = folium.Map(location=[9.8, 2.4], zoom_start = 7)\n",
        "folium.TileLayer(\n",
        "    tiles=mapid['tile_fetcher'].url_format,\n",
        "    attr='Map Data &copy; <a href=\"https://earthengine.google.com/\">Google Earth Engine</a>',\n",
        "    overlay=True,\n",
        "    name='target variable',\n",
        "  ).add_to(map)\n",
        "map.add_child(folium.LayerControl())\n",
        "map"
      ]
    },
    {
      "cell_type": "code",
      "execution_count": 10,
      "metadata": {
        "id": "szy9X2zjKXmw",
        "outputId": "6be9dd89-487d-4ea2-f9f4-e9bf47c6816f",
        "colab": {
          "base_uri": "https://localhost:8080/",
          "height": 1000
        }
      },
      "outputs": [
        {
          "output_type": "execute_result",
          "data": {
            "text/plain": [
              "<folium.folium.Map at 0x7e35b1e4e1d0>"
            ],
            "text/html": [
              "<div style=\"width:100%;\"><div style=\"position:relative;width:100%;height:0;padding-bottom:60%;\"><span style=\"color:#565656\">Make this Notebook Trusted to load map: File -> Trust Notebook</span><iframe srcdoc=\"&lt;!DOCTYPE html&gt;\n",
              "&lt;html&gt;\n",
              "&lt;head&gt;\n",
              "    \n",
              "    &lt;meta http-equiv=&quot;content-type&quot; content=&quot;text/html; charset=UTF-8&quot; /&gt;\n",
              "    \n",
              "        &lt;script&gt;\n",
              "            L_NO_TOUCH = false;\n",
              "            L_DISABLE_3D = false;\n",
              "        &lt;/script&gt;\n",
              "    \n",
              "    &lt;style&gt;html, body {width: 100%;height: 100%;margin: 0;padding: 0;}&lt;/style&gt;\n",
              "    &lt;style&gt;#map {position:absolute;top:0;bottom:0;right:0;left:0;}&lt;/style&gt;\n",
              "    &lt;script src=&quot;https://cdn.jsdelivr.net/npm/leaflet@1.9.3/dist/leaflet.js&quot;&gt;&lt;/script&gt;\n",
              "    &lt;script src=&quot;https://code.jquery.com/jquery-1.12.4.min.js&quot;&gt;&lt;/script&gt;\n",
              "    &lt;script src=&quot;https://cdn.jsdelivr.net/npm/bootstrap@5.2.2/dist/js/bootstrap.bundle.min.js&quot;&gt;&lt;/script&gt;\n",
              "    &lt;script src=&quot;https://cdnjs.cloudflare.com/ajax/libs/Leaflet.awesome-markers/2.0.2/leaflet.awesome-markers.js&quot;&gt;&lt;/script&gt;\n",
              "    &lt;link rel=&quot;stylesheet&quot; href=&quot;https://cdn.jsdelivr.net/npm/leaflet@1.9.3/dist/leaflet.css&quot;/&gt;\n",
              "    &lt;link rel=&quot;stylesheet&quot; href=&quot;https://cdn.jsdelivr.net/npm/bootstrap@5.2.2/dist/css/bootstrap.min.css&quot;/&gt;\n",
              "    &lt;link rel=&quot;stylesheet&quot; href=&quot;https://netdna.bootstrapcdn.com/bootstrap/3.0.0/css/bootstrap.min.css&quot;/&gt;\n",
              "    &lt;link rel=&quot;stylesheet&quot; href=&quot;https://cdn.jsdelivr.net/npm/@fortawesome/fontawesome-free@6.2.0/css/all.min.css&quot;/&gt;\n",
              "    &lt;link rel=&quot;stylesheet&quot; href=&quot;https://cdnjs.cloudflare.com/ajax/libs/Leaflet.awesome-markers/2.0.2/leaflet.awesome-markers.css&quot;/&gt;\n",
              "    &lt;link rel=&quot;stylesheet&quot; href=&quot;https://cdn.jsdelivr.net/gh/python-visualization/folium/folium/templates/leaflet.awesome.rotate.min.css&quot;/&gt;\n",
              "    \n",
              "            &lt;meta name=&quot;viewport&quot; content=&quot;width=device-width,\n",
              "                initial-scale=1.0, maximum-scale=1.0, user-scalable=no&quot; /&gt;\n",
              "            &lt;style&gt;\n",
              "                #map_f224d104d4cb88069ca39f651014ad3f {\n",
              "                    position: relative;\n",
              "                    width: 100.0%;\n",
              "                    height: 100.0%;\n",
              "                    left: 0.0%;\n",
              "                    top: 0.0%;\n",
              "                }\n",
              "                .leaflet-container { font-size: 1rem; }\n",
              "            &lt;/style&gt;\n",
              "        \n",
              "&lt;/head&gt;\n",
              "&lt;body&gt;\n",
              "    \n",
              "    \n",
              "            &lt;div class=&quot;folium-map&quot; id=&quot;map_f224d104d4cb88069ca39f651014ad3f&quot; &gt;&lt;/div&gt;\n",
              "        \n",
              "&lt;/body&gt;\n",
              "&lt;script&gt;\n",
              "    \n",
              "    \n",
              "            var map_f224d104d4cb88069ca39f651014ad3f = L.map(\n",
              "                &quot;map_f224d104d4cb88069ca39f651014ad3f&quot;,\n",
              "                {\n",
              "                    center: [9.8, 2.4],\n",
              "                    crs: L.CRS.EPSG3857,\n",
              "                    zoom: 7,\n",
              "                    zoomControl: true,\n",
              "                    preferCanvas: false,\n",
              "                }\n",
              "            );\n",
              "\n",
              "            \n",
              "\n",
              "        \n",
              "    \n",
              "            var tile_layer_0a054af95fec8fde8dc3ab462a27f075 = L.tileLayer(\n",
              "                &quot;https://earthengine-highvolume.googleapis.com/v1/projects/satellite-cnns/maps/55d860563cad6d6286ccda42625c1b37-f1e232c991f34c4e2c7f988e637dad1c/tiles/{z}/{x}/{y}&quot;,\n",
              "                {&quot;attribution&quot;: &quot;Map Data \\u0026copy; \\u003ca href=\\&quot;https://earthengine.google.com/\\&quot;\\u003eGoogle Earth Engine\\u003c/a\\u003e&quot;, &quot;detectRetina&quot;: false, &quot;maxNativeZoom&quot;: 18, &quot;maxZoom&quot;: 18, &quot;minZoom&quot;: 0, &quot;noWrap&quot;: false, &quot;opacity&quot;: 1, &quot;subdomains&quot;: &quot;abc&quot;, &quot;tms&quot;: false}\n",
              "            ).addTo(map_f224d104d4cb88069ca39f651014ad3f);\n",
              "        \n",
              "&lt;/script&gt;\n",
              "&lt;/html&gt;\" style=\"position:absolute;width:100%;height:100%;left:0;top:0;border:none !important;\" allowfullscreen webkitallowfullscreen mozallowfullscreen></iframe></div></div>"
            ]
          },
          "metadata": {},
          "execution_count": 10
        }
      ],
      "source": [
        "# view the first three bands of the features\n",
        "image = get_inputs_image()\n",
        "# RB edited this too to make bands visible with new LS C2 data\n",
        "vis_params = {'bands': ['R', 'G', 'B'], 'min': 0, 'max': 0.3, 'gamma': 1.4}\n",
        "\n",
        "folium.Map(\n",
        "    location=(9.8, 2.4),\n",
        "    zoom_start=7,\n",
        "    tiles=image.getMapId(vis_params)[\"tile_fetcher\"].url_format,\n",
        "    attr='Map Data &copy; <a href=\"https://earthengine.google.com/\">Google Earth Engine</a>',\n",
        ")"
      ]
    },
    {
      "cell_type": "code",
      "execution_count": 11,
      "metadata": {
        "id": "7RnrYg2yZcdI",
        "outputId": "2b948352-2465-4a5d-95cc-dc35b948a4f7",
        "colab": {
          "base_uri": "https://localhost:8080/"
        }
      },
      "outputs": [
        {
          "output_type": "stream",
          "name": "stdout",
          "text": [
            "Number of bands:5\n",
            "Bands:\n",
            "R\tG\tB\tNIR\tNDVI\t"
          ]
        }
      ],
      "source": [
        "bands = image.bandNames().getInfo()\n",
        "print(f\"Number of bands:{len(bands)}\\nBands:\")\n",
        "for b in bands: print(f\"{b}\\t\", end='')"
      ]
    },
    {
      "cell_type": "markdown",
      "metadata": {
        "id": "wXT0jjZXA0Sl"
      },
      "source": [
        "# Define functions for sampling points\n",
        "\n",
        "The main functions: sample_points, get_patch, get_input_patch, get_label_patch, and get_training_example are all taken from the tutorial. For our data we have the classes \"in village\" and \"not in village\", and we perform stratified sampling in these villages. Based on our visualization at the end, this section appears to be working.\n",
        "\n",
        "** dd_NEW ** Again, import the data package to use the benin-specific functions."
      ]
    },
    {
      "cell_type": "code",
      "execution_count": 18,
      "metadata": {
        "colab": {
          "base_uri": "https://localhost:8080/"
        },
        "id": "yNYBZENYMh8T",
        "outputId": "71ff632b-cdc3-4e0c-91f5-0c50c4723f30"
      },
      "outputs": [
        {
          "output_type": "stream",
          "name": "stdout",
          "text": [
            "[2.474858607749282, 12.03293323078099]\n",
            "[1.899936825912788, 7.325761141994698]\n",
            "[2.241296633878206, 11.197500016549837]\n",
            "[2.5826564418436244, 6.948468722664499]\n"
          ]
        }
      ],
      "source": [
        "from benin import data\n",
        "\n",
        "for point in data.sample_points():\n",
        "  print(point)"
      ]
    },
    {
      "cell_type": "markdown",
      "metadata": {
        "id": "bN_QfiK2AoAY"
      },
      "source": [
        "To access the create_dataset script, we're going to enter the repo:"
      ]
    },
    {
      "cell_type": "code",
      "execution_count": 13,
      "metadata": {
        "colab": {
          "base_uri": "https://localhost:8080/"
        },
        "id": "hLq_GcBGTF5-",
        "outputId": "6e41b165-6acf-41a7-de4a-5493175c28d6"
      },
      "outputs": [
        {
          "output_type": "stream",
          "name": "stdout",
          "text": [
            "inputs : float64 (128, 128, 5)\n",
            "labels : float64 (128, 128, 1)\n"
          ]
        }
      ],
      "source": [
        "from create_dataset import get_training_example\n",
        "\n",
        "point = [1.9046529811544155, 6.937464360434035]\n",
        "target = data.get_labels_image(as_double=True)\n",
        "(inputs, labels) = get_training_example(point, patch_size = 128)\n",
        "print(f\"inputs : {inputs.dtype} {inputs.shape}\")\n",
        "print(f\"labels : {labels.dtype} {labels.shape}\")"
      ]
    },
    {
      "cell_type": "markdown",
      "metadata": {
        "id": "CpJRsn7haDD2"
      },
      "source": [
        "## Visualize a sampled patch"
      ]
    },
    {
      "cell_type": "markdown",
      "metadata": {
        "id": "zjp6BeOABJUG"
      },
      "source": [
        "We can visualize how our `sample_points` and `get_training_example` functions work using the `show_patch` function from our `visualize.py` module.\n",
        "\n",
        "The following code block shows how how `sample_points` generates two points inside and outside villages based on sampling params. RED is inside, BLUE is outside a village. Change the seed to get different sample points."
      ]
    },
    {
      "cell_type": "code",
      "execution_count": 19,
      "metadata": {
        "colab": {
          "base_uri": "https://localhost:8080/",
          "height": 1000
        },
        "id": "PUVCus-6Tfbt",
        "outputId": "f41dff88-8012-44d1-9772-70b55fcdef2d"
      },
      "outputs": [
        {
          "output_type": "display_data",
          "data": {
            "text/plain": [
              "<Figure size 640x480 with 2 Axes>"
            ],
            "image/png": "[encoded data removed]"
          },
          "metadata": {}
        },
        {
          "output_type": "display_data",
          "data": {
            "text/plain": [
              "<Figure size 640x480 with 2 Axes>"
            ],
            "image/png": "[encoded data removed]"
          },
          "metadata": {}
        },
        {
          "output_type": "display_data",
          "data": {
            "text/plain": [
              "<Figure size 640x480 with 2 Axes>"
            ],
            "image/png": "[encoded data removed]"
          },
          "metadata": {}
        },
        {
          "output_type": "display_data",
          "data": {
            "text/plain": [
              "<Figure size 640x480 with 2 Axes>"
            ],
            "image/png": "[encoded data removed]"
          },
          "metadata": {}
        }
      ],
      "source": [
        "from create_dataset import get_training_example\n",
        "from visualize import show_patch\n",
        "\n",
        "SEED = 0\n",
        "\n",
        "# Print input and labels for sampling of 2 points per class\n",
        "# (two points )\n",
        "for point in data.sample_points(seed=SEED,points_per_class=2):\n",
        "  (inputs, labels) = get_training_example(point, patch_size = 128)\n",
        "  show_patch(inputs, labels)"
      ]
    },
    {
      "cell_type": "code",
      "execution_count": 20,
      "metadata": {
        "colab": {
          "base_uri": "https://localhost:8080/"
        },
        "id": "edRVq4MBXaqT",
        "outputId": "bbf5897d-2d91-4a9e-9f02-874d77050089"
      },
      "outputs": [
        {
          "output_type": "stream",
          "name": "stdout",
          "text": [
            "Image has dtype float64\n",
            "Labels has dtype float64\n"
          ]
        }
      ],
      "source": [
        "print(f'Image has dtype {inputs.dtype}')\n",
        "print(f'Labels has dtype {labels.dtype}')"
      ]
    },
    {
      "cell_type": "markdown",
      "metadata": {
        "id": "HTNIvTqnWWo0"
      },
      "source": [
        "# Create pipeline and do data export\n",
        "\n",
        "Next we use an Apache-Beam pipeline to create and upload the training examples through\n",
        "can create the NPZ files locally or through the distributed Dataflow runner."
      ]
    },
    {
      "cell_type": "markdown",
      "metadata": {
        "id": "P8tk45vuaGsj"
      },
      "source": [
        "## Define necessary functions for export"
      ]
    },
    {
      "cell_type": "code",
      "execution_count": 21,
      "metadata": {
        "id": "ncjRq_4yxih-"
      },
      "outputs": [],
      "source": [
        "PATCH_SIZE = 128\n",
        "MAX_REQUESTS = 20\n",
        "POINTS_PER_CLASS = 10 # small for testing purposes"
      ]
    },
    {
      "cell_type": "markdown",
      "metadata": {
        "id": "IkoNQYudaMUl"
      },
      "source": [
        "## Run the pipeline locally"
      ]
    },
    {
      "cell_type": "code",
      "execution_count": 22,
      "metadata": {
        "id": "jXAcF4PYQ-EW"
      },
      "outputs": [],
      "source": [
        "data_path = \"data/\""
      ]
    },
    {
      "cell_type": "code",
      "execution_count": 25,
      "metadata": {
        "id": "z340tTBWZGP-",
        "outputId": "15abf05f-1a76-4b1c-aa97-83527dc8af7e",
        "colab": {
          "base_uri": "https://localhost:8080/"
        }
      },
      "outputs": [
        {
          "output_type": "stream",
          "name": "stdout",
          "text": [
            "  Preparing metadata (setup.py) ... \u001b[?25l\u001b[?25hdone\n",
            "\u001b[2K   \u001b[90m━━━━━━━━━━━━━━━━━━━━━━━━━━━━━━━━━━━━━━━━\u001b[0m \u001b[32m413.6/413.6 kB\u001b[0m \u001b[31m8.8 MB/s\u001b[0m eta \u001b[36m0:00:00\u001b[0m\n",
            "\u001b[2K   \u001b[90m━━━━━━━━━━━━━━━━━━━━━━━━━━━━━━━━━━━━━━━━\u001b[0m \u001b[32m117.2/117.2 kB\u001b[0m \u001b[31m7.4 MB/s\u001b[0m eta \u001b[36m0:00:00\u001b[0m\n",
            "\u001b[2K   \u001b[90m━━━━━━━━━━━━━━━━━━━━━━━━━━━━━━━━━━━━━━━━\u001b[0m \u001b[32m817.9/817.9 kB\u001b[0m \u001b[31m19.3 MB/s\u001b[0m eta \u001b[36m0:00:00\u001b[0m\n",
            "\u001b[2K   \u001b[90m━━━━━━━━━━━━━━━━━━━━━━━━━━━━━━━━━━━━━━━━\u001b[0m \u001b[32m139.4/139.4 kB\u001b[0m \u001b[31m5.0 MB/s\u001b[0m eta \u001b[36m0:00:00\u001b[0m\n",
            "\u001b[2K   \u001b[90m━━━━━━━━━━━━━━━━━━━━━━━━━━━━━━━━━━━━━━━━\u001b[0m \u001b[32m1.6/1.6 MB\u001b[0m \u001b[31m12.3 MB/s\u001b[0m eta \u001b[36m0:00:00\u001b[0m\n",
            "\u001b[2K   \u001b[90m━━━━━━━━━━━━━━━━━━━━━━━━━━━━━━━━━━━━━━━━\u001b[0m \u001b[32m85.4/85.4 kB\u001b[0m \u001b[31m5.6 MB/s\u001b[0m eta \u001b[36m0:00:00\u001b[0m\n",
            "\u001b[2K   \u001b[90m━━━━━━━━━━━━━━━━━━━━━━━━━━━━━━━━━━━━━━━━\u001b[0m \u001b[32m2.3/2.3 MB\u001b[0m \u001b[31m45.9 MB/s\u001b[0m eta \u001b[36m0:00:00\u001b[0m\n",
            "\u001b[?25h  Building wheel for timeloop (setup.py) ... \u001b[?25l\u001b[?25hdone\n",
            "\u001b[31mERROR: pip's dependency resolver does not currently take into account all the packages that are installed. This behaviour is the source of the following dependency conflicts.\n",
            "google-colab 1.0.0 requires ipykernel==5.5.6, but you have ipykernel 6.29.5 which is incompatible.\n",
            "google-colab 1.0.0 requires ipython==7.34.0, but you have ipython 8.26.0 which is incompatible.\u001b[0m\u001b[31m\n",
            "\u001b[0m"
          ]
        }
      ],
      "source": [
        "#!pip install --quiet apache-beam[interactive]"
      ]
    },
    {
      "cell_type": "code",
      "execution_count": null,
      "metadata": {
        "id": "DqdA6WzV07jr"
      },
      "outputs": [],
      "source": [
        "import apache_beam as beam\n",
        "from apache_beam.options.pipeline_options import PipelineOptions\n",
        "from benin.data import sample_points\n",
        "from create_dataset import write_npz\n",
        "\n",
        "beam_options = PipelineOptions([], direct_num_workers=1)\n",
        "SEED = 0\n",
        "\n",
        "with beam.Pipeline(options=beam_options) as pipeline:\n",
        "  (\n",
        "      pipeline\n",
        "      | \"🌱 Make seeds\" >> beam.Create([0])\n",
        "      | \"📌 Sample points\" >> beam.FlatMap(sample_points, points_per_class=POINTS_PER_CLASS)\n",
        "      | \"🃏 Reshuffle\" >> beam.Reshuffle()\n",
        "      | \"🛰 Get examples\" >> beam.Map(get_training_example, patch_size=PATCH_SIZE)\n",
        "      | \"🗂️ Batch examples\" >> beam.BatchElements()\n",
        "      | \"📝 Write NPZ files\" >> beam.Map(write_npz, data_path)\n",
        "  )"
      ]
    },
    {
      "cell_type": "markdown",
      "metadata": {
        "id": "_MNuZ63vGvYx"
      },
      "source": [
        "View created files"
      ]
    },
    {
      "cell_type": "code",
      "execution_count": null,
      "metadata": {
        "colab": {
          "base_uri": "https://localhost:8080/"
        },
        "id": "pSGMQwv5mdsJ",
        "outputId": "78f5c378-7863-414c-f879-0a8626c5c289"
      },
      "outputs": [
        {
          "name": "stdout",
          "output_type": "stream",
          "text": [
            "total 448K\n",
            "-rw-r--r-- 1 root root 27K Jul  4 19:28 3b8a7ad6-d529-4cff-9321-2d3c942f5686.npz\n",
            "-rw-r--r-- 1 root root 53K Jul  4 19:30 57d4fb81-d80c-46cf-af1f-c9ec2895cf9b.npz\n",
            "-rw-r--r-- 1 root root 28K Jul  4 19:26 64ba81da-b685-4d83-977d-37e1a1237adf.npz\n",
            "-rw-r--r-- 1 root root 27K Jul  4 19:31 6960576d-3fda-48f0-8349-289e6a4009c0.npz\n",
            "-rw-r--r-- 1 root root 55K Jul  4 19:27 ada0b897-7dc4-4f4e-8971-7371296ee0b4.npz\n",
            "-rw-r--r-- 1 root root 53K Jul  4 19:29 d4c15612-db9f-4999-b87e-3a894a85e8ab.npz\n",
            "-rw-r--r-- 1 root root 54K Jul  4 19:28 e9fc60f6-a8a1-4ca3-8bdd-fc1e30f3c885.npz\n",
            "-rw-r--r-- 1 root root 25K Jul  4 19:27 f4605d82-7972-4d5a-8f7b-557b4e70ed2d.npz\n",
            "-rw-r--r-- 1 root root 28K Jul  4 19:30 f6175e39-2e34-4619-99ae-a40bd229e17c.npz\n",
            "-rw-r--r-- 1 root root 25K Jul  4 19:29 f8b77fba-1c01-4c27-b5e3-db4d947d9bae.npz\n",
            "-rw-r--r-- 1 root root 53K Jul  4 19:31 f97d7e9c-0b1f-4f40-944e-4c54d29f21ac.npz\n"
          ]
        }
      ],
      "source": [
        "!ls -lh data"
      ]
    },
    {
      "cell_type": "code",
      "execution_count": null,
      "metadata": {
        "id": "Q9Nc7SgEUiD_"
      },
      "outputs": [],
      "source": [
        "%rm -r data/"
      ]
    },
    {
      "cell_type": "markdown",
      "metadata": {
        "id": "Gl7W7v-haPJO"
      },
      "source": [
        "## Use the Distributed runner"
      ]
    },
    {
      "cell_type": "markdown",
      "metadata": {
        "id": "-yiqpM-7HH46"
      },
      "source": [
        "To have a remote distributed runner complete the pipeline task, we created a script, `create_dataset.py` that will `run()` our pipeline based on arguments we can adjust. To do that, it needs acceess to the data package used, so we have to build it to give to Dataflow:"
      ]
    },
    {
      "cell_type": "code",
      "execution_count": null,
      "metadata": {
        "colab": {
          "base_uri": "https://localhost:8080/"
        },
        "id": "yCsrYVXW4m2C",
        "outputId": "6aa74178-1369-40f5-fdf0-5327e35c1a1e"
      },
      "outputs": [
        {
          "name": "stdout",
          "output_type": "stream",
          "text": [
            "\u001b[1m* Creating virtualenv isolated environment...\u001b[0m\n",
            "\u001b[1m* Installing packages in isolated environment... (setuptools >= 40.8.0, wheel)\u001b[0m\n",
            "\u001b[1m* Getting build dependencies for sdist...\u001b[0m\n",
            "running egg_info\n",
            "writing benin_data.egg-info/PKG-INFO\n",
            "writing dependency_links to benin_data.egg-info/dependency_links.txt\n",
            "writing requirements to benin_data.egg-info/requires.txt\n",
            "writing top-level names to benin_data.egg-info/top_level.txt\n",
            "reading manifest file 'benin_data.egg-info/SOURCES.txt'\n",
            "writing manifest file 'benin_data.egg-info/SOURCES.txt'\n",
            "\u001b[1m* Building sdist...\u001b[0m\n",
            "running sdist\n",
            "running egg_info\n",
            "writing benin_data.egg-info/PKG-INFO\n",
            "writing dependency_links to benin_data.egg-info/dependency_links.txt\n",
            "writing requirements to benin_data.egg-info/requires.txt\n",
            "writing top-level names to benin_data.egg-info/top_level.txt\n",
            "reading manifest file 'benin_data.egg-info/SOURCES.txt'\n",
            "writing manifest file 'benin_data.egg-info/SOURCES.txt'\n",
            "warning: sdist: standard file not found: should have one of README, README.rst, README.txt, README.md\n",
            "\n",
            "running check\n",
            "creating benin-data-1.1.0\n",
            "creating benin-data-1.1.0/benin\n",
            "creating benin-data-1.1.0/benin_data.egg-info\n",
            "copying files to benin-data-1.1.0...\n",
            "copying pyproject.toml -> benin-data-1.1.0\n",
            "copying benin/__init__.py -> benin-data-1.1.0/benin\n",
            "copying benin/data.py -> benin-data-1.1.0/benin\n",
            "copying benin_data.egg-info/PKG-INFO -> benin-data-1.1.0/benin_data.egg-info\n",
            "copying benin_data.egg-info/SOURCES.txt -> benin-data-1.1.0/benin_data.egg-info\n",
            "copying benin_data.egg-info/dependency_links.txt -> benin-data-1.1.0/benin_data.egg-info\n",
            "copying benin_data.egg-info/requires.txt -> benin-data-1.1.0/benin_data.egg-info\n",
            "copying benin_data.egg-info/top_level.txt -> benin-data-1.1.0/benin_data.egg-info\n",
            "Writing benin-data-1.1.0/setup.cfg\n",
            "Creating tar archive\n",
            "removing 'benin-data-1.1.0' (and everything under it)\n",
            "\u001b[1m* Building wheel from sdist\u001b[0m\n",
            "\u001b[1m* Creating virtualenv isolated environment...\u001b[0m\n",
            "\u001b[1m* Installing packages in isolated environment... (setuptools >= 40.8.0, wheel)\u001b[0m\n",
            "\u001b[1m* Getting build dependencies for wheel...\u001b[0m\n",
            "running egg_info\n",
            "writing benin_data.egg-info/PKG-INFO\n",
            "writing dependency_links to benin_data.egg-info/dependency_links.txt\n",
            "writing requirements to benin_data.egg-info/requires.txt\n",
            "writing top-level names to benin_data.egg-info/top_level.txt\n",
            "reading manifest file 'benin_data.egg-info/SOURCES.txt'\n",
            "writing manifest file 'benin_data.egg-info/SOURCES.txt'\n",
            "\u001b[1m* Installing packages in isolated environment... (wheel)\u001b[0m\n",
            "\u001b[1m* Building wheel...\u001b[0m\n",
            "running bdist_wheel\n",
            "running build\n",
            "running build_py\n",
            "creating build\n",
            "creating build/lib\n",
            "creating build/lib/benin\n",
            "copying benin/__init__.py -> build/lib/benin\n",
            "copying benin/data.py -> build/lib/benin\n",
            "running egg_info\n",
            "writing benin_data.egg-info/PKG-INFO\n",
            "writing dependency_links to benin_data.egg-info/dependency_links.txt\n",
            "writing requirements to benin_data.egg-info/requires.txt\n",
            "writing top-level names to benin_data.egg-info/top_level.txt\n",
            "reading manifest file 'benin_data.egg-info/SOURCES.txt'\n",
            "writing manifest file 'benin_data.egg-info/SOURCES.txt'\n",
            "installing to build/bdist.linux-x86_64/wheel\n",
            "running install\n",
            "running install_lib\n",
            "creating build/bdist.linux-x86_64\n",
            "creating build/bdist.linux-x86_64/wheel\n",
            "creating build/bdist.linux-x86_64/wheel/benin\n",
            "copying build/lib/benin/__init__.py -> build/bdist.linux-x86_64/wheel/benin\n",
            "copying build/lib/benin/data.py -> build/bdist.linux-x86_64/wheel/benin\n",
            "running install_egg_info\n",
            "Copying benin_data.egg-info to build/bdist.linux-x86_64/wheel/benin_data-1.1.0-py3.10.egg-info\n",
            "running install_scripts\n",
            "creating build/bdist.linux-x86_64/wheel/benin_data-1.1.0.dist-info/WHEEL\n",
            "creating '/content/satellite_cnns/src/benin-data/dist/.tmp-7ye89zt9/benin_data-1.1.0-py3-none-any.whl' and adding 'build/bdist.linux-x86_64/wheel' to it\n",
            "adding 'benin/__init__.py'\n",
            "adding 'benin/data.py'\n",
            "adding 'benin_data-1.1.0.dist-info/METADATA'\n",
            "adding 'benin_data-1.1.0.dist-info/WHEEL'\n",
            "adding 'benin_data-1.1.0.dist-info/top_level.txt'\n",
            "adding 'benin_data-1.1.0.dist-info/RECORD'\n",
            "removing build/bdist.linux-x86_64/wheel\n",
            "\u001b[1m\u001b[92mSuccessfully built \u001b[4mbenin-data-1.1.0.tar.gz\u001b[0m\u001b[1m\u001b[92m and \u001b[4mbenin_data-1.1.0-py3-none-any.whl\u001b[0m\u001b[1m\u001b[92m\u001b[0m\n"
          ]
        }
      ],
      "source": [
        "# build benin data package to send to distributed runner\n",
        "!python -m build src/benin-data"
      ]
    },
    {
      "cell_type": "markdown",
      "metadata": {
        "id": "CQBIrX_xDPBz"
      },
      "source": [
        "See the benin-data package"
      ]
    },
    {
      "cell_type": "code",
      "execution_count": null,
      "metadata": {
        "colab": {
          "base_uri": "https://localhost:8080/"
        },
        "id": "8YWHge3v5DCO",
        "outputId": "2f351004-26c0-4626-b751-67e2c11b400a"
      },
      "outputs": [
        {
          "name": "stdout",
          "output_type": "stream",
          "text": [
            "total 16K\n",
            "-rw-r--r-- 1 root root 4.4K Jul  7 00:16 benin_data-1.1.0-py3-none-any.whl\n",
            "-rw-r--r-- 1 root root 4.1K Jul  7 00:16 benin-data-1.1.0.tar.gz\n"
          ]
        }
      ],
      "source": [
        "!ls -lh src/benin-data/dist"
      ]
    },
    {
      "cell_type": "markdown",
      "metadata": {
        "id": "y4ZnbZM2Hf29"
      },
      "source": [
        "Define the GC data path for the exported files:"
      ]
    },
    {
      "cell_type": "code",
      "execution_count": null,
      "metadata": {
        "colab": {
          "base_uri": "https://localhost:8080/"
        },
        "id": "2eW4DZ4rpHrr",
        "outputId": "bd3438d9-e757-4806-e05a-89098b9133f0"
      },
      "outputs": [
        {
          "name": "stdout",
          "output_type": "stream",
          "text": [
            "gs://benin-bucket1/dd_test\n"
          ]
        }
      ],
      "source": [
        "folder = 'dd_test'\n",
        "data_path=f\"gs://{bucket}/{folder}\"\n",
        "print(f'{data_path}')"
      ]
    },
    {
      "cell_type": "markdown",
      "metadata": {
        "id": "b4meAxo9HqJK"
      },
      "source": [
        "Run the distributed runner (Dataflow):"
      ]
    },
    {
      "cell_type": "code",
      "execution_count": null,
      "metadata": {
        "colab": {
          "base_uri": "https://localhost:8080/"
        },
        "id": "n-jc-FI34hLb",
        "outputId": "1018f062-9eb7-41f8-aa5e-b139f2278d8a"
      },
      "outputs": [
        {
          "name": "stdout",
          "output_type": "stream",
          "text": [
            "INFO:apache_beam.typehints.native_type_compatibility:Converting string literal type hint to Any: \"tuple\"\n",
            "INFO:apache_beam.typehints.native_type_compatibility:Converting string literal type hint to Any: \"list[tuple[np.ndarray, np.ndarray]]\"\n",
            "INFO:apache_beam.typehints.native_type_compatibility:Converting string literal type hint to Any: \"str\"\n",
            "INFO:apache_beam.typehints.native_type_compatibility:Converting string literal type hint to Any: \"str\"\n",
            "INFO:apache_beam.runners.portability.stager:Downloading source distribution of the SDK from PyPi\n",
            "INFO:apache_beam.runners.portability.stager:Executing command: ['/usr/bin/python3', '-m', 'pip', 'download', '--dest', '/tmp/tmpb6pcahsk', 'apache-beam==2.48.0', '--no-deps', '--no-binary', ':all:']\n",
            "INFO:apache_beam.runners.portability.stager:Staging SDK sources from PyPI: dataflow_python_sdk.tar\n",
            "INFO:apache_beam.runners.portability.stager:Downloading binary distribution of the SDK from PyPi\n",
            "INFO:apache_beam.runners.portability.stager:Executing command: ['/usr/bin/python3', '-m', 'pip', 'download', '--dest', '/tmp/tmpb6pcahsk', 'apache-beam==2.48.0', '--no-deps', '--only-binary', ':all:', '--python-version', '310', '--implementation', 'cp', '--abi', 'cp310', '--platform', 'manylinux2014_x86_64']\n",
            "INFO:apache_beam.runners.portability.stager:Staging binary distribution of the SDK from PyPI: apache_beam-2.48.0-cp310-cp310-manylinux_2_17_x86_64.manylinux2014_x86_64.whl\n",
            "INFO:root:Default Python SDK image for environment is apache/beam_python3.10_sdk:2.48.0\n",
            "INFO:root:Using provided Python SDK container image: gcr.io/cloud-dataflow/v1beta3/python310:2.48.0\n",
            "INFO:root:Python SDK container image set to \"gcr.io/cloud-dataflow/v1beta3/python310:2.48.0\" for Docker environment\n",
            "INFO:apache_beam.runners.portability.fn_api_runner.translations:==================== <function pack_combiners at 0x7f764db09090> ====================\n",
            "INFO:apache_beam.runners.portability.fn_api_runner.translations:==================== <function sort_stages at 0x7f764db09870> ====================\n",
            "INFO:apache_beam.runners.dataflow.internal.apiclient:Defaulting to the temp_location as staging_location: gs://benin-bucket1/dd_test/temp\n",
            "INFO:apache_beam.internal.gcp.auth:Setting socket default timeout to 60 seconds.\n",
            "INFO:apache_beam.internal.gcp.auth:socket default timeout is 60.0 seconds.\n",
            "INFO:apache_beam.runners.dataflow.internal.apiclient:Starting GCS upload to gs://benin-bucket1/dd_test/temp/beamapp-root-0707003134-692852-wdzz2sqi.1688689894.693305/extra_packages.txt...\n",
            "INFO:apache_beam.runners.dataflow.internal.apiclient:Completed GCS upload to gs://benin-bucket1/dd_test/temp/beamapp-root-0707003134-692852-wdzz2sqi.1688689894.693305/extra_packages.txt in 0 seconds.\n",
            "INFO:apache_beam.runners.dataflow.internal.apiclient:Starting GCS upload to gs://benin-bucket1/dd_test/temp/beamapp-root-0707003134-692852-wdzz2sqi.1688689894.693305/pickled_main_session...\n",
            "INFO:apache_beam.runners.dataflow.internal.apiclient:Completed GCS upload to gs://benin-bucket1/dd_test/temp/beamapp-root-0707003134-692852-wdzz2sqi.1688689894.693305/pickled_main_session in 0 seconds.\n",
            "INFO:apache_beam.runners.dataflow.internal.apiclient:Starting GCS upload to gs://benin-bucket1/dd_test/temp/beamapp-root-0707003134-692852-wdzz2sqi.1688689894.693305/dataflow_python_sdk.tar...\n",
            "INFO:apache_beam.runners.dataflow.internal.apiclient:Completed GCS upload to gs://benin-bucket1/dd_test/temp/beamapp-root-0707003134-692852-wdzz2sqi.1688689894.693305/dataflow_python_sdk.tar in 0 seconds.\n",
            "INFO:apache_beam.runners.dataflow.internal.apiclient:Starting GCS upload to gs://benin-bucket1/dd_test/temp/beamapp-root-0707003134-692852-wdzz2sqi.1688689894.693305/benin-data-1.1.0.tar.gz...\n",
            "INFO:apache_beam.runners.dataflow.internal.apiclient:Completed GCS upload to gs://benin-bucket1/dd_test/temp/beamapp-root-0707003134-692852-wdzz2sqi.1688689894.693305/benin-data-1.1.0.tar.gz in 0 seconds.\n",
            "INFO:apache_beam.runners.dataflow.internal.apiclient:Starting GCS upload to gs://benin-bucket1/dd_test/temp/beamapp-root-0707003134-692852-wdzz2sqi.1688689894.693305/apache_beam-2.48.0-cp310-cp310-manylinux_2_17_x86_64.manylinux2014_x86_64.whl...\n",
            "INFO:apache_beam.runners.dataflow.internal.apiclient:Completed GCS upload to gs://benin-bucket1/dd_test/temp/beamapp-root-0707003134-692852-wdzz2sqi.1688689894.693305/apache_beam-2.48.0-cp310-cp310-manylinux_2_17_x86_64.manylinux2014_x86_64.whl in 4 seconds.\n",
            "INFO:apache_beam.runners.dataflow.internal.apiclient:Starting GCS upload to gs://benin-bucket1/dd_test/temp/beamapp-root-0707003134-692852-wdzz2sqi.1688689894.693305/pipeline.pb...\n",
            "INFO:apache_beam.runners.dataflow.internal.apiclient:Completed GCS upload to gs://benin-bucket1/dd_test/temp/beamapp-root-0707003134-692852-wdzz2sqi.1688689894.693305/pipeline.pb in 0 seconds.\n",
            "INFO:apache_beam.runners.dataflow.internal.apiclient:Create job: <Job\n",
            " clientRequestId: '20230707003134694276-7860'\n",
            " createTime: '2023-07-07T00:31:42.185239Z'\n",
            " currentStateTime: '1970-01-01T00:00:00Z'\n",
            " id: '2023-07-06_17_31_41-11624900130720342333'\n",
            " location: 'us-central1'\n",
            " name: 'beamapp-root-0707003134-692852-wdzz2sqi'\n",
            " projectId: 'ls-test-3-24'\n",
            " stageStates: []\n",
            " startTime: '2023-07-07T00:31:42.185239Z'\n",
            " steps: []\n",
            " tempFiles: []\n",
            " type: TypeValueValuesEnum(JOB_TYPE_BATCH, 1)>\n",
            "INFO:apache_beam.runners.dataflow.internal.apiclient:Created job with id: [2023-07-06_17_31_41-11624900130720342333]\n",
            "INFO:apache_beam.runners.dataflow.internal.apiclient:Submitted job: 2023-07-06_17_31_41-11624900130720342333\n",
            "INFO:apache_beam.runners.dataflow.internal.apiclient:To access the Dataflow monitoring console, please navigate to https://console.cloud.google.com/dataflow/jobs/us-central1/2023-07-06_17_31_41-11624900130720342333?project=ls-test-3-24\n",
            "INFO:apache_beam.runners.dataflow.dataflow_runner:Job 2023-07-06_17_31_41-11624900130720342333 is in state JOB_STATE_PENDING\n",
            "INFO:apache_beam.runners.dataflow.dataflow_runner:2023-07-07T00:31:41.485Z: JOB_MESSAGE_BASIC: Dataflow Runner V2 auto-enabled. Use --experiments=disable_runner_v2 to opt out.\n",
            "INFO:apache_beam.runners.dataflow.dataflow_runner:2023-07-07T00:31:42.940Z: JOB_MESSAGE_DETAILED: Autoscaling is enabled for job 2023-07-06_17_31_41-11624900130720342333. The number of workers will be between 1 and 20.\n",
            "INFO:apache_beam.runners.dataflow.dataflow_runner:2023-07-07T00:31:43.010Z: JOB_MESSAGE_DETAILED: Autoscaling was automatically enabled for job 2023-07-06_17_31_41-11624900130720342333.\n",
            "INFO:apache_beam.runners.dataflow.dataflow_runner:2023-07-07T00:31:44.998Z: JOB_MESSAGE_BASIC: Worker configuration: n1-standard-1 in us-central1-a.\n",
            "INFO:apache_beam.runners.dataflow.dataflow_runner:2023-07-07T00:31:45.607Z: JOB_MESSAGE_DETAILED: Expanding SplittableParDo operations into optimizable parts.\n",
            "INFO:apache_beam.runners.dataflow.dataflow_runner:2023-07-07T00:31:45.639Z: JOB_MESSAGE_DETAILED: Expanding CollectionToSingleton operations into optimizable parts.\n",
            "INFO:apache_beam.runners.dataflow.dataflow_runner:2023-07-07T00:31:45.707Z: JOB_MESSAGE_DETAILED: Expanding CoGroupByKey operations into optimizable parts.\n",
            "INFO:apache_beam.runners.dataflow.dataflow_runner:2023-07-07T00:31:45.743Z: JOB_MESSAGE_DEBUG: Combiner lifting skipped for step 🃏 Reshuffle/ReshufflePerKey/GroupByKey: GroupByKey not followed by a combiner.\n",
            "INFO:apache_beam.runners.dataflow.dataflow_runner:2023-07-07T00:31:45.779Z: JOB_MESSAGE_DETAILED: Expanding GroupByKey operations into optimizable parts.\n",
            "INFO:apache_beam.runners.dataflow.dataflow_runner:2023-07-07T00:31:45.806Z: JOB_MESSAGE_DEBUG: Annotating graph with Autotuner information.\n",
            "INFO:apache_beam.runners.dataflow.dataflow_runner:2023-07-07T00:31:45.846Z: JOB_MESSAGE_DETAILED: Fusing adjacent ParDo, Read, Write, and Flatten operations\n",
            "INFO:apache_beam.runners.dataflow.dataflow_runner:2023-07-07T00:31:45.871Z: JOB_MESSAGE_DETAILED: Fusing consumer 🌱 Make seeds/FlatMap(<lambda at core.py:3634>) into 🌱 Make seeds/Impulse\n",
            "INFO:apache_beam.runners.dataflow.dataflow_runner:2023-07-07T00:31:45.904Z: JOB_MESSAGE_DETAILED: Fusing consumer 🌱 Make seeds/Map(decode) into 🌱 Make seeds/FlatMap(<lambda at core.py:3634>)\n",
            "INFO:apache_beam.runners.dataflow.dataflow_runner:2023-07-07T00:31:45.936Z: JOB_MESSAGE_DETAILED: Fusing consumer 📌 Sample points into 🌱 Make seeds/Map(decode)\n",
            "INFO:apache_beam.runners.dataflow.dataflow_runner:2023-07-07T00:31:45.968Z: JOB_MESSAGE_DETAILED: Fusing consumer 🃏 Reshuffle/AddRandomKeys into 📌 Sample points\n",
            "INFO:apache_beam.runners.dataflow.dataflow_runner:2023-07-07T00:31:46Z: JOB_MESSAGE_DETAILED: Fusing consumer 🃏 Reshuffle/ReshufflePerKey/Map(reify_timestamps) into 🃏 Reshuffle/AddRandomKeys\n",
            "INFO:apache_beam.runners.dataflow.dataflow_runner:2023-07-07T00:31:46.032Z: JOB_MESSAGE_DETAILED: Fusing consumer 🃏 Reshuffle/ReshufflePerKey/GroupByKey/Reify into 🃏 Reshuffle/ReshufflePerKey/Map(reify_timestamps)\n",
            "INFO:apache_beam.runners.dataflow.dataflow_runner:2023-07-07T00:31:46.054Z: JOB_MESSAGE_DETAILED: Fusing consumer 🃏 Reshuffle/ReshufflePerKey/GroupByKey/Write into 🃏 Reshuffle/ReshufflePerKey/GroupByKey/Reify\n",
            "INFO:apache_beam.runners.dataflow.dataflow_runner:2023-07-07T00:31:46.089Z: JOB_MESSAGE_DETAILED: Fusing consumer 🃏 Reshuffle/ReshufflePerKey/GroupByKey/GroupByWindow into 🃏 Reshuffle/ReshufflePerKey/GroupByKey/Read\n",
            "INFO:apache_beam.runners.dataflow.dataflow_runner:2023-07-07T00:31:46.122Z: JOB_MESSAGE_DETAILED: Fusing consumer 🃏 Reshuffle/ReshufflePerKey/FlatMap(restore_timestamps) into 🃏 Reshuffle/ReshufflePerKey/GroupByKey/GroupByWindow\n",
            "INFO:apache_beam.runners.dataflow.dataflow_runner:2023-07-07T00:31:46.155Z: JOB_MESSAGE_DETAILED: Fusing consumer 🃏 Reshuffle/RemoveRandomKeys into 🃏 Reshuffle/ReshufflePerKey/FlatMap(restore_timestamps)\n",
            "INFO:apache_beam.runners.dataflow.dataflow_runner:2023-07-07T00:31:46.189Z: JOB_MESSAGE_DETAILED: Fusing consumer 🛰 Get examples into 🃏 Reshuffle/RemoveRandomKeys\n",
            "INFO:apache_beam.runners.dataflow.dataflow_runner:2023-07-07T00:31:46.212Z: JOB_MESSAGE_DETAILED: Fusing consumer 🗂️ Batch examples/ParDo(_GlobalWindowsBatchingDoFn) into 🛰 Get examples\n",
            "INFO:apache_beam.runners.dataflow.dataflow_runner:2023-07-07T00:31:46.242Z: JOB_MESSAGE_DETAILED: Fusing consumer 📝 Write NPZ files into 🗂️ Batch examples/ParDo(_GlobalWindowsBatchingDoFn)\n",
            "INFO:apache_beam.runners.dataflow.dataflow_runner:2023-07-07T00:31:46.287Z: JOB_MESSAGE_DEBUG: Workflow config is missing a default resource spec.\n",
            "INFO:apache_beam.runners.dataflow.dataflow_runner:2023-07-07T00:31:46.312Z: JOB_MESSAGE_DEBUG: Adding StepResource setup and teardown to workflow graph.\n",
            "INFO:apache_beam.runners.dataflow.dataflow_runner:2023-07-07T00:31:46.343Z: JOB_MESSAGE_DEBUG: Adding workflow start and stop steps.\n",
            "INFO:apache_beam.runners.dataflow.dataflow_runner:2023-07-07T00:31:46.376Z: JOB_MESSAGE_DEBUG: Assigning stage ids.\n",
            "INFO:apache_beam.runners.dataflow.dataflow_runner:2023-07-07T00:31:46.496Z: JOB_MESSAGE_DEBUG: Executing wait step start13\n",
            "INFO:apache_beam.runners.dataflow.dataflow_runner:2023-07-07T00:31:46.561Z: JOB_MESSAGE_BASIC: Executing operation 🃏 Reshuffle/ReshufflePerKey/GroupByKey/Create\n",
            "INFO:apache_beam.runners.dataflow.dataflow_runner:2023-07-07T00:31:46.597Z: JOB_MESSAGE_DEBUG: Starting worker pool setup.\n",
            "INFO:apache_beam.runners.dataflow.dataflow_runner:2023-07-07T00:31:46.620Z: JOB_MESSAGE_BASIC: Starting 1 workers in us-central1-a...\n",
            "INFO:apache_beam.runners.dataflow.dataflow_runner:2023-07-07T00:31:46.816Z: JOB_MESSAGE_BASIC: Finished operation 🃏 Reshuffle/ReshufflePerKey/GroupByKey/Create\n",
            "INFO:apache_beam.runners.dataflow.dataflow_runner:Job 2023-07-06_17_31_41-11624900130720342333 is in state JOB_STATE_RUNNING\n",
            "INFO:apache_beam.runners.dataflow.dataflow_runner:2023-07-07T00:31:52.753Z: JOB_MESSAGE_DEBUG: Value \"🃏 Reshuffle/ReshufflePerKey/GroupByKey/Session\" materialized.\n",
            "INFO:apache_beam.runners.dataflow.dataflow_runner:2023-07-07T00:31:52.815Z: JOB_MESSAGE_BASIC: Executing operation 🌱 Make seeds/Impulse+🌱 Make seeds/FlatMap(<lambda at core.py:3634>)+🌱 Make seeds/Map(decode)+📌 Sample points+🃏 Reshuffle/AddRandomKeys+🃏 Reshuffle/ReshufflePerKey/Map(reify_timestamps)+🃏 Reshuffle/ReshufflePerKey/GroupByKey/Reify+🃏 Reshuffle/ReshufflePerKey/GroupByKey/Write\n",
            "INFO:apache_beam.runners.dataflow.dataflow_runner:2023-07-07T00:32:37.583Z: JOB_MESSAGE_DETAILED: Autoscaling: Raised the number of workers to 1 based on the rate of progress in the currently running stage(s).\n",
            "INFO:apache_beam.runners.dataflow.dataflow_runner:2023-07-07T00:33:12.018Z: JOB_MESSAGE_DETAILED: Workers have started successfully.\n",
            "INFO:apache_beam.runners.dataflow.dataflow_runner:2023-07-07T00:35:26.480Z: JOB_MESSAGE_DETAILED: All workers have finished the startup processes and began to receive work requests.\n",
            "INFO:apache_beam.runners.dataflow.dataflow_runner:2023-07-07T00:35:36.704Z: JOB_MESSAGE_BASIC: Finished operation 🌱 Make seeds/Impulse+🌱 Make seeds/FlatMap(<lambda at core.py:3634>)+🌱 Make seeds/Map(decode)+📌 Sample points+🃏 Reshuffle/AddRandomKeys+🃏 Reshuffle/ReshufflePerKey/Map(reify_timestamps)+🃏 Reshuffle/ReshufflePerKey/GroupByKey/Reify+🃏 Reshuffle/ReshufflePerKey/GroupByKey/Write\n",
            "INFO:apache_beam.runners.dataflow.dataflow_runner:2023-07-07T00:35:36.771Z: JOB_MESSAGE_BASIC: Executing operation 🃏 Reshuffle/ReshufflePerKey/GroupByKey/Close\n",
            "INFO:apache_beam.runners.dataflow.dataflow_runner:2023-07-07T00:35:37.820Z: JOB_MESSAGE_BASIC: Finished operation 🃏 Reshuffle/ReshufflePerKey/GroupByKey/Close\n",
            "INFO:apache_beam.runners.dataflow.dataflow_runner:2023-07-07T00:35:37.890Z: JOB_MESSAGE_BASIC: Executing operation 🃏 Reshuffle/ReshufflePerKey/GroupByKey/Read+🃏 Reshuffle/ReshufflePerKey/GroupByKey/GroupByWindow+🃏 Reshuffle/ReshufflePerKey/FlatMap(restore_timestamps)+🃏 Reshuffle/RemoveRandomKeys+🛰 Get examples+🗂️ Batch examples/ParDo(_GlobalWindowsBatchingDoFn)+📝 Write NPZ files\n",
            "INFO:apache_beam.runners.dataflow.dataflow_runner:2023-07-07T00:42:19.351Z: JOB_MESSAGE_BASIC: Finished operation 🃏 Reshuffle/ReshufflePerKey/GroupByKey/Read+🃏 Reshuffle/ReshufflePerKey/GroupByKey/GroupByWindow+🃏 Reshuffle/ReshufflePerKey/FlatMap(restore_timestamps)+🃏 Reshuffle/RemoveRandomKeys+🛰 Get examples+🗂️ Batch examples/ParDo(_GlobalWindowsBatchingDoFn)+📝 Write NPZ files\n",
            "INFO:apache_beam.runners.dataflow.dataflow_runner:2023-07-07T00:42:19.420Z: JOB_MESSAGE_DEBUG: Executing success step success11\n",
            "INFO:apache_beam.runners.dataflow.dataflow_runner:2023-07-07T00:42:19.476Z: JOB_MESSAGE_DETAILED: Cleaning up.\n",
            "INFO:apache_beam.runners.dataflow.dataflow_runner:2023-07-07T00:42:19.520Z: JOB_MESSAGE_DEBUG: Starting worker pool teardown.\n",
            "INFO:apache_beam.runners.dataflow.dataflow_runner:2023-07-07T00:42:19.543Z: JOB_MESSAGE_BASIC: Stopping worker pool...\n",
            "INFO:apache_beam.runners.dataflow.dataflow_runner:2023-07-07T00:43:09.809Z: JOB_MESSAGE_DETAILED: Autoscaling: Resized worker pool from 1 to 0.\n",
            "INFO:apache_beam.runners.dataflow.dataflow_runner:2023-07-07T00:43:09.845Z: JOB_MESSAGE_BASIC: Worker pool stopped.\n",
            "INFO:apache_beam.runners.dataflow.dataflow_runner:2023-07-07T00:43:09.875Z: JOB_MESSAGE_DEBUG: Tearing down pending resources...\n",
            "INFO:apache_beam.runners.dataflow.dataflow_runner:Job 2023-07-06_17_31_41-11624900130720342333 is in state JOB_STATE_DONE\n"
          ]
        }
      ],
      "source": [
        "!python create_dataset.py \\\n",
        "  --data-path=\"{data_path}/data\" \\\n",
        "  --ppc=\"{POINTS_PER_CLASS}\" \\\n",
        "  --runner=\"DataflowRunner\" \\\n",
        "  --num-workers=\"5\"\\\n",
        "  --project=\"{project}\" \\\n",
        "  --region=\"{location}\" \\\n",
        "  --temp_location=\"{data_path}/temp\" \\\n",
        "  --extra_package=\"./src/benin-data/dist/benin_data-1.1.0.tar.gz\" \\\n",
        "  --network=\"default\""
      ]
    },
    {
      "cell_type": "code",
      "execution_count": null,
      "metadata": {
        "colab": {
          "base_uri": "https://localhost:8080/"
        },
        "id": "ShovjCGJ8ZBZ",
        "outputId": "f7fd7306-7e89-48b9-d00d-fbaf07829eba"
      },
      "outputs": [
        {
          "name": "stdout",
          "output_type": "stream",
          "text": [
            " 54.76 KiB  2023-07-07T00:41:38Z  gs://benin-bucket1/dd_test/data/0ae3738f-54b5-4f0c-a8ac-330ffd87a1d5.npz\n",
            " 26.12 KiB  2023-07-07T00:39:57Z  gs://benin-bucket1/dd_test/data/1840402b-067e-4541-a722-a13d46f8413d.npz\n",
            " 26.67 KiB  2023-07-07T00:35:56Z  gs://benin-bucket1/dd_test/data/2679089e-bde0-4fbc-b79c-f0c936caeed6.npz\n",
            " 27.63 KiB  2023-07-07T00:40:50Z  gs://benin-bucket1/dd_test/data/55437966-f891-4d2d-933a-be065fcb310b.npz\n",
            " 50.23 KiB  2023-07-07T00:38:00Z  gs://benin-bucket1/dd_test/data/5efe47c4-efce-4fdf-b61c-94b1f85764e0.npz\n",
            " 24.74 KiB  2023-07-07T00:41:53Z  gs://benin-bucket1/dd_test/data/8112185a-45f0-4125-a7ec-8c2f81794f46.npz\n",
            " 24.89 KiB  2023-07-07T00:37:19Z  gs://benin-bucket1/dd_test/data/961ac405-d59f-4c66-966e-aa97dfaf0ecd.npz\n",
            " 27.19 KiB  2023-07-07T00:38:21Z  gs://benin-bucket1/dd_test/data/980a3552-cec7-496d-9e7f-faa7680c87e1.npz\n",
            "  26.3 KiB  2023-07-07T00:40:25Z  gs://benin-bucket1/dd_test/data/9af75c65-cf31-434b-9cfc-bd0860512b5a.npz\n",
            " 27.57 KiB  2023-07-07T00:41:06Z  gs://benin-bucket1/dd_test/data/b25c2045-1d0d-41ae-ae42-883fbfcabead.npz\n",
            " 27.32 KiB  2023-07-07T00:36:21Z  gs://benin-bucket1/dd_test/data/bd2ba77e-6306-4c50-93fc-1b2108fc3c77.npz\n",
            " 53.34 KiB  2023-07-07T00:39:06Z  gs://benin-bucket1/dd_test/data/bf9c04a8-fa86-4fca-92ad-5e16fd0dae23.npz\n",
            " 27.57 KiB  2023-07-07T00:36:38Z  gs://benin-bucket1/dd_test/data/cb34ae20-c5cc-4628-b651-c000576ddbbe.npz\n",
            " 26.35 KiB  2023-07-07T00:37:03Z  gs://benin-bucket1/dd_test/data/d169132c-0edc-47ec-b400-673aeb9059b6.npz\n",
            " 53.21 KiB  2023-07-07T00:39:41Z  gs://benin-bucket1/dd_test/data/d3f4ac9c-d633-49bd-bc6b-60a73f60fcad.npz\n",
            " 25.94 KiB  2023-07-07T00:42:18Z  gs://benin-bucket1/dd_test/data/faebaebf-5c23-4f57-bd8c-33e4ad5e37dd.npz\n",
            "TOTAL: 16 objects, 542543 bytes (529.83 KiB)\n"
          ]
        }
      ],
      "source": [
        "!gsutil ls -lh {data_path}/data"
      ]
    },
    {
      "cell_type": "markdown",
      "metadata": {
        "id": "fuHHM5pXQ_DJ"
      },
      "source": [
        "# Read data\n"
      ]
    },
    {
      "cell_type": "markdown",
      "metadata": {
        "id": "-q-e2eD7hHXT"
      },
      "source": [
        "Let's check Google Cloud Storage to see the files in GC"
      ]
    },
    {
      "cell_type": "code",
      "execution_count": null,
      "metadata": {
        "colab": {
          "base_uri": "https://localhost:8080/"
        },
        "id": "Wfw7_T1UhSoC",
        "outputId": "ecef4667-8bfc-46ec-f688-3c9ff7e35d7e"
      },
      "outputs": [
        {
          "name": "stdout",
          "output_type": "stream",
          "text": [
            "gs://example-bucket-ls-3-24/dd_test/data\n",
            " 24.89 KiB  2023-07-04T19:48:20Z  gs://example-bucket-ls-3-24/dd_test/data/04bf0834-90b1-4875-88db-7e32607cf45c.npz\n",
            " 77.33 KiB  2023-07-04T19:45:01Z  gs://example-bucket-ls-3-24/dd_test/data/3702ead9-ac4f-4df5-8a34-55da0c7c5448.npz\n",
            " 27.63 KiB  2023-07-04T19:49:06Z  gs://example-bucket-ls-3-24/dd_test/data/591afe2b-7402-49cc-ab69-b3c2302697c9.npz\n",
            "105.07 KiB  2023-07-04T19:46:12Z  gs://example-bucket-ls-3-24/dd_test/data/6da70341-476c-4fce-8e4b-ba9524e9e65b.npz\n",
            " 27.19 KiB  2023-07-04T19:48:41Z  gs://example-bucket-ls-3-24/dd_test/data/b21465c3-3d32-4c32-9955-9c112ec50d48.npz\n",
            " 27.92 KiB  2023-07-04T19:43:08Z  gs://example-bucket-ls-3-24/dd_test/data/c1efb37c-b1ed-491f-b5bc-40880c68873c.npz\n",
            " 155.6 KiB  2023-07-04T19:48:00Z  gs://example-bucket-ls-3-24/dd_test/data/dcfb4dd0-d197-41c5-bc22-e71de24a45b8.npz\n",
            " 53.14 KiB  2023-07-04T19:44:04Z  gs://example-bucket-ls-3-24/dd_test/data/e92685da-16ba-4eb6-956b-44dbf6ef5c22.npz\n",
            " 27.57 KiB  2023-07-04T19:43:27Z  gs://example-bucket-ls-3-24/dd_test/data/efd31158-d782-4679-8439-0ad1c457402d.npz\n",
            "TOTAL: 9 objects, 538980 bytes (526.35 KiB)\n"
          ]
        }
      ],
      "source": [
        "bucket = 'benin-bucket1'\n",
        "folder = 'dd_test'\n",
        "data_path=f\"gs://{bucket}/{folder}/data\"\n",
        "print(data_path)\n",
        "!gsutil ls -lh {data_path}"
      ]
    },
    {
      "cell_type": "markdown",
      "metadata": {
        "id": "HpV-2AohhZeb"
      },
      "source": [
        "Next, let's copy the files to a local directory to look at them"
      ]
    },
    {
      "cell_type": "code",
      "execution_count": null,
      "metadata": {
        "colab": {
          "base_uri": "https://localhost:8080/"
        },
        "id": "blD6bUqtYfH3",
        "outputId": "1ce56919-e303-4bab-bbeb-1b1a3763951c"
      },
      "outputs": [
        {
          "name": "stdout",
          "output_type": "stream",
          "text": [
            "Copying gs://example-bucket-ls-3-24/dd_test/data/04bf0834-90b1-4875-88db-7e32607cf45c.npz...\n",
            "/ [0/9 files][    0.0 B/526.4 KiB]   0% Done                                    \rCopying gs://example-bucket-ls-3-24/dd_test/data/591afe2b-7402-49cc-ab69-b3c2302697c9.npz...\n",
            "/ [0/9 files][    0.0 B/526.4 KiB]   0% Done                                    \rCopying gs://example-bucket-ls-3-24/dd_test/data/e92685da-16ba-4eb6-956b-44dbf6ef5c22.npz...\n",
            "/ [0/9 files][    0.0 B/526.4 KiB]   0% Done                                    \rCopying gs://example-bucket-ls-3-24/dd_test/data/3702ead9-ac4f-4df5-8a34-55da0c7c5448.npz...\n",
            "/ [0/9 files][    0.0 B/526.4 KiB]   0% Done                                    \rCopying gs://example-bucket-ls-3-24/dd_test/data/dcfb4dd0-d197-41c5-bc22-e71de24a45b8.npz...\n",
            "/ [0/9 files][    0.0 B/526.4 KiB]   0% Done                                    \rCopying gs://example-bucket-ls-3-24/dd_test/data/6da70341-476c-4fce-8e4b-ba9524e9e65b.npz...\n",
            "/ [0/9 files][    0.0 B/526.4 KiB]   0% Done                                    \rCopying gs://example-bucket-ls-3-24/dd_test/data/c1efb37c-b1ed-491f-b5bc-40880c68873c.npz...\n",
            "/ [0/9 files][    0.0 B/526.4 KiB]   0% Done                                    \rCopying gs://example-bucket-ls-3-24/dd_test/data/efd31158-d782-4679-8439-0ad1c457402d.npz...\n",
            "Copying gs://example-bucket-ls-3-24/dd_test/data/b21465c3-3d32-4c32-9955-9c112ec50d48.npz...\n",
            "\\ [9/9 files][526.4 KiB/526.4 KiB] 100% Done                                    \n",
            "Operation completed over 9 objects/526.4 KiB.                                    \n"
          ]
        }
      ],
      "source": [
        "!mkdir -p data-training\n",
        "!gsutil -m cp {data_path}/* data-training"
      ]
    },
    {
      "cell_type": "code",
      "execution_count": null,
      "metadata": {
        "id": "LmkHlD-vJ58d"
      },
      "outputs": [],
      "source": [
        "# Use this to wipe the folder if needed\n",
        "#%rm -r data-training"
      ]
    },
    {
      "cell_type": "markdown",
      "metadata": {
        "id": "2rwTshMtruzG"
      },
      "source": [
        "# Look at dataset"
      ]
    },
    {
      "cell_type": "code",
      "execution_count": null,
      "metadata": {
        "id": "1Tdv1we6qeBI"
      },
      "outputs": [],
      "source": [
        "import torch\n",
        "from read_data import DatasetFromPath, test_train_split\n",
        "\n",
        "dataset = DatasetFromPath('data-training')"
      ]
    },
    {
      "cell_type": "markdown",
      "metadata": {
        "id": "Yyk2Cv15hvcG"
      },
      "source": [
        "**Note**: to avoid using [Hugging Face 🤗 Datasets](https://huggingface.co/docs/datasets/main/en/index) (like in the weather forcasting sample), we're going to use a custom subclass of PyTorch's `torch.utils.data.Dataset` (`DatsetFromPath`). Hugging Face is nice to use a high-level interface for using datasets and should maybe be implemented in the future, but as of this writing (7/4/2023), VertexAI (what we're using for cloud training) has an issue with it's Hugging Face Trainer API (see [weather sample issue](https://github.com/GoogleCloudPlatform/python-docs-samples/issues/9272))."
      ]
    },
    {
      "cell_type": "markdown",
      "metadata": {
        "id": "_I2Y9u71sEgT"
      },
      "source": [
        "### Visualize"
      ]
    },
    {
      "cell_type": "markdown",
      "metadata": {
        "id": "vbmjRaT4j6JB"
      },
      "source": [
        "Let's grab the dataset (`data`) from our path (`/content/data_training`) and pull the top element from the dataset as `example`. In `DatasetFromPath`, the custom getter utilizes dictionary keys of `inputs` and `labels`, so to grab the inputs of example, we use `example['inputs']`.\n",
        "\n",
        "Check what was run through the pipeline. You should expect to see:\n",
        "- Dataset size of 2 * `POINTS_PER_CLASS` or 4 if `POINTS_PER_CLASS` was not declared/put into the pipeline.\n",
        "- inputs size of (`PATCH_SIZE`, `PATCH_SIZE`, number of input bands)\n",
        "- labels size of (`PATCH_SIZE`, `aPATCH_SIZE`, number of label bands)\n",
        "\n",
        "Note: For Benin, there are 4 input bands and 1 label band."
      ]
    },
    {
      "cell_type": "code",
      "execution_count": null,
      "metadata": {
        "colab": {
          "base_uri": "https://localhost:8080/"
        },
        "id": "MRF7ypL_BEqf",
        "outputId": "b97c4831-1ea7-4d99-acf3-530a3e3bdd0b"
      },
      "outputs": [
        {
          "name": "stdout",
          "output_type": "stream",
          "text": [
            "Dataset size: 20\n",
            "inputs: (128, 128, 4)\n",
            "labels: (128, 128, 1)\n"
          ]
        }
      ],
      "source": [
        "print(f\"Dataset size: {len(dataset)}\")\n",
        "example = dataset[0]  # random access the first element\n",
        "\n",
        "print(f\"inputs: {example['inputs'].shape}\")\n",
        "print(f\"labels: {example['labels'].shape}\")"
      ]
    },
    {
      "cell_type": "markdown",
      "metadata": {
        "id": "G_OAWndLkvpa"
      },
      "source": [
        "The `DatsetFromPath` class also allows you to retrieve all of the inputs/labels in a dataset in their raw NumPy array form by indexing with \"inputs\" or \"labels\":"
      ]
    },
    {
      "cell_type": "code",
      "execution_count": null,
      "metadata": {
        "colab": {
          "base_uri": "https://localhost:8080/"
        },
        "id": "hS7A25EEku3W",
        "outputId": "7d177562-aad8-4981-bf02-7e7a9ec1ca3d"
      },
      "outputs": [
        {
          "name": "stdout",
          "output_type": "stream",
          "text": [
            "All inputs: (20, 128, 128, 4)\n",
            "All labels: (20, 128, 128, 1)\n"
          ]
        }
      ],
      "source": [
        "inputs = dataset['inputs']\n",
        "labels = dataset['labels']\n",
        "\n",
        "print(f\"All inputs: {inputs.shape}\")\n",
        "print(f\"All labels: {labels.shape}\")"
      ]
    },
    {
      "cell_type": "markdown",
      "metadata": {
        "id": "1nbS_jurpKO6"
      },
      "source": [
        "Let's view our example using our visualization functionality. For Benin, blue = inside village, red = outside village."
      ]
    },
    {
      "cell_type": "code",
      "execution_count": null,
      "metadata": {
        "colab": {
          "base_uri": "https://localhost:8080/"
        },
        "id": "5JzlTSkhpMEU",
        "outputId": "d23e8ca3-1b34-4099-b5b3-ac69700a1113"
      },
      "outputs": [
        {
          "data": {
            "image/png": "[encoded data removed]",
            "text/plain": [
              "<Figure size 640x480 with 2 Axes>"
            ]
          },
          "metadata": {},
          "output_type": "display_data"
        }
      ],
      "source": [
        "from visualize import show_patch\n",
        "\n",
        "\n",
        "inputs = example['inputs']\n",
        "labels = example['labels']\n",
        "\n",
        "show_patch(inputs, labels)"
      ]
    },
    {
      "cell_type": "markdown",
      "metadata": {
        "id": "HDir8YB7l2pn"
      },
      "source": [
        "How let's split the dataset into a train and test subset using the test_train_split function. Test differt ratios to see how the dataset splits and view the first of each."
      ]
    },
    {
      "cell_type": "code",
      "execution_count": null,
      "metadata": {
        "colab": {
          "base_uri": "https://localhost:8080/"
        },
        "id": "CX2nnRlrkWxG",
        "outputId": "6bce41fc-a9b1-48f3-db6c-2dc9f99638a4"
      },
      "outputs": [
        {
          "name": "stdout",
          "output_type": "stream",
          "text": [
            "Train size: 10\n",
            "inputs: (128, 128, 4)\n",
            "labels: (128, 128, 1)\n",
            "Test size: 10\n",
            "inputs: (128, 128, 4)\n",
            "labels: (128, 128, 1)\n",
            "\n",
            "Train[0]:\n"
          ]
        },
        {
          "data": {
            "image/png": "[encoded data removed]",
            "text/plain": [
              "<Figure size 640x480 with 2 Axes>"
            ]
          },
          "metadata": {},
          "output_type": "display_data"
        },
        {
          "name": "stdout",
          "output_type": "stream",
          "text": [
            "Test[0]:\n"
          ]
        },
        {
          "data": {
            "image/png": "[encoded data removed]",
            "text/plain": [
              "<Figure size 640x480 with 2 Axes>"
            ]
          },
          "metadata": {},
          "output_type": "display_data"
        }
      ],
      "source": [
        "ratio = 0.5\n",
        "train, test = test_train_split(dataset, ratio=0.5, seed=0)\n",
        "\n",
        "print(f\"Train size: {len(train)}\")\n",
        "train_example = train[0]  # random access the first element\n",
        "print(f\"inputs: {train_example['inputs'].shape}\")\n",
        "print(f\"labels: {train_example['labels'].shape}\")\n",
        "print(f\"Test size: {len(train)}\")\n",
        "test_example = test[0]  # random access the first element\n",
        "print(f\"inputs: {test_example['inputs'].shape}\")\n",
        "print(f\"labels: {test_example['labels'].shape}\\n\")\n",
        "\n",
        "train_inputs = train_example['inputs']\n",
        "train_labels = train_example['labels']\n",
        "test_inputs = test_example['inputs']\n",
        "test_labels = test_example['labels']\n",
        "print(f'Train[0]:')\n",
        "show_patch(train_inputs, train_labels)\n",
        "print(f'Test[0]:')\n",
        "show_patch(test_inputs, test_labels)"
      ]
    },
    {
      "cell_type": "markdown",
      "metadata": {
        "id": "W3QlLRJCrjqP"
      },
      "source": [
        "### Test access: Statistics\n",
        "\n",
        "I'm just testing to make sure we can access the data in the way we want... haven't checked for proper use of np.mean()."
      ]
    },
    {
      "cell_type": "code",
      "execution_count": null,
      "metadata": {
        "colab": {
          "base_uri": "https://localhost:8080/"
        },
        "id": "zHk4RnzMsKIW",
        "outputId": "38c2042e-4d9c-4fde-9405-03ee4454adf8"
      },
      "outputs": [
        {
          "name": "stdout",
          "output_type": "stream",
          "text": [
            "<class 'numpy.ndarray'>\n",
            "(10, 128, 128, 4)\n",
            "Train inputs mean: (1, 1, 1, 4)\n",
            "Train inputs std: (1, 1, 1, 4)\n"
          ]
        }
      ],
      "source": [
        "from torch.utils.data.dataloader import DataLoader\n",
        "# future\n",
        "import numpy as np\n",
        "\n",
        "print(type(dataset['inputs']))\n",
        "print(train['inputs'].shape)\n",
        "data = train['inputs']\n",
        "mean = data.mean(axis=(0, 1, 2))[None, None, None, :]\n",
        "std = data.std(axis=(0, 1, 2))[None, None, None, :]\n",
        "\n",
        "print(f'Train inputs mean: {mean.shape}')\n",
        "print(f'Train inputs std: {std.shape}')"
      ]
    },
    {
      "cell_type": "markdown",
      "metadata": {
        "id": "tBAy34k0siEz"
      },
      "source": [
        "# Model\n",
        "\n",
        "1.   **Define the model**: An UNTESTED implementation of U-Net has been placed in [model.py](src/benin-model/benin/model.py). Check it for the model specifications.\n",
        "2.   **Train** (locally or with VertexAI)\n",
        "\n",
        "\n"
      ]
    },
    {
      "cell_type": "markdown",
      "metadata": {
        "id": "XMuyCPhnRj4L"
      },
      "source": [
        "We're going to use the custom package `benin-model` that contains:\n",
        "\n",
        "*   **npz_dataset.py**: module library for reading a directory with\n",
        "*   **model.py**: model specifications (currently has a U-Net model)\n",
        "*   **train.py**: script that uses other modules to create, train, and save a model\n",
        "*   **dice_score.py**: holds a few dice score helper functions for training\n",
        "\n",
        "\n",
        "In addition, we need the Google Cloud AI Platform API to send a training job to VertexAI."
      ]
    },
    {
      "cell_type": "code",
      "execution_count": null,
      "metadata": {
        "colab": {
          "base_uri": "https://localhost:8080/"
        },
        "id": "6ckslfI49vaK",
        "outputId": "f549e88b-8e87-4eab-eb59-c3c598cd1029"
      },
      "outputs": [
        {
          "name": "stdout",
          "output_type": "stream",
          "text": [
            "Processing ./src/benin-model\n",
            "  Installing build dependencies ... \u001b[?25l\u001b[?25hdone\n",
            "  Getting requirements to build wheel ... \u001b[?25l\u001b[?25hdone\n",
            "  Preparing metadata (pyproject.toml) ... \u001b[?25l\u001b[?25hdone\n",
            "Requirement already satisfied: google-cloud-aiplatform in /usr/local/lib/python3.10/dist-packages (1.27.1)\n",
            "Requirement already satisfied: google-api-core[grpc]!=2.0.*,!=2.1.*,!=2.2.*,!=2.3.*,!=2.4.*,!=2.5.*,!=2.6.*,!=2.7.*,<3.0.0dev,>=1.32.0 in /usr/local/lib/python3.10/dist-packages (from google-cloud-aiplatform) (2.11.1)\n",
            "Requirement already satisfied: proto-plus<2.0.0dev,>=1.22.0 in /usr/local/lib/python3.10/dist-packages (from google-cloud-aiplatform) (1.22.3)\n",
            "Requirement already satisfied: protobuf!=3.20.0,!=3.20.1,!=4.21.0,!=4.21.1,!=4.21.2,!=4.21.3,!=4.21.4,!=4.21.5,<5.0.0dev,>=3.19.5 in /usr/local/lib/python3.10/dist-packages (from google-cloud-aiplatform) (3.20.3)\n",
            "Requirement already satisfied: packaging>=14.3 in /usr/local/lib/python3.10/dist-packages (from google-cloud-aiplatform) (23.1)\n",
            "Requirement already satisfied: google-cloud-storage<3.0.0dev,>=1.32.0 in /usr/local/lib/python3.10/dist-packages (from google-cloud-aiplatform) (2.8.0)\n",
            "Requirement already satisfied: google-cloud-bigquery<4.0.0dev,>=1.15.0 in /usr/local/lib/python3.10/dist-packages (from google-cloud-aiplatform) (3.10.0)\n",
            "Requirement already satisfied: google-cloud-resource-manager<3.0.0dev,>=1.3.3 in /usr/local/lib/python3.10/dist-packages (from google-cloud-aiplatform) (1.10.2)\n",
            "Requirement already satisfied: shapely<2.0.0 in /usr/local/lib/python3.10/dist-packages (from google-cloud-aiplatform) (1.8.5.post1)\n",
            "Requirement already satisfied: torch==1.13.1 in /usr/local/lib/python3.10/dist-packages (from benin-model==0.2.2) (1.13.1)\n",
            "Requirement already satisfied: numpy==1.23.5 in /usr/local/lib/python3.10/dist-packages (from benin-model==0.2.2) (1.23.5)\n",
            "Requirement already satisfied: typing-extensions in /usr/local/lib/python3.10/dist-packages (from torch==1.13.1->benin-model==0.2.2) (4.6.3)\n",
            "Requirement already satisfied: nvidia-cuda-runtime-cu11==11.7.99 in /usr/local/lib/python3.10/dist-packages (from torch==1.13.1->benin-model==0.2.2) (11.7.99)\n",
            "Requirement already satisfied: nvidia-cudnn-cu11==8.5.0.96 in /usr/local/lib/python3.10/dist-packages (from torch==1.13.1->benin-model==0.2.2) (8.5.0.96)\n",
            "Requirement already satisfied: nvidia-cublas-cu11==11.10.3.66 in /usr/local/lib/python3.10/dist-packages (from torch==1.13.1->benin-model==0.2.2) (11.10.3.66)\n",
            "Requirement already satisfied: nvidia-cuda-nvrtc-cu11==11.7.99 in /usr/local/lib/python3.10/dist-packages (from torch==1.13.1->benin-model==0.2.2) (11.7.99)\n",
            "Requirement already satisfied: setuptools in /usr/local/lib/python3.10/dist-packages (from nvidia-cublas-cu11==11.10.3.66->torch==1.13.1->benin-model==0.2.2) (67.7.2)\n",
            "Requirement already satisfied: wheel in /usr/local/lib/python3.10/dist-packages (from nvidia-cublas-cu11==11.10.3.66->torch==1.13.1->benin-model==0.2.2) (0.40.0)\n",
            "Requirement already satisfied: googleapis-common-protos<2.0.dev0,>=1.56.2 in /usr/local/lib/python3.10/dist-packages (from google-api-core[grpc]!=2.0.*,!=2.1.*,!=2.2.*,!=2.3.*,!=2.4.*,!=2.5.*,!=2.6.*,!=2.7.*,<3.0.0dev,>=1.32.0->google-cloud-aiplatform) (1.59.1)\n",
            "Requirement already satisfied: google-auth<3.0.dev0,>=2.14.1 in /usr/local/lib/python3.10/dist-packages (from google-api-core[grpc]!=2.0.*,!=2.1.*,!=2.2.*,!=2.3.*,!=2.4.*,!=2.5.*,!=2.6.*,!=2.7.*,<3.0.0dev,>=1.32.0->google-cloud-aiplatform) (2.17.3)\n",
            "Requirement already satisfied: requests<3.0.0.dev0,>=2.18.0 in /usr/local/lib/python3.10/dist-packages (from google-api-core[grpc]!=2.0.*,!=2.1.*,!=2.2.*,!=2.3.*,!=2.4.*,!=2.5.*,!=2.6.*,!=2.7.*,<3.0.0dev,>=1.32.0->google-cloud-aiplatform) (2.27.1)\n",
            "Requirement already satisfied: grpcio<2.0dev,>=1.33.2 in /usr/local/lib/python3.10/dist-packages (from google-api-core[grpc]!=2.0.*,!=2.1.*,!=2.2.*,!=2.3.*,!=2.4.*,!=2.5.*,!=2.6.*,!=2.7.*,<3.0.0dev,>=1.32.0->google-cloud-aiplatform) (1.56.0)\n",
            "Requirement already satisfied: grpcio-status<2.0.dev0,>=1.33.2 in /usr/local/lib/python3.10/dist-packages (from google-api-core[grpc]!=2.0.*,!=2.1.*,!=2.2.*,!=2.3.*,!=2.4.*,!=2.5.*,!=2.6.*,!=2.7.*,<3.0.0dev,>=1.32.0->google-cloud-aiplatform) (1.48.2)\n",
            "Requirement already satisfied: google-cloud-core<3.0.0dev,>=1.6.0 in /usr/local/lib/python3.10/dist-packages (from google-cloud-bigquery<4.0.0dev,>=1.15.0->google-cloud-aiplatform) (2.3.2)\n",
            "Requirement already satisfied: google-resumable-media<3.0dev,>=0.6.0 in /usr/local/lib/python3.10/dist-packages (from google-cloud-bigquery<4.0.0dev,>=1.15.0->google-cloud-aiplatform) (2.5.0)\n",
            "Requirement already satisfied: python-dateutil<3.0dev,>=2.7.2 in /usr/local/lib/python3.10/dist-packages (from google-cloud-bigquery<4.0.0dev,>=1.15.0->google-cloud-aiplatform) (2.8.2)\n",
            "Requirement already satisfied: grpc-google-iam-v1<1.0.0dev,>=0.12.4 in /usr/local/lib/python3.10/dist-packages (from google-cloud-resource-manager<3.0.0dev,>=1.3.3->google-cloud-aiplatform) (0.12.6)\n",
            "Requirement already satisfied: cachetools<6.0,>=2.0.0 in /usr/local/lib/python3.10/dist-packages (from google-auth<3.0.dev0,>=2.14.1->google-api-core[grpc]!=2.0.*,!=2.1.*,!=2.2.*,!=2.3.*,!=2.4.*,!=2.5.*,!=2.6.*,!=2.7.*,<3.0.0dev,>=1.32.0->google-cloud-aiplatform) (5.3.1)\n",
            "Requirement already satisfied: pyasn1-modules>=0.2.1 in /usr/local/lib/python3.10/dist-packages (from google-auth<3.0.dev0,>=2.14.1->google-api-core[grpc]!=2.0.*,!=2.1.*,!=2.2.*,!=2.3.*,!=2.4.*,!=2.5.*,!=2.6.*,!=2.7.*,<3.0.0dev,>=1.32.0->google-cloud-aiplatform) (0.3.0)\n",
            "Requirement already satisfied: six>=1.9.0 in /usr/local/lib/python3.10/dist-packages (from google-auth<3.0.dev0,>=2.14.1->google-api-core[grpc]!=2.0.*,!=2.1.*,!=2.2.*,!=2.3.*,!=2.4.*,!=2.5.*,!=2.6.*,!=2.7.*,<3.0.0dev,>=1.32.0->google-cloud-aiplatform) (1.16.0)\n",
            "Requirement already satisfied: rsa<5,>=3.1.4 in /usr/local/lib/python3.10/dist-packages (from google-auth<3.0.dev0,>=2.14.1->google-api-core[grpc]!=2.0.*,!=2.1.*,!=2.2.*,!=2.3.*,!=2.4.*,!=2.5.*,!=2.6.*,!=2.7.*,<3.0.0dev,>=1.32.0->google-cloud-aiplatform) (4.9)\n",
            "Requirement already satisfied: google-crc32c<2.0dev,>=1.0 in /usr/local/lib/python3.10/dist-packages (from google-resumable-media<3.0dev,>=0.6.0->google-cloud-bigquery<4.0.0dev,>=1.15.0->google-cloud-aiplatform) (1.5.0)\n",
            "Requirement already satisfied: urllib3<1.27,>=1.21.1 in /usr/local/lib/python3.10/dist-packages (from requests<3.0.0.dev0,>=2.18.0->google-api-core[grpc]!=2.0.*,!=2.1.*,!=2.2.*,!=2.3.*,!=2.4.*,!=2.5.*,!=2.6.*,!=2.7.*,<3.0.0dev,>=1.32.0->google-cloud-aiplatform) (1.26.16)\n",
            "Requirement already satisfied: certifi>=2017.4.17 in /usr/local/lib/python3.10/dist-packages (from requests<3.0.0.dev0,>=2.18.0->google-api-core[grpc]!=2.0.*,!=2.1.*,!=2.2.*,!=2.3.*,!=2.4.*,!=2.5.*,!=2.6.*,!=2.7.*,<3.0.0dev,>=1.32.0->google-cloud-aiplatform) (2023.5.7)\n",
            "Requirement already satisfied: charset-normalizer~=2.0.0 in /usr/local/lib/python3.10/dist-packages (from requests<3.0.0.dev0,>=2.18.0->google-api-core[grpc]!=2.0.*,!=2.1.*,!=2.2.*,!=2.3.*,!=2.4.*,!=2.5.*,!=2.6.*,!=2.7.*,<3.0.0dev,>=1.32.0->google-cloud-aiplatform) (2.0.12)\n",
            "Requirement already satisfied: idna<4,>=2.5 in /usr/local/lib/python3.10/dist-packages (from requests<3.0.0.dev0,>=2.18.0->google-api-core[grpc]!=2.0.*,!=2.1.*,!=2.2.*,!=2.3.*,!=2.4.*,!=2.5.*,!=2.6.*,!=2.7.*,<3.0.0dev,>=1.32.0->google-cloud-aiplatform) (3.4)\n",
            "Requirement already satisfied: pyasn1<0.6.0,>=0.4.6 in /usr/local/lib/python3.10/dist-packages (from pyasn1-modules>=0.2.1->google-auth<3.0.dev0,>=2.14.1->google-api-core[grpc]!=2.0.*,!=2.1.*,!=2.2.*,!=2.3.*,!=2.4.*,!=2.5.*,!=2.6.*,!=2.7.*,<3.0.0dev,>=1.32.0->google-cloud-aiplatform) (0.5.0)\n",
            "Building wheels for collected packages: benin-model\n",
            "  Building wheel for benin-model (pyproject.toml) ... \u001b[?25l\u001b[?25hdone\n",
            "  Created wheel for benin-model: filename=benin_model-0.2.2-py3-none-any.whl size=10034 sha256=5be1f99032af487fb9ff36ff256d00ca71152326cd36b422a3edac54fc15d9d6\n",
            "  Stored in directory: /root/.cache/pip/wheels/43/06/1d/1bbd32645d1f8a5a93a4774650685f7b4c75ff4e91adee8b12\n",
            "Successfully built benin-model\n",
            "Installing collected packages: benin-model\n",
            "  Attempting uninstall: benin-model\n",
            "    Found existing installation: benin-model 0.2.1\n",
            "    Uninstalling benin-model-0.2.1:\n",
            "      Successfully uninstalled benin-model-0.2.1\n",
            "Successfully installed benin-model-0.2.2\n"
          ]
        }
      ],
      "source": [
        "!pip install google-cloud-aiplatform src/benin-model"
      ]
    },
    {
      "cell_type": "markdown",
      "metadata": {
        "id": "p-rwc6vWjZUR"
      },
      "source": [
        "# Train locally\n",
        "\n",
        "Run 'Read data' cells or change data_path to directory with .npz files.\n",
        "\n",
        "\n",
        "*   `data_path`: directory with npz files\n",
        "*   `model_path`: model path / model name prefix\n",
        "\n"
      ]
    },
    {
      "cell_type": "code",
      "execution_count": null,
      "metadata": {
        "colab": {
          "base_uri": "https://localhost:8080/"
        },
        "id": "UJ6WluEt-lyA",
        "outputId": "7be00b01-1748-441e-a48f-3e88e705ffe2"
      },
      "outputs": [
        {
          "name": "stdout",
          "output_type": "stream",
          "text": [
            "data_path: data-training\n",
            "model_path: test-model\n",
            "epochs: 1\n",
            "batch_size: 512\n",
            "train_test_ratio: 0.66\n",
            "----------------------------------------\n",
            "Dataset from 'data-training', size: 20, inputs: (20, 128, 128, 4), labels: (20, 128, 128, 1)\n"
          ]
        },
        {
          "name": "stderr",
          "output_type": "stream",
          "text": [
            "/usr/local/lib/python3.10/dist-packages/torch/nn/functional.py:1967: UserWarning: nn.functional.sigmoid is deprecated. Use torch.sigmoid instead.\n",
            "  warnings.warn(\"nn.functional.sigmoid is deprecated. Use torch.sigmoid instead.\")\n"
          ]
        }
      ],
      "source": [
        "from benin.train import run_torch\n",
        "run_torch(\n",
        "    data_path = 'data-training',\n",
        "    model_path = 'test-model',\n",
        "    epochs=1\n",
        ")"
      ]
    },
    {
      "cell_type": "markdown",
      "metadata": {
        "id": "S9v1O92hTjhq"
      },
      "source": [
        "Check to see if your model was created:"
      ]
    },
    {
      "cell_type": "code",
      "execution_count": null,
      "metadata": {
        "colab": {
          "base_uri": "https://localhost:8080/"
        },
        "id": "p2aug4fRlRMi",
        "outputId": "6880a5fe-9cb2-49a6-fdc9-cd770769a157"
      },
      "outputs": [
        {
          "name": "stdout",
          "output_type": "stream",
          "text": [
            "archived_notebooks\t     create_dataset.py\tREADME.md\t visualize.py\n",
            "benin_apache_pipeline.ipynb  data-training\tsrc\n",
            "CHANGELOG.md\t\t     read_data.py\ttest-model_UNET\n"
          ]
        }
      ],
      "source": [
        "!ls /content/satellite_cnns"
      ]
    },
    {
      "cell_type": "markdown",
      "metadata": {
        "id": "ONZJE0c7jcs7"
      },
      "source": [
        "# Train w/ VertexAI"
      ]
    },
    {
      "cell_type": "markdown",
      "metadata": {
        "id": "_LB3lf1mUN_u"
      },
      "source": [
        "Again, we have to build our package to send to be used by VertexAI:"
      ]
    },
    {
      "cell_type": "code",
      "execution_count": null,
      "metadata": {
        "colab": {
          "base_uri": "https://localhost:8080/"
        },
        "id": "o8IQG9ldjfjR",
        "outputId": "adf4ace5-6f04-48b0-c86a-a470c98c668e"
      },
      "outputs": [
        {
          "name": "stdout",
          "output_type": "stream",
          "text": [
            "\u001b[1m* Creating virtualenv isolated environment...\u001b[0m\n",
            "\u001b[1m* Installing packages in isolated environment... (setuptools >= 40.8.0, wheel)\u001b[0m\n",
            "\u001b[1m* Getting build dependencies for sdist...\u001b[0m\n",
            "running egg_info\n",
            "writing benin_model.egg-info/PKG-INFO\n",
            "writing dependency_links to benin_model.egg-info/dependency_links.txt\n",
            "writing entry points to benin_model.egg-info/entry_points.txt\n",
            "writing requirements to benin_model.egg-info/requires.txt\n",
            "writing top-level names to benin_model.egg-info/top_level.txt\n",
            "reading manifest file 'benin_model.egg-info/SOURCES.txt'\n",
            "writing manifest file 'benin_model.egg-info/SOURCES.txt'\n",
            "\u001b[1m* Building sdist...\u001b[0m\n",
            "running sdist\n",
            "running egg_info\n",
            "writing benin_model.egg-info/PKG-INFO\n",
            "writing dependency_links to benin_model.egg-info/dependency_links.txt\n",
            "writing entry points to benin_model.egg-info/entry_points.txt\n",
            "writing requirements to benin_model.egg-info/requires.txt\n",
            "writing top-level names to benin_model.egg-info/top_level.txt\n",
            "reading manifest file 'benin_model.egg-info/SOURCES.txt'\n",
            "writing manifest file 'benin_model.egg-info/SOURCES.txt'\n",
            "warning: sdist: standard file not found: should have one of README, README.rst, README.txt, README.md\n",
            "\n",
            "running check\n",
            "creating benin-model-0.2.2\n",
            "creating benin-model-0.2.2/benin\n",
            "creating benin-model-0.2.2/benin_model.egg-info\n",
            "copying files to benin-model-0.2.2...\n",
            "copying pyproject.toml -> benin-model-0.2.2\n",
            "copying benin/dice_score.py -> benin-model-0.2.2/benin\n",
            "copying benin/model.py -> benin-model-0.2.2/benin\n",
            "copying benin/npz_dataset.py -> benin-model-0.2.2/benin\n",
            "copying benin/train.py -> benin-model-0.2.2/benin\n",
            "copying benin_model.egg-info/PKG-INFO -> benin-model-0.2.2/benin_model.egg-info\n",
            "copying benin_model.egg-info/SOURCES.txt -> benin-model-0.2.2/benin_model.egg-info\n",
            "copying benin_model.egg-info/dependency_links.txt -> benin-model-0.2.2/benin_model.egg-info\n",
            "copying benin_model.egg-info/entry_points.txt -> benin-model-0.2.2/benin_model.egg-info\n",
            "copying benin_model.egg-info/requires.txt -> benin-model-0.2.2/benin_model.egg-info\n",
            "copying benin_model.egg-info/top_level.txt -> benin-model-0.2.2/benin_model.egg-info\n",
            "Writing benin-model-0.2.2/setup.cfg\n",
            "Creating tar archive\n",
            "removing 'benin-model-0.2.2' (and everything under it)\n",
            "\u001b[1m* Building wheel from sdist\u001b[0m\n",
            "\u001b[1m* Creating virtualenv isolated environment...\u001b[0m\n",
            "\u001b[1m* Installing packages in isolated environment... (setuptools >= 40.8.0, wheel)\u001b[0m\n",
            "\u001b[1m* Getting build dependencies for wheel...\u001b[0m\n",
            "running egg_info\n",
            "writing benin_model.egg-info/PKG-INFO\n",
            "writing dependency_links to benin_model.egg-info/dependency_links.txt\n",
            "writing entry points to benin_model.egg-info/entry_points.txt\n",
            "writing requirements to benin_model.egg-info/requires.txt\n",
            "writing top-level names to benin_model.egg-info/top_level.txt\n",
            "reading manifest file 'benin_model.egg-info/SOURCES.txt'\n",
            "writing manifest file 'benin_model.egg-info/SOURCES.txt'\n",
            "\u001b[1m* Installing packages in isolated environment... (wheel)\u001b[0m\n",
            "\u001b[1m* Building wheel...\u001b[0m\n",
            "running bdist_wheel\n",
            "running build\n",
            "running build_py\n",
            "creating build\n",
            "creating build/lib\n",
            "creating build/lib/benin\n",
            "copying benin/train.py -> build/lib/benin\n",
            "copying benin/dice_score.py -> build/lib/benin\n",
            "copying benin/model.py -> build/lib/benin\n",
            "copying benin/npz_dataset.py -> build/lib/benin\n",
            "running egg_info\n",
            "writing benin_model.egg-info/PKG-INFO\n",
            "writing dependency_links to benin_model.egg-info/dependency_links.txt\n",
            "writing entry points to benin_model.egg-info/entry_points.txt\n",
            "writing requirements to benin_model.egg-info/requires.txt\n",
            "writing top-level names to benin_model.egg-info/top_level.txt\n",
            "reading manifest file 'benin_model.egg-info/SOURCES.txt'\n",
            "writing manifest file 'benin_model.egg-info/SOURCES.txt'\n",
            "installing to build/bdist.linux-x86_64/wheel\n",
            "running install\n",
            "running install_lib\n",
            "creating build/bdist.linux-x86_64\n",
            "creating build/bdist.linux-x86_64/wheel\n",
            "creating build/bdist.linux-x86_64/wheel/benin\n",
            "copying build/lib/benin/train.py -> build/bdist.linux-x86_64/wheel/benin\n",
            "copying build/lib/benin/dice_score.py -> build/bdist.linux-x86_64/wheel/benin\n",
            "copying build/lib/benin/model.py -> build/bdist.linux-x86_64/wheel/benin\n",
            "copying build/lib/benin/npz_dataset.py -> build/bdist.linux-x86_64/wheel/benin\n",
            "running install_egg_info\n",
            "Copying benin_model.egg-info to build/bdist.linux-x86_64/wheel/benin_model-0.2.2-py3.10.egg-info\n",
            "running install_scripts\n",
            "creating build/bdist.linux-x86_64/wheel/benin_model-0.2.2.dist-info/WHEEL\n",
            "creating '/content/satellite_cnns/src/benin-model/dist/.tmp-9l8lcz7q/benin_model-0.2.2-py3-none-any.whl' and adding 'build/bdist.linux-x86_64/wheel' to it\n",
            "adding 'benin/dice_score.py'\n",
            "adding 'benin/model.py'\n",
            "adding 'benin/npz_dataset.py'\n",
            "adding 'benin/train.py'\n",
            "adding 'benin_model-0.2.2.dist-info/METADATA'\n",
            "adding 'benin_model-0.2.2.dist-info/WHEEL'\n",
            "adding 'benin_model-0.2.2.dist-info/entry_points.txt'\n",
            "adding 'benin_model-0.2.2.dist-info/top_level.txt'\n",
            "adding 'benin_model-0.2.2.dist-info/RECORD'\n",
            "removing build/bdist.linux-x86_64/wheel\n",
            "\u001b[1m\u001b[92mSuccessfully built \u001b[4mbenin-model-0.2.2.tar.gz\u001b[0m\u001b[1m\u001b[92m and \u001b[4mbenin_model-0.2.2-py3-none-any.whl\u001b[0m\u001b[1m\u001b[92m\u001b[0m\n"
          ]
        }
      ],
      "source": [
        "# Build the `weather-model` package.\n",
        "!python -m build src/benin-model"
      ]
    },
    {
      "cell_type": "markdown",
      "metadata": {
        "id": "T2PvdoP7UVky"
      },
      "source": [
        "See the built package:"
      ]
    },
    {
      "cell_type": "code",
      "execution_count": null,
      "metadata": {
        "colab": {
          "base_uri": "https://localhost:8080/"
        },
        "id": "cAIJWs23lhuW",
        "outputId": "1f5f6f1d-ebef-47f4-8bf1-81e306a14a7d"
      },
      "outputs": [
        {
          "name": "stdout",
          "output_type": "stream",
          "text": [
            "total 24K\n",
            "-rw-r--r-- 1 root root 9.8K Jul  7 01:22 benin_model-0.2.2-py3-none-any.whl\n",
            "-rw-r--r-- 1 root root 8.8K Jul  7 01:22 benin-model-0.2.2.tar.gz\n"
          ]
        }
      ],
      "source": [
        "!ls -lh src/benin-model/dist"
      ]
    },
    {
      "cell_type": "markdown",
      "metadata": {
        "id": "juz6K0afUXEa"
      },
      "source": [
        "Make sure you're using the right version number/name:"
      ]
    },
    {
      "cell_type": "code",
      "execution_count": null,
      "metadata": {
        "id": "CZJnpRWRmzd-"
      },
      "outputs": [],
      "source": [
        "model_package = 'benin-model-0.2.2.tar.gz'"
      ]
    },
    {
      "cell_type": "markdown",
      "metadata": {
        "id": "3ymGJfxfUbGe"
      },
      "source": [
        "This time, we're placing the package in the bucket to be easily accessed by VertexAI"
      ]
    },
    {
      "cell_type": "code",
      "execution_count": null,
      "metadata": {
        "colab": {
          "base_uri": "https://localhost:8080/"
        },
        "id": "y1JAj9D6lnDI",
        "outputId": "4d7adac0-e9bd-4583-a678-f5f3e67bda80"
      },
      "outputs": [
        {
          "name": "stdout",
          "output_type": "stream",
          "text": [
            "Copying file://src/benin-model/dist/benin-model-0.2.2.tar.gz [Content-Type=application/x-tar]...\n",
            "/ [1 files][  8.8 KiB/  8.8 KiB]                                                \n",
            "Operation completed over 1 objects/8.8 KiB.                                      \n"
          ]
        }
      ],
      "source": [
        "# Stage the `benin-model` package in Cloud Storage.\n",
        "!gsutil cp src/benin-model/dist/{model_package} gs://{bucket}/dd_test/"
      ]
    },
    {
      "cell_type": "code",
      "execution_count": null,
      "metadata": {
        "id": "MEGfF5ne8_F-"
      },
      "outputs": [],
      "source": [
        "folder = 'dd_test'\n",
        "data_path = f\"{bucket}/{folder}/data\""
      ]
    },
    {
      "cell_type": "markdown",
      "metadata": {
        "id": "SVWndHiZUy6Z"
      },
      "source": [
        "Make sure your data is where you expect it to be (should be a bunch of NumPy files):"
      ]
    },
    {
      "cell_type": "code",
      "execution_count": null,
      "metadata": {
        "colab": {
          "base_uri": "https://localhost:8080/"
        },
        "id": "hkkUPEj087S_",
        "outputId": "9dfbf4ed-428f-420c-b848-7e3aeda69477"
      },
      "outputs": [
        {
          "name": "stdout",
          "output_type": "stream",
          "text": [
            " 24.89 KiB  2023-07-04T19:48:20Z  gs://example-bucket-ls-3-24/dd_test/data/04bf0834-90b1-4875-88db-7e32607cf45c.npz\n",
            " 77.33 KiB  2023-07-04T19:45:01Z  gs://example-bucket-ls-3-24/dd_test/data/3702ead9-ac4f-4df5-8a34-55da0c7c5448.npz\n",
            " 27.63 KiB  2023-07-04T19:49:06Z  gs://example-bucket-ls-3-24/dd_test/data/591afe2b-7402-49cc-ab69-b3c2302697c9.npz\n",
            "105.07 KiB  2023-07-04T19:46:12Z  gs://example-bucket-ls-3-24/dd_test/data/6da70341-476c-4fce-8e4b-ba9524e9e65b.npz\n",
            " 27.19 KiB  2023-07-04T19:48:41Z  gs://example-bucket-ls-3-24/dd_test/data/b21465c3-3d32-4c32-9955-9c112ec50d48.npz\n",
            " 27.92 KiB  2023-07-04T19:43:08Z  gs://example-bucket-ls-3-24/dd_test/data/c1efb37c-b1ed-491f-b5bc-40880c68873c.npz\n",
            " 155.6 KiB  2023-07-04T19:48:00Z  gs://example-bucket-ls-3-24/dd_test/data/dcfb4dd0-d197-41c5-bc22-e71de24a45b8.npz\n",
            " 53.14 KiB  2023-07-04T19:44:04Z  gs://example-bucket-ls-3-24/dd_test/data/e92685da-16ba-4eb6-956b-44dbf6ef5c22.npz\n",
            " 27.57 KiB  2023-07-04T19:43:27Z  gs://example-bucket-ls-3-24/dd_test/data/efd31158-d782-4679-8439-0ad1c457402d.npz\n",
            "TOTAL: 9 objects, 538980 bytes (526.35 KiB)\n"
          ]
        }
      ],
      "source": [
        "!gsutil ls -lh gs://{data_path}"
      ]
    },
    {
      "cell_type": "markdown",
      "metadata": {
        "id": "hJKIHi2HVWbB"
      },
      "source": [
        "Create and run the job (check `data_path` and `model_path`). Currently, limited logging is implemented; no visualization is implemented."
      ]
    },
    {
      "cell_type": "code",
      "execution_count": null,
      "metadata": {
        "colab": {
          "base_uri": "https://localhost:8080/"
        },
        "id": "azrURDaMn47d",
        "outputId": "82d41c24-5e3a-46ba-8fcd-98f87184c13e"
      },
      "outputs": [
        {
          "name": "stdout",
          "output_type": "stream",
          "text": [
            "Training Output directory:\n",
            "gs://benin-bucket1/aiplatform-custom-training-2023-07-07-01:29:40.226 \n"
          ]
        },
        {
          "name": "stderr",
          "output_type": "stream",
          "text": [
            "INFO:google.cloud.aiplatform.training_jobs:Training Output directory:\n",
            "gs://benin-bucket1/aiplatform-custom-training-2023-07-07-01:29:40.226 \n"
          ]
        },
        {
          "name": "stdout",
          "output_type": "stream",
          "text": [
            "View Training:\n",
            "https://console.cloud.google.com/ai/platform/locations/us-central1/training/5677616430787330048?project=978289642310\n"
          ]
        },
        {
          "name": "stderr",
          "output_type": "stream",
          "text": [
            "INFO:google.cloud.aiplatform.training_jobs:View Training:\n",
            "https://console.cloud.google.com/ai/platform/locations/us-central1/training/5677616430787330048?project=978289642310\n"
          ]
        },
        {
          "name": "stdout",
          "output_type": "stream",
          "text": [
            "CustomPythonPackageTrainingJob projects/978289642310/locations/us-central1/trainingPipelines/5677616430787330048 current state:\n",
            "PipelineState.PIPELINE_STATE_RUNNING\n"
          ]
        },
        {
          "name": "stderr",
          "output_type": "stream",
          "text": [
            "INFO:google.cloud.aiplatform.training_jobs:CustomPythonPackageTrainingJob projects/978289642310/locations/us-central1/trainingPipelines/5677616430787330048 current state:\n",
            "PipelineState.PIPELINE_STATE_RUNNING\n"
          ]
        },
        {
          "name": "stdout",
          "output_type": "stream",
          "text": [
            "View backing custom job:\n",
            "https://console.cloud.google.com/ai/platform/locations/us-central1/training/5303307488320290816?project=978289642310\n"
          ]
        },
        {
          "name": "stderr",
          "output_type": "stream",
          "text": [
            "INFO:google.cloud.aiplatform.training_jobs:View backing custom job:\n",
            "https://console.cloud.google.com/ai/platform/locations/us-central1/training/5303307488320290816?project=978289642310\n"
          ]
        },
        {
          "name": "stdout",
          "output_type": "stream",
          "text": [
            "CustomPythonPackageTrainingJob projects/978289642310/locations/us-central1/trainingPipelines/5677616430787330048 current state:\n",
            "PipelineState.PIPELINE_STATE_RUNNING\n"
          ]
        },
        {
          "name": "stderr",
          "output_type": "stream",
          "text": [
            "INFO:google.cloud.aiplatform.training_jobs:CustomPythonPackageTrainingJob projects/978289642310/locations/us-central1/trainingPipelines/5677616430787330048 current state:\n",
            "PipelineState.PIPELINE_STATE_RUNNING\n"
          ]
        },
        {
          "name": "stdout",
          "output_type": "stream",
          "text": [
            "CustomPythonPackageTrainingJob projects/978289642310/locations/us-central1/trainingPipelines/5677616430787330048 current state:\n",
            "PipelineState.PIPELINE_STATE_RUNNING\n"
          ]
        },
        {
          "name": "stderr",
          "output_type": "stream",
          "text": [
            "INFO:google.cloud.aiplatform.training_jobs:CustomPythonPackageTrainingJob projects/978289642310/locations/us-central1/trainingPipelines/5677616430787330048 current state:\n",
            "PipelineState.PIPELINE_STATE_RUNNING\n"
          ]
        },
        {
          "name": "stdout",
          "output_type": "stream",
          "text": [
            "CustomPythonPackageTrainingJob projects/978289642310/locations/us-central1/trainingPipelines/5677616430787330048 current state:\n",
            "PipelineState.PIPELINE_STATE_RUNNING\n"
          ]
        },
        {
          "name": "stderr",
          "output_type": "stream",
          "text": [
            "INFO:google.cloud.aiplatform.training_jobs:CustomPythonPackageTrainingJob projects/978289642310/locations/us-central1/trainingPipelines/5677616430787330048 current state:\n",
            "PipelineState.PIPELINE_STATE_RUNNING\n"
          ]
        },
        {
          "name": "stdout",
          "output_type": "stream",
          "text": [
            "CustomPythonPackageTrainingJob projects/978289642310/locations/us-central1/trainingPipelines/5677616430787330048 current state:\n",
            "PipelineState.PIPELINE_STATE_RUNNING\n"
          ]
        },
        {
          "name": "stderr",
          "output_type": "stream",
          "text": [
            "INFO:google.cloud.aiplatform.training_jobs:CustomPythonPackageTrainingJob projects/978289642310/locations/us-central1/trainingPipelines/5677616430787330048 current state:\n",
            "PipelineState.PIPELINE_STATE_RUNNING\n"
          ]
        },
        {
          "name": "stdout",
          "output_type": "stream",
          "text": [
            "CustomPythonPackageTrainingJob run completed. Resource name: projects/978289642310/locations/us-central1/trainingPipelines/5677616430787330048\n"
          ]
        },
        {
          "name": "stderr",
          "output_type": "stream",
          "text": [
            "INFO:google.cloud.aiplatform.training_jobs:CustomPythonPackageTrainingJob run completed. Resource name: projects/978289642310/locations/us-central1/trainingPipelines/5677616430787330048\n"
          ]
        },
        {
          "name": "stdout",
          "output_type": "stream",
          "text": [
            "Training did not produce a Managed Model returning None. Training Pipeline projects/978289642310/locations/us-central1/trainingPipelines/5677616430787330048 is not configured to upload a Model. Create the Training Pipeline with model_serving_container_image_uri and model_display_name passed in. Ensure that your training script saves to model to os.environ['AIP_MODEL_DIR'].\n"
          ]
        },
        {
          "name": "stderr",
          "output_type": "stream",
          "text": [
            "WARNING:google.cloud.aiplatform.training_jobs:Training did not produce a Managed Model returning None. Training Pipeline projects/978289642310/locations/us-central1/trainingPipelines/5677616430787330048 is not configured to upload a Model. Create the Training Pipeline with model_serving_container_image_uri and model_display_name passed in. Ensure that your training script saves to model to os.environ['AIP_MODEL_DIR'].\n"
          ]
        }
      ],
      "source": [
        "from google.cloud import aiplatform\n",
        "\n",
        "epochs = 10\n",
        "timeout_min = 60  # 1 hour\n",
        "\n",
        "# Cloud Storage paths.\n",
        "data_path = f\"/gcs/{bucket}/dd_test/data\"\n",
        "model_path = f\"/gcs/{bucket}/dd_test/7-6_test_model\"\n",
        "\n",
        "aiplatform.init(project=project, location=location, staging_bucket=bucket)\n",
        "\n",
        "# Launch the custom training job.\n",
        "job = aiplatform.CustomPythonPackageTrainingJob(\n",
        "    display_name=\"benin-training\",\n",
        "    python_package_gcs_uri=f\"gs://{bucket}/dd_test/{model_package}\",\n",
        "    python_module_name=\"benin.train\",\n",
        "    container_uri=\"us-docker.pkg.dev/vertex-ai/training/pytorch-gpu.1-13.py310:latest\",\n",
        ")\n",
        "job.run(\n",
        "    machine_type=\"n1-highmem-8\",\n",
        "    accelerator_type=\"NVIDIA_TESLA_T4\",\n",
        "    accelerator_count=1,\n",
        "    args=[\n",
        "        f\"--data-path={data_path}\",\n",
        "        f\"--model-path={model_path}\",\n",
        "        f\"--epochs={epochs}\",\n",
        "    ],\n",
        "    timeout=timeout_min * 60,  # in seconds\n",
        ")"
      ]
    }
  ],
  "metadata": {
    "colab": {
      "collapsed_sections": [
        "_MJ4kW1pEhwP",
        "qKs6HuxOzjMl",
        "wXT0jjZXA0Sl",
        "P8tk45vuaGsj",
        "IkoNQYudaMUl",
        "Gl7W7v-haPJO",
        "fuHHM5pXQ_DJ",
        "2rwTshMtruzG",
        "_I2Y9u71sEgT",
        "W3QlLRJCrjqP",
        "p-rwc6vWjZUR",
        "LBNZz_hzXhiJ",
        "X5L4ciSukV4y",
        "k73nwrXBkP-9",
        "NMM5PBYZXQb5"
      ],
      "machine_shape": "hm",
      "provenance": [],
      "include_colab_link": true
    },
    "gpuClass": "standard",
    "kernelspec": {
      "display_name": "Python 3",
      "name": "python3"
    },
    "language_info": {
      "codemirror_mode": {
        "name": "ipython",
        "version": 3
      },
      "file_extension": ".py",
      "mimetype": "text/x-python",
      "name": "python",
      "nbconvert_exporter": "python",
      "pygments_lexer": "ipython3",
      "version": "3.9.16"
    }
  },
  "nbformat": 4,
  "nbformat_minor": 0
}