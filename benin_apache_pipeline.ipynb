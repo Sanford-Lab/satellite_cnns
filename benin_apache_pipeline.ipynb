{
  "cells": [
    {
      "cell_type": "markdown",
      "metadata": {
        "id": "view-in-github",
        "colab_type": "text"
      },
      "source": [
        "<a href=\"https://colab.research.google.com/github/Sanford-Lab/satellite_cnns/blob/main/benin_apache_pipeline.ipynb\" target=\"_parent\"><img src=\"https://colab.research.google.com/assets/colab-badge.svg\" alt=\"Open In Colab\"/></a>"
      ]
    },
    {
      "cell_type": "markdown",
      "metadata": {
        "id": "_SHAc5qbiR8l"
      },
      "source": [
        "# Introduction\n",
        "\n",
        "This notebook is based on the tutorial for [land cover classification.](https://colab.research.google.com/github/GoogleCloudPlatform/python-docs-samples/blob/main/people-and-planet-ai/land-cover-classification/cloud-tensorflow.ipynb#scrollTo=D8Kwmqa8CpQV) and [weather forcasting](https://github.com/GoogleCloudPlatform/python-docs-samples/tree/main/people-and-planet-ai/weather-forecasting).\n",
        "\n",
        "Our current objective is to prepare a dataset of Benin which will be used to train a model to predict which pixels belong to a village. We wish to take in the feature collection from 'projects/satellite-cnns/assets/benin/voronoi_villages' which has circles around villages in Benin and use this as a target for prediction. As input, we wish to use landsat 7 imagery of Benin.\n",
        "\n",
        "The notebook has the sections:\n",
        "\n",
        "\n",
        "1.   Setup\n",
        "2.   Pull defined functions for dataset creation and sampling\n",
        "3.   Create pipeline and do data export\n",
        "4. Read data\n",
        "\n",
        "Sections 1-2 closely follow the tutorial notebook and appear to be working. Section 3 has been updated to follow the weather forcasting sample by using compressed NumPy files instead of TFrecord files.\n",
        "\n",
        "dd: **Moved change notes to [CHANGELOG.md](CHANGELOG.md)**\n",
        "\n",
        "rb: **Need to update changelog and clean data.py a little, LS C2 composite works now**\n",
        "\n",
        "\n"
      ]
    },
    {
      "cell_type": "markdown",
      "metadata": {
        "id": "_MJ4kW1pEhwP"
      },
      "source": [
        "# Setup"
      ]
    },
    {
      "cell_type": "code",
      "execution_count": 1,
      "metadata": {
        "colab": {
          "base_uri": "https://localhost:8080/"
        },
        "id": "Mh4fElJHEplh",
        "outputId": "28e4e84a-99bc-4baa-bab4-2a063117827c"
      },
      "outputs": [
        {
          "output_type": "stream",
          "name": "stdout",
          "text": [
            "rm: cannot remove '/content/satellite_cnns': No such file or directory\n",
            "/content\n"
          ]
        }
      ],
      "source": [
        "%rm -r /content/satellite_cnns\n",
        "%cd /content"
      ]
    },
    {
      "cell_type": "code",
      "execution_count": 2,
      "metadata": {
        "id": "AHIHF4D6FORr"
      },
      "outputs": [],
      "source": [
        "branch = \"main\""
      ]
    },
    {
      "cell_type": "code",
      "execution_count": 3,
      "metadata": {
        "colab": {
          "base_uri": "https://localhost:8080/"
        },
        "id": "as3xyWjhClJy",
        "outputId": "bab5bca9-91b6-4d4b-dd1a-2d5d13b8ac52"
      },
      "outputs": [
        {
          "output_type": "stream",
          "name": "stdout",
          "text": [
            "Cloning into 'satellite_cnns'...\n",
            "remote: Enumerating objects: 806, done.\u001b[K\n",
            "remote: Counting objects: 100% (245/245), done.\u001b[K\n",
            "remote: Compressing objects: 100% (233/233), done.\u001b[K\n",
            "remote: Total 806 (delta 67), reused 24 (delta 12), pack-reused 561 (from 1)\u001b[K\n",
            "Receiving objects: 100% (806/806), 4.95 MiB | 6.69 MiB/s, done.\n",
            "Resolving deltas: 100% (420/420), done.\n",
            "/content/satellite_cnns\n"
          ]
        }
      ],
      "source": [
        "# Clone from SPIRES Repo\n",
        "!git clone --branch {branch} https://github.com/Sanford-Lab/satellite_cnns.git\n",
        "%cd /content/satellite_cnns"
      ]
    },
    {
      "cell_type": "markdown",
      "metadata": {
        "id": "HZIDEamO_gM2"
      },
      "source": [
        "**New**: The notebook now sources files from the Sanford-Lab/satellite_cnns repo. For this notebook, it will use the `benin-data` package. It's built it based on the weather-forcasting notebook patterns and to allow importing for project-specific packages to *plug and play* for data creation. The new patterns should allow the workflow to be much more modular. All a new project would need to do is define 3 main functions `get_inputs_image`, `get_labels_image`, and `sample_points`. The create_dataset.py script should then be able to synthesize the dataset through abstraction. I've kept most of the demonstration functionality the same to show how using the package works."
      ]
    },
    {
      "cell_type": "code",
      "execution_count": 4,
      "metadata": {
        "colab": {
          "base_uri": "https://localhost:8080/",
          "height": 1000
        },
        "id": "ZB6CSs7CNaNw",
        "outputId": "efab65ee-5e66-4815-8b03-e63c461590c8"
      },
      "outputs": [
        {
          "output_type": "stream",
          "name": "stdout",
          "text": [
            "\u001b[?25l   \u001b[90m━━━━━━━━━━━━━━━━━━━━━━━━━━━━━━━━━━━━━━━━\u001b[0m \u001b[32m0.0/5.7 MB\u001b[0m \u001b[31m?\u001b[0m eta \u001b[36m-:--:--\u001b[0m\r\u001b[2K   \u001b[90m━━━━━━━━━━━━━━━━━━━━━━━━━━━━━━━━━━━━━━━━\u001b[0m \u001b[32m5.7/5.7 MB\u001b[0m \u001b[31m51.2 MB/s\u001b[0m eta \u001b[36m0:00:00\u001b[0m\n",
            "\u001b[?25hProcessing ./src/benin-data\n",
            "  Installing build dependencies ... \u001b[?25l\u001b[?25hdone\n",
            "  Getting requirements to build wheel ... \u001b[?25l\u001b[?25hdone\n",
            "  Preparing metadata (pyproject.toml) ... \u001b[?25l\u001b[?25hdone\n",
            "Collecting apache-beam[gcp]\n",
            "  Downloading apache_beam-2.58.1-cp310-cp310-manylinux_2_17_x86_64.manylinux2014_x86_64.whl.metadata (7.5 kB)\n",
            "Collecting crcmod<2.0,>=1.7 (from apache-beam[gcp])\n",
            "  Downloading crcmod-1.7.tar.gz (89 kB)\n",
            "  Preparing metadata (setup.py) ... \u001b[?25l\u001b[?25hdone\n",
            "Collecting orjson<4,>=3.9.7 (from apache-beam[gcp])\n",
            "  Downloading orjson-3.10.7-cp310-cp310-manylinux_2_17_x86_64.manylinux2014_x86_64.whl.metadata (50 kB)\n",
            "Collecting dill<0.3.2,>=0.3.1.1 (from apache-beam[gcp])\n",
            "  Downloading dill-0.3.1.1.tar.gz (151 kB)\n",
            "  Preparing metadata (setup.py) ... \u001b[?25l\u001b[?25hdone\n",
            "Requirement already satisfied: cloudpickle~=2.2.1 in /usr/local/lib/python3.10/dist-packages (from apache-beam[gcp]) (2.2.1)\n",
            "Collecting fastavro<2,>=0.23.6 (from apache-beam[gcp])\n",
            "  Downloading fastavro-1.9.5-cp310-cp310-manylinux_2_17_x86_64.manylinux2014_x86_64.whl.metadata (5.5 kB)\n",
            "Collecting fasteners<1.0,>=0.3 (from apache-beam[gcp])\n",
            "  Downloading fasteners-0.19-py3-none-any.whl.metadata (4.9 kB)\n",
            "Requirement already satisfied: grpcio!=1.48.0,!=1.59.*,!=1.60.*,!=1.61.*,!=1.62.0,!=1.62.1,<2,>=1.33.1 in /usr/local/lib/python3.10/dist-packages (from apache-beam[gcp]) (1.64.1)\n",
            "Collecting hdfs<3.0.0,>=2.1.0 (from apache-beam[gcp])\n",
            "  Downloading hdfs-2.7.3.tar.gz (43 kB)\n",
            "  Preparing metadata (setup.py) ... \u001b[?25l\u001b[?25hdone\n",
            "Requirement already satisfied: httplib2<0.23.0,>=0.8 in /usr/local/lib/python3.10/dist-packages (from apache-beam[gcp]) (0.22.0)\n",
            "Requirement already satisfied: jsonschema<5.0.0,>=4.0.0 in /usr/local/lib/python3.10/dist-packages (from apache-beam[gcp]) (4.23.0)\n",
            "Requirement already satisfied: jsonpickle<4.0.0,>=3.0.0 in /usr/local/lib/python3.10/dist-packages (from apache-beam[gcp]) (3.2.2)\n",
            "Requirement already satisfied: numpy<1.27.0,>=1.14.3 in /usr/local/lib/python3.10/dist-packages (from apache-beam[gcp]) (1.26.4)\n",
            "Collecting objsize<0.8.0,>=0.6.1 (from apache-beam[gcp])\n",
            "  Downloading objsize-0.7.0-py3-none-any.whl.metadata (12 kB)\n",
            "Requirement already satisfied: packaging>=22.0 in /usr/local/lib/python3.10/dist-packages (from apache-beam[gcp]) (24.1)\n",
            "Collecting pymongo<5.0.0,>=3.8.0 (from apache-beam[gcp])\n",
            "  Downloading pymongo-4.8.0-cp310-cp310-manylinux_2_17_x86_64.manylinux2014_x86_64.whl.metadata (22 kB)\n",
            "Requirement already satisfied: proto-plus<2,>=1.7.1 in /usr/local/lib/python3.10/dist-packages (from apache-beam[gcp]) (1.24.0)\n",
            "Requirement already satisfied: protobuf!=4.0.*,!=4.21.*,!=4.22.0,!=4.23.*,!=4.24.*,<4.26.0,>=3.20.3 in /usr/local/lib/python3.10/dist-packages (from apache-beam[gcp]) (3.20.3)\n",
            "Requirement already satisfied: pydot<2,>=1.2.0 in /usr/local/lib/python3.10/dist-packages (from apache-beam[gcp]) (1.4.2)\n",
            "Requirement already satisfied: python-dateutil<3,>=2.8.0 in /usr/local/lib/python3.10/dist-packages (from apache-beam[gcp]) (2.8.2)\n",
            "Requirement already satisfied: pytz>=2018.3 in /usr/local/lib/python3.10/dist-packages (from apache-beam[gcp]) (2024.1)\n",
            "Collecting redis<6,>=5.0.0 (from apache-beam[gcp])\n",
            "  Downloading redis-5.0.8-py3-none-any.whl.metadata (9.2 kB)\n",
            "Requirement already satisfied: regex>=2020.6.8 in /usr/local/lib/python3.10/dist-packages (from apache-beam[gcp]) (2024.5.15)\n",
            "Collecting requests!=2.32.*,<3.0.0,>=2.24.0 (from apache-beam[gcp])\n",
            "  Downloading requests-2.31.0-py3-none-any.whl.metadata (4.6 kB)\n",
            "Requirement already satisfied: typing-extensions>=3.7.0 in /usr/local/lib/python3.10/dist-packages (from apache-beam[gcp]) (4.12.2)\n",
            "Collecting zstandard<1,>=0.18.0 (from apache-beam[gcp])\n",
            "  Downloading zstandard-0.23.0-cp310-cp310-manylinux_2_17_x86_64.manylinux2014_x86_64.whl.metadata (3.0 kB)\n",
            "Requirement already satisfied: pyarrow<17.0.0,>=3.0.0 in /usr/local/lib/python3.10/dist-packages (from apache-beam[gcp]) (14.0.2)\n",
            "Requirement already satisfied: pyarrow-hotfix<1 in /usr/local/lib/python3.10/dist-packages (from apache-beam[gcp]) (0.6)\n",
            "Collecting js2py<1,>=0.74 (from apache-beam[gcp])\n",
            "  Downloading Js2Py-0.74-py3-none-any.whl.metadata (868 bytes)\n",
            "Requirement already satisfied: cachetools<6,>=3.1.0 in /usr/local/lib/python3.10/dist-packages (from apache-beam[gcp]) (5.4.0)\n",
            "Requirement already satisfied: google-api-core<3,>=2.0.0 in /usr/local/lib/python3.10/dist-packages (from apache-beam[gcp]) (2.19.1)\n",
            "Collecting google-apitools<0.5.32,>=0.5.31 (from apache-beam[gcp])\n",
            "  Downloading google-apitools-0.5.31.tar.gz (173 kB)\n",
            "  Preparing metadata (setup.py) ... \u001b[?25l\u001b[?25hdone\n",
            "Requirement already satisfied: google-auth<3,>=1.18.0 in /usr/local/lib/python3.10/dist-packages (from apache-beam[gcp]) (2.27.0)\n",
            "Requirement already satisfied: google-auth-httplib2<0.3.0,>=0.1.0 in /usr/local/lib/python3.10/dist-packages (from apache-beam[gcp]) (0.2.0)\n",
            "Requirement already satisfied: google-cloud-datastore<3,>=2.0.0 in /usr/local/lib/python3.10/dist-packages (from apache-beam[gcp]) (2.19.0)\n",
            "Requirement already satisfied: google-cloud-pubsub<3,>=2.1.0 in /usr/local/lib/python3.10/dist-packages (from apache-beam[gcp]) (2.23.0)\n",
            "Collecting google-cloud-pubsublite<2,>=1.2.0 (from apache-beam[gcp])\n",
            "  Downloading google_cloud_pubsublite-1.11.1-py2.py3-none-any.whl.metadata (5.6 kB)\n",
            "Collecting google-cloud-storage<3,>=2.16.0 (from apache-beam[gcp])\n",
            "  Downloading google_cloud_storage-2.18.2-py2.py3-none-any.whl.metadata (9.1 kB)\n",
            "Requirement already satisfied: google-cloud-bigquery<4,>=2.0.0 in /usr/local/lib/python3.10/dist-packages (from apache-beam[gcp]) (3.25.0)\n",
            "Requirement already satisfied: google-cloud-bigquery-storage<3,>=2.6.3 in /usr/local/lib/python3.10/dist-packages (from apache-beam[gcp]) (2.25.0)\n",
            "Requirement already satisfied: google-cloud-core<3,>=2.0.0 in /usr/local/lib/python3.10/dist-packages (from apache-beam[gcp]) (2.4.1)\n",
            "Requirement already satisfied: google-cloud-bigtable<3,>=2.19.0 in /usr/local/lib/python3.10/dist-packages (from apache-beam[gcp]) (2.26.0)\n",
            "Collecting google-cloud-spanner<4,>=3.0.0 (from apache-beam[gcp])\n",
            "  Downloading google_cloud_spanner-3.48.0-py2.py3-none-any.whl.metadata (10 kB)\n",
            "Collecting google-cloud-dlp<4,>=3.0.0 (from apache-beam[gcp])\n",
            "  Downloading google_cloud_dlp-3.22.0-py2.py3-none-any.whl.metadata (5.3 kB)\n",
            "Requirement already satisfied: google-cloud-language<3,>=2.0 in /usr/local/lib/python3.10/dist-packages (from apache-beam[gcp]) (2.13.4)\n",
            "Collecting google-cloud-videointelligence<3,>=2.0 (from apache-beam[gcp])\n",
            "  Downloading google_cloud_videointelligence-2.13.5-py2.py3-none-any.whl.metadata (5.7 kB)\n",
            "Collecting google-cloud-vision<4,>=2 (from apache-beam[gcp])\n",
            "  Downloading google_cloud_vision-3.7.4-py2.py3-none-any.whl.metadata (5.2 kB)\n",
            "Collecting google-cloud-recommendations-ai<0.11.0,>=0.1.0 (from apache-beam[gcp])\n",
            "  Downloading google_cloud_recommendations_ai-0.10.12-py2.py3-none-any.whl.metadata (5.3 kB)\n",
            "Requirement already satisfied: google-cloud-aiplatform<2.0,>=1.26.0 in /usr/local/lib/python3.10/dist-packages (from apache-beam[gcp]) (1.59.0)\n",
            "Requirement already satisfied: earthengine-api>=0.1.355 in /usr/local/lib/python3.10/dist-packages (from benin-data==1.1.0) (0.1.416)\n",
            "Requirement already satisfied: google-api-python-client>=1.12.1 in /usr/local/lib/python3.10/dist-packages (from earthengine-api>=0.1.355->benin-data==1.1.0) (2.137.0)\n",
            "Requirement already satisfied: googleapis-common-protos<2.0.dev0,>=1.56.2 in /usr/local/lib/python3.10/dist-packages (from google-api-core<3,>=2.0.0->apache-beam[gcp]) (1.63.2)\n",
            "Requirement already satisfied: oauth2client>=1.4.12 in /usr/local/lib/python3.10/dist-packages (from google-apitools<0.5.32,>=0.5.31->apache-beam[gcp]) (4.1.3)\n",
            "Requirement already satisfied: six>=1.12.0 in /usr/local/lib/python3.10/dist-packages (from google-apitools<0.5.32,>=0.5.31->apache-beam[gcp]) (1.16.0)\n",
            "Requirement already satisfied: pyasn1-modules>=0.2.1 in /usr/local/lib/python3.10/dist-packages (from google-auth<3,>=1.18.0->apache-beam[gcp]) (0.4.0)\n",
            "Requirement already satisfied: rsa<5,>=3.1.4 in /usr/local/lib/python3.10/dist-packages (from google-auth<3,>=1.18.0->apache-beam[gcp]) (4.9)\n",
            "Requirement already satisfied: google-cloud-resource-manager<3.0.0dev,>=1.3.3 in /usr/local/lib/python3.10/dist-packages (from google-cloud-aiplatform<2.0,>=1.26.0->apache-beam[gcp]) (1.12.5)\n",
            "Requirement already satisfied: shapely<3.0.0dev in /usr/local/lib/python3.10/dist-packages (from google-cloud-aiplatform<2.0,>=1.26.0->apache-beam[gcp]) (2.0.5)\n",
            "Requirement already satisfied: pydantic<3 in /usr/local/lib/python3.10/dist-packages (from google-cloud-aiplatform<2.0,>=1.26.0->apache-beam[gcp]) (2.8.2)\n",
            "Requirement already satisfied: docstring-parser<1 in /usr/local/lib/python3.10/dist-packages (from google-cloud-aiplatform<2.0,>=1.26.0->apache-beam[gcp]) (0.16)\n",
            "Requirement already satisfied: google-resumable-media<3.0dev,>=0.6.0 in /usr/local/lib/python3.10/dist-packages (from google-cloud-bigquery<4,>=2.0.0->apache-beam[gcp]) (2.7.2)\n",
            "Requirement already satisfied: grpc-google-iam-v1<1.0.0dev,>=0.12.4 in /usr/local/lib/python3.10/dist-packages (from google-cloud-bigtable<3,>=2.19.0->apache-beam[gcp]) (0.13.1)\n",
            "Requirement already satisfied: grpcio-status>=1.33.2 in /usr/local/lib/python3.10/dist-packages (from google-cloud-pubsub<3,>=2.1.0->apache-beam[gcp]) (1.48.2)\n",
            "Collecting overrides<8.0.0,>=6.0.1 (from google-cloud-pubsublite<2,>=1.2.0->apache-beam[gcp])\n",
            "  Downloading overrides-7.7.0-py3-none-any.whl.metadata (5.8 kB)\n",
            "Requirement already satisfied: sqlparse>=0.4.4 in /usr/local/lib/python3.10/dist-packages (from google-cloud-spanner<4,>=3.0.0->apache-beam[gcp]) (0.5.1)\n",
            "Collecting grpc-interceptor>=0.15.4 (from google-cloud-spanner<4,>=3.0.0->apache-beam[gcp])\n",
            "  Downloading grpc_interceptor-0.15.4-py3-none-any.whl.metadata (8.4 kB)\n",
            "Requirement already satisfied: google-crc32c<2.0dev,>=1.0 in /usr/local/lib/python3.10/dist-packages (from google-cloud-storage<3,>=2.16.0->apache-beam[gcp]) (1.5.0)\n",
            "Collecting docopt (from hdfs<3.0.0,>=2.1.0->apache-beam[gcp])\n",
            "  Downloading docopt-0.6.2.tar.gz (25 kB)\n",
            "  Preparing metadata (setup.py) ... \u001b[?25l\u001b[?25hdone\n",
            "Requirement already satisfied: pyparsing!=3.0.0,!=3.0.1,!=3.0.2,!=3.0.3,<4,>=2.4.2 in /usr/local/lib/python3.10/dist-packages (from httplib2<0.23.0,>=0.8->apache-beam[gcp]) (3.1.2)\n",
            "Requirement already satisfied: tzlocal>=1.2 in /usr/local/lib/python3.10/dist-packages (from js2py<1,>=0.74->apache-beam[gcp]) (5.2)\n",
            "Collecting pyjsparser>=2.5.1 (from js2py<1,>=0.74->apache-beam[gcp])\n",
            "  Downloading pyjsparser-2.7.1.tar.gz (24 kB)\n",
            "  Preparing metadata (setup.py) ... \u001b[?25l\u001b[?25hdone\n",
            "Requirement already satisfied: attrs>=22.2.0 in /usr/local/lib/python3.10/dist-packages (from jsonschema<5.0.0,>=4.0.0->apache-beam[gcp]) (24.2.0)\n",
            "Requirement already satisfied: jsonschema-specifications>=2023.03.6 in /usr/local/lib/python3.10/dist-packages (from jsonschema<5.0.0,>=4.0.0->apache-beam[gcp]) (2023.12.1)\n",
            "Requirement already satisfied: referencing>=0.28.4 in /usr/local/lib/python3.10/dist-packages (from jsonschema<5.0.0,>=4.0.0->apache-beam[gcp]) (0.35.1)\n",
            "Requirement already satisfied: rpds-py>=0.7.1 in /usr/local/lib/python3.10/dist-packages (from jsonschema<5.0.0,>=4.0.0->apache-beam[gcp]) (0.20.0)\n",
            "Collecting dnspython<3.0.0,>=1.16.0 (from pymongo<5.0.0,>=3.8.0->apache-beam[gcp])\n",
            "  Downloading dnspython-2.6.1-py3-none-any.whl.metadata (5.8 kB)\n",
            "Requirement already satisfied: async-timeout>=4.0.3 in /usr/local/lib/python3.10/dist-packages (from redis<6,>=5.0.0->apache-beam[gcp]) (4.0.3)\n",
            "Requirement already satisfied: charset-normalizer<4,>=2 in /usr/local/lib/python3.10/dist-packages (from requests!=2.32.*,<3.0.0,>=2.24.0->apache-beam[gcp]) (3.3.2)\n",
            "Requirement already satisfied: idna<4,>=2.5 in /usr/local/lib/python3.10/dist-packages (from requests!=2.32.*,<3.0.0,>=2.24.0->apache-beam[gcp]) (3.7)\n",
            "Requirement already satisfied: urllib3<3,>=1.21.1 in /usr/local/lib/python3.10/dist-packages (from requests!=2.32.*,<3.0.0,>=2.24.0->apache-beam[gcp]) (2.0.7)\n",
            "Requirement already satisfied: certifi>=2017.4.17 in /usr/local/lib/python3.10/dist-packages (from requests!=2.32.*,<3.0.0,>=2.24.0->apache-beam[gcp]) (2024.7.4)\n",
            "Requirement already satisfied: uritemplate<5,>=3.0.1 in /usr/local/lib/python3.10/dist-packages (from google-api-python-client>=1.12.1->earthengine-api>=0.1.355->benin-data==1.1.0) (4.1.1)\n",
            "Requirement already satisfied: pyasn1>=0.1.7 in /usr/local/lib/python3.10/dist-packages (from oauth2client>=1.4.12->google-apitools<0.5.32,>=0.5.31->apache-beam[gcp]) (0.6.0)\n",
            "Requirement already satisfied: annotated-types>=0.4.0 in /usr/local/lib/python3.10/dist-packages (from pydantic<3->google-cloud-aiplatform<2.0,>=1.26.0->apache-beam[gcp]) (0.7.0)\n",
            "Requirement already satisfied: pydantic-core==2.20.1 in /usr/local/lib/python3.10/dist-packages (from pydantic<3->google-cloud-aiplatform<2.0,>=1.26.0->apache-beam[gcp]) (2.20.1)\n",
            "Downloading fastavro-1.9.5-cp310-cp310-manylinux_2_17_x86_64.manylinux2014_x86_64.whl (3.1 MB)\n",
            "\u001b[2K   \u001b[90m━━━━━━━━━━━━━━━━━━━━━━━━━━━━━━━━━━━━━━━━\u001b[0m \u001b[32m3.1/3.1 MB\u001b[0m \u001b[31m40.8 MB/s\u001b[0m eta \u001b[36m0:00:00\u001b[0m\n",
            "\u001b[?25hDownloading fasteners-0.19-py3-none-any.whl (18 kB)\n",
            "Downloading google_cloud_dlp-3.22.0-py2.py3-none-any.whl (190 kB)\n",
            "Downloading google_cloud_pubsublite-1.11.1-py2.py3-none-any.whl (304 kB)\n",
            "Downloading google_cloud_recommendations_ai-0.10.12-py2.py3-none-any.whl (184 kB)\n",
            "Downloading google_cloud_spanner-3.48.0-py2.py3-none-any.whl (397 kB)\n",
            "Downloading google_cloud_storage-2.18.2-py2.py3-none-any.whl (130 kB)\n",
            "Downloading google_cloud_videointelligence-2.13.5-py2.py3-none-any.whl (244 kB)\n",
            "Downloading google_cloud_vision-3.7.4-py2.py3-none-any.whl (467 kB)\n",
            "Downloading Js2Py-0.74-py3-none-any.whl (1.0 MB)\n",
            "\u001b[2K   \u001b[90m━━━━━━━━━━━━━━━━━━━━━━━━━━━━━━━━━━━━━━━━\u001b[0m \u001b[32m1.0/1.0 MB\u001b[0m \u001b[31m46.9 MB/s\u001b[0m eta \u001b[36m0:00:00\u001b[0m\n",
            "\u001b[?25hDownloading objsize-0.7.0-py3-none-any.whl (11 kB)\n",
            "Downloading orjson-3.10.7-cp310-cp310-manylinux_2_17_x86_64.manylinux2014_x86_64.whl (141 kB)\n",
            "Downloading pymongo-4.8.0-cp310-cp310-manylinux_2_17_x86_64.manylinux2014_x86_64.whl (1.2 MB)\n",
            "\u001b[2K   \u001b[90m━━━━━━━━━━━━━━━━━━━━━━━━━━━━━━━━━━━━━━━━\u001b[0m \u001b[32m1.2/1.2 MB\u001b[0m \u001b[31m52.0 MB/s\u001b[0m eta \u001b[36m0:00:00\u001b[0m\n",
            "\u001b[?25hDownloading redis-5.0.8-py3-none-any.whl (255 kB)\n",
            "Downloading requests-2.31.0-py3-none-any.whl (62 kB)\n",
            "Downloading zstandard-0.23.0-cp310-cp310-manylinux_2_17_x86_64.manylinux2014_x86_64.whl (5.4 MB)\n",
            "\u001b[2K   \u001b[90m━━━━━━━━━━━━━━━━━━━━━━━━━━━━━━━━━━━━━━━━\u001b[0m \u001b[32m5.4/5.4 MB\u001b[0m \u001b[31m103.9 MB/s\u001b[0m eta \u001b[36m0:00:00\u001b[0m\n",
            "\u001b[?25hDownloading apache_beam-2.58.1-cp310-cp310-manylinux_2_17_x86_64.manylinux2014_x86_64.whl (14.6 MB)\n",
            "\u001b[2K   \u001b[90m━━━━━━━━━━━━━━━━━━━━━━━━━━━━━━━━━━━━━━━━\u001b[0m \u001b[32m14.6/14.6 MB\u001b[0m \u001b[31m123.8 MB/s\u001b[0m eta \u001b[36m0:00:00\u001b[0m\n",
            "\u001b[?25hDownloading dnspython-2.6.1-py3-none-any.whl (307 kB)\n",
            "Downloading grpc_interceptor-0.15.4-py3-none-any.whl (20 kB)\n",
            "Downloading overrides-7.7.0-py3-none-any.whl (17 kB)\n",
            "Building wheels for collected packages: benin-data, crcmod, dill, google-apitools, hdfs, pyjsparser, docopt\n",
            "  Building wheel for benin-data (pyproject.toml) ... \u001b[?25l\u001b[?25hdone\n",
            "  Created wheel for benin-data: filename=benin_data-1.1.0-py3-none-any.whl size=4814 sha256=e7e009f27441744d237a2e743acc6ff5d461d3ef6b2136b64d75194cbbebb48c\n",
            "  Stored in directory: /root/.cache/pip/wheels/bb/97/28/55f64f8c7f681200ffa99188a415a0b206b432702b855ccfe9\n",
            "  Building wheel for crcmod (setup.py) ... \u001b[?25l\u001b[?25hdone\n",
            "  Created wheel for crcmod: filename=crcmod-1.7-cp310-cp310-linux_x86_64.whl size=31405 sha256=59fb8aa013727d9325b27207c641bb7329828cd6cb2cba508c9c6c03bb680dab\n",
            "  Stored in directory: /root/.cache/pip/wheels/85/4c/07/72215c529bd59d67e3dac29711d7aba1b692f543c808ba9e86\n",
            "  Building wheel for dill (setup.py) ... \u001b[?25l\u001b[?25hdone\n",
            "  Created wheel for dill: filename=dill-0.3.1.1-py3-none-any.whl size=78542 sha256=61e8e9f95f96de292dff1e9e17955d11b9c6504894378ae2abc6a537d5470c9e\n",
            "  Stored in directory: /root/.cache/pip/wheels/ea/e2/86/64980d90e297e7bf2ce588c2b96e818f5399c515c4bb8a7e4f\n",
            "  Building wheel for google-apitools (setup.py) ... \u001b[?25l\u001b[?25hdone\n",
            "  Created wheel for google-apitools: filename=google_apitools-0.5.31-py3-none-any.whl size=131014 sha256=bb837a05e242e5bb930285756e31b8babe645e726d7efd2a962452f6025a908d\n",
            "  Stored in directory: /root/.cache/pip/wheels/04/b7/e0/9712f8c23a5da3d9d16fb88216b897bf60e85b12f5470f26ee\n",
            "  Building wheel for hdfs (setup.py) ... \u001b[?25l\u001b[?25hdone\n",
            "  Created wheel for hdfs: filename=hdfs-2.7.3-py3-none-any.whl size=34325 sha256=f479f4ac346ffb55dbf8bbd751ce0181f920e949458aac55b4b26a7c62817354\n",
            "  Stored in directory: /root/.cache/pip/wheels/e5/8d/b6/99c1c0a3ac5788c866b0ecd3f48b0134a5910e6ed26011800b\n",
            "  Building wheel for pyjsparser (setup.py) ... \u001b[?25l\u001b[?25hdone\n",
            "  Created wheel for pyjsparser: filename=pyjsparser-2.7.1-py3-none-any.whl size=25983 sha256=1e9fc17f1cddf913aa83b60605a7bf0c640e4bd3765ba628457f25e7888c0991\n",
            "  Stored in directory: /root/.cache/pip/wheels/5e/81/26/5956478df303e2bf5a85a5df595bb307bd25948a4bab69f7c7\n",
            "  Building wheel for docopt (setup.py) ... \u001b[?25l\u001b[?25hdone\n",
            "  Created wheel for docopt: filename=docopt-0.6.2-py2.py3-none-any.whl size=13704 sha256=987bbaaeecc90a068ed4fe98bd011eb9fb7381dd3b18aa12d47bf48b36286caf\n",
            "  Stored in directory: /root/.cache/pip/wheels/fc/ab/d4/5da2067ac95b36618c629a5f93f809425700506f72c9732fac\n",
            "Successfully built benin-data crcmod dill google-apitools hdfs pyjsparser docopt\n",
            "Installing collected packages: pyjsparser, docopt, crcmod, zstandard, requests, redis, overrides, orjson, objsize, js2py, grpc-interceptor, fasteners, fastavro, dnspython, dill, pymongo, hdfs, google-apitools, apache-beam, google-cloud-vision, google-cloud-videointelligence, google-cloud-storage, google-cloud-spanner, google-cloud-recommendations-ai, google-cloud-dlp, google-cloud-pubsublite, benin-data\n",
            "  Attempting uninstall: requests\n",
            "    Found existing installation: requests 2.32.3\n",
            "    Uninstalling requests-2.32.3:\n",
            "      Successfully uninstalled requests-2.32.3\n",
            "  Attempting uninstall: google-cloud-storage\n",
            "    Found existing installation: google-cloud-storage 2.8.0\n",
            "    Uninstalling google-cloud-storage-2.8.0:\n",
            "      Successfully uninstalled google-cloud-storage-2.8.0\n",
            "\u001b[31mERROR: pip's dependency resolver does not currently take into account all the packages that are installed. This behaviour is the source of the following dependency conflicts.\n",
            "google-colab 1.0.0 requires requests==2.32.3, but you have requests 2.31.0 which is incompatible.\u001b[0m\u001b[31m\n",
            "\u001b[0mSuccessfully installed apache-beam-2.58.1 benin-data-1.1.0 crcmod-1.7 dill-0.3.1.1 dnspython-2.6.1 docopt-0.6.2 fastavro-1.9.5 fasteners-0.19 google-apitools-0.5.31 google-cloud-dlp-3.22.0 google-cloud-pubsublite-1.11.1 google-cloud-recommendations-ai-0.10.12 google-cloud-spanner-3.48.0 google-cloud-storage-2.18.2 google-cloud-videointelligence-2.13.5 google-cloud-vision-3.7.4 grpc-interceptor-0.15.4 hdfs-2.7.3 js2py-0.74 objsize-0.7.0 orjson-3.10.7 overrides-7.7.0 pyjsparser-2.7.1 pymongo-4.8.0 redis-5.0.8 requests-2.31.0 zstandard-0.23.0\n"
          ]
        },
        {
          "output_type": "display_data",
          "data": {
            "application/vnd.colab-display-data+json": {
              "pip_warning": {
                "packages": [
                  "google"
                ]
              },
              "id": "68efffdbcf2c4257818eaab89947b73b"
            }
          },
          "metadata": {}
        }
      ],
      "source": [
        "!pip install --quiet --upgrade pip\n",
        "\n",
        "# We need `build` and `virtualenv` to build the local packages.\n",
        "!pip install --quiet build virtualenv\n",
        "\n",
        "# Install Apache Beam and the `benin-data` local package.\n",
        "!pip install apache-beam[gcp] src/benin-data"
      ]
    },
    {
      "cell_type": "code",
      "execution_count": 5,
      "metadata": {
        "id": "VebxlGd3Jf8Z"
      },
      "outputs": [],
      "source": [
        "# run to manually restart runtime by ending process\n",
        "# exit()"
      ]
    },
    {
      "cell_type": "markdown",
      "metadata": {
        "id": "OMU82mRYNfFp"
      },
      "source": [
        "At this point runtime is restarted. Navigate back to our working directory."
      ]
    },
    {
      "cell_type": "code",
      "execution_count": 1,
      "metadata": {
        "colab": {
          "base_uri": "https://localhost:8080/"
        },
        "id": "54QJoqywApQO",
        "outputId": "c398a677-b376-4c32-b285-ebe8655db70c"
      },
      "outputs": [
        {
          "output_type": "stream",
          "name": "stdout",
          "text": [
            "/content/satellite_cnns\n"
          ]
        }
      ],
      "source": [
        "%cd /content/satellite_cnns"
      ]
    },
    {
      "cell_type": "code",
      "execution_count": 2,
      "metadata": {
        "cellView": "form",
        "colab": {
          "base_uri": "https://localhost:8080/"
        },
        "id": "_2iFfceKGhMC",
        "outputId": "645222f3-ae84-436c-eefc-8438e305a14d"
      },
      "outputs": [
        {
          "output_type": "stream",
          "name": "stdout",
          "text": [
            "Updated property [core/project].\n"
          ]
        }
      ],
      "source": [
        "#@title Project settings\n",
        "from __future__ import annotations\n",
        "\n",
        "import os\n",
        "from google.colab import auth\n",
        "\n",
        "auth.authenticate_user()\n",
        "\n",
        "# Please fill in these values.\n",
        "project = \"satellite-cnns\" #@param {type:\"string\"}\n",
        "bucket = \"beninbucket\" #@param {type:\"string\"}\n",
        "location = \"us-central1\" #@param {type:\"string\"}\n",
        "\n",
        "# Quick input validations.\n",
        "assert project, \"⚠️ Please provide a Google Cloud project ID\"\n",
        "assert bucket, \"⚠️ Please provide a Cloud Storage bucket name\"\n",
        "assert not bucket.startswith('gs://'), f\"⚠️ Please remove the gs:// prefix from the bucket name: {bucket}\"\n",
        "assert location, \"⚠️ Please provide a Google Cloud location\"\n",
        "\n",
        "# Authenticate to Colab.\n",
        "auth.authenticate_user()\n",
        "\n",
        "# Set GOOGLE_CLOUD_PROJECT for google.auth.default().\n",
        "os.environ['GOOGLE_CLOUD_PROJECT'] = project\n",
        "\n",
        "# Set the gcloud project for other gcloud commands.\n",
        "!gcloud config set project {project}"
      ]
    },
    {
      "cell_type": "code",
      "execution_count": 8,
      "metadata": {
        "id": "y_MaPEZ4HIwr"
      },
      "outputs": [],
      "source": [
        "import ee\n",
        "import google.auth\n",
        "\n",
        "credentials, _ = google.auth.default()\n",
        "ee.Initialize(\n",
        "    credentials.with_quota_project(None),\n",
        "    project=project,\n",
        "    opt_url=\"https://earthengine-highvolume.googleapis.com\",\n",
        ")"
      ]
    },
    {
      "cell_type": "markdown",
      "metadata": {
        "id": "qKs6HuxOzjMl"
      },
      "source": [
        "# Define functions for dataset creation\n",
        "\n",
        "This section generally follows the tutorial notebook. In the end, we wish for the inputs to be LANDSAT 7 data of Benin. We select R, G, B, and NDVI bands for the input data. As labels, we wish to prepare a binary image with a target label of 1 if pixel belongs to a village and a 0 if it does not belong to a village. The village circles are specified in a feature collection available at: 'projects/satellite-cnns/assets/voronoi_villages'\n",
        "\n",
        "Based on our visulizations with folium at the end, this section appears to be working fine.\n",
        "\n",
        "**dd_NEW**: To utilize the new package data, I replaced the function definitions in the notebook with their imports from the package. You can see the function declarations here:\n",
        "\n",
        "> <button>\n",
        ">\n",
        "> [![Open in GitHub](https://www.tensorflow.org/images/GitHub-Mark-32px.png) `benin/data.py`](src/benin-data/benin/data.py)\n",
        "> </button>"
      ]
    },
    {
      "cell_type": "markdown",
      "metadata": {
        "id": "rBgXuyyu-mHt"
      },
      "source": [
        "In this next code chunk, we prepare the inputs and label images."
      ]
    },
    {
      "cell_type": "code",
      "execution_count": 3,
      "metadata": {
        "id": "Z2Nr2FFrt10z"
      },
      "outputs": [],
      "source": [
        "from benin.data import get_inputs_image"
      ]
    },
    {
      "cell_type": "code",
      "execution_count": 4,
      "metadata": {
        "id": "42leaJCyw8iq"
      },
      "outputs": [],
      "source": [
        "from benin.data import get_labels_image"
      ]
    },
    {
      "cell_type": "markdown",
      "metadata": {
        "id": "_gptCgcTZ-ZK"
      },
      "source": [
        "## Visualize the input and target"
      ]
    },
    {
      "cell_type": "code",
      "execution_count": 5,
      "metadata": {
        "colab": {
          "base_uri": "https://localhost:8080/",
          "height": 1000
        },
        "id": "uGh8wy3TSIXr",
        "outputId": "9f9080c0-ca69-4c35-c64a-19944ed6bdf7"
      },
      "outputs": [
        {
          "output_type": "execute_result",
          "data": {
            "text/plain": [
              "<folium.folium.Map at 0x7c6295d7c070>"
            ],
            "text/html": [
              "<div style=\"width:100%;\"><div style=\"position:relative;width:100%;height:0;padding-bottom:60%;\"><span style=\"color:#565656\">Make this Notebook Trusted to load map: File -> Trust Notebook</span><iframe srcdoc=\"&lt;!DOCTYPE html&gt;\n",
              "&lt;html&gt;\n",
              "&lt;head&gt;\n",
              "    \n",
              "    &lt;meta http-equiv=&quot;content-type&quot; content=&quot;text/html; charset=UTF-8&quot; /&gt;\n",
              "    \n",
              "        &lt;script&gt;\n",
              "            L_NO_TOUCH = false;\n",
              "            L_DISABLE_3D = false;\n",
              "        &lt;/script&gt;\n",
              "    \n",
              "    &lt;style&gt;html, body {width: 100%;height: 100%;margin: 0;padding: 0;}&lt;/style&gt;\n",
              "    &lt;style&gt;#map {position:absolute;top:0;bottom:0;right:0;left:0;}&lt;/style&gt;\n",
              "    &lt;script src=&quot;https://cdn.jsdelivr.net/npm/leaflet@1.9.3/dist/leaflet.js&quot;&gt;&lt;/script&gt;\n",
              "    &lt;script src=&quot;https://code.jquery.com/jquery-3.7.1.min.js&quot;&gt;&lt;/script&gt;\n",
              "    &lt;script src=&quot;https://cdn.jsdelivr.net/npm/bootstrap@5.2.2/dist/js/bootstrap.bundle.min.js&quot;&gt;&lt;/script&gt;\n",
              "    &lt;script src=&quot;https://cdnjs.cloudflare.com/ajax/libs/Leaflet.awesome-markers/2.0.2/leaflet.awesome-markers.js&quot;&gt;&lt;/script&gt;\n",
              "    &lt;link rel=&quot;stylesheet&quot; href=&quot;https://cdn.jsdelivr.net/npm/leaflet@1.9.3/dist/leaflet.css&quot;/&gt;\n",
              "    &lt;link rel=&quot;stylesheet&quot; href=&quot;https://cdn.jsdelivr.net/npm/bootstrap@5.2.2/dist/css/bootstrap.min.css&quot;/&gt;\n",
              "    &lt;link rel=&quot;stylesheet&quot; href=&quot;https://netdna.bootstrapcdn.com/bootstrap/3.0.0/css/bootstrap-glyphicons.css&quot;/&gt;\n",
              "    &lt;link rel=&quot;stylesheet&quot; href=&quot;https://cdn.jsdelivr.net/npm/@fortawesome/fontawesome-free@6.2.0/css/all.min.css&quot;/&gt;\n",
              "    &lt;link rel=&quot;stylesheet&quot; href=&quot;https://cdnjs.cloudflare.com/ajax/libs/Leaflet.awesome-markers/2.0.2/leaflet.awesome-markers.css&quot;/&gt;\n",
              "    &lt;link rel=&quot;stylesheet&quot; href=&quot;https://cdn.jsdelivr.net/gh/python-visualization/folium/folium/templates/leaflet.awesome.rotate.min.css&quot;/&gt;\n",
              "    \n",
              "            &lt;meta name=&quot;viewport&quot; content=&quot;width=device-width,\n",
              "                initial-scale=1.0, maximum-scale=1.0, user-scalable=no&quot; /&gt;\n",
              "            &lt;style&gt;\n",
              "                #map_1a53f9c033e0d19fc8a35898be81d2ba {\n",
              "                    position: relative;\n",
              "                    width: 100.0%;\n",
              "                    height: 100.0%;\n",
              "                    left: 0.0%;\n",
              "                    top: 0.0%;\n",
              "                }\n",
              "                .leaflet-container { font-size: 1rem; }\n",
              "            &lt;/style&gt;\n",
              "        \n",
              "&lt;/head&gt;\n",
              "&lt;body&gt;\n",
              "    \n",
              "    \n",
              "            &lt;div class=&quot;folium-map&quot; id=&quot;map_1a53f9c033e0d19fc8a35898be81d2ba&quot; &gt;&lt;/div&gt;\n",
              "        \n",
              "&lt;/body&gt;\n",
              "&lt;script&gt;\n",
              "    \n",
              "    \n",
              "            var map_1a53f9c033e0d19fc8a35898be81d2ba = L.map(\n",
              "                &quot;map_1a53f9c033e0d19fc8a35898be81d2ba&quot;,\n",
              "                {\n",
              "                    center: [9.8, 2.4],\n",
              "                    crs: L.CRS.EPSG3857,\n",
              "                    zoom: 7,\n",
              "                    zoomControl: true,\n",
              "                    preferCanvas: false,\n",
              "                }\n",
              "            );\n",
              "\n",
              "            \n",
              "\n",
              "        \n",
              "    \n",
              "            var tile_layer_69f37ceb09d11d34739bd6c131893610 = L.tileLayer(\n",
              "                &quot;https://tile.openstreetmap.org/{z}/{x}/{y}.png&quot;,\n",
              "                {&quot;attribution&quot;: &quot;\\u0026copy; \\u003ca href=\\&quot;https://www.openstreetmap.org/copyright\\&quot;\\u003eOpenStreetMap\\u003c/a\\u003e contributors&quot;, &quot;detectRetina&quot;: false, &quot;maxNativeZoom&quot;: 19, &quot;maxZoom&quot;: 19, &quot;minZoom&quot;: 0, &quot;noWrap&quot;: false, &quot;opacity&quot;: 1, &quot;subdomains&quot;: &quot;abc&quot;, &quot;tms&quot;: false}\n",
              "            );\n",
              "        \n",
              "    \n",
              "            tile_layer_69f37ceb09d11d34739bd6c131893610.addTo(map_1a53f9c033e0d19fc8a35898be81d2ba);\n",
              "        \n",
              "    \n",
              "            var tile_layer_ee216d26fa8ff9014d64c0aff2bb0a36 = L.tileLayer(\n",
              "                &quot;https://earthengine-highvolume.googleapis.com/v1/projects/satellite-cnns/maps/a3291818ac7d3b45c60fca15dd6e3e1c-74e7a6ae934386458eddce6cb87f8f74/tiles/{z}/{x}/{y}&quot;,\n",
              "                {&quot;attribution&quot;: &quot;Map Data \\u0026copy; \\u003ca href=\\&quot;https://earthengine.google.com/\\&quot;\\u003eGoogle Earth Engine\\u003c/a\\u003e&quot;, &quot;detectRetina&quot;: false, &quot;maxZoom&quot;: 18, &quot;minZoom&quot;: 0, &quot;noWrap&quot;: false, &quot;opacity&quot;: 1, &quot;subdomains&quot;: &quot;abc&quot;, &quot;tms&quot;: false}\n",
              "            );\n",
              "        \n",
              "    \n",
              "            tile_layer_ee216d26fa8ff9014d64c0aff2bb0a36.addTo(map_1a53f9c033e0d19fc8a35898be81d2ba);\n",
              "        \n",
              "    \n",
              "            var layer_control_e7fab4f06e0526dd133e433b1cb025e1_layers = {\n",
              "                base_layers : {\n",
              "                    &quot;openstreetmap&quot; : tile_layer_69f37ceb09d11d34739bd6c131893610,\n",
              "                },\n",
              "                overlays :  {\n",
              "                    &quot;target variable&quot; : tile_layer_ee216d26fa8ff9014d64c0aff2bb0a36,\n",
              "                },\n",
              "            };\n",
              "            let layer_control_e7fab4f06e0526dd133e433b1cb025e1 = L.control.layers(\n",
              "                layer_control_e7fab4f06e0526dd133e433b1cb025e1_layers.base_layers,\n",
              "                layer_control_e7fab4f06e0526dd133e433b1cb025e1_layers.overlays,\n",
              "                {&quot;autoZIndex&quot;: true, &quot;collapsed&quot;: true, &quot;position&quot;: &quot;topright&quot;}\n",
              "            ).addTo(map_1a53f9c033e0d19fc8a35898be81d2ba);\n",
              "\n",
              "        \n",
              "&lt;/script&gt;\n",
              "&lt;/html&gt;\" style=\"position:absolute;width:100%;height:100%;left:0;top:0;border:none !important;\" allowfullscreen webkitallowfullscreen mozallowfullscreen></iframe></div></div>"
            ]
          },
          "metadata": {},
          "execution_count": 5
        }
      ],
      "source": [
        "#Visualize the target. White circles are inside villages, black circles are outside villages\n",
        "# RB did it always look like this? White with the rest all black or is the viz messed up?\n",
        "import folium\n",
        "\n",
        "mapid = get_labels_image().getMapId({'min': 0, 'max': 1})\n",
        "map = folium.Map(location=[9.8, 2.4], zoom_start = 7)\n",
        "folium.TileLayer(\n",
        "    tiles=mapid['tile_fetcher'].url_format,\n",
        "    attr='Map Data &copy; <a href=\"https://earthengine.google.com/\">Google Earth Engine</a>',\n",
        "    overlay=True,\n",
        "    name='target variable',\n",
        "  ).add_to(map)\n",
        "map.add_child(folium.LayerControl())\n",
        "map"
      ]
    },
    {
      "cell_type": "code",
      "execution_count": 6,
      "metadata": {
        "id": "szy9X2zjKXmw",
        "outputId": "4e934555-11bd-4a8f-9ab1-6da909bfb00e",
        "colab": {
          "base_uri": "https://localhost:8080/",
          "height": 1000
        }
      },
      "outputs": [
        {
          "output_type": "execute_result",
          "data": {
            "text/plain": [
              "<folium.folium.Map at 0x7c6295f08b50>"
            ],
            "text/html": [
              "<div style=\"width:100%;\"><div style=\"position:relative;width:100%;height:0;padding-bottom:60%;\"><span style=\"color:#565656\">Make this Notebook Trusted to load map: File -> Trust Notebook</span><iframe srcdoc=\"&lt;!DOCTYPE html&gt;\n",
              "&lt;html&gt;\n",
              "&lt;head&gt;\n",
              "    \n",
              "    &lt;meta http-equiv=&quot;content-type&quot; content=&quot;text/html; charset=UTF-8&quot; /&gt;\n",
              "    \n",
              "        &lt;script&gt;\n",
              "            L_NO_TOUCH = false;\n",
              "            L_DISABLE_3D = false;\n",
              "        &lt;/script&gt;\n",
              "    \n",
              "    &lt;style&gt;html, body {width: 100%;height: 100%;margin: 0;padding: 0;}&lt;/style&gt;\n",
              "    &lt;style&gt;#map {position:absolute;top:0;bottom:0;right:0;left:0;}&lt;/style&gt;\n",
              "    &lt;script src=&quot;https://cdn.jsdelivr.net/npm/leaflet@1.9.3/dist/leaflet.js&quot;&gt;&lt;/script&gt;\n",
              "    &lt;script src=&quot;https://code.jquery.com/jquery-3.7.1.min.js&quot;&gt;&lt;/script&gt;\n",
              "    &lt;script src=&quot;https://cdn.jsdelivr.net/npm/bootstrap@5.2.2/dist/js/bootstrap.bundle.min.js&quot;&gt;&lt;/script&gt;\n",
              "    &lt;script src=&quot;https://cdnjs.cloudflare.com/ajax/libs/Leaflet.awesome-markers/2.0.2/leaflet.awesome-markers.js&quot;&gt;&lt;/script&gt;\n",
              "    &lt;link rel=&quot;stylesheet&quot; href=&quot;https://cdn.jsdelivr.net/npm/leaflet@1.9.3/dist/leaflet.css&quot;/&gt;\n",
              "    &lt;link rel=&quot;stylesheet&quot; href=&quot;https://cdn.jsdelivr.net/npm/bootstrap@5.2.2/dist/css/bootstrap.min.css&quot;/&gt;\n",
              "    &lt;link rel=&quot;stylesheet&quot; href=&quot;https://netdna.bootstrapcdn.com/bootstrap/3.0.0/css/bootstrap-glyphicons.css&quot;/&gt;\n",
              "    &lt;link rel=&quot;stylesheet&quot; href=&quot;https://cdn.jsdelivr.net/npm/@fortawesome/fontawesome-free@6.2.0/css/all.min.css&quot;/&gt;\n",
              "    &lt;link rel=&quot;stylesheet&quot; href=&quot;https://cdnjs.cloudflare.com/ajax/libs/Leaflet.awesome-markers/2.0.2/leaflet.awesome-markers.css&quot;/&gt;\n",
              "    &lt;link rel=&quot;stylesheet&quot; href=&quot;https://cdn.jsdelivr.net/gh/python-visualization/folium/folium/templates/leaflet.awesome.rotate.min.css&quot;/&gt;\n",
              "    \n",
              "            &lt;meta name=&quot;viewport&quot; content=&quot;width=device-width,\n",
              "                initial-scale=1.0, maximum-scale=1.0, user-scalable=no&quot; /&gt;\n",
              "            &lt;style&gt;\n",
              "                #map_e2f5f2d70609790560a20afb398a69b5 {\n",
              "                    position: relative;\n",
              "                    width: 100.0%;\n",
              "                    height: 100.0%;\n",
              "                    left: 0.0%;\n",
              "                    top: 0.0%;\n",
              "                }\n",
              "                .leaflet-container { font-size: 1rem; }\n",
              "            &lt;/style&gt;\n",
              "        \n",
              "&lt;/head&gt;\n",
              "&lt;body&gt;\n",
              "    \n",
              "    \n",
              "            &lt;div class=&quot;folium-map&quot; id=&quot;map_e2f5f2d70609790560a20afb398a69b5&quot; &gt;&lt;/div&gt;\n",
              "        \n",
              "&lt;/body&gt;\n",
              "&lt;script&gt;\n",
              "    \n",
              "    \n",
              "            var map_e2f5f2d70609790560a20afb398a69b5 = L.map(\n",
              "                &quot;map_e2f5f2d70609790560a20afb398a69b5&quot;,\n",
              "                {\n",
              "                    center: [9.8, 2.4],\n",
              "                    crs: L.CRS.EPSG3857,\n",
              "                    zoom: 7,\n",
              "                    zoomControl: true,\n",
              "                    preferCanvas: false,\n",
              "                }\n",
              "            );\n",
              "\n",
              "            \n",
              "\n",
              "        \n",
              "    \n",
              "            var tile_layer_8bcf3aab874ccd3f3fcbd6d581858dc8 = L.tileLayer(\n",
              "                &quot;https://earthengine-highvolume.googleapis.com/v1/projects/satellite-cnns/maps/cfdbeb65cf798a8cd6e6c836265dbfca-8fd82fcf0aef64b412773ca4ea633901/tiles/{z}/{x}/{y}&quot;,\n",
              "                {&quot;attribution&quot;: &quot;Map Data \\u0026copy; \\u003ca href=\\&quot;https://earthengine.google.com/\\&quot;\\u003eGoogle Earth Engine\\u003c/a\\u003e&quot;, &quot;detectRetina&quot;: false, &quot;maxZoom&quot;: 18, &quot;minZoom&quot;: 0, &quot;noWrap&quot;: false, &quot;opacity&quot;: 1, &quot;subdomains&quot;: &quot;abc&quot;, &quot;tms&quot;: false}\n",
              "            );\n",
              "        \n",
              "    \n",
              "            tile_layer_8bcf3aab874ccd3f3fcbd6d581858dc8.addTo(map_e2f5f2d70609790560a20afb398a69b5);\n",
              "        \n",
              "&lt;/script&gt;\n",
              "&lt;/html&gt;\" style=\"position:absolute;width:100%;height:100%;left:0;top:0;border:none !important;\" allowfullscreen webkitallowfullscreen mozallowfullscreen></iframe></div></div>"
            ]
          },
          "metadata": {},
          "execution_count": 6
        }
      ],
      "source": [
        "# view the first three bands of the features\n",
        "image = get_inputs_image()\n",
        "# RB edited this too to make bands visible with new LS C2 data\n",
        "vis_params = {'bands': ['R', 'G', 'B'], 'min': 0, 'max': 0.3, 'gamma': 1.4}\n",
        "\n",
        "folium.Map(\n",
        "    location=(9.8, 2.4),\n",
        "    zoom_start=7,\n",
        "    tiles=image.getMapId(vis_params)[\"tile_fetcher\"].url_format,\n",
        "    attr='Map Data &copy; <a href=\"https://earthengine.google.com/\">Google Earth Engine</a>',\n",
        ")"
      ]
    },
    {
      "cell_type": "code",
      "execution_count": 7,
      "metadata": {
        "id": "7RnrYg2yZcdI",
        "outputId": "c83b17d9-b6a4-4e1c-cd63-7dfab0711744",
        "colab": {
          "base_uri": "https://localhost:8080/"
        }
      },
      "outputs": [
        {
          "output_type": "stream",
          "name": "stdout",
          "text": [
            "Number of bands:5\n",
            "Bands:\n",
            "R\tG\tB\tNIR\tNDVI\t"
          ]
        }
      ],
      "source": [
        "bands = image.bandNames().getInfo()\n",
        "print(f\"Number of bands:{len(bands)}\\nBands:\")\n",
        "for b in bands: print(f\"{b}\\t\", end='')"
      ]
    },
    {
      "cell_type": "markdown",
      "metadata": {
        "id": "wXT0jjZXA0Sl"
      },
      "source": [
        "# Define functions for sampling points\n",
        "\n",
        "The main functions: sample_points, get_patch, get_input_patch, get_label_patch, and get_training_example are all taken from the tutorial. For our data we have the classes \"in village\" and \"not in village\", and we perform stratified sampling in these villages. Based on our visualization at the end, this section appears to be working.\n",
        "\n",
        "** dd_NEW ** Again, import the data package to use the benin-specific functions."
      ]
    },
    {
      "cell_type": "code",
      "execution_count": 8,
      "metadata": {
        "colab": {
          "base_uri": "https://localhost:8080/"
        },
        "id": "yNYBZENYMh8T",
        "outputId": "5496df81-924d-4e6b-87a6-717163aafc3e"
      },
      "outputs": [
        {
          "output_type": "stream",
          "name": "stdout",
          "text": [
            "[2.474858607749282, 12.03293323078099]\n",
            "[1.899936825912788, 7.325761141994698]\n",
            "[2.241296633878206, 11.197500016549837]\n",
            "[2.5826564418436244, 6.948468722664499]\n"
          ]
        }
      ],
      "source": [
        "from benin import data\n",
        "\n",
        "for point in data.sample_points():\n",
        "  print(point)"
      ]
    },
    {
      "cell_type": "markdown",
      "metadata": {
        "id": "bN_QfiK2AoAY"
      },
      "source": [
        "To access the create_dataset script, we're going to enter the repo:"
      ]
    },
    {
      "cell_type": "code",
      "execution_count": 9,
      "metadata": {
        "colab": {
          "base_uri": "https://localhost:8080/"
        },
        "id": "hLq_GcBGTF5-",
        "outputId": "64b84b4d-f2f9-445c-9033-623e93206d5e"
      },
      "outputs": [
        {
          "output_type": "stream",
          "name": "stdout",
          "text": [
            "inputs : float64 (128, 128, 5)\n",
            "labels : float64 (128, 128, 1)\n"
          ]
        }
      ],
      "source": [
        "from create_dataset import get_training_example\n",
        "\n",
        "point = [1.9046529811544155, 6.937464360434035]\n",
        "target = data.get_labels_image(as_double=True)\n",
        "(inputs, labels) = get_training_example(point, patch_size = 128)\n",
        "print(f\"inputs : {inputs.dtype} {inputs.shape}\")\n",
        "print(f\"labels : {labels.dtype} {labels.shape}\")"
      ]
    },
    {
      "cell_type": "markdown",
      "metadata": {
        "id": "CpJRsn7haDD2"
      },
      "source": [
        "## Visualize a sampled patch"
      ]
    },
    {
      "cell_type": "markdown",
      "metadata": {
        "id": "zjp6BeOABJUG"
      },
      "source": [
        "We can visualize how our `sample_points` and `get_training_example` functions work using the `show_patch` function from our `visualize.py` module.\n",
        "\n",
        "The following code block shows how how `sample_points` generates two points inside and outside villages based on sampling params. RED is inside, BLUE is outside a village. Change the seed to get different sample points."
      ]
    },
    {
      "cell_type": "code",
      "execution_count": 10,
      "metadata": {
        "colab": {
          "base_uri": "https://localhost:8080/",
          "height": 1000
        },
        "id": "PUVCus-6Tfbt",
        "outputId": "512748e6-6326-4041-970d-e5ef971232e1"
      },
      "outputs": [
        {
          "output_type": "display_data",
          "data": {
            "text/plain": [
              "<Figure size 640x480 with 2 Axes>"
            ],
            "image/png": "[encoded data removed]"
          },
          "metadata": {}
        },
        {
          "output_type": "display_data",
          "data": {
            "text/plain": [
              "<Figure size 640x480 with 2 Axes>"
            ],
            "image/png": "[encoded data removed]"
          },
          "metadata": {}
        },
        {
          "output_type": "display_data",
          "data": {
            "text/plain": [
              "<Figure size 640x480 with 2 Axes>"
            ],
            "image/png": "[encoded data removed]"
          },
          "metadata": {}
        },
        {
          "output_type": "display_data",
          "data": {
            "text/plain": [
              "<Figure size 640x480 with 2 Axes>"
            ],
            "image/png": "[encoded data removed]"
          },
          "metadata": {}
        }
      ],
      "source": [
        "from create_dataset import get_training_example\n",
        "from visualize import show_patch\n",
        "\n",
        "SEED = 0\n",
        "\n",
        "# Print input and labels for sampling of 2 points per class\n",
        "# (two points )\n",
        "for point in data.sample_points(seed=SEED,points_per_class=2):\n",
        "  (inputs, labels) = get_training_example(point, patch_size = 128)\n",
        "  show_patch(inputs, labels)"
      ]
    },
    {
      "cell_type": "code",
      "execution_count": 11,
      "metadata": {
        "colab": {
          "base_uri": "https://localhost:8080/"
        },
        "id": "edRVq4MBXaqT",
        "outputId": "fcabed6b-d1c6-441f-faa9-b3c546826502"
      },
      "outputs": [
        {
          "output_type": "stream",
          "name": "stdout",
          "text": [
            "Image has dtype float64\n",
            "Labels has dtype float64\n"
          ]
        }
      ],
      "source": [
        "print(f'Image has dtype {inputs.dtype}')\n",
        "print(f'Labels has dtype {labels.dtype}')"
      ]
    },
    {
      "cell_type": "markdown",
      "metadata": {
        "id": "HTNIvTqnWWo0"
      },
      "source": [
        "# Create pipeline and do data export\n",
        "\n",
        "Next we use an Apache-Beam pipeline to create and upload the training examples through\n",
        "can create the NPZ files locally or through the distributed Dataflow runner."
      ]
    },
    {
      "cell_type": "markdown",
      "metadata": {
        "id": "P8tk45vuaGsj"
      },
      "source": [
        "## Define necessary functions for export"
      ]
    },
    {
      "cell_type": "code",
      "execution_count": 12,
      "metadata": {
        "id": "ncjRq_4yxih-"
      },
      "outputs": [],
      "source": [
        "PATCH_SIZE = 128\n",
        "MAX_REQUESTS = 20\n",
        "POINTS_PER_CLASS = 10 # small for testing purposes"
      ]
    },
    {
      "cell_type": "markdown",
      "metadata": {
        "id": "IkoNQYudaMUl"
      },
      "source": [
        "## Run the pipeline locally"
      ]
    },
    {
      "cell_type": "code",
      "execution_count": 13,
      "metadata": {
        "id": "jXAcF4PYQ-EW"
      },
      "outputs": [],
      "source": [
        "data_path = \"data/\""
      ]
    },
    {
      "cell_type": "code",
      "execution_count": 14,
      "metadata": {
        "id": "z340tTBWZGP-"
      },
      "outputs": [],
      "source": [
        "#!pip install --quiet apache-beam[interactive]"
      ]
    },
    {
      "cell_type": "code",
      "execution_count": 15,
      "metadata": {
        "id": "DqdA6WzV07jr",
        "outputId": "7bdb176f-2a00-4549-e5fb-7627cf164d9b",
        "colab": {
          "base_uri": "https://localhost:8080/",
          "height": 54
        }
      },
      "outputs": [
        {
          "output_type": "stream",
          "name": "stderr",
          "text": [
            "WARNING:apache_beam.runners.interactive.interactive_environment:Dependencies required for Interactive Beam PCollection visualization are not available, please use: `pip install apache-beam[interactive]` to install necessary dependencies to enable all data visualization features.\n"
          ]
        },
        {
          "output_type": "display_data",
          "data": {
            "application/javascript": [
              "\n",
              "        if (typeof window.interactive_beam_jquery == 'undefined') {\n",
              "          var jqueryScript = document.createElement('script');\n",
              "          jqueryScript.src = 'https://code.jquery.com/jquery-3.4.1.slim.min.js';\n",
              "          jqueryScript.type = 'text/javascript';\n",
              "          jqueryScript.onload = function() {\n",
              "            var datatableScript = document.createElement('script');\n",
              "            datatableScript.src = 'https://cdn.datatables.net/1.10.20/js/jquery.dataTables.min.js';\n",
              "            datatableScript.type = 'text/javascript';\n",
              "            datatableScript.onload = function() {\n",
              "              window.interactive_beam_jquery = jQuery.noConflict(true);\n",
              "              window.interactive_beam_jquery(document).ready(function($){\n",
              "                \n",
              "              });\n",
              "            }\n",
              "            document.head.appendChild(datatableScript);\n",
              "          };\n",
              "          document.head.appendChild(jqueryScript);\n",
              "        } else {\n",
              "          window.interactive_beam_jquery(document).ready(function($){\n",
              "            \n",
              "          });\n",
              "        }"
            ]
          },
          "metadata": {}
        }
      ],
      "source": [
        "import apache_beam as beam\n",
        "from apache_beam.options.pipeline_options import PipelineOptions\n",
        "from benin.data import sample_points\n",
        "from create_dataset import write_npz\n",
        "\n",
        "beam_options = PipelineOptions([], direct_num_workers=1)\n",
        "SEED = 0\n",
        "\n",
        "with beam.Pipeline(options=beam_options) as pipeline:\n",
        "  (\n",
        "      pipeline\n",
        "      | \"🌱 Make seeds\" >> beam.Create([0])\n",
        "      | \"📌 Sample points\" >> beam.FlatMap(sample_points, points_per_class=POINTS_PER_CLASS)\n",
        "      | \"🃏 Reshuffle\" >> beam.Reshuffle()\n",
        "      | \"🛰 Get examples\" >> beam.Map(get_training_example, patch_size=PATCH_SIZE)\n",
        "      | \"🗂️ Batch examples\" >> beam.BatchElements()\n",
        "      | \"📝 Write NPZ files\" >> beam.Map(write_npz, data_path)\n",
        "  )"
      ]
    },
    {
      "cell_type": "markdown",
      "metadata": {
        "id": "_MNuZ63vGvYx"
      },
      "source": [
        "View created files"
      ]
    },
    {
      "cell_type": "code",
      "execution_count": 16,
      "metadata": {
        "colab": {
          "base_uri": "https://localhost:8080/"
        },
        "id": "pSGMQwv5mdsJ",
        "outputId": "32b4bcc2-ba82-49cf-fa08-6df7a871151b"
      },
      "outputs": [
        {
          "output_type": "stream",
          "name": "stdout",
          "text": [
            "total 1.2M\n",
            "-rw-r--r-- 1 root root  56K Aug 22 09:21 0b73b451-15c1-4cf9-b0a1-53dcea7da35a.npz\n",
            "-rw-r--r-- 1 root root 118K Aug 22 09:20 1b0d5d84-0ba1-463e-8ae7-6244d1c92ea7.npz\n",
            "-rw-r--r-- 1 root root 107K Aug 22 09:18 2d963c64-8eeb-4573-8cd1-20e3f98d4736.npz\n",
            "-rw-r--r-- 1 root root  57K Aug 22 09:19 46473253-5353-4f81-814e-16b96058a9fb.npz\n",
            "-rw-r--r-- 1 root root  56K Aug 22 09:18 5817575b-f733-40bd-9e0b-44a2ab9d05f9.npz\n",
            "-rw-r--r-- 1 root root 116K Aug 22 09:21 5e8d1ce2-5831-46de-b6a5-2ec834434486.npz\n",
            "-rw-r--r-- 1 root root  54K Aug 22 09:17 65ae1cb7-66e4-4685-ae3e-7d01a3e144ac.npz\n",
            "-rw-r--r-- 1 root root  57K Aug 22 09:19 8fef817e-c2bc-4786-93d3-2b3470ac2a0b.npz\n",
            "-rw-r--r-- 1 root root 122K Aug 22 09:19 95d0dbcb-91c5-4230-b239-df18b68427e4.npz\n",
            "-rw-r--r-- 1 root root  57K Aug 22 09:17 9a3d79ee-b76e-42ad-bde1-8cbed4bd9d06.npz\n",
            "-rw-r--r-- 1 root root  57K Aug 22 09:20 ad7d3969-8c50-4952-b248-0075a6170dad.npz\n",
            "-rw-r--r-- 1 root root 114K Aug 22 09:21 b841a2f4-8351-4fb6-8256-064cf64ff1f9.npz\n",
            "-rw-r--r-- 1 root root 118K Aug 22 09:18 d9ed1f4e-7310-4ace-9ce9-d49f681849dc.npz\n",
            "-rw-r--r-- 1 root root  58K Aug 22 09:21 e78fa3bf-9735-4993-9b33-d11b3f9ad116.npz\n"
          ]
        }
      ],
      "source": [
        "!ls -lh data"
      ]
    },
    {
      "cell_type": "code",
      "execution_count": 17,
      "metadata": {
        "id": "Q9Nc7SgEUiD_"
      },
      "outputs": [],
      "source": [
        "%rm -r data/"
      ]
    },
    {
      "cell_type": "markdown",
      "metadata": {
        "id": "Gl7W7v-haPJO"
      },
      "source": [
        "## Use the Distributed runner"
      ]
    },
    {
      "cell_type": "markdown",
      "metadata": {
        "id": "-yiqpM-7HH46"
      },
      "source": [
        "To have a remote distributed runner complete the pipeline task, we created a script, `create_dataset.py` that will `run()` our pipeline based on arguments we can adjust. To do that, it needs acceess to the data package used, so we have to build it to give to Dataflow:"
      ]
    },
    {
      "cell_type": "code",
      "execution_count": 27,
      "metadata": {
        "colab": {
          "base_uri": "https://localhost:8080/"
        },
        "id": "yCsrYVXW4m2C",
        "outputId": "2b2c035d-33d0-4126-cd62-a273b7e9999d"
      },
      "outputs": [
        {
          "output_type": "stream",
          "name": "stdout",
          "text": [
            "\u001b[1m* Creating isolated environment: venv+pip...\u001b[0m\n",
            "\u001b[1m* Installing packages in isolated environment:\u001b[0m\n",
            "  - setuptools >= 40.8.0\n",
            "\u001b[1m* Getting build dependencies for sdist...\u001b[0m\n",
            "running egg_info\n",
            "writing benin_data.egg-info/PKG-INFO\n",
            "writing dependency_links to benin_data.egg-info/dependency_links.txt\n",
            "writing requirements to benin_data.egg-info/requires.txt\n",
            "writing top-level names to benin_data.egg-info/top_level.txt\n",
            "reading manifest file 'benin_data.egg-info/SOURCES.txt'\n",
            "writing manifest file 'benin_data.egg-info/SOURCES.txt'\n",
            "\u001b[1m* Building sdist...\u001b[0m\n",
            "running sdist\n",
            "running egg_info\n",
            "writing benin_data.egg-info/PKG-INFO\n",
            "writing dependency_links to benin_data.egg-info/dependency_links.txt\n",
            "writing requirements to benin_data.egg-info/requires.txt\n",
            "writing top-level names to benin_data.egg-info/top_level.txt\n",
            "reading manifest file 'benin_data.egg-info/SOURCES.txt'\n",
            "writing manifest file 'benin_data.egg-info/SOURCES.txt'\n",
            "warning: sdist: standard file not found: should have one of README, README.rst, README.txt, README.md\n",
            "\n",
            "running check\n",
            "creating benin_data-1.1.0\n",
            "creating benin_data-1.1.0/benin\n",
            "creating benin_data-1.1.0/benin_data.egg-info\n",
            "copying files to benin_data-1.1.0...\n",
            "copying pyproject.toml -> benin_data-1.1.0\n",
            "copying benin/__init__.py -> benin_data-1.1.0/benin\n",
            "copying benin/data.py -> benin_data-1.1.0/benin\n",
            "copying benin_data.egg-info/PKG-INFO -> benin_data-1.1.0/benin_data.egg-info\n",
            "copying benin_data.egg-info/SOURCES.txt -> benin_data-1.1.0/benin_data.egg-info\n",
            "copying benin_data.egg-info/dependency_links.txt -> benin_data-1.1.0/benin_data.egg-info\n",
            "copying benin_data.egg-info/requires.txt -> benin_data-1.1.0/benin_data.egg-info\n",
            "copying benin_data.egg-info/top_level.txt -> benin_data-1.1.0/benin_data.egg-info\n",
            "copying benin_data.egg-info/SOURCES.txt -> benin_data-1.1.0/benin_data.egg-info\n",
            "Writing benin_data-1.1.0/setup.cfg\n",
            "Creating tar archive\n",
            "removing 'benin_data-1.1.0' (and everything under it)\n",
            "\u001b[1m* Building wheel from sdist\u001b[0m\n",
            "\u001b[1m* Creating isolated environment: venv+pip...\u001b[0m\n",
            "\u001b[1m* Installing packages in isolated environment:\u001b[0m\n",
            "  - setuptools >= 40.8.0\n",
            "\u001b[1m* Getting build dependencies for wheel...\u001b[0m\n",
            "running egg_info\n",
            "writing benin_data.egg-info/PKG-INFO\n",
            "writing dependency_links to benin_data.egg-info/dependency_links.txt\n",
            "writing requirements to benin_data.egg-info/requires.txt\n",
            "writing top-level names to benin_data.egg-info/top_level.txt\n",
            "reading manifest file 'benin_data.egg-info/SOURCES.txt'\n",
            "writing manifest file 'benin_data.egg-info/SOURCES.txt'\n",
            "\u001b[1m* Building wheel...\u001b[0m\n",
            "running bdist_wheel\n",
            "running build\n",
            "running build_py\n",
            "creating build\n",
            "creating build/lib\n",
            "creating build/lib/benin\n",
            "copying benin/__init__.py -> build/lib/benin\n",
            "copying benin/data.py -> build/lib/benin\n",
            "running egg_info\n",
            "writing benin_data.egg-info/PKG-INFO\n",
            "writing dependency_links to benin_data.egg-info/dependency_links.txt\n",
            "writing requirements to benin_data.egg-info/requires.txt\n",
            "writing top-level names to benin_data.egg-info/top_level.txt\n",
            "reading manifest file 'benin_data.egg-info/SOURCES.txt'\n",
            "writing manifest file 'benin_data.egg-info/SOURCES.txt'\n",
            "installing to build/bdist.linux-x86_64/wheel\n",
            "running install\n",
            "running install_lib\n",
            "creating build/bdist.linux-x86_64\n",
            "creating build/bdist.linux-x86_64/wheel\n",
            "creating build/bdist.linux-x86_64/wheel/benin\n",
            "copying build/lib/benin/__init__.py -> build/bdist.linux-x86_64/wheel/./benin\n",
            "copying build/lib/benin/data.py -> build/bdist.linux-x86_64/wheel/./benin\n",
            "running install_egg_info\n",
            "Copying benin_data.egg-info to build/bdist.linux-x86_64/wheel/./benin_data-1.1.0-py3.10.egg-info\n",
            "running install_scripts\n",
            "creating build/bdist.linux-x86_64/wheel/benin_data-1.1.0.dist-info/WHEEL\n",
            "creating '/content/satellite_cnns/src/benin-data/dist/.tmp-6z8r5h50/benin_data-1.1.0-py3-none-any.whl' and adding 'build/bdist.linux-x86_64/wheel' to it\n",
            "adding 'benin/__init__.py'\n",
            "adding 'benin/data.py'\n",
            "adding 'benin_data-1.1.0.dist-info/METADATA'\n",
            "adding 'benin_data-1.1.0.dist-info/WHEEL'\n",
            "adding 'benin_data-1.1.0.dist-info/top_level.txt'\n",
            "adding 'benin_data-1.1.0.dist-info/RECORD'\n",
            "removing build/bdist.linux-x86_64/wheel\n",
            "\u001b[1m\u001b[92mSuccessfully built \u001b[4mbenin_data-1.1.0.tar.gz\u001b[0m\u001b[1m\u001b[92m and \u001b[4mbenin_data-1.1.0-py3-none-any.whl\u001b[0m\u001b[1m\u001b[92m\u001b[0m\n"
          ]
        }
      ],
      "source": [
        "# build benin data package to send to distributed runner\n",
        "!python -m build src/benin-data"
      ]
    },
    {
      "cell_type": "markdown",
      "metadata": {
        "id": "CQBIrX_xDPBz"
      },
      "source": [
        "See the benin-data package"
      ]
    },
    {
      "cell_type": "code",
      "execution_count": 28,
      "metadata": {
        "colab": {
          "base_uri": "https://localhost:8080/"
        },
        "id": "8YWHge3v5DCO",
        "outputId": "79e7327d-f542-497b-e2e3-c598d3fec54f"
      },
      "outputs": [
        {
          "output_type": "stream",
          "name": "stdout",
          "text": [
            "total 16K\n",
            "-rw-r--r-- 1 root root 4.8K Aug 22 09:29 benin_data-1.1.0-py3-none-any.whl\n",
            "-rw-r--r-- 1 root root 4.4K Aug 22 09:29 benin_data-1.1.0.tar.gz\n"
          ]
        }
      ],
      "source": [
        "!ls -lh src/benin-data/dist"
      ]
    },
    {
      "cell_type": "markdown",
      "metadata": {
        "id": "y4ZnbZM2Hf29"
      },
      "source": [
        "Define the GC data path for the exported files:"
      ]
    },
    {
      "cell_type": "code",
      "execution_count": 29,
      "metadata": {
        "colab": {
          "base_uri": "https://localhost:8080/"
        },
        "id": "2eW4DZ4rpHrr",
        "outputId": "11568655-ec36-4b50-cfdb-a5912dc1cb11"
      },
      "outputs": [
        {
          "output_type": "stream",
          "name": "stdout",
          "text": [
            "gs://benin-bucket1/dd_test\n"
          ]
        }
      ],
      "source": [
        "folder = 'dd_test'\n",
        "data_path=f\"gs://{bucket}/{folder}\"\n",
        "print(f'{data_path}')"
      ]
    },
    {
      "cell_type": "markdown",
      "metadata": {
        "id": "b4meAxo9HqJK"
      },
      "source": [
        "Run the distributed runner (Dataflow):"
      ]
    },
    {
      "cell_type": "code",
      "execution_count": 30,
      "metadata": {
        "colab": {
          "base_uri": "https://localhost:8080/"
        },
        "id": "n-jc-FI34hLb",
        "outputId": "11a2f46e-2527-4392-899c-524b54bab91e"
      },
      "outputs": [
        {
          "output_type": "stream",
          "name": "stdout",
          "text": [
            "INFO:google.auth.compute_engine._metadata:Compute Engine Metadata server call to universe/universe_domain returned 404, reason: \n",
            "WARNING:apache_beam.options.pipeline_options:Discarding unparseable args: ['--data-path=gs://benin-bucket1/dd_test/data', '--ppc=10', '--num-workers=5']\n",
            "WARNING:apache_beam.options.pipeline_options:Discarding unparseable args: ['--data-path=gs://benin-bucket1/dd_test/data', '--ppc=10', '--num-workers=5']\n",
            "WARNING:apache_beam.options.pipeline_options:Bucket specified in temp_location has soft-delete policy enabled. To avoid being billed for unnecessary storage costs, turn off the soft delete feature on buckets that your Dataflow jobs use for temporary and staging storage. For more information, see https://cloud.google.com/storage/docs/use-soft-delete#remove-soft-delete-policy.\n",
            "INFO:apache_beam.typehints.native_type_compatibility:Converting string literal type hint to Any: \"tuple\"\n",
            "INFO:apache_beam.typehints.native_type_compatibility:Converting string literal type hint to Any: \"list[tuple[np.ndarray, np.ndarray]]\"\n",
            "INFO:apache_beam.typehints.native_type_compatibility:Converting string literal type hint to Any: \"str\"\n",
            "INFO:apache_beam.typehints.native_type_compatibility:Converting string literal type hint to Any: \"str\"\n",
            "WARNING:apache_beam.options.pipeline_options:Discarding unparseable args: ['--data-path=gs://benin-bucket1/dd_test/data', '--ppc=10', '--num-workers=5']\n",
            "WARNING:apache_beam.options.pipeline_options:Discarding unparseable args: ['--data-path=gs://benin-bucket1/dd_test/data', '--ppc=10', '--num-workers=5']\n",
            "WARNING:apache_beam.options.pipeline_options:Bucket specified in temp_location has soft-delete policy enabled. To avoid being billed for unnecessary storage costs, turn off the soft delete feature on buckets that your Dataflow jobs use for temporary and staging storage. For more information, see https://cloud.google.com/storage/docs/use-soft-delete#remove-soft-delete-policy.\n",
            "WARNING:apache_beam.options.pipeline_options:Discarding unparseable args: ['--data-path=gs://benin-bucket1/dd_test/data', '--ppc=10', '--num-workers=5']\n",
            "WARNING:apache_beam.options.pipeline_options:Discarding unparseable args: ['--data-path=gs://benin-bucket1/dd_test/data', '--ppc=10', '--num-workers=5']\n",
            "WARNING:apache_beam.options.pipeline_options:Bucket specified in staging_location has soft-delete policy enabled. To avoid being billed for unnecessary storage costs, turn off the soft delete feature on buckets that your Dataflow jobs use for temporary and staging storage. For more information, see https://cloud.google.com/storage/docs/use-soft-delete#remove-soft-delete-policy.\n",
            "INFO:apache_beam.runners.dataflow.dataflow_runner:Pipeline has additional dependencies to be installed in SDK worker container, consider using the SDK container image pre-building workflow to avoid repetitive installations. Learn more on https://cloud.google.com/dataflow/docs/guides/using-custom-containers#prebuild\n",
            "INFO:root:Using provided Python SDK container image: gcr.io/cloud-dataflow/v1beta3/beam_python3.10_sdk:2.58.1\n",
            "INFO:root:Python SDK container image set to \"gcr.io/cloud-dataflow/v1beta3/beam_python3.10_sdk:2.58.1\" for Docker environment\n",
            "INFO:apache_beam.runners.dataflow.internal.apiclient:Starting GCS upload to gs://benin-bucket1/dd_test/temp/beamapp-root-0822092925-194768-4l5yhbzf.1724318965.195056/extra_packages.txt...\n",
            "INFO:apache_beam.runners.dataflow.internal.apiclient:Completed GCS upload to gs://benin-bucket1/dd_test/temp/beamapp-root-0822092925-194768-4l5yhbzf.1724318965.195056/extra_packages.txt in 0 seconds.\n",
            "INFO:apache_beam.runners.dataflow.internal.apiclient:Starting GCS upload to gs://benin-bucket1/dd_test/temp/beamapp-root-0822092925-194768-4l5yhbzf.1724318965.195056/pickled_main_session...\n",
            "INFO:apache_beam.runners.dataflow.internal.apiclient:Completed GCS upload to gs://benin-bucket1/dd_test/temp/beamapp-root-0822092925-194768-4l5yhbzf.1724318965.195056/pickled_main_session in 0 seconds.\n",
            "INFO:apache_beam.runners.dataflow.internal.apiclient:Starting GCS upload to gs://benin-bucket1/dd_test/temp/beamapp-root-0822092925-194768-4l5yhbzf.1724318965.195056/benin_data-1.1.0.tar.gz...\n",
            "INFO:apache_beam.runners.dataflow.internal.apiclient:Completed GCS upload to gs://benin-bucket1/dd_test/temp/beamapp-root-0822092925-194768-4l5yhbzf.1724318965.195056/benin_data-1.1.0.tar.gz in 0 seconds.\n",
            "INFO:apache_beam.runners.dataflow.internal.apiclient:Starting GCS upload to gs://benin-bucket1/dd_test/temp/beamapp-root-0822092925-194768-4l5yhbzf.1724318965.195056/submission_environment_dependencies.txt...\n",
            "INFO:apache_beam.runners.dataflow.internal.apiclient:Completed GCS upload to gs://benin-bucket1/dd_test/temp/beamapp-root-0822092925-194768-4l5yhbzf.1724318965.195056/submission_environment_dependencies.txt in 0 seconds.\n",
            "INFO:apache_beam.runners.dataflow.internal.apiclient:Starting GCS upload to gs://benin-bucket1/dd_test/temp/beamapp-root-0822092925-194768-4l5yhbzf.1724318965.195056/pipeline.pb...\n",
            "INFO:apache_beam.runners.dataflow.internal.apiclient:Completed GCS upload to gs://benin-bucket1/dd_test/temp/beamapp-root-0822092925-194768-4l5yhbzf.1724318965.195056/pipeline.pb in 0 seconds.\n",
            "WARNING:apache_beam.options.pipeline_options:Unknown pipeline options received: --num-workers=5. Ignore if flags are used for internal purposes.\n",
            "WARNING:apache_beam.options.pipeline_options:Unknown pipeline options received: --num-workers=5. Ignore if flags are used for internal purposes.\n",
            "INFO:apache_beam.runners.dataflow.internal.apiclient:Create job: <Job\n",
            " clientRequestId: '20240822092925196434-3824'\n",
            " createTime: '2024-08-22T09:29:28.122510Z'\n",
            " currentStateTime: '1970-01-01T00:00:00Z'\n",
            " id: '2024-08-22_02_29_27-10316274346879003513'\n",
            " location: 'us-central1'\n",
            " name: 'beamapp-root-0822092925-194768-4l5yhbzf'\n",
            " projectId: 'satellite-cnns'\n",
            " stageStates: []\n",
            " startTime: '2024-08-22T09:29:28.122510Z'\n",
            " steps: []\n",
            " tempFiles: []\n",
            " type: TypeValueValuesEnum(JOB_TYPE_BATCH, 1)>\n",
            "INFO:apache_beam.runners.dataflow.internal.apiclient:Created job with id: [2024-08-22_02_29_27-10316274346879003513]\n",
            "INFO:apache_beam.runners.dataflow.internal.apiclient:Submitted job: 2024-08-22_02_29_27-10316274346879003513\n",
            "INFO:apache_beam.runners.dataflow.internal.apiclient:To access the Dataflow monitoring console, please navigate to https://console.cloud.google.com/dataflow/jobs/us-central1/2024-08-22_02_29_27-10316274346879003513?project=satellite-cnns\n",
            "INFO:apache_beam.runners.dataflow.dataflow_runner:Job 2024-08-22_02_29_27-10316274346879003513 is in state JOB_STATE_PENDING\n",
            "ERROR:apache_beam.runners.dataflow.dataflow_runner:2024-08-22T09:29:28.745Z: JOB_MESSAGE_ERROR: Unable to open file: gs://benin-bucket1/dd_test/temp/beamapp-root-0822092925-194768-4l5yhbzf.1724318965.195056/pipeline.pb.\n",
            "INFO:apache_beam.runners.dataflow.dataflow_runner:Job 2024-08-22_02_29_27-10316274346879003513 is in state JOB_STATE_FAILED\n",
            "ERROR:apache_beam.runners.dataflow.dataflow_runner:Console URL: https://console.cloud.google.com/dataflow/jobs/<RegionId>/2024-08-22_02_29_27-10316274346879003513?project=<ProjectId>\n",
            "Traceback (most recent call last):\n",
            "  File \"/content/satellite_cnns/create_dataset.py\", line 150, in <module>\n",
            "    main()\n",
            "  File \"/content/satellite_cnns/create_dataset.py\", line 139, in main\n",
            "    run(\n",
            "  File \"/content/satellite_cnns/create_dataset.py\", line 89, in run\n",
            "    with beam.Pipeline(options=beam_options) as pipeline:\n",
            "  File \"/usr/local/lib/python3.10/dist-packages/apache_beam/pipeline.py\", line 614, in __exit__\n",
            "    self.result.wait_until_finish()\n",
            "  File \"/usr/local/lib/python3.10/dist-packages/apache_beam/runners/dataflow/dataflow_runner.py\", line 807, in wait_until_finish\n",
            "    raise DataflowRuntimeException(\n",
            "apache_beam.runners.dataflow.dataflow_runner.DataflowRuntimeException: Dataflow pipeline failed. State: FAILED, Error:\n",
            "Unable to open file: gs://benin-bucket1/dd_test/temp/beamapp-root-0822092925-194768-4l5yhbzf.1724318965.195056/pipeline.pb.\n"
          ]
        }
      ],
      "source": [
        "!python create_dataset.py \\\n",
        "  --data-path=\"{data_path}/data\" \\\n",
        "  --ppc=\"{POINTS_PER_CLASS}\" \\\n",
        "  --runner=\"DataflowRunner\" \\\n",
        "  --num-workers=\"5\"\\\n",
        "  --project=\"{project}\" \\\n",
        "  --region=\"{location}\" \\\n",
        "  --temp_location=\"{data_path}/temp\" \\\n",
        "  --extra_package=\"./src/benin-data/dist/benin_data-1.1.0.tar.gz\" \\\n",
        "  --network=\"default\""
      ]
    },
    {
      "cell_type": "code",
      "execution_count": 22,
      "metadata": {
        "colab": {
          "base_uri": "https://localhost:8080/"
        },
        "id": "ShovjCGJ8ZBZ",
        "outputId": "2d75c83f-ac5e-4640-c9b4-72bc40c2cecb"
      },
      "outputs": [
        {
          "output_type": "stream",
          "name": "stdout",
          "text": [
            "112.32 KiB  2024-07-25T20:29:04Z  gs://beninbucket/dd_test/data/02e34c34-9859-4b24-a59d-538bc0d23c10.npz\n",
            "212.06 KiB  2024-08-22T08:12:37Z  gs://beninbucket/dd_test/data/22ebaffb-fa33-4065-aed0-eb8b73d2d39b.npz\n",
            " 59.75 KiB  2024-08-22T08:13:49Z  gs://beninbucket/dd_test/data/2493fc58-282b-413c-97b8-0e522cb5964b.npz\n",
            "111.94 KiB  2024-07-25T20:32:25Z  gs://beninbucket/dd_test/data/283b1cb7-decd-4de7-b8ec-9133fdec8407.npz\n",
            "118.75 KiB  2024-08-22T08:11:39Z  gs://beninbucket/dd_test/data/403bdc6b-6bbd-4365-87c3-947dc247d23b.npz\n",
            " 56.27 KiB  2024-07-25T20:33:15Z  gs://beninbucket/dd_test/data/41f9732c-5e75-46fe-a11b-2784df7e3505.npz\n",
            " 55.09 KiB  2024-07-25T20:31:55Z  gs://beninbucket/dd_test/data/4aa32140-8951-4de9-908f-8b5570c81114.npz\n",
            " 56.24 KiB  2024-08-22T08:14:13Z  gs://beninbucket/dd_test/data/54ae62ae-692d-4cab-a12a-3a5605e93587.npz\n",
            " 55.31 KiB  2024-08-22T08:14:50Z  gs://beninbucket/dd_test/data/5d9e4bb5-71ee-40c6-a8ec-a3e89bcc63f3.npz\n",
            "337.46 KiB  2024-07-25T20:31:33Z  gs://beninbucket/dd_test/data/5da3d4de-1161-4239-b747-aa1216632d35.npz\n",
            " 61.17 KiB  2024-07-25T20:33:02Z  gs://beninbucket/dd_test/data/75b4b0b5-3ba7-40d1-9ffc-06eb819f574a.npz\n",
            " 53.45 KiB  2024-08-22T08:14:31Z  gs://beninbucket/dd_test/data/81795b34-8e45-49be-bb0f-b271ea998d0b.npz\n",
            " 58.95 KiB  2024-07-25T20:32:45Z  gs://beninbucket/dd_test/data/9258d1ac-ccfa-47cd-b26f-1d4065af8b82.npz\n",
            " 233.1 KiB  2024-08-22T08:13:35Z  gs://beninbucket/dd_test/data/9b2d35fe-631e-4c0c-99de-1158ed85b55a.npz\n",
            " 56.81 KiB  2024-08-22T08:10:58Z  gs://beninbucket/dd_test/data/a1a7b431-7e5f-497b-a351-5845b7f20aea.npz\n",
            " 56.22 KiB  2024-08-22T08:15:19Z  gs://beninbucket/dd_test/data/a6f67944-f1b7-43a5-95f1-b1ef8a92ad12.npz\n",
            " 60.96 KiB  2024-08-22T08:16:00Z  gs://beninbucket/dd_test/data/a7d228fe-5c2e-428d-80e2-b073bde17814.npz\n",
            " 47.21 KiB  2024-07-25T20:33:33Z  gs://beninbucket/dd_test/data/b23cabad-c99a-4797-8785-27f0b646f4d4.npz\n",
            " 56.27 KiB  2024-08-22T08:15:05Z  gs://beninbucket/dd_test/data/c4aaddda-e9d9-47b8-9de9-45e4c981bd1a.npz\n",
            " 61.17 KiB  2024-08-22T08:15:39Z  gs://beninbucket/dd_test/data/dd29d54f-e0d5-458e-b35a-0bb23a2de7c8.npz\n",
            " 60.96 KiB  2024-07-25T20:28:25Z  gs://beninbucket/dd_test/data/edb8fa3e-1456-403a-9041-df84b2309756.npz\n",
            " 56.81 KiB  2024-07-25T20:28:04Z  gs://beninbucket/dd_test/data/ee48a7c6-fe1d-48e6-a354-182b4d0bf275.npz\n",
            "  57.9 KiB  2024-08-22T08:10:43Z  gs://beninbucket/dd_test/data/f281bd7f-9823-48d4-9388-797c86bee51c.npz\n",
            "178.15 KiB  2024-07-25T20:29:39Z  gs://beninbucket/dd_test/data/fefa31e8-1848-4f7e-95d5-dfdd94adc99b.npz\n",
            "TOTAL: 24 objects, 2328905 bytes (2.22 MiB)\n"
          ]
        }
      ],
      "source": [
        "!gsutil ls -lh {data_path}/data"
      ]
    },
    {
      "cell_type": "markdown",
      "metadata": {
        "id": "fuHHM5pXQ_DJ"
      },
      "source": [
        "# Read data\n"
      ]
    },
    {
      "cell_type": "markdown",
      "metadata": {
        "id": "-q-e2eD7hHXT"
      },
      "source": [
        "Let's check Google Cloud Storage to see the files in GC"
      ]
    },
    {
      "cell_type": "code",
      "execution_count": 32,
      "metadata": {
        "colab": {
          "base_uri": "https://localhost:8080/"
        },
        "id": "Wfw7_T1UhSoC",
        "outputId": "09a39fbc-58d9-4245-d9e7-c747d1748c80"
      },
      "outputs": [
        {
          "output_type": "stream",
          "name": "stdout",
          "text": [
            "gs://beninbucket/dd_test/data\n",
            "112.32 KiB  2024-07-25T20:29:04Z  gs://beninbucket/dd_test/data/02e34c34-9859-4b24-a59d-538bc0d23c10.npz\n",
            "212.06 KiB  2024-08-22T08:12:37Z  gs://beninbucket/dd_test/data/22ebaffb-fa33-4065-aed0-eb8b73d2d39b.npz\n",
            " 59.75 KiB  2024-08-22T08:13:49Z  gs://beninbucket/dd_test/data/2493fc58-282b-413c-97b8-0e522cb5964b.npz\n",
            "111.94 KiB  2024-07-25T20:32:25Z  gs://beninbucket/dd_test/data/283b1cb7-decd-4de7-b8ec-9133fdec8407.npz\n",
            "118.75 KiB  2024-08-22T08:11:39Z  gs://beninbucket/dd_test/data/403bdc6b-6bbd-4365-87c3-947dc247d23b.npz\n",
            " 56.27 KiB  2024-07-25T20:33:15Z  gs://beninbucket/dd_test/data/41f9732c-5e75-46fe-a11b-2784df7e3505.npz\n",
            " 55.09 KiB  2024-07-25T20:31:55Z  gs://beninbucket/dd_test/data/4aa32140-8951-4de9-908f-8b5570c81114.npz\n",
            " 56.24 KiB  2024-08-22T08:14:13Z  gs://beninbucket/dd_test/data/54ae62ae-692d-4cab-a12a-3a5605e93587.npz\n",
            " 55.31 KiB  2024-08-22T08:14:50Z  gs://beninbucket/dd_test/data/5d9e4bb5-71ee-40c6-a8ec-a3e89bcc63f3.npz\n",
            "337.46 KiB  2024-07-25T20:31:33Z  gs://beninbucket/dd_test/data/5da3d4de-1161-4239-b747-aa1216632d35.npz\n",
            " 61.17 KiB  2024-07-25T20:33:02Z  gs://beninbucket/dd_test/data/75b4b0b5-3ba7-40d1-9ffc-06eb819f574a.npz\n",
            " 53.45 KiB  2024-08-22T08:14:31Z  gs://beninbucket/dd_test/data/81795b34-8e45-49be-bb0f-b271ea998d0b.npz\n",
            " 58.95 KiB  2024-07-25T20:32:45Z  gs://beninbucket/dd_test/data/9258d1ac-ccfa-47cd-b26f-1d4065af8b82.npz\n",
            " 233.1 KiB  2024-08-22T08:13:35Z  gs://beninbucket/dd_test/data/9b2d35fe-631e-4c0c-99de-1158ed85b55a.npz\n",
            " 56.81 KiB  2024-08-22T08:10:58Z  gs://beninbucket/dd_test/data/a1a7b431-7e5f-497b-a351-5845b7f20aea.npz\n",
            " 56.22 KiB  2024-08-22T08:15:19Z  gs://beninbucket/dd_test/data/a6f67944-f1b7-43a5-95f1-b1ef8a92ad12.npz\n",
            " 60.96 KiB  2024-08-22T08:16:00Z  gs://beninbucket/dd_test/data/a7d228fe-5c2e-428d-80e2-b073bde17814.npz\n",
            " 47.21 KiB  2024-07-25T20:33:33Z  gs://beninbucket/dd_test/data/b23cabad-c99a-4797-8785-27f0b646f4d4.npz\n",
            " 56.27 KiB  2024-08-22T08:15:05Z  gs://beninbucket/dd_test/data/c4aaddda-e9d9-47b8-9de9-45e4c981bd1a.npz\n",
            " 61.17 KiB  2024-08-22T08:15:39Z  gs://beninbucket/dd_test/data/dd29d54f-e0d5-458e-b35a-0bb23a2de7c8.npz\n",
            " 60.96 KiB  2024-07-25T20:28:25Z  gs://beninbucket/dd_test/data/edb8fa3e-1456-403a-9041-df84b2309756.npz\n",
            " 56.81 KiB  2024-07-25T20:28:04Z  gs://beninbucket/dd_test/data/ee48a7c6-fe1d-48e6-a354-182b4d0bf275.npz\n",
            "  57.9 KiB  2024-08-22T08:10:43Z  gs://beninbucket/dd_test/data/f281bd7f-9823-48d4-9388-797c86bee51c.npz\n",
            "178.15 KiB  2024-07-25T20:29:39Z  gs://beninbucket/dd_test/data/fefa31e8-1848-4f7e-95d5-dfdd94adc99b.npz\n",
            "TOTAL: 24 objects, 2328905 bytes (2.22 MiB)\n"
          ]
        }
      ],
      "source": [
        "bucket = 'beninbucket'\n",
        "folder = 'dd_test'\n",
        "data_path=f\"gs://{bucket}/{folder}/data\"\n",
        "print(data_path)\n",
        "!gsutil ls -lh {data_path}"
      ]
    },
    {
      "cell_type": "markdown",
      "metadata": {
        "id": "HpV-2AohhZeb"
      },
      "source": [
        "Next, let's copy the files to a local directory to look at them"
      ]
    },
    {
      "cell_type": "code",
      "execution_count": 24,
      "metadata": {
        "colab": {
          "base_uri": "https://localhost:8080/"
        },
        "id": "blD6bUqtYfH3",
        "outputId": "f3058812-6909-4454-b889-73844eae50df"
      },
      "outputs": [
        {
          "output_type": "stream",
          "name": "stdout",
          "text": [
            "Copying gs://benin-bucket1/dd_test/data/05c97fa8-9c14-4eef-ab6b-0e75c29f257c.npz...\n",
            "Copying gs://benin-bucket1/dd_test/data/0505d488-608c-4b5a-86d6-fef5a9e8da4c.npz...\n",
            "/ [0/57 files][    0.0 B/  2.1 MiB]   0% Done                                   \r/ [0/57 files][    0.0 B/  2.1 MiB]   0% Done                                   \rCopying gs://benin-bucket1/dd_test/data/0ae3738f-54b5-4f0c-a8ac-330ffd87a1d5.npz...\n",
            "Copying gs://benin-bucket1/dd_test/data/1e59ccb5-2600-4a2a-b92a-61ec85aa2810.npz...\n",
            "/ [0/57 files][    0.0 B/  2.1 MiB]   0% Done                                   \rCopying gs://benin-bucket1/dd_test/data/0ed5cad9-3d7a-4e9f-aa9b-b193ff40ff02.npz...\n",
            "/ [0/57 files][    0.0 B/  2.1 MiB]   0% Done                                   \r/ [0/57 files][    0.0 B/  2.1 MiB]   0% Done                                   \rCopying gs://benin-bucket1/dd_test/data/1840402b-067e-4541-a722-a13d46f8413d.npz...\n",
            "Copying gs://benin-bucket1/dd_test/data/22646593-bcfe-44a6-8b63-4d045f0bf26e.npz...\n",
            "/ [0/57 files][    0.0 B/  2.1 MiB]   0% Done                                   \rCopying gs://benin-bucket1/dd_test/data/1f27aca0-845d-4ed5-994a-a764f0631c36.npz...\n",
            "/ [0/57 files][    0.0 B/  2.1 MiB]   0% Done                                   \r/ [0/57 files][    0.0 B/  2.1 MiB]   0% Done                                   \rCopying gs://benin-bucket1/dd_test/data/207ed774-9eed-46f6-adc5-d1cb7a558d28.npz...\n",
            "Copying gs://benin-bucket1/dd_test/data/2679089e-bde0-4fbc-b79c-f0c936caeed6.npz...\n",
            "Copying gs://benin-bucket1/dd_test/data/3965de64-c362-49b0-8996-54e1958d305d.npz...\n",
            "Copying gs://benin-bucket1/dd_test/data/3d6b2ac5-e789-47b0-bd55-e78ace9e5888.npz...\n",
            "Copying gs://benin-bucket1/dd_test/data/470bca28-d263-4e6a-95d8-b407ff0ae546.npz...\n",
            "Copying gs://benin-bucket1/dd_test/data/55437966-f891-4d2d-933a-be065fcb310b.npz...\n",
            "Copying gs://benin-bucket1/dd_test/data/5cbd8e52-49f4-4cff-82cc-e672f2e0f6db.npz...\n",
            "Copying gs://benin-bucket1/dd_test/data/5efe47c4-efce-4fdf-b61c-94b1f85764e0.npz...\n",
            "Copying gs://benin-bucket1/dd_test/data/5f632e29-93c1-4a1b-b469-522c9b5270fe.npz...\n",
            "Copying gs://benin-bucket1/dd_test/data/602527dc-130b-4168-944e-a3abe81d0a2b.npz...\n",
            "Copying gs://benin-bucket1/dd_test/data/646686df-8dd1-4f65-baa9-2080c9af7756.npz...\n",
            "Copying gs://benin-bucket1/dd_test/data/6c65df32-1951-4edb-ae7d-668ab7170ead.npz...\n",
            "Copying gs://benin-bucket1/dd_test/data/71850ff3-7003-4afd-8929-fb3813c63883.npz...\n",
            "Copying gs://benin-bucket1/dd_test/data/79d1da13-b8c6-4aea-bc25-2c80eed433ae.npz...\n",
            "Copying gs://benin-bucket1/dd_test/data/7a81679b-96bb-4ef4-801e-43dc6e8bdff2.npz...\n",
            "Copying gs://benin-bucket1/dd_test/data/8112185a-45f0-4125-a7ec-8c2f81794f46.npz...\n",
            "Copying gs://benin-bucket1/dd_test/data/8202d31e-be0f-4005-ba28-431ab7700c79.npz...\n",
            "Copying gs://benin-bucket1/dd_test/data/82cd9e58-cbec-48eb-865f-5bae143d6ed3.npz...\n",
            "Copying gs://benin-bucket1/dd_test/data/84711283-47f2-452d-be18-45b67fb994fd.npz...\n",
            "Copying gs://benin-bucket1/dd_test/data/87cc9f57-c2c7-4840-be22-948c65d3dae4.npz...\n",
            "Copying gs://benin-bucket1/dd_test/data/8997bba9-433e-4c1e-9273-1f35b25e2c17.npz...\n",
            "Copying gs://benin-bucket1/dd_test/data/8e3e1c32-abaf-473e-bdff-ec89a5266a8d.npz...\n",
            "Copying gs://benin-bucket1/dd_test/data/8f1dd6c4-8317-47ad-a3f4-e04d0c1137ce.npz...\n",
            "Copying gs://benin-bucket1/dd_test/data/961ac405-d59f-4c66-966e-aa97dfaf0ecd.npz...\n",
            "Copying gs://benin-bucket1/dd_test/data/9737e5bb-8327-45c6-9b15-7cf3f62dc5ef.npz...\n",
            "Copying gs://benin-bucket1/dd_test/data/97808bd8-a823-4224-8c4a-67b36ad428d4.npz...\n",
            "Copying gs://benin-bucket1/dd_test/data/980a3552-cec7-496d-9e7f-faa7680c87e1.npz...\n",
            "Copying gs://benin-bucket1/dd_test/data/9a5e9bf1-9c16-4844-9bf4-f1875d4eea67.npz...\n",
            "Copying gs://benin-bucket1/dd_test/data/9af75c65-cf31-434b-9cfc-bd0860512b5a.npz...\n",
            "Copying gs://benin-bucket1/dd_test/data/a1c787fa-596e-4bef-b5d5-4509444df8d8.npz...\n",
            "Copying gs://benin-bucket1/dd_test/data/a42c130d-d50a-44e6-aa29-41fe7848026c.npz...\n",
            "Copying gs://benin-bucket1/dd_test/data/a609de7c-d4be-4f0f-8492-cd9a068a82f2.npz...\n",
            "Copying gs://benin-bucket1/dd_test/data/a62770a6-63ff-461a-973e-fb0e19ff4d57.npz...\n",
            "Copying gs://benin-bucket1/dd_test/data/ae2ee275-859e-48e6-89c5-19b93e192f92.npz...\n",
            "Copying gs://benin-bucket1/dd_test/data/b25c2045-1d0d-41ae-ae42-883fbfcabead.npz...\n",
            "Copying gs://benin-bucket1/dd_test/data/bd2ba77e-6306-4c50-93fc-1b2108fc3c77.npz...\n",
            "Copying gs://benin-bucket1/dd_test/data/bf9c04a8-fa86-4fca-92ad-5e16fd0dae23.npz...\n",
            "Copying gs://benin-bucket1/dd_test/data/cb34ae20-c5cc-4628-b651-c000576ddbbe.npz...\n",
            "Copying gs://benin-bucket1/dd_test/data/cd59ffe7-5583-4541-b224-7160e555e22a.npz...\n",
            "Copying gs://benin-bucket1/dd_test/data/cede8ecc-3889-49e0-a39c-6edff0b74430.npz...\n",
            "Copying gs://benin-bucket1/dd_test/data/d169132c-0edc-47ec-b400-673aeb9059b6.npz...\n",
            "Copying gs://benin-bucket1/dd_test/data/d3f4ac9c-d633-49bd-bc6b-60a73f60fcad.npz...\n",
            "Copying gs://benin-bucket1/dd_test/data/ef61302f-aef5-4d4b-95dc-9de13904944e.npz...\n",
            "Copying gs://benin-bucket1/dd_test/data/f518cf88-062a-44cd-aea6-f01641b9c737.npz...\n",
            "Copying gs://benin-bucket1/dd_test/data/f74933e1-2323-49aa-b4e2-fb6805aae8f5.npz...\n",
            "Copying gs://benin-bucket1/dd_test/data/f7d1376c-1969-4de7-b943-e0ea3f2e7583.npz...\n",
            "Copying gs://benin-bucket1/dd_test/data/fa0180d3-d2cb-4593-826c-9a8b9c9ebb2f.npz...\n",
            "Copying gs://benin-bucket1/dd_test/data/f910f83c-0686-4f54-af8a-31851dedce95.npz...\n",
            "Copying gs://benin-bucket1/dd_test/data/faebaebf-5c23-4f57-bd8c-33e4ad5e37dd.npz...\n",
            "- [57/57 files][  2.1 MiB/  2.1 MiB] 100% Done                                  \n",
            "Operation completed over 57 objects/2.1 MiB.                                     \n"
          ]
        }
      ],
      "source": [
        "!mkdir -p data-training\n",
        "!gsutil -m cp {data_path}/* data-training"
      ]
    },
    {
      "cell_type": "code",
      "execution_count": 25,
      "metadata": {
        "id": "LmkHlD-vJ58d"
      },
      "outputs": [],
      "source": [
        "# Use this to wipe the folder if needed\n",
        "#%rm -r data-training"
      ]
    },
    {
      "cell_type": "markdown",
      "metadata": {
        "id": "2rwTshMtruzG"
      },
      "source": [
        "# Look at dataset"
      ]
    },
    {
      "cell_type": "code",
      "execution_count": 26,
      "metadata": {
        "id": "1Tdv1we6qeBI",
        "outputId": "b7ef24cd-27e2-4b10-c8ce-27c0eb32739c",
        "colab": {
          "base_uri": "https://localhost:8080/",
          "height": 489
        }
      },
      "outputs": [
        {
          "output_type": "error",
          "ename": "ImportError",
          "evalue": "cannot import name '_accumulate' from 'torch._utils' (/usr/local/lib/python3.10/dist-packages/torch/_utils.py)",
          "traceback": [
            "\u001b[0;31m---------------------------------------------------------------------------\u001b[0m",
            "\u001b[0;31mImportError\u001b[0m                               Traceback (most recent call last)",
            "\u001b[0;32m<ipython-input-26-ee2714036cb7>\u001b[0m in \u001b[0;36m<cell line: 2>\u001b[0;34m()\u001b[0m\n\u001b[1;32m      1\u001b[0m \u001b[0;32mimport\u001b[0m \u001b[0mtorch\u001b[0m\u001b[0;34m\u001b[0m\u001b[0;34m\u001b[0m\u001b[0m\n\u001b[0;32m----> 2\u001b[0;31m \u001b[0;32mfrom\u001b[0m \u001b[0mread_data\u001b[0m \u001b[0;32mimport\u001b[0m \u001b[0mDatasetFromPath\u001b[0m\u001b[0;34m,\u001b[0m \u001b[0mtest_train_split\u001b[0m\u001b[0;34m\u001b[0m\u001b[0;34m\u001b[0m\u001b[0m\n\u001b[0m\u001b[1;32m      3\u001b[0m \u001b[0;34m\u001b[0m\u001b[0m\n\u001b[1;32m      4\u001b[0m \u001b[0mdataset\u001b[0m \u001b[0;34m=\u001b[0m \u001b[0mDatasetFromPath\u001b[0m\u001b[0;34m(\u001b[0m\u001b[0;34m'data-training'\u001b[0m\u001b[0;34m)\u001b[0m\u001b[0;34m\u001b[0m\u001b[0;34m\u001b[0m\u001b[0m\n",
            "\u001b[0;32m/content/satellite_cnns/read_data.py\u001b[0m in \u001b[0;36m<module>\u001b[0;34m\u001b[0m\n\u001b[1;32m     23\u001b[0m \u001b[0;32mfrom\u001b[0m \u001b[0mtorch\u001b[0m\u001b[0;34m.\u001b[0m\u001b[0mutils\u001b[0m\u001b[0;34m.\u001b[0m\u001b[0mdata\u001b[0m \u001b[0;32mimport\u001b[0m \u001b[0mDataset\u001b[0m\u001b[0;34m\u001b[0m\u001b[0;34m\u001b[0m\u001b[0m\n\u001b[1;32m     24\u001b[0m \u001b[0;32mfrom\u001b[0m \u001b[0mtorch\u001b[0m \u001b[0;32mimport\u001b[0m \u001b[0mGenerator\u001b[0m\u001b[0;34m,\u001b[0m \u001b[0mrandperm\u001b[0m\u001b[0;34m\u001b[0m\u001b[0;34m\u001b[0m\u001b[0m\n\u001b[0;32m---> 25\u001b[0;31m \u001b[0;32mfrom\u001b[0m \u001b[0mtorch\u001b[0m\u001b[0;34m.\u001b[0m\u001b[0m_utils\u001b[0m \u001b[0;32mimport\u001b[0m \u001b[0m_accumulate\u001b[0m\u001b[0;34m\u001b[0m\u001b[0;34m\u001b[0m\u001b[0m\n\u001b[0m\u001b[1;32m     26\u001b[0m \u001b[0;34m\u001b[0m\u001b[0m\n\u001b[1;32m     27\u001b[0m \u001b[0;31m# Default values\u001b[0m\u001b[0;34m\u001b[0m\u001b[0;34m\u001b[0m\u001b[0m\n",
            "\u001b[0;31mImportError\u001b[0m: cannot import name '_accumulate' from 'torch._utils' (/usr/local/lib/python3.10/dist-packages/torch/_utils.py)",
            "",
            "\u001b[0;31m---------------------------------------------------------------------------\u001b[0;32m\nNOTE: If your import is failing due to a missing package, you can\nmanually install dependencies using either !pip or !apt.\n\nTo view examples of installing some common dependencies, click the\n\"Open Examples\" button below.\n\u001b[0;31m---------------------------------------------------------------------------\u001b[0m\n"
          ],
          "errorDetails": {
            "actions": [
              {
                "action": "open_url",
                "actionText": "Open Examples",
                "url": "/notebooks/snippets/importing_libraries.ipynb"
              }
            ]
          }
        }
      ],
      "source": [
        "import torch\n",
        "from read_data import DatasetFromPath, test_train_split\n",
        "\n",
        "dataset = DatasetFromPath('data-training')"
      ]
    },
    {
      "cell_type": "markdown",
      "metadata": {
        "id": "Yyk2Cv15hvcG"
      },
      "source": [
        "**Note**: to avoid using [Hugging Face 🤗 Datasets](https://huggingface.co/docs/datasets/main/en/index) (like in the weather forcasting sample), we're going to use a custom subclass of PyTorch's `torch.utils.data.Dataset` (`DatsetFromPath`). Hugging Face is nice to use a high-level interface for using datasets and should maybe be implemented in the future, but as of this writing (7/4/2023), VertexAI (what we're using for cloud training) has an issue with it's Hugging Face Trainer API (see [weather sample issue](https://github.com/GoogleCloudPlatform/python-docs-samples/issues/9272))."
      ]
    },
    {
      "cell_type": "markdown",
      "metadata": {
        "id": "_I2Y9u71sEgT"
      },
      "source": [
        "### Visualize"
      ]
    },
    {
      "cell_type": "markdown",
      "metadata": {
        "id": "vbmjRaT4j6JB"
      },
      "source": [
        "Let's grab the dataset (`data`) from our path (`/content/data_training`) and pull the top element from the dataset as `example`. In `DatasetFromPath`, the custom getter utilizes dictionary keys of `inputs` and `labels`, so to grab the inputs of example, we use `example['inputs']`.\n",
        "\n",
        "Check what was run through the pipeline. You should expect to see:\n",
        "- Dataset size of 2 * `POINTS_PER_CLASS` or 4 if `POINTS_PER_CLASS` was not declared/put into the pipeline.\n",
        "- inputs size of (`PATCH_SIZE`, `PATCH_SIZE`, number of input bands)\n",
        "- labels size of (`PATCH_SIZE`, `aPATCH_SIZE`, number of label bands)\n",
        "\n",
        "Note: For Benin, there are 4 input bands and 1 label band."
      ]
    },
    {
      "cell_type": "code",
      "execution_count": null,
      "metadata": {
        "id": "MRF7ypL_BEqf"
      },
      "outputs": [],
      "source": [
        "print(f\"Dataset size: {len(dataset)}\")\n",
        "example = dataset[0]  # random access the first element\n",
        "\n",
        "print(f\"inputs: {example['inputs'].shape}\")\n",
        "print(f\"labels: {example['labels'].shape}\")"
      ]
    },
    {
      "cell_type": "markdown",
      "metadata": {
        "id": "G_OAWndLkvpa"
      },
      "source": [
        "The `DatsetFromPath` class also allows you to retrieve all of the inputs/labels in a dataset in their raw NumPy array form by indexing with \"inputs\" or \"labels\":"
      ]
    },
    {
      "cell_type": "code",
      "execution_count": null,
      "metadata": {
        "id": "hS7A25EEku3W"
      },
      "outputs": [],
      "source": [
        "inputs = dataset['inputs']\n",
        "labels = dataset['labels']\n",
        "\n",
        "print(f\"All inputs: {inputs.shape}\")\n",
        "print(f\"All labels: {labels.shape}\")"
      ]
    },
    {
      "cell_type": "markdown",
      "metadata": {
        "id": "1nbS_jurpKO6"
      },
      "source": [
        "Let's view our example using our visualization functionality. For Benin, blue = inside village, red = outside village."
      ]
    },
    {
      "cell_type": "code",
      "execution_count": null,
      "metadata": {
        "id": "5JzlTSkhpMEU"
      },
      "outputs": [],
      "source": [
        "from visualize import show_patch\n",
        "\n",
        "\n",
        "inputs = example['inputs']\n",
        "labels = example['labels']\n",
        "\n",
        "show_patch(inputs, labels)"
      ]
    },
    {
      "cell_type": "markdown",
      "metadata": {
        "id": "HDir8YB7l2pn"
      },
      "source": [
        "How let's split the dataset into a train and test subset using the test_train_split function. Test differt ratios to see how the dataset splits and view the first of each."
      ]
    },
    {
      "cell_type": "code",
      "execution_count": null,
      "metadata": {
        "id": "CX2nnRlrkWxG"
      },
      "outputs": [],
      "source": [
        "ratio = 0.5\n",
        "train, test = test_train_split(dataset, ratio=0.5, seed=0)\n",
        "\n",
        "print(f\"Train size: {len(train)}\")\n",
        "train_example = train[0]  # random access the first element\n",
        "print(f\"inputs: {train_example['inputs'].shape}\")\n",
        "print(f\"labels: {train_example['labels'].shape}\")\n",
        "print(f\"Test size: {len(train)}\")\n",
        "test_example = test[0]  # random access the first element\n",
        "print(f\"inputs: {test_example['inputs'].shape}\")\n",
        "print(f\"labels: {test_example['labels'].shape}\\n\")\n",
        "\n",
        "train_inputs = train_example['inputs']\n",
        "train_labels = train_example['labels']\n",
        "test_inputs = test_example['inputs']\n",
        "test_labels = test_example['labels']\n",
        "print(f'Train[0]:')\n",
        "show_patch(train_inputs, train_labels)\n",
        "print(f'Test[0]:')\n",
        "show_patch(test_inputs, test_labels)"
      ]
    },
    {
      "cell_type": "markdown",
      "metadata": {
        "id": "W3QlLRJCrjqP"
      },
      "source": [
        "### Test access: Statistics\n",
        "\n",
        "I'm just testing to make sure we can access the data in the way we want... haven't checked for proper use of np.mean()."
      ]
    },
    {
      "cell_type": "code",
      "execution_count": null,
      "metadata": {
        "id": "zHk4RnzMsKIW"
      },
      "outputs": [],
      "source": [
        "from torch.utils.data.dataloader import DataLoader\n",
        "# future\n",
        "import numpy as np\n",
        "\n",
        "print(type(dataset['inputs']))\n",
        "print(train['inputs'].shape)\n",
        "data = train['inputs']\n",
        "mean = data.mean(axis=(0, 1, 2))[None, None, None, :]\n",
        "std = data.std(axis=(0, 1, 2))[None, None, None, :]\n",
        "\n",
        "print(f'Train inputs mean: {mean.shape}')\n",
        "print(f'Train inputs std: {std.shape}')"
      ]
    },
    {
      "cell_type": "markdown",
      "metadata": {
        "id": "tBAy34k0siEz"
      },
      "source": [
        "# Model\n",
        "\n",
        "1.   **Define the model**: An UNTESTED implementation of U-Net has been placed in [model.py](src/benin-model/benin/model.py). Check it for the model specifications.\n",
        "2.   **Train** (locally or with VertexAI)\n",
        "\n",
        "\n"
      ]
    },
    {
      "cell_type": "markdown",
      "metadata": {
        "id": "XMuyCPhnRj4L"
      },
      "source": [
        "We're going to use the custom package `benin-model` that contains:\n",
        "\n",
        "*   **npz_dataset.py**: module library for reading a directory with\n",
        "*   **model.py**: model specifications (currently has a U-Net model)\n",
        "*   **train.py**: script that uses other modules to create, train, and save a model\n",
        "*   **dice_score.py**: holds a few dice score helper functions for training\n",
        "\n",
        "\n",
        "In addition, we need the Google Cloud AI Platform API to send a training job to VertexAI."
      ]
    },
    {
      "cell_type": "code",
      "execution_count": null,
      "metadata": {
        "colab": {
          "base_uri": "https://localhost:8080/"
        },
        "id": "6ckslfI49vaK",
        "outputId": "f549e88b-8e87-4eab-eb59-c3c598cd1029"
      },
      "outputs": [
        {
          "name": "stdout",
          "output_type": "stream",
          "text": [
            "Processing ./src/benin-model\n",
            "  Installing build dependencies ... \u001b[?25l\u001b[?25hdone\n",
            "  Getting requirements to build wheel ... \u001b[?25l\u001b[?25hdone\n",
            "  Preparing metadata (pyproject.toml) ... \u001b[?25l\u001b[?25hdone\n",
            "Requirement already satisfied: google-cloud-aiplatform in /usr/local/lib/python3.10/dist-packages (1.27.1)\n",
            "Requirement already satisfied: google-api-core[grpc]!=2.0.*,!=2.1.*,!=2.2.*,!=2.3.*,!=2.4.*,!=2.5.*,!=2.6.*,!=2.7.*,<3.0.0dev,>=1.32.0 in /usr/local/lib/python3.10/dist-packages (from google-cloud-aiplatform) (2.11.1)\n",
            "Requirement already satisfied: proto-plus<2.0.0dev,>=1.22.0 in /usr/local/lib/python3.10/dist-packages (from google-cloud-aiplatform) (1.22.3)\n",
            "Requirement already satisfied: protobuf!=3.20.0,!=3.20.1,!=4.21.0,!=4.21.1,!=4.21.2,!=4.21.3,!=4.21.4,!=4.21.5,<5.0.0dev,>=3.19.5 in /usr/local/lib/python3.10/dist-packages (from google-cloud-aiplatform) (3.20.3)\n",
            "Requirement already satisfied: packaging>=14.3 in /usr/local/lib/python3.10/dist-packages (from google-cloud-aiplatform) (23.1)\n",
            "Requirement already satisfied: google-cloud-storage<3.0.0dev,>=1.32.0 in /usr/local/lib/python3.10/dist-packages (from google-cloud-aiplatform) (2.8.0)\n",
            "Requirement already satisfied: google-cloud-bigquery<4.0.0dev,>=1.15.0 in /usr/local/lib/python3.10/dist-packages (from google-cloud-aiplatform) (3.10.0)\n",
            "Requirement already satisfied: google-cloud-resource-manager<3.0.0dev,>=1.3.3 in /usr/local/lib/python3.10/dist-packages (from google-cloud-aiplatform) (1.10.2)\n",
            "Requirement already satisfied: shapely<2.0.0 in /usr/local/lib/python3.10/dist-packages (from google-cloud-aiplatform) (1.8.5.post1)\n",
            "Requirement already satisfied: torch==1.13.1 in /usr/local/lib/python3.10/dist-packages (from benin-model==0.2.2) (1.13.1)\n",
            "Requirement already satisfied: numpy==1.23.5 in /usr/local/lib/python3.10/dist-packages (from benin-model==0.2.2) (1.23.5)\n",
            "Requirement already satisfied: typing-extensions in /usr/local/lib/python3.10/dist-packages (from torch==1.13.1->benin-model==0.2.2) (4.6.3)\n",
            "Requirement already satisfied: nvidia-cuda-runtime-cu11==11.7.99 in /usr/local/lib/python3.10/dist-packages (from torch==1.13.1->benin-model==0.2.2) (11.7.99)\n",
            "Requirement already satisfied: nvidia-cudnn-cu11==8.5.0.96 in /usr/local/lib/python3.10/dist-packages (from torch==1.13.1->benin-model==0.2.2) (8.5.0.96)\n",
            "Requirement already satisfied: nvidia-cublas-cu11==11.10.3.66 in /usr/local/lib/python3.10/dist-packages (from torch==1.13.1->benin-model==0.2.2) (11.10.3.66)\n",
            "Requirement already satisfied: nvidia-cuda-nvrtc-cu11==11.7.99 in /usr/local/lib/python3.10/dist-packages (from torch==1.13.1->benin-model==0.2.2) (11.7.99)\n",
            "Requirement already satisfied: setuptools in /usr/local/lib/python3.10/dist-packages (from nvidia-cublas-cu11==11.10.3.66->torch==1.13.1->benin-model==0.2.2) (67.7.2)\n",
            "Requirement already satisfied: wheel in /usr/local/lib/python3.10/dist-packages (from nvidia-cublas-cu11==11.10.3.66->torch==1.13.1->benin-model==0.2.2) (0.40.0)\n",
            "Requirement already satisfied: googleapis-common-protos<2.0.dev0,>=1.56.2 in /usr/local/lib/python3.10/dist-packages (from google-api-core[grpc]!=2.0.*,!=2.1.*,!=2.2.*,!=2.3.*,!=2.4.*,!=2.5.*,!=2.6.*,!=2.7.*,<3.0.0dev,>=1.32.0->google-cloud-aiplatform) (1.59.1)\n",
            "Requirement already satisfied: google-auth<3.0.dev0,>=2.14.1 in /usr/local/lib/python3.10/dist-packages (from google-api-core[grpc]!=2.0.*,!=2.1.*,!=2.2.*,!=2.3.*,!=2.4.*,!=2.5.*,!=2.6.*,!=2.7.*,<3.0.0dev,>=1.32.0->google-cloud-aiplatform) (2.17.3)\n",
            "Requirement already satisfied: requests<3.0.0.dev0,>=2.18.0 in /usr/local/lib/python3.10/dist-packages (from google-api-core[grpc]!=2.0.*,!=2.1.*,!=2.2.*,!=2.3.*,!=2.4.*,!=2.5.*,!=2.6.*,!=2.7.*,<3.0.0dev,>=1.32.0->google-cloud-aiplatform) (2.27.1)\n",
            "Requirement already satisfied: grpcio<2.0dev,>=1.33.2 in /usr/local/lib/python3.10/dist-packages (from google-api-core[grpc]!=2.0.*,!=2.1.*,!=2.2.*,!=2.3.*,!=2.4.*,!=2.5.*,!=2.6.*,!=2.7.*,<3.0.0dev,>=1.32.0->google-cloud-aiplatform) (1.56.0)\n",
            "Requirement already satisfied: grpcio-status<2.0.dev0,>=1.33.2 in /usr/local/lib/python3.10/dist-packages (from google-api-core[grpc]!=2.0.*,!=2.1.*,!=2.2.*,!=2.3.*,!=2.4.*,!=2.5.*,!=2.6.*,!=2.7.*,<3.0.0dev,>=1.32.0->google-cloud-aiplatform) (1.48.2)\n",
            "Requirement already satisfied: google-cloud-core<3.0.0dev,>=1.6.0 in /usr/local/lib/python3.10/dist-packages (from google-cloud-bigquery<4.0.0dev,>=1.15.0->google-cloud-aiplatform) (2.3.2)\n",
            "Requirement already satisfied: google-resumable-media<3.0dev,>=0.6.0 in /usr/local/lib/python3.10/dist-packages (from google-cloud-bigquery<4.0.0dev,>=1.15.0->google-cloud-aiplatform) (2.5.0)\n",
            "Requirement already satisfied: python-dateutil<3.0dev,>=2.7.2 in /usr/local/lib/python3.10/dist-packages (from google-cloud-bigquery<4.0.0dev,>=1.15.0->google-cloud-aiplatform) (2.8.2)\n",
            "Requirement already satisfied: grpc-google-iam-v1<1.0.0dev,>=0.12.4 in /usr/local/lib/python3.10/dist-packages (from google-cloud-resource-manager<3.0.0dev,>=1.3.3->google-cloud-aiplatform) (0.12.6)\n",
            "Requirement already satisfied: cachetools<6.0,>=2.0.0 in /usr/local/lib/python3.10/dist-packages (from google-auth<3.0.dev0,>=2.14.1->google-api-core[grpc]!=2.0.*,!=2.1.*,!=2.2.*,!=2.3.*,!=2.4.*,!=2.5.*,!=2.6.*,!=2.7.*,<3.0.0dev,>=1.32.0->google-cloud-aiplatform) (5.3.1)\n",
            "Requirement already satisfied: pyasn1-modules>=0.2.1 in /usr/local/lib/python3.10/dist-packages (from google-auth<3.0.dev0,>=2.14.1->google-api-core[grpc]!=2.0.*,!=2.1.*,!=2.2.*,!=2.3.*,!=2.4.*,!=2.5.*,!=2.6.*,!=2.7.*,<3.0.0dev,>=1.32.0->google-cloud-aiplatform) (0.3.0)\n",
            "Requirement already satisfied: six>=1.9.0 in /usr/local/lib/python3.10/dist-packages (from google-auth<3.0.dev0,>=2.14.1->google-api-core[grpc]!=2.0.*,!=2.1.*,!=2.2.*,!=2.3.*,!=2.4.*,!=2.5.*,!=2.6.*,!=2.7.*,<3.0.0dev,>=1.32.0->google-cloud-aiplatform) (1.16.0)\n",
            "Requirement already satisfied: rsa<5,>=3.1.4 in /usr/local/lib/python3.10/dist-packages (from google-auth<3.0.dev0,>=2.14.1->google-api-core[grpc]!=2.0.*,!=2.1.*,!=2.2.*,!=2.3.*,!=2.4.*,!=2.5.*,!=2.6.*,!=2.7.*,<3.0.0dev,>=1.32.0->google-cloud-aiplatform) (4.9)\n",
            "Requirement already satisfied: google-crc32c<2.0dev,>=1.0 in /usr/local/lib/python3.10/dist-packages (from google-resumable-media<3.0dev,>=0.6.0->google-cloud-bigquery<4.0.0dev,>=1.15.0->google-cloud-aiplatform) (1.5.0)\n",
            "Requirement already satisfied: urllib3<1.27,>=1.21.1 in /usr/local/lib/python3.10/dist-packages (from requests<3.0.0.dev0,>=2.18.0->google-api-core[grpc]!=2.0.*,!=2.1.*,!=2.2.*,!=2.3.*,!=2.4.*,!=2.5.*,!=2.6.*,!=2.7.*,<3.0.0dev,>=1.32.0->google-cloud-aiplatform) (1.26.16)\n",
            "Requirement already satisfied: certifi>=2017.4.17 in /usr/local/lib/python3.10/dist-packages (from requests<3.0.0.dev0,>=2.18.0->google-api-core[grpc]!=2.0.*,!=2.1.*,!=2.2.*,!=2.3.*,!=2.4.*,!=2.5.*,!=2.6.*,!=2.7.*,<3.0.0dev,>=1.32.0->google-cloud-aiplatform) (2023.5.7)\n",
            "Requirement already satisfied: charset-normalizer~=2.0.0 in /usr/local/lib/python3.10/dist-packages (from requests<3.0.0.dev0,>=2.18.0->google-api-core[grpc]!=2.0.*,!=2.1.*,!=2.2.*,!=2.3.*,!=2.4.*,!=2.5.*,!=2.6.*,!=2.7.*,<3.0.0dev,>=1.32.0->google-cloud-aiplatform) (2.0.12)\n",
            "Requirement already satisfied: idna<4,>=2.5 in /usr/local/lib/python3.10/dist-packages (from requests<3.0.0.dev0,>=2.18.0->google-api-core[grpc]!=2.0.*,!=2.1.*,!=2.2.*,!=2.3.*,!=2.4.*,!=2.5.*,!=2.6.*,!=2.7.*,<3.0.0dev,>=1.32.0->google-cloud-aiplatform) (3.4)\n",
            "Requirement already satisfied: pyasn1<0.6.0,>=0.4.6 in /usr/local/lib/python3.10/dist-packages (from pyasn1-modules>=0.2.1->google-auth<3.0.dev0,>=2.14.1->google-api-core[grpc]!=2.0.*,!=2.1.*,!=2.2.*,!=2.3.*,!=2.4.*,!=2.5.*,!=2.6.*,!=2.7.*,<3.0.0dev,>=1.32.0->google-cloud-aiplatform) (0.5.0)\n",
            "Building wheels for collected packages: benin-model\n",
            "  Building wheel for benin-model (pyproject.toml) ... \u001b[?25l\u001b[?25hdone\n",
            "  Created wheel for benin-model: filename=benin_model-0.2.2-py3-none-any.whl size=10034 sha256=5be1f99032af487fb9ff36ff256d00ca71152326cd36b422a3edac54fc15d9d6\n",
            "  Stored in directory: /root/.cache/pip/wheels/43/06/1d/1bbd32645d1f8a5a93a4774650685f7b4c75ff4e91adee8b12\n",
            "Successfully built benin-model\n",
            "Installing collected packages: benin-model\n",
            "  Attempting uninstall: benin-model\n",
            "    Found existing installation: benin-model 0.2.1\n",
            "    Uninstalling benin-model-0.2.1:\n",
            "      Successfully uninstalled benin-model-0.2.1\n",
            "Successfully installed benin-model-0.2.2\n"
          ]
        }
      ],
      "source": [
        "!pip install google-cloud-aiplatform src/benin-model"
      ]
    },
    {
      "cell_type": "markdown",
      "metadata": {
        "id": "p-rwc6vWjZUR"
      },
      "source": [
        "# Train locally\n",
        "\n",
        "Run 'Read data' cells or change data_path to directory with .npz files.\n",
        "\n",
        "\n",
        "*   `data_path`: directory with npz files\n",
        "*   `model_path`: model path / model name prefix\n",
        "\n"
      ]
    },
    {
      "cell_type": "code",
      "execution_count": null,
      "metadata": {
        "colab": {
          "base_uri": "https://localhost:8080/"
        },
        "id": "UJ6WluEt-lyA",
        "outputId": "7be00b01-1748-441e-a48f-3e88e705ffe2"
      },
      "outputs": [
        {
          "name": "stdout",
          "output_type": "stream",
          "text": [
            "data_path: data-training\n",
            "model_path: test-model\n",
            "epochs: 1\n",
            "batch_size: 512\n",
            "train_test_ratio: 0.66\n",
            "----------------------------------------\n",
            "Dataset from 'data-training', size: 20, inputs: (20, 128, 128, 4), labels: (20, 128, 128, 1)\n"
          ]
        },
        {
          "name": "stderr",
          "output_type": "stream",
          "text": [
            "/usr/local/lib/python3.10/dist-packages/torch/nn/functional.py:1967: UserWarning: nn.functional.sigmoid is deprecated. Use torch.sigmoid instead.\n",
            "  warnings.warn(\"nn.functional.sigmoid is deprecated. Use torch.sigmoid instead.\")\n"
          ]
        }
      ],
      "source": [
        "from benin.train import run_torch\n",
        "run_torch(\n",
        "    data_path = 'data-training',\n",
        "    model_path = 'test-model',\n",
        "    epochs=1\n",
        ")"
      ]
    },
    {
      "cell_type": "markdown",
      "metadata": {
        "id": "S9v1O92hTjhq"
      },
      "source": [
        "Check to see if your model was created:"
      ]
    },
    {
      "cell_type": "code",
      "execution_count": null,
      "metadata": {
        "colab": {
          "base_uri": "https://localhost:8080/"
        },
        "id": "p2aug4fRlRMi",
        "outputId": "6880a5fe-9cb2-49a6-fdc9-cd770769a157"
      },
      "outputs": [
        {
          "name": "stdout",
          "output_type": "stream",
          "text": [
            "archived_notebooks\t     create_dataset.py\tREADME.md\t visualize.py\n",
            "benin_apache_pipeline.ipynb  data-training\tsrc\n",
            "CHANGELOG.md\t\t     read_data.py\ttest-model_UNET\n"
          ]
        }
      ],
      "source": [
        "!ls /content/satellite_cnns"
      ]
    },
    {
      "cell_type": "markdown",
      "metadata": {
        "id": "ONZJE0c7jcs7"
      },
      "source": [
        "# Train w/ VertexAI"
      ]
    },
    {
      "cell_type": "markdown",
      "metadata": {
        "id": "_LB3lf1mUN_u"
      },
      "source": [
        "Again, we have to build our package to send to be used by VertexAI:"
      ]
    },
    {
      "cell_type": "code",
      "execution_count": null,
      "metadata": {
        "colab": {
          "base_uri": "https://localhost:8080/"
        },
        "id": "o8IQG9ldjfjR",
        "outputId": "adf4ace5-6f04-48b0-c86a-a470c98c668e"
      },
      "outputs": [
        {
          "name": "stdout",
          "output_type": "stream",
          "text": [
            "\u001b[1m* Creating virtualenv isolated environment...\u001b[0m\n",
            "\u001b[1m* Installing packages in isolated environment... (setuptools >= 40.8.0, wheel)\u001b[0m\n",
            "\u001b[1m* Getting build dependencies for sdist...\u001b[0m\n",
            "running egg_info\n",
            "writing benin_model.egg-info/PKG-INFO\n",
            "writing dependency_links to benin_model.egg-info/dependency_links.txt\n",
            "writing entry points to benin_model.egg-info/entry_points.txt\n",
            "writing requirements to benin_model.egg-info/requires.txt\n",
            "writing top-level names to benin_model.egg-info/top_level.txt\n",
            "reading manifest file 'benin_model.egg-info/SOURCES.txt'\n",
            "writing manifest file 'benin_model.egg-info/SOURCES.txt'\n",
            "\u001b[1m* Building sdist...\u001b[0m\n",
            "running sdist\n",
            "running egg_info\n",
            "writing benin_model.egg-info/PKG-INFO\n",
            "writing dependency_links to benin_model.egg-info/dependency_links.txt\n",
            "writing entry points to benin_model.egg-info/entry_points.txt\n",
            "writing requirements to benin_model.egg-info/requires.txt\n",
            "writing top-level names to benin_model.egg-info/top_level.txt\n",
            "reading manifest file 'benin_model.egg-info/SOURCES.txt'\n",
            "writing manifest file 'benin_model.egg-info/SOURCES.txt'\n",
            "warning: sdist: standard file not found: should have one of README, README.rst, README.txt, README.md\n",
            "\n",
            "running check\n",
            "creating benin-model-0.2.2\n",
            "creating benin-model-0.2.2/benin\n",
            "creating benin-model-0.2.2/benin_model.egg-info\n",
            "copying files to benin-model-0.2.2...\n",
            "copying pyproject.toml -> benin-model-0.2.2\n",
            "copying benin/dice_score.py -> benin-model-0.2.2/benin\n",
            "copying benin/model.py -> benin-model-0.2.2/benin\n",
            "copying benin/npz_dataset.py -> benin-model-0.2.2/benin\n",
            "copying benin/train.py -> benin-model-0.2.2/benin\n",
            "copying benin_model.egg-info/PKG-INFO -> benin-model-0.2.2/benin_model.egg-info\n",
            "copying benin_model.egg-info/SOURCES.txt -> benin-model-0.2.2/benin_model.egg-info\n",
            "copying benin_model.egg-info/dependency_links.txt -> benin-model-0.2.2/benin_model.egg-info\n",
            "copying benin_model.egg-info/entry_points.txt -> benin-model-0.2.2/benin_model.egg-info\n",
            "copying benin_model.egg-info/requires.txt -> benin-model-0.2.2/benin_model.egg-info\n",
            "copying benin_model.egg-info/top_level.txt -> benin-model-0.2.2/benin_model.egg-info\n",
            "Writing benin-model-0.2.2/setup.cfg\n",
            "Creating tar archive\n",
            "removing 'benin-model-0.2.2' (and everything under it)\n",
            "\u001b[1m* Building wheel from sdist\u001b[0m\n",
            "\u001b[1m* Creating virtualenv isolated environment...\u001b[0m\n",
            "\u001b[1m* Installing packages in isolated environment... (setuptools >= 40.8.0, wheel)\u001b[0m\n",
            "\u001b[1m* Getting build dependencies for wheel...\u001b[0m\n",
            "running egg_info\n",
            "writing benin_model.egg-info/PKG-INFO\n",
            "writing dependency_links to benin_model.egg-info/dependency_links.txt\n",
            "writing entry points to benin_model.egg-info/entry_points.txt\n",
            "writing requirements to benin_model.egg-info/requires.txt\n",
            "writing top-level names to benin_model.egg-info/top_level.txt\n",
            "reading manifest file 'benin_model.egg-info/SOURCES.txt'\n",
            "writing manifest file 'benin_model.egg-info/SOURCES.txt'\n",
            "\u001b[1m* Installing packages in isolated environment... (wheel)\u001b[0m\n",
            "\u001b[1m* Building wheel...\u001b[0m\n",
            "running bdist_wheel\n",
            "running build\n",
            "running build_py\n",
            "creating build\n",
            "creating build/lib\n",
            "creating build/lib/benin\n",
            "copying benin/train.py -> build/lib/benin\n",
            "copying benin/dice_score.py -> build/lib/benin\n",
            "copying benin/model.py -> build/lib/benin\n",
            "copying benin/npz_dataset.py -> build/lib/benin\n",
            "running egg_info\n",
            "writing benin_model.egg-info/PKG-INFO\n",
            "writing dependency_links to benin_model.egg-info/dependency_links.txt\n",
            "writing entry points to benin_model.egg-info/entry_points.txt\n",
            "writing requirements to benin_model.egg-info/requires.txt\n",
            "writing top-level names to benin_model.egg-info/top_level.txt\n",
            "reading manifest file 'benin_model.egg-info/SOURCES.txt'\n",
            "writing manifest file 'benin_model.egg-info/SOURCES.txt'\n",
            "installing to build/bdist.linux-x86_64/wheel\n",
            "running install\n",
            "running install_lib\n",
            "creating build/bdist.linux-x86_64\n",
            "creating build/bdist.linux-x86_64/wheel\n",
            "creating build/bdist.linux-x86_64/wheel/benin\n",
            "copying build/lib/benin/train.py -> build/bdist.linux-x86_64/wheel/benin\n",
            "copying build/lib/benin/dice_score.py -> build/bdist.linux-x86_64/wheel/benin\n",
            "copying build/lib/benin/model.py -> build/bdist.linux-x86_64/wheel/benin\n",
            "copying build/lib/benin/npz_dataset.py -> build/bdist.linux-x86_64/wheel/benin\n",
            "running install_egg_info\n",
            "Copying benin_model.egg-info to build/bdist.linux-x86_64/wheel/benin_model-0.2.2-py3.10.egg-info\n",
            "running install_scripts\n",
            "creating build/bdist.linux-x86_64/wheel/benin_model-0.2.2.dist-info/WHEEL\n",
            "creating '/content/satellite_cnns/src/benin-model/dist/.tmp-9l8lcz7q/benin_model-0.2.2-py3-none-any.whl' and adding 'build/bdist.linux-x86_64/wheel' to it\n",
            "adding 'benin/dice_score.py'\n",
            "adding 'benin/model.py'\n",
            "adding 'benin/npz_dataset.py'\n",
            "adding 'benin/train.py'\n",
            "adding 'benin_model-0.2.2.dist-info/METADATA'\n",
            "adding 'benin_model-0.2.2.dist-info/WHEEL'\n",
            "adding 'benin_model-0.2.2.dist-info/entry_points.txt'\n",
            "adding 'benin_model-0.2.2.dist-info/top_level.txt'\n",
            "adding 'benin_model-0.2.2.dist-info/RECORD'\n",
            "removing build/bdist.linux-x86_64/wheel\n",
            "\u001b[1m\u001b[92mSuccessfully built \u001b[4mbenin-model-0.2.2.tar.gz\u001b[0m\u001b[1m\u001b[92m and \u001b[4mbenin_model-0.2.2-py3-none-any.whl\u001b[0m\u001b[1m\u001b[92m\u001b[0m\n"
          ]
        }
      ],
      "source": [
        "# Build the `weather-model` package.\n",
        "!python -m build src/benin-model"
      ]
    },
    {
      "cell_type": "markdown",
      "metadata": {
        "id": "T2PvdoP7UVky"
      },
      "source": [
        "See the built package:"
      ]
    },
    {
      "cell_type": "code",
      "execution_count": null,
      "metadata": {
        "colab": {
          "base_uri": "https://localhost:8080/"
        },
        "id": "cAIJWs23lhuW",
        "outputId": "1f5f6f1d-ebef-47f4-8bf1-81e306a14a7d"
      },
      "outputs": [
        {
          "name": "stdout",
          "output_type": "stream",
          "text": [
            "total 24K\n",
            "-rw-r--r-- 1 root root 9.8K Jul  7 01:22 benin_model-0.2.2-py3-none-any.whl\n",
            "-rw-r--r-- 1 root root 8.8K Jul  7 01:22 benin-model-0.2.2.tar.gz\n"
          ]
        }
      ],
      "source": [
        "!ls -lh src/benin-model/dist"
      ]
    },
    {
      "cell_type": "markdown",
      "metadata": {
        "id": "juz6K0afUXEa"
      },
      "source": [
        "Make sure you're using the right version number/name:"
      ]
    },
    {
      "cell_type": "code",
      "execution_count": null,
      "metadata": {
        "id": "CZJnpRWRmzd-"
      },
      "outputs": [],
      "source": [
        "model_package = 'benin-model-0.2.2.tar.gz'"
      ]
    },
    {
      "cell_type": "markdown",
      "metadata": {
        "id": "3ymGJfxfUbGe"
      },
      "source": [
        "This time, we're placing the package in the bucket to be easily accessed by VertexAI"
      ]
    },
    {
      "cell_type": "code",
      "execution_count": null,
      "metadata": {
        "colab": {
          "base_uri": "https://localhost:8080/"
        },
        "id": "y1JAj9D6lnDI",
        "outputId": "4d7adac0-e9bd-4583-a678-f5f3e67bda80"
      },
      "outputs": [
        {
          "name": "stdout",
          "output_type": "stream",
          "text": [
            "Copying file://src/benin-model/dist/benin-model-0.2.2.tar.gz [Content-Type=application/x-tar]...\n",
            "/ [1 files][  8.8 KiB/  8.8 KiB]                                                \n",
            "Operation completed over 1 objects/8.8 KiB.                                      \n"
          ]
        }
      ],
      "source": [
        "# Stage the `benin-model` package in Cloud Storage.\n",
        "!gsutil cp src/benin-model/dist/{model_package} gs://{bucket}/dd_test/"
      ]
    },
    {
      "cell_type": "code",
      "execution_count": null,
      "metadata": {
        "id": "MEGfF5ne8_F-"
      },
      "outputs": [],
      "source": [
        "folder = 'dd_test'\n",
        "data_path = f\"{bucket}/{folder}/data\""
      ]
    },
    {
      "cell_type": "markdown",
      "metadata": {
        "id": "SVWndHiZUy6Z"
      },
      "source": [
        "Make sure your data is where you expect it to be (should be a bunch of NumPy files):"
      ]
    },
    {
      "cell_type": "code",
      "execution_count": null,
      "metadata": {
        "colab": {
          "base_uri": "https://localhost:8080/"
        },
        "id": "hkkUPEj087S_",
        "outputId": "9dfbf4ed-428f-420c-b848-7e3aeda69477"
      },
      "outputs": [
        {
          "name": "stdout",
          "output_type": "stream",
          "text": [
            " 24.89 KiB  2023-07-04T19:48:20Z  gs://example-bucket-ls-3-24/dd_test/data/04bf0834-90b1-4875-88db-7e32607cf45c.npz\n",
            " 77.33 KiB  2023-07-04T19:45:01Z  gs://example-bucket-ls-3-24/dd_test/data/3702ead9-ac4f-4df5-8a34-55da0c7c5448.npz\n",
            " 27.63 KiB  2023-07-04T19:49:06Z  gs://example-bucket-ls-3-24/dd_test/data/591afe2b-7402-49cc-ab69-b3c2302697c9.npz\n",
            "105.07 KiB  2023-07-04T19:46:12Z  gs://example-bucket-ls-3-24/dd_test/data/6da70341-476c-4fce-8e4b-ba9524e9e65b.npz\n",
            " 27.19 KiB  2023-07-04T19:48:41Z  gs://example-bucket-ls-3-24/dd_test/data/b21465c3-3d32-4c32-9955-9c112ec50d48.npz\n",
            " 27.92 KiB  2023-07-04T19:43:08Z  gs://example-bucket-ls-3-24/dd_test/data/c1efb37c-b1ed-491f-b5bc-40880c68873c.npz\n",
            " 155.6 KiB  2023-07-04T19:48:00Z  gs://example-bucket-ls-3-24/dd_test/data/dcfb4dd0-d197-41c5-bc22-e71de24a45b8.npz\n",
            " 53.14 KiB  2023-07-04T19:44:04Z  gs://example-bucket-ls-3-24/dd_test/data/e92685da-16ba-4eb6-956b-44dbf6ef5c22.npz\n",
            " 27.57 KiB  2023-07-04T19:43:27Z  gs://example-bucket-ls-3-24/dd_test/data/efd31158-d782-4679-8439-0ad1c457402d.npz\n",
            "TOTAL: 9 objects, 538980 bytes (526.35 KiB)\n"
          ]
        }
      ],
      "source": [
        "!gsutil ls -lh gs://{data_path}"
      ]
    },
    {
      "cell_type": "markdown",
      "metadata": {
        "id": "hJKIHi2HVWbB"
      },
      "source": [
        "Create and run the job (check `data_path` and `model_path`). Currently, limited logging is implemented; no visualization is implemented."
      ]
    },
    {
      "cell_type": "code",
      "execution_count": null,
      "metadata": {
        "colab": {
          "base_uri": "https://localhost:8080/"
        },
        "id": "azrURDaMn47d",
        "outputId": "82d41c24-5e3a-46ba-8fcd-98f87184c13e"
      },
      "outputs": [
        {
          "name": "stdout",
          "output_type": "stream",
          "text": [
            "Training Output directory:\n",
            "gs://benin-bucket1/aiplatform-custom-training-2023-07-07-01:29:40.226 \n"
          ]
        },
        {
          "name": "stderr",
          "output_type": "stream",
          "text": [
            "INFO:google.cloud.aiplatform.training_jobs:Training Output directory:\n",
            "gs://benin-bucket1/aiplatform-custom-training-2023-07-07-01:29:40.226 \n"
          ]
        },
        {
          "name": "stdout",
          "output_type": "stream",
          "text": [
            "View Training:\n",
            "https://console.cloud.google.com/ai/platform/locations/us-central1/training/5677616430787330048?project=978289642310\n"
          ]
        },
        {
          "name": "stderr",
          "output_type": "stream",
          "text": [
            "INFO:google.cloud.aiplatform.training_jobs:View Training:\n",
            "https://console.cloud.google.com/ai/platform/locations/us-central1/training/5677616430787330048?project=978289642310\n"
          ]
        },
        {
          "name": "stdout",
          "output_type": "stream",
          "text": [
            "CustomPythonPackageTrainingJob projects/978289642310/locations/us-central1/trainingPipelines/5677616430787330048 current state:\n",
            "PipelineState.PIPELINE_STATE_RUNNING\n"
          ]
        },
        {
          "name": "stderr",
          "output_type": "stream",
          "text": [
            "INFO:google.cloud.aiplatform.training_jobs:CustomPythonPackageTrainingJob projects/978289642310/locations/us-central1/trainingPipelines/5677616430787330048 current state:\n",
            "PipelineState.PIPELINE_STATE_RUNNING\n"
          ]
        },
        {
          "name": "stdout",
          "output_type": "stream",
          "text": [
            "View backing custom job:\n",
            "https://console.cloud.google.com/ai/platform/locations/us-central1/training/5303307488320290816?project=978289642310\n"
          ]
        },
        {
          "name": "stderr",
          "output_type": "stream",
          "text": [
            "INFO:google.cloud.aiplatform.training_jobs:View backing custom job:\n",
            "https://console.cloud.google.com/ai/platform/locations/us-central1/training/5303307488320290816?project=978289642310\n"
          ]
        },
        {
          "name": "stdout",
          "output_type": "stream",
          "text": [
            "CustomPythonPackageTrainingJob projects/978289642310/locations/us-central1/trainingPipelines/5677616430787330048 current state:\n",
            "PipelineState.PIPELINE_STATE_RUNNING\n"
          ]
        },
        {
          "name": "stderr",
          "output_type": "stream",
          "text": [
            "INFO:google.cloud.aiplatform.training_jobs:CustomPythonPackageTrainingJob projects/978289642310/locations/us-central1/trainingPipelines/5677616430787330048 current state:\n",
            "PipelineState.PIPELINE_STATE_RUNNING\n"
          ]
        },
        {
          "name": "stdout",
          "output_type": "stream",
          "text": [
            "CustomPythonPackageTrainingJob projects/978289642310/locations/us-central1/trainingPipelines/5677616430787330048 current state:\n",
            "PipelineState.PIPELINE_STATE_RUNNING\n"
          ]
        },
        {
          "name": "stderr",
          "output_type": "stream",
          "text": [
            "INFO:google.cloud.aiplatform.training_jobs:CustomPythonPackageTrainingJob projects/978289642310/locations/us-central1/trainingPipelines/5677616430787330048 current state:\n",
            "PipelineState.PIPELINE_STATE_RUNNING\n"
          ]
        },
        {
          "name": "stdout",
          "output_type": "stream",
          "text": [
            "CustomPythonPackageTrainingJob projects/978289642310/locations/us-central1/trainingPipelines/5677616430787330048 current state:\n",
            "PipelineState.PIPELINE_STATE_RUNNING\n"
          ]
        },
        {
          "name": "stderr",
          "output_type": "stream",
          "text": [
            "INFO:google.cloud.aiplatform.training_jobs:CustomPythonPackageTrainingJob projects/978289642310/locations/us-central1/trainingPipelines/5677616430787330048 current state:\n",
            "PipelineState.PIPELINE_STATE_RUNNING\n"
          ]
        },
        {
          "name": "stdout",
          "output_type": "stream",
          "text": [
            "CustomPythonPackageTrainingJob projects/978289642310/locations/us-central1/trainingPipelines/5677616430787330048 current state:\n",
            "PipelineState.PIPELINE_STATE_RUNNING\n"
          ]
        },
        {
          "name": "stderr",
          "output_type": "stream",
          "text": [
            "INFO:google.cloud.aiplatform.training_jobs:CustomPythonPackageTrainingJob projects/978289642310/locations/us-central1/trainingPipelines/5677616430787330048 current state:\n",
            "PipelineState.PIPELINE_STATE_RUNNING\n"
          ]
        },
        {
          "name": "stdout",
          "output_type": "stream",
          "text": [
            "CustomPythonPackageTrainingJob run completed. Resource name: projects/978289642310/locations/us-central1/trainingPipelines/5677616430787330048\n"
          ]
        },
        {
          "name": "stderr",
          "output_type": "stream",
          "text": [
            "INFO:google.cloud.aiplatform.training_jobs:CustomPythonPackageTrainingJob run completed. Resource name: projects/978289642310/locations/us-central1/trainingPipelines/5677616430787330048\n"
          ]
        },
        {
          "name": "stdout",
          "output_type": "stream",
          "text": [
            "Training did not produce a Managed Model returning None. Training Pipeline projects/978289642310/locations/us-central1/trainingPipelines/5677616430787330048 is not configured to upload a Model. Create the Training Pipeline with model_serving_container_image_uri and model_display_name passed in. Ensure that your training script saves to model to os.environ['AIP_MODEL_DIR'].\n"
          ]
        },
        {
          "name": "stderr",
          "output_type": "stream",
          "text": [
            "WARNING:google.cloud.aiplatform.training_jobs:Training did not produce a Managed Model returning None. Training Pipeline projects/978289642310/locations/us-central1/trainingPipelines/5677616430787330048 is not configured to upload a Model. Create the Training Pipeline with model_serving_container_image_uri and model_display_name passed in. Ensure that your training script saves to model to os.environ['AIP_MODEL_DIR'].\n"
          ]
        }
      ],
      "source": [
        "from google.cloud import aiplatform\n",
        "\n",
        "epochs = 10\n",
        "timeout_min = 60  # 1 hour\n",
        "\n",
        "# Cloud Storage paths.\n",
        "data_path = f\"/gcs/{bucket}/dd_test/data\"\n",
        "model_path = f\"/gcs/{bucket}/dd_test/7-6_test_model\"\n",
        "\n",
        "aiplatform.init(project=project, location=location, staging_bucket=bucket)\n",
        "\n",
        "# Launch the custom training job.\n",
        "job = aiplatform.CustomPythonPackageTrainingJob(\n",
        "    display_name=\"benin-training\",\n",
        "    python_package_gcs_uri=f\"gs://{bucket}/dd_test/{model_package}\",\n",
        "    python_module_name=\"benin.train\",\n",
        "    container_uri=\"us-docker.pkg.dev/vertex-ai/training/pytorch-gpu.1-13.py310:latest\",\n",
        ")\n",
        "job.run(\n",
        "    machine_type=\"n1-highmem-8\",\n",
        "    accelerator_type=\"NVIDIA_TESLA_T4\",\n",
        "    accelerator_count=1,\n",
        "    args=[\n",
        "        f\"--data-path={data_path}\",\n",
        "        f\"--model-path={model_path}\",\n",
        "        f\"--epochs={epochs}\",\n",
        "    ],\n",
        "    timeout=timeout_min * 60,  # in seconds\n",
        ")"
      ]
    }
  ],
  "metadata": {
    "colab": {
      "collapsed_sections": [
        "_MJ4kW1pEhwP",
        "qKs6HuxOzjMl",
        "wXT0jjZXA0Sl",
        "P8tk45vuaGsj",
        "IkoNQYudaMUl",
        "Gl7W7v-haPJO",
        "fuHHM5pXQ_DJ",
        "2rwTshMtruzG",
        "_I2Y9u71sEgT",
        "W3QlLRJCrjqP",
        "p-rwc6vWjZUR",
        "LBNZz_hzXhiJ",
        "X5L4ciSukV4y",
        "k73nwrXBkP-9",
        "NMM5PBYZXQb5"
      ],
      "machine_shape": "hm",
      "provenance": [],
      "include_colab_link": true
    },
    "gpuClass": "standard",
    "kernelspec": {
      "display_name": "Python 3",
      "name": "python3"
    },
    "language_info": {
      "codemirror_mode": {
        "name": "ipython",
        "version": 3
      },
      "file_extension": ".py",
      "mimetype": "text/x-python",
      "name": "python",
      "nbconvert_exporter": "python",
      "pygments_lexer": "ipython3",
      "version": "3.9.16"
    }
  },
  "nbformat": 4,
  "nbformat_minor": 0
}