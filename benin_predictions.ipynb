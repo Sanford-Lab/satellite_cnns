{
  "cells": [
    {
      "cell_type": "markdown",
      "metadata": {
        "id": "view-in-github",
        "colab_type": "text"
      },
      "source": [
        "<a href=\"https://colab.research.google.com/github/Sanford-Lab/satellite_cnns/blob/main/benin_predictions.ipynb\" target=\"_parent\"><img src=\"https://colab.research.google.com/assets/colab-badge.svg\" alt=\"Open In Colab\"/></a>"
      ]
    },
    {
      "cell_type": "markdown",
      "metadata": {
        "id": "_SHAc5qbiR8l"
      },
      "source": [
        "# Introduction\n",
        "\n",
        "This notebook uses a dataset of Benin to train a model to predict which pixels belong to a village. The dataset takes in the feature collection from 'projects/satellite-cnns/assets/benin/voronoi_villages' which has circles around villages in Benin and uses this as a target for prediction. As input, the landsat 7 imagery of Benin is used.\n",
        "\n",
        "The notebook has the sections:\n",
        "\n",
        "1.   Setup & General settings\n",
        "2.   Read data\n",
        "\n",
        "\n"
      ]
    },
    {
      "cell_type": "markdown",
      "source": [
        "# 1. Setup & General settings"
      ],
      "metadata": {
        "id": "94QK42W6Qx11"
      }
    },
    {
      "cell_type": "markdown",
      "metadata": {
        "id": "_MJ4kW1pEhwP"
      },
      "source": [
        "## 1.1 Setup"
      ]
    },
    {
      "cell_type": "code",
      "execution_count": 1,
      "metadata": {
        "colab": {
          "base_uri": "https://localhost:8080/"
        },
        "id": "Mh4fElJHEplh",
        "outputId": "6fb7bff3-d15d-4b11-a50e-e7c607cb36d5"
      },
      "outputs": [
        {
          "output_type": "stream",
          "name": "stdout",
          "text": [
            "rm: cannot remove '/content/satellite_cnns': No such file or directory\n",
            "/content\n"
          ]
        }
      ],
      "source": [
        "%rm -r /content/satellite_cnns\n",
        "%cd /content"
      ]
    },
    {
      "cell_type": "code",
      "execution_count": 2,
      "metadata": {
        "id": "AHIHF4D6FORr"
      },
      "outputs": [],
      "source": [
        "branch = \"main\""
      ]
    },
    {
      "cell_type": "code",
      "execution_count": 3,
      "metadata": {
        "colab": {
          "base_uri": "https://localhost:8080/"
        },
        "id": "as3xyWjhClJy",
        "outputId": "8c3f4472-d168-4791-82b6-8305676f61fb"
      },
      "outputs": [
        {
          "output_type": "stream",
          "name": "stdout",
          "text": [
            "Cloning into 'satellite_cnns'...\n",
            "remote: Enumerating objects: 830, done.\u001b[K\n",
            "remote: Counting objects: 100% (269/269), done.\u001b[K\n",
            "remote: Compressing objects: 100% (253/253), done.\u001b[K\n",
            "remote: Total 830 (delta 81), reused 35 (delta 16), pack-reused 561 (from 1)\u001b[K\n",
            "Receiving objects: 100% (830/830), 5.10 MiB | 8.90 MiB/s, done.\n",
            "Resolving deltas: 100% (434/434), done.\n",
            "/content/satellite_cnns\n"
          ]
        }
      ],
      "source": [
        "# Clone from SPIRES Repo\n",
        "!git clone --branch {branch} https://github.com/Sanford-Lab/satellite_cnns.git\n",
        "%cd /content/satellite_cnns"
      ]
    },
    {
      "cell_type": "markdown",
      "metadata": {
        "id": "HZIDEamO_gM2"
      },
      "source": [
        "**New**: The notebook now sources files from the Sanford-Lab/satellite_cnns repo. For this notebook, it will use the `benin-data` package. It's built it based on the weather-forcasting notebook patterns and to allow importing for project-specific packages to *plug and play* for data creation. The new patterns should allow the workflow to be much more modular. All a new project would need to do is define 3 main functions `get_inputs_image`, `get_labels_image`, and `sample_points`. The create_dataset.py script should then be able to synthesize the dataset through abstraction. I've kept most of the demonstration functionality the same to show how using the package works."
      ]
    },
    {
      "cell_type": "code",
      "execution_count": 4,
      "metadata": {
        "id": "ZB6CSs7CNaNw",
        "outputId": "15cca9d9-9a10-4b8b-caa7-0284cad10762",
        "colab": {
          "base_uri": "https://localhost:8080/",
          "height": 0
        }
      },
      "outputs": [
        {
          "output_type": "stream",
          "name": "stdout",
          "text": [
            "\u001b[?25l   \u001b[90m━━━━━━━━━━━━━━━━━━━━━━━━━━━━━━━━━━━━━━━━\u001b[0m \u001b[32m0.0/5.7 MB\u001b[0m \u001b[31m?\u001b[0m eta \u001b[36m-:--:--\u001b[0m\r\u001b[2K   \u001b[90m━━━━━━━━━━━━━━━━━━━━━━━━━━━━━━━━━━━━━━━━\u001b[0m \u001b[32m5.7/5.7 MB\u001b[0m \u001b[31m51.1 MB/s\u001b[0m eta \u001b[36m0:00:00\u001b[0m\n",
            "\u001b[?25hProcessing ./src/benin-data\n",
            "  Installing build dependencies ... \u001b[?25l\u001b[?25hdone\n",
            "  Getting requirements to build wheel ... \u001b[?25l\u001b[?25hdone\n",
            "  Preparing metadata (pyproject.toml) ... \u001b[?25l\u001b[?25hdone\n",
            "Collecting apache-beam[gcp]\n",
            "  Downloading apache_beam-2.58.1-cp310-cp310-manylinux_2_17_x86_64.manylinux2014_x86_64.whl.metadata (7.5 kB)\n",
            "Collecting crcmod<2.0,>=1.7 (from apache-beam[gcp])\n",
            "  Downloading crcmod-1.7.tar.gz (89 kB)\n",
            "  Preparing metadata (setup.py) ... \u001b[?25l\u001b[?25hdone\n",
            "Collecting orjson<4,>=3.9.7 (from apache-beam[gcp])\n",
            "  Downloading orjson-3.10.7-cp310-cp310-manylinux_2_17_x86_64.manylinux2014_x86_64.whl.metadata (50 kB)\n",
            "Collecting dill<0.3.2,>=0.3.1.1 (from apache-beam[gcp])\n",
            "  Downloading dill-0.3.1.1.tar.gz (151 kB)\n",
            "  Preparing metadata (setup.py) ... \u001b[?25l\u001b[?25hdone\n",
            "Requirement already satisfied: cloudpickle~=2.2.1 in /usr/local/lib/python3.10/dist-packages (from apache-beam[gcp]) (2.2.1)\n",
            "Collecting fastavro<2,>=0.23.6 (from apache-beam[gcp])\n",
            "  Downloading fastavro-1.9.5-cp310-cp310-manylinux_2_17_x86_64.manylinux2014_x86_64.whl.metadata (5.5 kB)\n",
            "Collecting fasteners<1.0,>=0.3 (from apache-beam[gcp])\n",
            "  Downloading fasteners-0.19-py3-none-any.whl.metadata (4.9 kB)\n",
            "Requirement already satisfied: grpcio!=1.48.0,!=1.59.*,!=1.60.*,!=1.61.*,!=1.62.0,!=1.62.1,<2,>=1.33.1 in /usr/local/lib/python3.10/dist-packages (from apache-beam[gcp]) (1.64.1)\n",
            "Collecting hdfs<3.0.0,>=2.1.0 (from apache-beam[gcp])\n",
            "  Downloading hdfs-2.7.3.tar.gz (43 kB)\n",
            "  Preparing metadata (setup.py) ... \u001b[?25l\u001b[?25hdone\n",
            "Requirement already satisfied: httplib2<0.23.0,>=0.8 in /usr/local/lib/python3.10/dist-packages (from apache-beam[gcp]) (0.22.0)\n",
            "Requirement already satisfied: jsonschema<5.0.0,>=4.0.0 in /usr/local/lib/python3.10/dist-packages (from apache-beam[gcp]) (4.23.0)\n",
            "Requirement already satisfied: jsonpickle<4.0.0,>=3.0.0 in /usr/local/lib/python3.10/dist-packages (from apache-beam[gcp]) (3.2.2)\n",
            "Requirement already satisfied: numpy<1.27.0,>=1.14.3 in /usr/local/lib/python3.10/dist-packages (from apache-beam[gcp]) (1.26.4)\n",
            "Collecting objsize<0.8.0,>=0.6.1 (from apache-beam[gcp])\n",
            "  Downloading objsize-0.7.0-py3-none-any.whl.metadata (12 kB)\n",
            "Requirement already satisfied: packaging>=22.0 in /usr/local/lib/python3.10/dist-packages (from apache-beam[gcp]) (24.1)\n",
            "Collecting pymongo<5.0.0,>=3.8.0 (from apache-beam[gcp])\n",
            "  Downloading pymongo-4.8.0-cp310-cp310-manylinux_2_17_x86_64.manylinux2014_x86_64.whl.metadata (22 kB)\n",
            "Requirement already satisfied: proto-plus<2,>=1.7.1 in /usr/local/lib/python3.10/dist-packages (from apache-beam[gcp]) (1.24.0)\n",
            "Requirement already satisfied: protobuf!=4.0.*,!=4.21.*,!=4.22.0,!=4.23.*,!=4.24.*,<4.26.0,>=3.20.3 in /usr/local/lib/python3.10/dist-packages (from apache-beam[gcp]) (3.20.3)\n",
            "Requirement already satisfied: pydot<2,>=1.2.0 in /usr/local/lib/python3.10/dist-packages (from apache-beam[gcp]) (1.4.2)\n",
            "Requirement already satisfied: python-dateutil<3,>=2.8.0 in /usr/local/lib/python3.10/dist-packages (from apache-beam[gcp]) (2.8.2)\n",
            "Requirement already satisfied: pytz>=2018.3 in /usr/local/lib/python3.10/dist-packages (from apache-beam[gcp]) (2024.1)\n",
            "Collecting redis<6,>=5.0.0 (from apache-beam[gcp])\n",
            "  Downloading redis-5.0.8-py3-none-any.whl.metadata (9.2 kB)\n",
            "Requirement already satisfied: regex>=2020.6.8 in /usr/local/lib/python3.10/dist-packages (from apache-beam[gcp]) (2024.5.15)\n",
            "Collecting requests!=2.32.*,<3.0.0,>=2.24.0 (from apache-beam[gcp])\n",
            "  Downloading requests-2.31.0-py3-none-any.whl.metadata (4.6 kB)\n",
            "Requirement already satisfied: typing-extensions>=3.7.0 in /usr/local/lib/python3.10/dist-packages (from apache-beam[gcp]) (4.12.2)\n",
            "Collecting zstandard<1,>=0.18.0 (from apache-beam[gcp])\n",
            "  Downloading zstandard-0.23.0-cp310-cp310-manylinux_2_17_x86_64.manylinux2014_x86_64.whl.metadata (3.0 kB)\n",
            "Requirement already satisfied: pyarrow<17.0.0,>=3.0.0 in /usr/local/lib/python3.10/dist-packages (from apache-beam[gcp]) (14.0.2)\n",
            "Requirement already satisfied: pyarrow-hotfix<1 in /usr/local/lib/python3.10/dist-packages (from apache-beam[gcp]) (0.6)\n",
            "Collecting js2py<1,>=0.74 (from apache-beam[gcp])\n",
            "  Downloading Js2Py-0.74-py3-none-any.whl.metadata (868 bytes)\n",
            "Requirement already satisfied: cachetools<6,>=3.1.0 in /usr/local/lib/python3.10/dist-packages (from apache-beam[gcp]) (5.5.0)\n",
            "Requirement already satisfied: google-api-core<3,>=2.0.0 in /usr/local/lib/python3.10/dist-packages (from apache-beam[gcp]) (2.19.1)\n",
            "Collecting google-apitools<0.5.32,>=0.5.31 (from apache-beam[gcp])\n",
            "  Downloading google-apitools-0.5.31.tar.gz (173 kB)\n",
            "  Preparing metadata (setup.py) ... \u001b[?25l\u001b[?25hdone\n",
            "Requirement already satisfied: google-auth<3,>=1.18.0 in /usr/local/lib/python3.10/dist-packages (from apache-beam[gcp]) (2.27.0)\n",
            "Requirement already satisfied: google-auth-httplib2<0.3.0,>=0.1.0 in /usr/local/lib/python3.10/dist-packages (from apache-beam[gcp]) (0.2.0)\n",
            "Requirement already satisfied: google-cloud-datastore<3,>=2.0.0 in /usr/local/lib/python3.10/dist-packages (from apache-beam[gcp]) (2.19.0)\n",
            "Requirement already satisfied: google-cloud-pubsub<3,>=2.1.0 in /usr/local/lib/python3.10/dist-packages (from apache-beam[gcp]) (2.23.0)\n",
            "Collecting google-cloud-pubsublite<2,>=1.2.0 (from apache-beam[gcp])\n",
            "  Downloading google_cloud_pubsublite-1.11.1-py2.py3-none-any.whl.metadata (5.6 kB)\n",
            "Collecting google-cloud-storage<3,>=2.16.0 (from apache-beam[gcp])\n",
            "  Downloading google_cloud_storage-2.18.2-py2.py3-none-any.whl.metadata (9.1 kB)\n",
            "Requirement already satisfied: google-cloud-bigquery<4,>=2.0.0 in /usr/local/lib/python3.10/dist-packages (from apache-beam[gcp]) (3.25.0)\n",
            "Requirement already satisfied: google-cloud-bigquery-storage<3,>=2.6.3 in /usr/local/lib/python3.10/dist-packages (from apache-beam[gcp]) (2.25.0)\n",
            "Requirement already satisfied: google-cloud-core<3,>=2.0.0 in /usr/local/lib/python3.10/dist-packages (from apache-beam[gcp]) (2.4.1)\n",
            "Requirement already satisfied: google-cloud-bigtable<3,>=2.19.0 in /usr/local/lib/python3.10/dist-packages (from apache-beam[gcp]) (2.26.0)\n",
            "Collecting google-cloud-spanner<4,>=3.0.0 (from apache-beam[gcp])\n",
            "  Downloading google_cloud_spanner-3.48.0-py2.py3-none-any.whl.metadata (10 kB)\n",
            "Collecting google-cloud-dlp<4,>=3.0.0 (from apache-beam[gcp])\n",
            "  Downloading google_cloud_dlp-3.22.0-py2.py3-none-any.whl.metadata (5.3 kB)\n",
            "Requirement already satisfied: google-cloud-language<3,>=2.0 in /usr/local/lib/python3.10/dist-packages (from apache-beam[gcp]) (2.13.4)\n",
            "Collecting google-cloud-videointelligence<3,>=2.0 (from apache-beam[gcp])\n",
            "  Downloading google_cloud_videointelligence-2.13.5-py2.py3-none-any.whl.metadata (5.7 kB)\n",
            "Collecting google-cloud-vision<4,>=2 (from apache-beam[gcp])\n",
            "  Downloading google_cloud_vision-3.7.4-py2.py3-none-any.whl.metadata (5.2 kB)\n",
            "Collecting google-cloud-recommendations-ai<0.11.0,>=0.1.0 (from apache-beam[gcp])\n",
            "  Downloading google_cloud_recommendations_ai-0.10.12-py2.py3-none-any.whl.metadata (5.3 kB)\n",
            "Requirement already satisfied: google-cloud-aiplatform<2.0,>=1.26.0 in /usr/local/lib/python3.10/dist-packages (from apache-beam[gcp]) (1.63.0)\n",
            "Requirement already satisfied: earthengine-api>=0.1.355 in /usr/local/lib/python3.10/dist-packages (from benin-data==1.1.0) (0.1.417)\n",
            "Requirement already satisfied: google-api-python-client>=1.12.1 in /usr/local/lib/python3.10/dist-packages (from earthengine-api>=0.1.355->benin-data==1.1.0) (2.137.0)\n",
            "Requirement already satisfied: googleapis-common-protos<2.0.dev0,>=1.56.2 in /usr/local/lib/python3.10/dist-packages (from google-api-core<3,>=2.0.0->apache-beam[gcp]) (1.63.2)\n",
            "Requirement already satisfied: oauth2client>=1.4.12 in /usr/local/lib/python3.10/dist-packages (from google-apitools<0.5.32,>=0.5.31->apache-beam[gcp]) (4.1.3)\n",
            "Requirement already satisfied: six>=1.12.0 in /usr/local/lib/python3.10/dist-packages (from google-apitools<0.5.32,>=0.5.31->apache-beam[gcp]) (1.16.0)\n",
            "Requirement already satisfied: pyasn1-modules>=0.2.1 in /usr/local/lib/python3.10/dist-packages (from google-auth<3,>=1.18.0->apache-beam[gcp]) (0.4.0)\n",
            "Requirement already satisfied: rsa<5,>=3.1.4 in /usr/local/lib/python3.10/dist-packages (from google-auth<3,>=1.18.0->apache-beam[gcp]) (4.9)\n",
            "Requirement already satisfied: google-cloud-resource-manager<3.0.0dev,>=1.3.3 in /usr/local/lib/python3.10/dist-packages (from google-cloud-aiplatform<2.0,>=1.26.0->apache-beam[gcp]) (1.12.5)\n",
            "Requirement already satisfied: shapely<3.0.0dev in /usr/local/lib/python3.10/dist-packages (from google-cloud-aiplatform<2.0,>=1.26.0->apache-beam[gcp]) (2.0.6)\n",
            "Requirement already satisfied: pydantic<3 in /usr/local/lib/python3.10/dist-packages (from google-cloud-aiplatform<2.0,>=1.26.0->apache-beam[gcp]) (2.8.2)\n",
            "Requirement already satisfied: docstring-parser<1 in /usr/local/lib/python3.10/dist-packages (from google-cloud-aiplatform<2.0,>=1.26.0->apache-beam[gcp]) (0.16)\n",
            "Requirement already satisfied: google-resumable-media<3.0dev,>=0.6.0 in /usr/local/lib/python3.10/dist-packages (from google-cloud-bigquery<4,>=2.0.0->apache-beam[gcp]) (2.7.2)\n",
            "Requirement already satisfied: grpc-google-iam-v1<1.0.0dev,>=0.12.4 in /usr/local/lib/python3.10/dist-packages (from google-cloud-bigtable<3,>=2.19.0->apache-beam[gcp]) (0.13.1)\n",
            "Requirement already satisfied: grpcio-status>=1.33.2 in /usr/local/lib/python3.10/dist-packages (from google-cloud-pubsub<3,>=2.1.0->apache-beam[gcp]) (1.48.2)\n",
            "Collecting overrides<8.0.0,>=6.0.1 (from google-cloud-pubsublite<2,>=1.2.0->apache-beam[gcp])\n",
            "  Downloading overrides-7.7.0-py3-none-any.whl.metadata (5.8 kB)\n",
            "Requirement already satisfied: sqlparse>=0.4.4 in /usr/local/lib/python3.10/dist-packages (from google-cloud-spanner<4,>=3.0.0->apache-beam[gcp]) (0.5.1)\n",
            "Collecting grpc-interceptor>=0.15.4 (from google-cloud-spanner<4,>=3.0.0->apache-beam[gcp])\n",
            "  Downloading grpc_interceptor-0.15.4-py3-none-any.whl.metadata (8.4 kB)\n",
            "Requirement already satisfied: google-crc32c<2.0dev,>=1.0 in /usr/local/lib/python3.10/dist-packages (from google-cloud-storage<3,>=2.16.0->apache-beam[gcp]) (1.5.0)\n",
            "Collecting docopt (from hdfs<3.0.0,>=2.1.0->apache-beam[gcp])\n",
            "  Downloading docopt-0.6.2.tar.gz (25 kB)\n",
            "  Preparing metadata (setup.py) ... \u001b[?25l\u001b[?25hdone\n",
            "Requirement already satisfied: pyparsing!=3.0.0,!=3.0.1,!=3.0.2,!=3.0.3,<4,>=2.4.2 in /usr/local/lib/python3.10/dist-packages (from httplib2<0.23.0,>=0.8->apache-beam[gcp]) (3.1.2)\n",
            "Requirement already satisfied: tzlocal>=1.2 in /usr/local/lib/python3.10/dist-packages (from js2py<1,>=0.74->apache-beam[gcp]) (5.2)\n",
            "Collecting pyjsparser>=2.5.1 (from js2py<1,>=0.74->apache-beam[gcp])\n",
            "  Downloading pyjsparser-2.7.1.tar.gz (24 kB)\n",
            "  Preparing metadata (setup.py) ... \u001b[?25l\u001b[?25hdone\n",
            "Requirement already satisfied: attrs>=22.2.0 in /usr/local/lib/python3.10/dist-packages (from jsonschema<5.0.0,>=4.0.0->apache-beam[gcp]) (24.2.0)\n",
            "Requirement already satisfied: jsonschema-specifications>=2023.03.6 in /usr/local/lib/python3.10/dist-packages (from jsonschema<5.0.0,>=4.0.0->apache-beam[gcp]) (2023.12.1)\n",
            "Requirement already satisfied: referencing>=0.28.4 in /usr/local/lib/python3.10/dist-packages (from jsonschema<5.0.0,>=4.0.0->apache-beam[gcp]) (0.35.1)\n",
            "Requirement already satisfied: rpds-py>=0.7.1 in /usr/local/lib/python3.10/dist-packages (from jsonschema<5.0.0,>=4.0.0->apache-beam[gcp]) (0.20.0)\n",
            "Collecting dnspython<3.0.0,>=1.16.0 (from pymongo<5.0.0,>=3.8.0->apache-beam[gcp])\n",
            "  Downloading dnspython-2.6.1-py3-none-any.whl.metadata (5.8 kB)\n",
            "Requirement already satisfied: async-timeout>=4.0.3 in /usr/local/lib/python3.10/dist-packages (from redis<6,>=5.0.0->apache-beam[gcp]) (4.0.3)\n",
            "Requirement already satisfied: charset-normalizer<4,>=2 in /usr/local/lib/python3.10/dist-packages (from requests!=2.32.*,<3.0.0,>=2.24.0->apache-beam[gcp]) (3.3.2)\n",
            "Requirement already satisfied: idna<4,>=2.5 in /usr/local/lib/python3.10/dist-packages (from requests!=2.32.*,<3.0.0,>=2.24.0->apache-beam[gcp]) (3.7)\n",
            "Requirement already satisfied: urllib3<3,>=1.21.1 in /usr/local/lib/python3.10/dist-packages (from requests!=2.32.*,<3.0.0,>=2.24.0->apache-beam[gcp]) (2.0.7)\n",
            "Requirement already satisfied: certifi>=2017.4.17 in /usr/local/lib/python3.10/dist-packages (from requests!=2.32.*,<3.0.0,>=2.24.0->apache-beam[gcp]) (2024.7.4)\n",
            "Requirement already satisfied: uritemplate<5,>=3.0.1 in /usr/local/lib/python3.10/dist-packages (from google-api-python-client>=1.12.1->earthengine-api>=0.1.355->benin-data==1.1.0) (4.1.1)\n",
            "Requirement already satisfied: pyasn1>=0.1.7 in /usr/local/lib/python3.10/dist-packages (from oauth2client>=1.4.12->google-apitools<0.5.32,>=0.5.31->apache-beam[gcp]) (0.6.0)\n",
            "Requirement already satisfied: annotated-types>=0.4.0 in /usr/local/lib/python3.10/dist-packages (from pydantic<3->google-cloud-aiplatform<2.0,>=1.26.0->apache-beam[gcp]) (0.7.0)\n",
            "Requirement already satisfied: pydantic-core==2.20.1 in /usr/local/lib/python3.10/dist-packages (from pydantic<3->google-cloud-aiplatform<2.0,>=1.26.0->apache-beam[gcp]) (2.20.1)\n",
            "Downloading fastavro-1.9.5-cp310-cp310-manylinux_2_17_x86_64.manylinux2014_x86_64.whl (3.1 MB)\n",
            "\u001b[2K   \u001b[90m━━━━━━━━━━━━━━━━━━━━━━━━━━━━━━━━━━━━━━━━\u001b[0m \u001b[32m3.1/3.1 MB\u001b[0m \u001b[31m37.8 MB/s\u001b[0m eta \u001b[36m0:00:00\u001b[0m\n",
            "\u001b[?25hDownloading fasteners-0.19-py3-none-any.whl (18 kB)\n",
            "Downloading google_cloud_dlp-3.22.0-py2.py3-none-any.whl (190 kB)\n",
            "Downloading google_cloud_pubsublite-1.11.1-py2.py3-none-any.whl (304 kB)\n",
            "Downloading google_cloud_recommendations_ai-0.10.12-py2.py3-none-any.whl (184 kB)\n",
            "Downloading google_cloud_spanner-3.48.0-py2.py3-none-any.whl (397 kB)\n",
            "Downloading google_cloud_storage-2.18.2-py2.py3-none-any.whl (130 kB)\n",
            "Downloading google_cloud_videointelligence-2.13.5-py2.py3-none-any.whl (244 kB)\n",
            "Downloading google_cloud_vision-3.7.4-py2.py3-none-any.whl (467 kB)\n",
            "Downloading Js2Py-0.74-py3-none-any.whl (1.0 MB)\n",
            "\u001b[2K   \u001b[90m━━━━━━━━━━━━━━━━━━━━━━━━━━━━━━━━━━━━━━━━\u001b[0m \u001b[32m1.0/1.0 MB\u001b[0m \u001b[31m26.9 MB/s\u001b[0m eta \u001b[36m0:00:00\u001b[0m\n",
            "\u001b[?25hDownloading objsize-0.7.0-py3-none-any.whl (11 kB)\n",
            "Downloading orjson-3.10.7-cp310-cp310-manylinux_2_17_x86_64.manylinux2014_x86_64.whl (141 kB)\n",
            "Downloading pymongo-4.8.0-cp310-cp310-manylinux_2_17_x86_64.manylinux2014_x86_64.whl (1.2 MB)\n",
            "\u001b[2K   \u001b[90m━━━━━━━━━━━━━━━━━━━━━━━━━━━━━━━━━━━━━━━━\u001b[0m \u001b[32m1.2/1.2 MB\u001b[0m \u001b[31m31.0 MB/s\u001b[0m eta \u001b[36m0:00:00\u001b[0m\n",
            "\u001b[?25hDownloading redis-5.0.8-py3-none-any.whl (255 kB)\n",
            "Downloading requests-2.31.0-py3-none-any.whl (62 kB)\n",
            "Downloading zstandard-0.23.0-cp310-cp310-manylinux_2_17_x86_64.manylinux2014_x86_64.whl (5.4 MB)\n",
            "\u001b[2K   \u001b[90m━━━━━━━━━━━━━━━━━━━━━━━━━━━━━━━━━━━━━━━━\u001b[0m \u001b[32m5.4/5.4 MB\u001b[0m \u001b[31m53.9 MB/s\u001b[0m eta \u001b[36m0:00:00\u001b[0m\n",
            "\u001b[?25hDownloading apache_beam-2.58.1-cp310-cp310-manylinux_2_17_x86_64.manylinux2014_x86_64.whl (14.6 MB)\n",
            "\u001b[2K   \u001b[90m━━━━━━━━━━━━━━━━━━━━━━━━━━━━━━━━━━━━━━━━\u001b[0m \u001b[32m14.6/14.6 MB\u001b[0m \u001b[31m64.3 MB/s\u001b[0m eta \u001b[36m0:00:00\u001b[0m\n",
            "\u001b[?25hDownloading dnspython-2.6.1-py3-none-any.whl (307 kB)\n",
            "Downloading grpc_interceptor-0.15.4-py3-none-any.whl (20 kB)\n",
            "Downloading overrides-7.7.0-py3-none-any.whl (17 kB)\n",
            "Building wheels for collected packages: benin-data, crcmod, dill, google-apitools, hdfs, pyjsparser, docopt\n",
            "  Building wheel for benin-data (pyproject.toml) ... \u001b[?25l\u001b[?25hdone\n",
            "  Created wheel for benin-data: filename=benin_data-1.1.0-py3-none-any.whl size=4814 sha256=3a9d716cc3d2f347210235b41013ffa558440788ab5be15c2c108654c4302909\n",
            "  Stored in directory: /root/.cache/pip/wheels/bb/97/28/55f64f8c7f681200ffa99188a415a0b206b432702b855ccfe9\n",
            "  Building wheel for crcmod (setup.py) ... \u001b[?25l\u001b[?25hdone\n",
            "  Created wheel for crcmod: filename=crcmod-1.7-cp310-cp310-linux_x86_64.whl size=31406 sha256=1837fb3c64c4680cb3cef8a1973a1add6b6d7aa3a22af3cf14df27cd8fe3cf71\n",
            "  Stored in directory: /root/.cache/pip/wheels/85/4c/07/72215c529bd59d67e3dac29711d7aba1b692f543c808ba9e86\n",
            "  Building wheel for dill (setup.py) ... \u001b[?25l\u001b[?25hdone\n",
            "  Created wheel for dill: filename=dill-0.3.1.1-py3-none-any.whl size=78542 sha256=5da22889f71fa7b73604f1afbc8e789ff73595c05b5be45dae17041a3921eb27\n",
            "  Stored in directory: /root/.cache/pip/wheels/ea/e2/86/64980d90e297e7bf2ce588c2b96e818f5399c515c4bb8a7e4f\n",
            "  Building wheel for google-apitools (setup.py) ... \u001b[?25l\u001b[?25hdone\n",
            "  Created wheel for google-apitools: filename=google_apitools-0.5.31-py3-none-any.whl size=131014 sha256=20499dd89c711bd5fb9a89265d557346c741df710536b74d76574c4537c933ad\n",
            "  Stored in directory: /root/.cache/pip/wheels/04/b7/e0/9712f8c23a5da3d9d16fb88216b897bf60e85b12f5470f26ee\n",
            "  Building wheel for hdfs (setup.py) ... \u001b[?25l\u001b[?25hdone\n",
            "  Created wheel for hdfs: filename=hdfs-2.7.3-py3-none-any.whl size=34325 sha256=31df623ee1371c5229edeca4d01f76764c60a0651921a259cfde79eaec5b5068\n",
            "  Stored in directory: /root/.cache/pip/wheels/e5/8d/b6/99c1c0a3ac5788c866b0ecd3f48b0134a5910e6ed26011800b\n",
            "  Building wheel for pyjsparser (setup.py) ... \u001b[?25l\u001b[?25hdone\n",
            "  Created wheel for pyjsparser: filename=pyjsparser-2.7.1-py3-none-any.whl size=25983 sha256=14a7be281540bd6c271893b131f6462078e35b2380522d0bb1181aa6591d4fba\n",
            "  Stored in directory: /root/.cache/pip/wheels/5e/81/26/5956478df303e2bf5a85a5df595bb307bd25948a4bab69f7c7\n",
            "  Building wheel for docopt (setup.py) ... \u001b[?25l\u001b[?25hdone\n",
            "  Created wheel for docopt: filename=docopt-0.6.2-py2.py3-none-any.whl size=13704 sha256=83caaf6702fce07a39901bc334a8de7708bb02d501046fd5db4e3d389244926a\n",
            "  Stored in directory: /root/.cache/pip/wheels/fc/ab/d4/5da2067ac95b36618c629a5f93f809425700506f72c9732fac\n",
            "Successfully built benin-data crcmod dill google-apitools hdfs pyjsparser docopt\n",
            "Installing collected packages: pyjsparser, docopt, crcmod, zstandard, requests, redis, overrides, orjson, objsize, js2py, grpc-interceptor, fasteners, fastavro, dnspython, dill, pymongo, hdfs, google-apitools, apache-beam, google-cloud-vision, google-cloud-videointelligence, google-cloud-storage, google-cloud-spanner, google-cloud-recommendations-ai, google-cloud-dlp, google-cloud-pubsublite, benin-data\n",
            "  Attempting uninstall: requests\n",
            "    Found existing installation: requests 2.32.3\n",
            "    Uninstalling requests-2.32.3:\n",
            "      Successfully uninstalled requests-2.32.3\n",
            "  Attempting uninstall: google-cloud-storage\n",
            "    Found existing installation: google-cloud-storage 2.8.0\n",
            "    Uninstalling google-cloud-storage-2.8.0:\n",
            "      Successfully uninstalled google-cloud-storage-2.8.0\n",
            "\u001b[31mERROR: pip's dependency resolver does not currently take into account all the packages that are installed. This behaviour is the source of the following dependency conflicts.\n",
            "google-colab 1.0.0 requires requests==2.32.3, but you have requests 2.31.0 which is incompatible.\u001b[0m\u001b[31m\n",
            "\u001b[0mSuccessfully installed apache-beam-2.58.1 benin-data-1.1.0 crcmod-1.7 dill-0.3.1.1 dnspython-2.6.1 docopt-0.6.2 fastavro-1.9.5 fasteners-0.19 google-apitools-0.5.31 google-cloud-dlp-3.22.0 google-cloud-pubsublite-1.11.1 google-cloud-recommendations-ai-0.10.12 google-cloud-spanner-3.48.0 google-cloud-storage-2.18.2 google-cloud-videointelligence-2.13.5 google-cloud-vision-3.7.4 grpc-interceptor-0.15.4 hdfs-2.7.3 js2py-0.74 objsize-0.7.0 orjson-3.10.7 overrides-7.7.0 pyjsparser-2.7.1 pymongo-4.8.0 redis-5.0.8 requests-2.31.0 zstandard-0.23.0\n"
          ]
        },
        {
          "output_type": "display_data",
          "data": {
            "application/vnd.colab-display-data+json": {
              "pip_warning": {
                "packages": [
                  "google"
                ]
              },
              "id": "d9b7cab507384faa8ac0c2c7290bc386"
            }
          },
          "metadata": {}
        }
      ],
      "source": [
        "!pip install --quiet --upgrade pip\n",
        "\n",
        "# We need `build` and `virtualenv` to build the local packages.\n",
        "!pip install --quiet build virtualenv\n",
        "\n",
        "# Install Apache Beam and the `benin-data` local package.\n",
        "!pip install apache-beam[gcp] src/benin-data"
      ]
    },
    {
      "cell_type": "code",
      "execution_count": 5,
      "metadata": {
        "id": "VebxlGd3Jf8Z"
      },
      "outputs": [],
      "source": [
        "# run to manually restart runtime by ending process\n",
        "# exit()"
      ]
    },
    {
      "cell_type": "markdown",
      "source": [
        "## 1.2 General settings"
      ],
      "metadata": {
        "id": "yE9Bod1wQfQJ"
      }
    },
    {
      "cell_type": "markdown",
      "metadata": {
        "id": "OMU82mRYNfFp"
      },
      "source": [
        "At this point runtime is restarted. Navigate back to our working directory."
      ]
    },
    {
      "cell_type": "code",
      "execution_count": 1,
      "metadata": {
        "colab": {
          "base_uri": "https://localhost:8080/"
        },
        "id": "54QJoqywApQO",
        "outputId": "2e291746-6775-4582-ba22-91b6a54f220e"
      },
      "outputs": [
        {
          "output_type": "stream",
          "name": "stdout",
          "text": [
            "/content/satellite_cnns\n"
          ]
        }
      ],
      "source": [
        "%cd /content/satellite_cnns"
      ]
    },
    {
      "cell_type": "code",
      "execution_count": 2,
      "metadata": {
        "cellView": "form",
        "colab": {
          "base_uri": "https://localhost:8080/"
        },
        "id": "_2iFfceKGhMC",
        "outputId": "5602e793-05eb-4076-e21b-dd913d644388"
      },
      "outputs": [
        {
          "output_type": "stream",
          "name": "stdout",
          "text": [
            "Updated property [core/project].\n"
          ]
        }
      ],
      "source": [
        "#@title Project settings\n",
        "from __future__ import annotations\n",
        "\n",
        "import os\n",
        "from google.colab import auth\n",
        "\n",
        "auth.authenticate_user()\n",
        "\n",
        "# Please fill in these values.\n",
        "project = \"satellite-cnns\" #@param {type:\"string\"}\n",
        "bucket = \"beninbucket\" #@param {type:\"string\"}\n",
        "location = \"us-central1\" #@param {type:\"string\"}\n",
        "\n",
        "# Quick input validations.\n",
        "assert project, \"⚠️ Please provide a Google Cloud project ID\"\n",
        "assert bucket, \"⚠️ Please provide a Cloud Storage bucket name\"\n",
        "assert not bucket.startswith('gs://'), f\"⚠️ Please remove the gs:// prefix from the bucket name: {bucket}\"\n",
        "assert location, \"⚠️ Please provide a Google Cloud location\"\n",
        "\n",
        "# Authenticate to Colab.\n",
        "auth.authenticate_user()\n",
        "\n",
        "# Set GOOGLE_CLOUD_PROJECT for google.auth.default().\n",
        "os.environ['GOOGLE_CLOUD_PROJECT'] = project\n",
        "\n",
        "# Set the gcloud project for other gcloud commands.\n",
        "!gcloud config set project {project}"
      ]
    },
    {
      "cell_type": "code",
      "execution_count": 3,
      "metadata": {
        "id": "y_MaPEZ4HIwr"
      },
      "outputs": [],
      "source": [
        "import ee\n",
        "import google.auth\n",
        "\n",
        "credentials, _ = google.auth.default()\n",
        "ee.Initialize(\n",
        "    credentials.with_quota_project(None),\n",
        "    project=project,\n",
        "    opt_url=\"https://earthengine-highvolume.googleapis.com\",\n",
        ")"
      ]
    },
    {
      "cell_type": "markdown",
      "metadata": {
        "id": "fuHHM5pXQ_DJ"
      },
      "source": [
        "# 2. Read data\n"
      ]
    },
    {
      "cell_type": "markdown",
      "source": [
        "## 2.1 Google Cloud Storage"
      ],
      "metadata": {
        "id": "l0OuoVlISe8A"
      }
    },
    {
      "cell_type": "markdown",
      "metadata": {
        "id": "-q-e2eD7hHXT"
      },
      "source": [
        "Let's check Google Cloud Storage to see the files in GC"
      ]
    },
    {
      "cell_type": "code",
      "execution_count": 4,
      "metadata": {
        "colab": {
          "base_uri": "https://localhost:8080/"
        },
        "id": "Wfw7_T1UhSoC",
        "outputId": "4ef2d916-ea94-4d56-9dda-ccd183def6c0"
      },
      "outputs": [
        {
          "output_type": "stream",
          "name": "stdout",
          "text": [
            "gs://beninbucket/yb_test/data\n",
            " 58.36 KiB  2024-08-26T08:51:45Z  gs://beninbucket/yb_test/data/08b463a2-8a6b-4fbf-ad5f-6f9ec6293795.npz\n",
            " 56.69 KiB  2024-08-26T09:21:27Z  gs://beninbucket/yb_test/data/0acd633a-462f-4c47-926c-9aa06b2ed6b9.npz\n",
            " 51.88 KiB  2024-08-26T09:21:23Z  gs://beninbucket/yb_test/data/0bb7f20a-8eb9-4de1-9478-9ddc815de048.npz\n",
            "918.03 KiB  2024-08-26T09:03:52Z  gs://beninbucket/yb_test/data/0c62d4f0-7444-4feb-b3c9-49cb44054f56.npz\n",
            "112.06 KiB  2024-08-26T09:19:09Z  gs://beninbucket/yb_test/data/0c755d3f-846a-4fe6-9536-b20e8b210295.npz\n",
            "297.34 KiB  2024-08-26T09:15:08Z  gs://beninbucket/yb_test/data/0cb456da-b888-438b-add6-1478de376f99.npz\n",
            "115.32 KiB  2024-08-26T08:57:47Z  gs://beninbucket/yb_test/data/0d52d9a4-5a7c-426a-9742-237575603f70.npz\n",
            "452.27 KiB  2024-08-26T09:13:30Z  gs://beninbucket/yb_test/data/0f015150-2935-45a5-be28-5e9235efc0bc.npz\n",
            "430.67 KiB  2024-08-26T09:00:42Z  gs://beninbucket/yb_test/data/0f535f53-f97d-43a3-aa14-9b4bd484aadc.npz\n",
            "113.82 KiB  2024-08-26T09:16:48Z  gs://beninbucket/yb_test/data/106a3869-db8c-4240-b5bb-35e8d6b19fa2.npz\n",
            "107.52 KiB  2024-08-26T08:57:53Z  gs://beninbucket/yb_test/data/14c6bc8f-a313-4230-9f71-aaf5bc5541c9.npz\n",
            "336.82 KiB  2024-08-26T09:13:50Z  gs://beninbucket/yb_test/data/18d1bb2f-7d49-421f-b8d0-288407d2d36c.npz\n",
            "460.46 KiB  2024-08-26T09:20:50Z  gs://beninbucket/yb_test/data/1ad40594-ca9c-418a-8aa9-c1ac49738c8c.npz\n",
            " 574.9 KiB  2024-08-26T09:20:03Z  gs://beninbucket/yb_test/data/1b1220a7-ee18-4db6-a64d-159c14cc2dd6.npz\n",
            "118.03 KiB  2024-08-26T09:19:30Z  gs://beninbucket/yb_test/data/1b37c686-1a11-491d-ba2d-f8b7f95a324f.npz\n",
            "228.73 KiB  2024-08-26T08:52:56Z  gs://beninbucket/yb_test/data/1bb13e7a-12e2-448f-a67e-e9200c7ff807.npz\n",
            "920.58 KiB  2024-08-26T09:03:54Z  gs://beninbucket/yb_test/data/213da513-db26-4504-8fab-eeb1190f994c.npz\n",
            "334.75 KiB  2024-08-26T09:20:54Z  gs://beninbucket/yb_test/data/22d50f6e-8566-49e0-a087-e1798bf4b684.npz\n",
            " 59.44 KiB  2024-08-26T08:57:15Z  gs://beninbucket/yb_test/data/230f1b66-da62-4964-8f74-bbc0fe7c1c4f.npz\n",
            "904.06 KiB  2024-08-26T09:03:45Z  gs://beninbucket/yb_test/data/23b4fe92-4202-4ff6-a855-3e78460ba1f3.npz\n",
            "791.35 KiB  2024-08-26T09:14:43Z  gs://beninbucket/yb_test/data/252bc5b7-b42a-4e78-814e-ed6cf413d817.npz\n",
            "112.55 KiB  2024-08-26T08:57:36Z  gs://beninbucket/yb_test/data/26d1ec93-e846-4918-a012-64f2d5f86663.npz\n",
            "910.32 KiB  2024-08-26T09:04:14Z  gs://beninbucket/yb_test/data/2ab1026f-3e0e-429a-adc3-6a83eb5af1ad.npz\n",
            "340.26 KiB  2024-08-26T09:21:07Z  gs://beninbucket/yb_test/data/2ab7b60e-d748-493a-b92e-85249c82f60b.npz\n",
            "  1.79 MiB  2024-08-26T09:10:04Z  gs://beninbucket/yb_test/data/2e088084-7409-470e-948d-d24f9aafc46f.npz\n",
            "454.43 KiB  2024-08-26T09:01:03Z  gs://beninbucket/yb_test/data/30e476f8-587b-4fea-bf4a-793a8e09468f.npz\n",
            "  1.53 MiB  2024-08-26T09:12:02Z  gs://beninbucket/yb_test/data/31256cab-3c3d-4d1e-bd20-0d6537b0897f.npz\n",
            "170.09 KiB  2024-08-26T09:21:10Z  gs://beninbucket/yb_test/data/327a7b04-7fb1-4253-948e-13c7e251e297.npz\n",
            "232.39 KiB  2024-08-26T08:58:13Z  gs://beninbucket/yb_test/data/3610abba-5b0d-4f5a-bc57-9a5299e6ad2e.npz\n",
            "  1.77 MiB  2024-08-26T09:10:08Z  gs://beninbucket/yb_test/data/36d84621-6b5c-43e7-9f28-337c56aff498.npz\n",
            "225.75 KiB  2024-08-26T09:06:29Z  gs://beninbucket/yb_test/data/38ebc536-4cc4-4d07-a2f1-7f148d46fe24.npz\n",
            "123.53 KiB  2024-08-26T08:57:29Z  gs://beninbucket/yb_test/data/39052695-eea9-4ae3-b4fe-93cbf1414ea1.npz\n",
            " 57.72 KiB  2024-08-26T08:56:35Z  gs://beninbucket/yb_test/data/398c6558-761b-48da-bf4b-6da56526cef3.npz\n",
            "  1.55 MiB  2024-08-26T09:17:55Z  gs://beninbucket/yb_test/data/3bddf923-b882-45ba-959e-e7feb7631cd4.npz\n",
            " 60.35 KiB  2024-08-26T08:57:13Z  gs://beninbucket/yb_test/data/3c5e5977-9ad4-4a63-89b9-e935f25e76e9.npz\n",
            "902.24 KiB  2024-08-26T09:16:38Z  gs://beninbucket/yb_test/data/3f3798a0-057e-489a-8c2c-8012dbc1e78c.npz\n",
            "  1.22 MiB  2024-08-26T09:12:43Z  gs://beninbucket/yb_test/data/40e87854-deaa-4520-829b-ac98af2281e9.npz\n",
            " 56.38 KiB  2024-08-26T09:21:30Z  gs://beninbucket/yb_test/data/44d972f7-4b5e-44ef-b370-8f76d081c4ea.npz\n",
            "  2.71 MiB  2024-08-26T09:19:43Z  gs://beninbucket/yb_test/data/473a8d43-0e22-4583-9e51-5c71a612e5f8.npz\n",
            "    59 KiB  2024-08-26T08:57:05Z  gs://beninbucket/yb_test/data/4b48787b-7aa8-46b4-b166-6ab99a9ae4a3.npz\n",
            "114.12 KiB  2024-08-26T09:05:17Z  gs://beninbucket/yb_test/data/4bb3443d-af58-45f9-b494-428b90c80472.npz\n",
            "451.88 KiB  2024-08-26T09:00:30Z  gs://beninbucket/yb_test/data/4d49cadd-4776-4db4-b8d8-b597478dc5f7.npz\n",
            " 52.14 KiB  2024-08-26T09:21:20Z  gs://beninbucket/yb_test/data/4e9e3018-443c-4443-a755-87dc8c360337.npz\n",
            "  1.78 MiB  2024-08-26T09:09:43Z  gs://beninbucket/yb_test/data/4f0dadf5-1a8c-4305-9dd1-2c046593a774.npz\n",
            " 55.58 KiB  2024-08-26T09:21:11Z  gs://beninbucket/yb_test/data/4fda72fb-f24e-49d6-92ab-4db87157ae39.npz\n",
            "906.21 KiB  2024-08-26T09:03:32Z  gs://beninbucket/yb_test/data/531961fc-a8c8-4ade-b0ca-af8976abafc9.npz\n",
            "227.71 KiB  2024-08-26T08:58:06Z  gs://beninbucket/yb_test/data/53f476cd-7adb-4c38-82cd-1c2834b19199.npz\n",
            "111.53 KiB  2024-08-26T08:52:07Z  gs://beninbucket/yb_test/data/5441a1cf-5b74-4224-be64-2d1eb1edee46.npz\n",
            " 55.09 KiB  2024-08-26T08:56:44Z  gs://beninbucket/yb_test/data/5680aa6a-573e-42f5-b58b-38e8aa89c2d4.npz\n",
            "114.62 KiB  2024-08-26T09:17:11Z  gs://beninbucket/yb_test/data/5967aa32-7e5d-4690-8d41-e88e366fbfb1.npz\n",
            "922.45 KiB  2024-08-26T09:04:30Z  gs://beninbucket/yb_test/data/598039b4-4ef6-4d74-8e41-106838bd9fc4.npz\n",
            "171.53 KiB  2024-08-26T09:15:39Z  gs://beninbucket/yb_test/data/5ad6375e-4bf8-4a30-9527-f7c6a56d2626.npz\n",
            "228.38 KiB  2024-08-26T09:10:20Z  gs://beninbucket/yb_test/data/5b9b033b-d3cc-4b32-835c-7b3dca47d3dd.npz\n",
            " 56.17 KiB  2024-08-26T09:21:15Z  gs://beninbucket/yb_test/data/5c9a180d-e709-445f-b4cc-d4fafad1ac87.npz\n",
            "115.22 KiB  2024-08-26T08:56:56Z  gs://beninbucket/yb_test/data/5d2da53a-2581-44c4-9369-fc6e57d1f434.npz\n",
            " 54.81 KiB  2024-08-26T08:57:17Z  gs://beninbucket/yb_test/data/5d798fc6-eea8-49b4-869b-9970fe6308dc.npz\n",
            "103.28 KiB  2024-08-26T09:21:09Z  gs://beninbucket/yb_test/data/5e837ef1-aaa2-4cd1-82bb-4e73659d5ebf.npz\n",
            " 56.56 KiB  2024-08-26T09:18:46Z  gs://beninbucket/yb_test/data/61888df9-618f-47c8-b711-75f5354eaa29.npz\n",
            "111.88 KiB  2024-08-26T08:58:02Z  gs://beninbucket/yb_test/data/6317c427-e4d6-43ac-913b-7ae1def5b4d5.npz\n",
            " 223.7 KiB  2024-08-26T09:00:30Z  gs://beninbucket/yb_test/data/65bbc21b-5824-45ef-b66b-c3555508daa5.npz\n",
            "114.29 KiB  2024-08-26T08:57:20Z  gs://beninbucket/yb_test/data/66470b12-93b2-4093-871d-88904bd0b03a.npz\n",
            "462.62 KiB  2024-08-26T09:00:40Z  gs://beninbucket/yb_test/data/678beeb5-ce7c-4c24-8dcf-ab58fdd90b0a.npz\n",
            "  1.21 MiB  2024-08-26T09:08:25Z  gs://beninbucket/yb_test/data/691fa689-8ef4-47f1-8182-5d6f5d597a9c.npz\n",
            "281.29 KiB  2024-08-26T09:21:15Z  gs://beninbucket/yb_test/data/69c472db-ad3d-41f9-98ea-a251159532b5.npz\n",
            " 56.71 KiB  2024-08-26T09:20:19Z  gs://beninbucket/yb_test/data/6adc9694-2afb-4d5f-a85a-cc0c89a404a4.npz\n",
            "566.75 KiB  2024-08-26T09:18:02Z  gs://beninbucket/yb_test/data/6c8638f3-1bfd-407f-a500-ca0cc2b16228.npz\n",
            "   391 KiB  2024-08-26T09:09:05Z  gs://beninbucket/yb_test/data/6da65375-ab84-41c0-bae9-1243b362f403.npz\n",
            "115.91 KiB  2024-08-26T09:16:41Z  gs://beninbucket/yb_test/data/6f1b6431-6c60-4b8d-add6-ff81a2480743.npz\n",
            "226.57 KiB  2024-08-26T09:17:37Z  gs://beninbucket/yb_test/data/7018bd59-d245-46b6-8e53-1a1724007eee.npz\n",
            "460.09 KiB  2024-08-26T09:13:25Z  gs://beninbucket/yb_test/data/70726df4-bb3b-4ad3-b25a-2f644111d6e8.npz\n",
            " 53.69 KiB  2024-08-26T09:04:41Z  gs://beninbucket/yb_test/data/755c33d2-ac0e-4530-b0c6-27e0f01a79dd.npz\n",
            "168.14 KiB  2024-08-26T09:11:20Z  gs://beninbucket/yb_test/data/7921a0de-18f0-43f7-8635-f4242cab8590.npz\n",
            "225.32 KiB  2024-08-26T08:58:10Z  gs://beninbucket/yb_test/data/79f9891b-af69-4c40-9741-aad9577dda21.npz\n",
            " 54.77 KiB  2024-08-26T09:10:08Z  gs://beninbucket/yb_test/data/7c1700a5-594a-4af3-832b-9e58fc9eb95b.npz\n",
            " 55.62 KiB  2024-08-26T08:57:26Z  gs://beninbucket/yb_test/data/7ffa64db-3965-4917-b445-355887644276.npz\n",
            "  1.77 MiB  2024-08-26T09:10:55Z  gs://beninbucket/yb_test/data/80c6cb01-6d21-473f-89b9-6620231a9980.npz\n",
            "113.05 KiB  2024-08-26T09:05:41Z  gs://beninbucket/yb_test/data/85a2902c-07cb-4da3-ba74-c5129b5c38fe.npz\n",
            " 50.31 KiB  2024-08-26T09:16:11Z  gs://beninbucket/yb_test/data/85ef0008-b8a8-43ce-baf0-066460b59539.npz\n",
            "565.51 KiB  2024-08-26T09:19:40Z  gs://beninbucket/yb_test/data/8970d975-cce4-44ed-802f-6d61cf40a8e3.npz\n",
            " 57.13 KiB  2024-08-26T09:21:36Z  gs://beninbucket/yb_test/data/8a950637-67c6-44d5-b1b7-01ba365b066d.npz\n",
            " 59.74 KiB  2024-08-26T08:56:55Z  gs://beninbucket/yb_test/data/8ae4ed4e-201f-4f1d-b361-f4b4c081c5cd.npz\n",
            "621.03 KiB  2024-08-26T09:04:10Z  gs://beninbucket/yb_test/data/8d604f00-e21d-46b1-a998-25dafb69ca8d.npz\n",
            " 58.26 KiB  2024-08-26T09:21:02Z  gs://beninbucket/yb_test/data/936a505d-3656-4865-88ae-2137a69d1dde.npz\n",
            "  1.76 MiB  2024-08-26T09:10:06Z  gs://beninbucket/yb_test/data/955c4c20-45d1-4735-82fe-2ab3faec5309.npz\n",
            "112.89 KiB  2024-08-26T09:17:23Z  gs://beninbucket/yb_test/data/96088fe1-aea3-4c08-ba85-b6b5f0f8d101.npz\n",
            "445.78 KiB  2024-08-26T09:01:06Z  gs://beninbucket/yb_test/data/971029aa-3c15-451f-8194-7e35b151b8c1.npz\n",
            " 56.99 KiB  2024-08-26T08:51:32Z  gs://beninbucket/yb_test/data/975c545b-b053-4dca-a758-bd35dd75e9df.npz\n",
            "120.71 KiB  2024-08-26T09:10:47Z  gs://beninbucket/yb_test/data/99926955-1faa-4446-a512-43ec0cbf364f.npz\n",
            " 58.37 KiB  2024-08-26T09:21:08Z  gs://beninbucket/yb_test/data/9a81c54f-78ac-4164-ac84-15ca142fe9b9.npz\n",
            "213.15 KiB  2024-08-26T08:59:06Z  gs://beninbucket/yb_test/data/9d2fe1c5-6c7b-49c1-a3da-1fcd0c8acb92.npz\n",
            " 222.4 KiB  2024-08-26T09:20:19Z  gs://beninbucket/yb_test/data/9f8b992d-70c3-43b5-8b8b-a5a5d719b2d3.npz\n",
            " 59.51 KiB  2024-08-26T09:21:18Z  gs://beninbucket/yb_test/data/a13e5984-69f9-4ab3-91ab-dad13438d585.npz\n",
            "227.67 KiB  2024-08-26T09:19:04Z  gs://beninbucket/yb_test/data/a5274968-b954-42b8-864d-924fe6e3dae8.npz\n",
            "230.79 KiB  2024-08-26T09:18:41Z  gs://beninbucket/yb_test/data/a7862699-3621-4c01-96a1-097b5a1ee248.npz\n",
            "  1.78 MiB  2024-08-26T09:04:41Z  gs://beninbucket/yb_test/data/acc5dab8-212d-45d1-a794-2968226df1d8.npz\n",
            " 48.88 KiB  2024-08-26T08:56:58Z  gs://beninbucket/yb_test/data/af0fb40d-2eb7-4b58-b91c-f29b393f5de7.npz\n",
            " 56.73 KiB  2024-08-26T08:57:01Z  gs://beninbucket/yb_test/data/af35fcc5-f3c7-42f5-8f98-c9aa428ce946.npz\n",
            "  1.22 MiB  2024-08-26T09:17:01Z  gs://beninbucket/yb_test/data/af506ecf-56a9-4759-af09-f333e7dac85c.npz\n",
            "908.91 KiB  2024-08-26T08:57:26Z  gs://beninbucket/yb_test/data/b026eb0e-20e9-4966-9fbe-e2488e7a12fb.npz\n",
            " 59.51 KiB  2024-08-26T08:57:07Z  gs://beninbucket/yb_test/data/b4b030f4-bb3c-4c23-b2b1-ae4af082e134.npz\n",
            "683.97 KiB  2024-08-26T09:16:10Z  gs://beninbucket/yb_test/data/b913d880-a7d1-46a4-aba3-1495d5e6305e.npz\n",
            "221.87 KiB  2024-08-26T09:20:55Z  gs://beninbucket/yb_test/data/b9c36d1f-bc62-4c28-895c-14c7dbf02ab6.npz\n",
            " 57.97 KiB  2024-08-26T08:56:26Z  gs://beninbucket/yb_test/data/bf8cd660-a62c-4c17-b767-212bd4234604.npz\n",
            " 55.45 KiB  2024-08-26T09:18:27Z  gs://beninbucket/yb_test/data/bff51dbc-e914-4596-b6d8-de82b2adce5b.npz\n",
            " 59.42 KiB  2024-08-26T09:21:23Z  gs://beninbucket/yb_test/data/c001f1fc-095b-43e0-ab1f-06a7fc56f225.npz\n",
            "116.41 KiB  2024-08-26T09:11:10Z  gs://beninbucket/yb_test/data/c5069c04-1b9e-47d3-b793-edc3f8fe8990.npz\n",
            "794.13 KiB  2024-08-26T09:12:00Z  gs://beninbucket/yb_test/data/cc30ea75-6999-4d71-8e85-9661c843715d.npz\n",
            "    49 KiB  2024-08-26T08:57:29Z  gs://beninbucket/yb_test/data/cc6de972-78ca-429b-82e0-5d77f670f50c.npz\n",
            "465.84 KiB  2024-08-26T09:08:01Z  gs://beninbucket/yb_test/data/cd54d044-304f-459e-8c02-13d31986b2d4.npz\n",
            "386.21 KiB  2024-08-26T09:11:17Z  gs://beninbucket/yb_test/data/cf0fb50c-b6e0-4049-b644-c6c57d1eb9b4.npz\n",
            "    51 KiB  2024-08-26T09:21:36Z  gs://beninbucket/yb_test/data/d51b1b9c-27cc-419b-982e-cca6f345505d.npz\n",
            "447.06 KiB  2024-08-26T09:00:49Z  gs://beninbucket/yb_test/data/d608e62d-e2a7-4395-9d9d-a4433a0191b7.npz\n",
            "  1.16 MiB  2024-08-26T09:20:36Z  gs://beninbucket/yb_test/data/d71a90ea-1d53-47c3-b55a-365a5a77d1b8.npz\n",
            "225.85 KiB  2024-08-26T08:57:47Z  gs://beninbucket/yb_test/data/d74823e0-44b2-46f2-b746-ebcf69ab6863.npz\n",
            " 57.23 KiB  2024-08-26T09:21:26Z  gs://beninbucket/yb_test/data/d7fd7503-8191-4d25-a010-a2659ff35fd7.npz\n",
            "848.45 KiB  2024-08-26T09:17:24Z  gs://beninbucket/yb_test/data/d9874d91-6e85-454d-a395-ff83de454703.npz\n",
            " 59.81 KiB  2024-08-26T09:21:31Z  gs://beninbucket/yb_test/data/d9fdab85-ce68-441e-842c-855850b3672f.npz\n",
            "113.76 KiB  2024-08-26T09:20:09Z  gs://beninbucket/yb_test/data/ddbbd700-9846-4455-9e37-db8e759b0a52.npz\n",
            " 54.93 KiB  2024-08-26T09:21:18Z  gs://beninbucket/yb_test/data/dea852e1-2aeb-451e-ac3d-0fec5a427d86.npz\n",
            "343.08 KiB  2024-08-26T09:12:44Z  gs://beninbucket/yb_test/data/e0ee208f-5771-4fb9-a92e-81565f10a10a.npz\n",
            " 56.19 KiB  2024-08-26T09:21:41Z  gs://beninbucket/yb_test/data/e2a671fb-facf-422b-9d9c-245d3ef3ec2c.npz\n",
            "120.04 KiB  2024-08-26T09:20:59Z  gs://beninbucket/yb_test/data/e2ac0de3-fc2a-4734-84f8-819f1610b427.npz\n",
            " 57.73 KiB  2024-08-26T09:21:26Z  gs://beninbucket/yb_test/data/e2c7c7d8-ce7e-442a-8f0a-5255c65e2120.npz\n",
            "902.75 KiB  2024-08-26T09:16:25Z  gs://beninbucket/yb_test/data/e53892ed-20be-4b11-bfb9-fbe906a508ec.npz\n",
            " 56.92 KiB  2024-08-26T08:56:53Z  gs://beninbucket/yb_test/data/e668e23d-74da-4867-aaea-cfd70988970f.npz\n",
            " 233.1 KiB  2024-08-26T08:58:36Z  gs://beninbucket/yb_test/data/e7a3c63f-62f3-4933-9757-ba9359284b17.npz\n",
            "463.72 KiB  2024-08-26T08:54:31Z  gs://beninbucket/yb_test/data/e8c6628b-31d8-4cc7-8235-3cabe4d5e0a4.npz\n",
            "339.26 KiB  2024-08-26T09:18:31Z  gs://beninbucket/yb_test/data/eb61ef08-2568-429e-9176-e2ee3c3c79e4.npz\n",
            "116.52 KiB  2024-08-26T08:57:28Z  gs://beninbucket/yb_test/data/ed89c772-8355-4779-add2-1023ceff0a8a.npz\n",
            "789.63 KiB  2024-08-26T09:14:20Z  gs://beninbucket/yb_test/data/edc95501-42ce-4035-a1e4-879bd04bde23.npz\n",
            "224.47 KiB  2024-08-26T09:17:45Z  gs://beninbucket/yb_test/data/ede992ec-cc29-44f4-96ce-b3e04b103fc7.npz\n",
            "228.08 KiB  2024-08-26T09:11:55Z  gs://beninbucket/yb_test/data/ef99ddd2-2702-4f43-81d1-1c1bc416cbe6.npz\n",
            "172.27 KiB  2024-08-26T09:18:16Z  gs://beninbucket/yb_test/data/f2907c0e-2f87-4d79-9581-c8f2756b082f.npz\n",
            "455.62 KiB  2024-08-26T09:11:54Z  gs://beninbucket/yb_test/data/f33f4ac6-3d49-4fcb-863e-507b4e3b243f.npz\n",
            "453.37 KiB  2024-08-26T09:02:12Z  gs://beninbucket/yb_test/data/f373128a-faf5-471e-9fca-8d65e5d60a1f.npz\n",
            "221.58 KiB  2024-08-26T09:18:27Z  gs://beninbucket/yb_test/data/f3b3e034-2d63-4fc3-9fbd-fb2a3d544550.npz\n",
            "797.74 KiB  2024-08-26T09:06:24Z  gs://beninbucket/yb_test/data/f7c5f1c1-346b-4feb-8456-8628964cd1b5.npz\n",
            "453.05 KiB  2024-08-26T09:20:23Z  gs://beninbucket/yb_test/data/f9d35630-c629-4f55-8077-359d52d174a1.npz\n",
            "621.94 KiB  2024-08-26T09:20:58Z  gs://beninbucket/yb_test/data/fc82c747-22bf-448f-8ac8-f3bbaa3d26ed.npz\n",
            "227.08 KiB  2024-08-26T08:59:46Z  gs://beninbucket/yb_test/data/ff315bae-4bac-4e4f-9bec-9c1f865ac9d7.npz\n",
            "TOTAL: 140 objects, 58055341 bytes (55.37 MiB)\n"
          ]
        }
      ],
      "source": [
        "bucket = 'beninbucket'\n",
        "folder = 'yb_test'\n",
        "data_path=f\"gs://{bucket}/{folder}/data\"\n",
        "print(data_path)\n",
        "!gsutil ls -lh {data_path}"
      ]
    },
    {
      "cell_type": "markdown",
      "metadata": {
        "id": "HpV-2AohhZeb"
      },
      "source": [
        "Next, let's copy the files to a local directory to look at them"
      ]
    },
    {
      "cell_type": "code",
      "execution_count": 5,
      "metadata": {
        "colab": {
          "base_uri": "https://localhost:8080/"
        },
        "id": "blD6bUqtYfH3",
        "outputId": "fe12db64-ee37-4fab-d67e-20620a9156ae"
      },
      "outputs": [
        {
          "output_type": "stream",
          "name": "stdout",
          "text": [
            "Copying gs://beninbucket/yb_test/data/08b463a2-8a6b-4fbf-ad5f-6f9ec6293795.npz...\n",
            "Copying gs://beninbucket/yb_test/data/0acd633a-462f-4c47-926c-9aa06b2ed6b9.npz...\n",
            "Copying gs://beninbucket/yb_test/data/0bb7f20a-8eb9-4de1-9478-9ddc815de048.npz...\n",
            "/ [0 files][    0.0 B/ 42.4 MiB]                                                \rCopying gs://beninbucket/yb_test/data/0cb456da-b888-438b-add6-1478de376f99.npz...\n",
            "/ [0 files][    0.0 B/ 42.4 MiB]                                                \r/ [0 files][    0.0 B/ 42.4 MiB]                                                \r/ [0 files][    0.0 B/ 42.4 MiB]                                                \rCopying gs://beninbucket/yb_test/data/0c62d4f0-7444-4feb-b3c9-49cb44054f56.npz...\n",
            "/ [0/140 files][    0.0 B/ 55.4 MiB]   0% Done                                  \rCopying gs://beninbucket/yb_test/data/0d52d9a4-5a7c-426a-9742-237575603f70.npz...\n",
            "/ [0/140 files][    0.0 B/ 55.4 MiB]   0% Done                                  \rCopying gs://beninbucket/yb_test/data/0c755d3f-846a-4fe6-9536-b20e8b210295.npz...\n",
            "/ [0/140 files][    0.0 B/ 55.4 MiB]   0% Done                                  \rCopying gs://beninbucket/yb_test/data/0f015150-2935-45a5-be28-5e9235efc0bc.npz...\n",
            "/ [0/140 files][    0.0 B/ 55.4 MiB]   0% Done                                  \rCopying gs://beninbucket/yb_test/data/0f535f53-f97d-43a3-aa14-9b4bd484aadc.npz...\n",
            "Copying gs://beninbucket/yb_test/data/106a3869-db8c-4240-b5bb-35e8d6b19fa2.npz...\n",
            "Copying gs://beninbucket/yb_test/data/14c6bc8f-a313-4230-9f71-aaf5bc5541c9.npz...\n",
            "Copying gs://beninbucket/yb_test/data/18d1bb2f-7d49-421f-b8d0-288407d2d36c.npz...\n",
            "Copying gs://beninbucket/yb_test/data/1ad40594-ca9c-418a-8aa9-c1ac49738c8c.npz...\n",
            "Copying gs://beninbucket/yb_test/data/1b1220a7-ee18-4db6-a64d-159c14cc2dd6.npz...\n",
            "Copying gs://beninbucket/yb_test/data/1b37c686-1a11-491d-ba2d-f8b7f95a324f.npz...\n",
            "Copying gs://beninbucket/yb_test/data/1bb13e7a-12e2-448f-a67e-e9200c7ff807.npz...\n",
            "Copying gs://beninbucket/yb_test/data/213da513-db26-4504-8fab-eeb1190f994c.npz...\n",
            "Copying gs://beninbucket/yb_test/data/22d50f6e-8566-49e0-a087-e1798bf4b684.npz...\n",
            "Copying gs://beninbucket/yb_test/data/230f1b66-da62-4964-8f74-bbc0fe7c1c4f.npz...\n",
            "Copying gs://beninbucket/yb_test/data/23b4fe92-4202-4ff6-a855-3e78460ba1f3.npz...\n",
            "Copying gs://beninbucket/yb_test/data/252bc5b7-b42a-4e78-814e-ed6cf413d817.npz...\n",
            "Copying gs://beninbucket/yb_test/data/26d1ec93-e846-4918-a012-64f2d5f86663.npz...\n",
            "Copying gs://beninbucket/yb_test/data/2ab1026f-3e0e-429a-adc3-6a83eb5af1ad.npz...\n",
            "Copying gs://beninbucket/yb_test/data/2ab7b60e-d748-493a-b92e-85249c82f60b.npz...\n",
            "Copying gs://beninbucket/yb_test/data/2e088084-7409-470e-948d-d24f9aafc46f.npz...\n",
            "Copying gs://beninbucket/yb_test/data/30e476f8-587b-4fea-bf4a-793a8e09468f.npz...\n",
            "Copying gs://beninbucket/yb_test/data/31256cab-3c3d-4d1e-bd20-0d6537b0897f.npz...\n",
            "Copying gs://beninbucket/yb_test/data/327a7b04-7fb1-4253-948e-13c7e251e297.npz...\n",
            "Copying gs://beninbucket/yb_test/data/3610abba-5b0d-4f5a-bc57-9a5299e6ad2e.npz...\n",
            "Copying gs://beninbucket/yb_test/data/36d84621-6b5c-43e7-9f28-337c56aff498.npz...\n",
            "Copying gs://beninbucket/yb_test/data/38ebc536-4cc4-4d07-a2f1-7f148d46fe24.npz...\n",
            "Copying gs://beninbucket/yb_test/data/39052695-eea9-4ae3-b4fe-93cbf1414ea1.npz...\n",
            "Copying gs://beninbucket/yb_test/data/398c6558-761b-48da-bf4b-6da56526cef3.npz...\n",
            "Copying gs://beninbucket/yb_test/data/3bddf923-b882-45ba-959e-e7feb7631cd4.npz...\n",
            "Copying gs://beninbucket/yb_test/data/3c5e5977-9ad4-4a63-89b9-e935f25e76e9.npz...\n",
            "Copying gs://beninbucket/yb_test/data/3f3798a0-057e-489a-8c2c-8012dbc1e78c.npz...\n",
            "Copying gs://beninbucket/yb_test/data/40e87854-deaa-4520-829b-ac98af2281e9.npz...\n",
            "Copying gs://beninbucket/yb_test/data/44d972f7-4b5e-44ef-b370-8f76d081c4ea.npz...\n",
            "Copying gs://beninbucket/yb_test/data/4b48787b-7aa8-46b4-b166-6ab99a9ae4a3.npz...\n",
            "Copying gs://beninbucket/yb_test/data/473a8d43-0e22-4583-9e51-5c71a612e5f8.npz...\n",
            "Copying gs://beninbucket/yb_test/data/4bb3443d-af58-45f9-b494-428b90c80472.npz...\n",
            "Copying gs://beninbucket/yb_test/data/4d49cadd-4776-4db4-b8d8-b597478dc5f7.npz...\n",
            "Copying gs://beninbucket/yb_test/data/4e9e3018-443c-4443-a755-87dc8c360337.npz...\n",
            "Copying gs://beninbucket/yb_test/data/4f0dadf5-1a8c-4305-9dd1-2c046593a774.npz...\n",
            "Copying gs://beninbucket/yb_test/data/4fda72fb-f24e-49d6-92ab-4db87157ae39.npz...\n",
            "Copying gs://beninbucket/yb_test/data/531961fc-a8c8-4ade-b0ca-af8976abafc9.npz...\n",
            "Copying gs://beninbucket/yb_test/data/53f476cd-7adb-4c38-82cd-1c2834b19199.npz...\n",
            "Copying gs://beninbucket/yb_test/data/5441a1cf-5b74-4224-be64-2d1eb1edee46.npz...\n",
            "Copying gs://beninbucket/yb_test/data/5680aa6a-573e-42f5-b58b-38e8aa89c2d4.npz...\n",
            "Copying gs://beninbucket/yb_test/data/5967aa32-7e5d-4690-8d41-e88e366fbfb1.npz...\n",
            "Copying gs://beninbucket/yb_test/data/598039b4-4ef6-4d74-8e41-106838bd9fc4.npz...\n",
            "Copying gs://beninbucket/yb_test/data/5ad6375e-4bf8-4a30-9527-f7c6a56d2626.npz...\n",
            "Copying gs://beninbucket/yb_test/data/5b9b033b-d3cc-4b32-835c-7b3dca47d3dd.npz...\n",
            "Copying gs://beninbucket/yb_test/data/5c9a180d-e709-445f-b4cc-d4fafad1ac87.npz...\n",
            "Copying gs://beninbucket/yb_test/data/5d2da53a-2581-44c4-9369-fc6e57d1f434.npz...\n",
            "Copying gs://beninbucket/yb_test/data/5d798fc6-eea8-49b4-869b-9970fe6308dc.npz...\n",
            "Copying gs://beninbucket/yb_test/data/5e837ef1-aaa2-4cd1-82bb-4e73659d5ebf.npz...\n",
            "Copying gs://beninbucket/yb_test/data/61888df9-618f-47c8-b711-75f5354eaa29.npz...\n",
            "Copying gs://beninbucket/yb_test/data/6317c427-e4d6-43ac-913b-7ae1def5b4d5.npz...\n",
            "Copying gs://beninbucket/yb_test/data/65bbc21b-5824-45ef-b66b-c3555508daa5.npz...\n",
            "Copying gs://beninbucket/yb_test/data/66470b12-93b2-4093-871d-88904bd0b03a.npz...\n",
            "Copying gs://beninbucket/yb_test/data/678beeb5-ce7c-4c24-8dcf-ab58fdd90b0a.npz...\n",
            "Copying gs://beninbucket/yb_test/data/691fa689-8ef4-47f1-8182-5d6f5d597a9c.npz...\n",
            "Copying gs://beninbucket/yb_test/data/69c472db-ad3d-41f9-98ea-a251159532b5.npz...\n",
            "Copying gs://beninbucket/yb_test/data/6adc9694-2afb-4d5f-a85a-cc0c89a404a4.npz...\n",
            "Copying gs://beninbucket/yb_test/data/6c8638f3-1bfd-407f-a500-ca0cc2b16228.npz...\n",
            "Copying gs://beninbucket/yb_test/data/6da65375-ab84-41c0-bae9-1243b362f403.npz...\n",
            "Copying gs://beninbucket/yb_test/data/7018bd59-d245-46b6-8e53-1a1724007eee.npz...\n",
            "Copying gs://beninbucket/yb_test/data/6f1b6431-6c60-4b8d-add6-ff81a2480743.npz...\n",
            "Copying gs://beninbucket/yb_test/data/70726df4-bb3b-4ad3-b25a-2f644111d6e8.npz...\n",
            "Copying gs://beninbucket/yb_test/data/755c33d2-ac0e-4530-b0c6-27e0f01a79dd.npz...\n",
            "Copying gs://beninbucket/yb_test/data/7921a0de-18f0-43f7-8635-f4242cab8590.npz...\n",
            "Copying gs://beninbucket/yb_test/data/79f9891b-af69-4c40-9741-aad9577dda21.npz...\n",
            "Copying gs://beninbucket/yb_test/data/7c1700a5-594a-4af3-832b-9e58fc9eb95b.npz...\n",
            "Copying gs://beninbucket/yb_test/data/7ffa64db-3965-4917-b445-355887644276.npz...\n",
            "Copying gs://beninbucket/yb_test/data/80c6cb01-6d21-473f-89b9-6620231a9980.npz...\n",
            "Copying gs://beninbucket/yb_test/data/85a2902c-07cb-4da3-ba74-c5129b5c38fe.npz...\n",
            "Copying gs://beninbucket/yb_test/data/85ef0008-b8a8-43ce-baf0-066460b59539.npz...\n",
            "Copying gs://beninbucket/yb_test/data/8970d975-cce4-44ed-802f-6d61cf40a8e3.npz...\n",
            "Copying gs://beninbucket/yb_test/data/8a950637-67c6-44d5-b1b7-01ba365b066d.npz...\n",
            "Copying gs://beninbucket/yb_test/data/8ae4ed4e-201f-4f1d-b361-f4b4c081c5cd.npz...\n",
            "Copying gs://beninbucket/yb_test/data/8d604f00-e21d-46b1-a998-25dafb69ca8d.npz...\n",
            "Copying gs://beninbucket/yb_test/data/936a505d-3656-4865-88ae-2137a69d1dde.npz...\n",
            "Copying gs://beninbucket/yb_test/data/955c4c20-45d1-4735-82fe-2ab3faec5309.npz...\n",
            "Copying gs://beninbucket/yb_test/data/96088fe1-aea3-4c08-ba85-b6b5f0f8d101.npz...\n",
            "Copying gs://beninbucket/yb_test/data/971029aa-3c15-451f-8194-7e35b151b8c1.npz...\n",
            "Copying gs://beninbucket/yb_test/data/975c545b-b053-4dca-a758-bd35dd75e9df.npz...\n",
            "Copying gs://beninbucket/yb_test/data/99926955-1faa-4446-a512-43ec0cbf364f.npz...\n",
            "Copying gs://beninbucket/yb_test/data/9a81c54f-78ac-4164-ac84-15ca142fe9b9.npz...\n",
            "Copying gs://beninbucket/yb_test/data/9d2fe1c5-6c7b-49c1-a3da-1fcd0c8acb92.npz...\n",
            "Copying gs://beninbucket/yb_test/data/9f8b992d-70c3-43b5-8b8b-a5a5d719b2d3.npz...\n",
            "Copying gs://beninbucket/yb_test/data/a13e5984-69f9-4ab3-91ab-dad13438d585.npz...\n",
            "Copying gs://beninbucket/yb_test/data/a5274968-b954-42b8-864d-924fe6e3dae8.npz...\n",
            "Copying gs://beninbucket/yb_test/data/a7862699-3621-4c01-96a1-097b5a1ee248.npz...\n",
            "Copying gs://beninbucket/yb_test/data/acc5dab8-212d-45d1-a794-2968226df1d8.npz...\n",
            "Copying gs://beninbucket/yb_test/data/af0fb40d-2eb7-4b58-b91c-f29b393f5de7.npz...\n",
            "Copying gs://beninbucket/yb_test/data/af35fcc5-f3c7-42f5-8f98-c9aa428ce946.npz...\n",
            "Copying gs://beninbucket/yb_test/data/af506ecf-56a9-4759-af09-f333e7dac85c.npz...\n",
            "Copying gs://beninbucket/yb_test/data/b026eb0e-20e9-4966-9fbe-e2488e7a12fb.npz...\n",
            "Copying gs://beninbucket/yb_test/data/b4b030f4-bb3c-4c23-b2b1-ae4af082e134.npz...\n",
            "Copying gs://beninbucket/yb_test/data/b913d880-a7d1-46a4-aba3-1495d5e6305e.npz...\n",
            "Copying gs://beninbucket/yb_test/data/b9c36d1f-bc62-4c28-895c-14c7dbf02ab6.npz...\n",
            "Copying gs://beninbucket/yb_test/data/bf8cd660-a62c-4c17-b767-212bd4234604.npz...\n",
            "Copying gs://beninbucket/yb_test/data/bff51dbc-e914-4596-b6d8-de82b2adce5b.npz...\n",
            "Copying gs://beninbucket/yb_test/data/c001f1fc-095b-43e0-ab1f-06a7fc56f225.npz...\n",
            "Copying gs://beninbucket/yb_test/data/c5069c04-1b9e-47d3-b793-edc3f8fe8990.npz...\n",
            "Copying gs://beninbucket/yb_test/data/cc30ea75-6999-4d71-8e85-9661c843715d.npz...\n",
            "Copying gs://beninbucket/yb_test/data/cc6de972-78ca-429b-82e0-5d77f670f50c.npz...\n",
            "Copying gs://beninbucket/yb_test/data/cd54d044-304f-459e-8c02-13d31986b2d4.npz...\n",
            "Copying gs://beninbucket/yb_test/data/cf0fb50c-b6e0-4049-b644-c6c57d1eb9b4.npz...\n",
            "Copying gs://beninbucket/yb_test/data/d51b1b9c-27cc-419b-982e-cca6f345505d.npz...\n",
            "Copying gs://beninbucket/yb_test/data/d608e62d-e2a7-4395-9d9d-a4433a0191b7.npz...\n",
            "Copying gs://beninbucket/yb_test/data/d71a90ea-1d53-47c3-b55a-365a5a77d1b8.npz...\n",
            "Copying gs://beninbucket/yb_test/data/d7fd7503-8191-4d25-a010-a2659ff35fd7.npz...\n",
            "Copying gs://beninbucket/yb_test/data/d74823e0-44b2-46f2-b746-ebcf69ab6863.npz...\n",
            "Copying gs://beninbucket/yb_test/data/d9874d91-6e85-454d-a395-ff83de454703.npz...\n",
            "Copying gs://beninbucket/yb_test/data/d9fdab85-ce68-441e-842c-855850b3672f.npz...\n",
            "Copying gs://beninbucket/yb_test/data/ddbbd700-9846-4455-9e37-db8e759b0a52.npz...\n",
            "Copying gs://beninbucket/yb_test/data/dea852e1-2aeb-451e-ac3d-0fec5a427d86.npz...\n",
            "Copying gs://beninbucket/yb_test/data/e0ee208f-5771-4fb9-a92e-81565f10a10a.npz...\n",
            "Copying gs://beninbucket/yb_test/data/e2a671fb-facf-422b-9d9c-245d3ef3ec2c.npz...\n",
            "Copying gs://beninbucket/yb_test/data/e2ac0de3-fc2a-4734-84f8-819f1610b427.npz...\n",
            "Copying gs://beninbucket/yb_test/data/e2c7c7d8-ce7e-442a-8f0a-5255c65e2120.npz...\n",
            "Copying gs://beninbucket/yb_test/data/e53892ed-20be-4b11-bfb9-fbe906a508ec.npz...\n",
            "Copying gs://beninbucket/yb_test/data/e7a3c63f-62f3-4933-9757-ba9359284b17.npz...\n",
            "Copying gs://beninbucket/yb_test/data/e668e23d-74da-4867-aaea-cfd70988970f.npz...\n",
            "Copying gs://beninbucket/yb_test/data/eb61ef08-2568-429e-9176-e2ee3c3c79e4.npz...\n",
            "Copying gs://beninbucket/yb_test/data/e8c6628b-31d8-4cc7-8235-3cabe4d5e0a4.npz...\n",
            "Copying gs://beninbucket/yb_test/data/ed89c772-8355-4779-add2-1023ceff0a8a.npz...\n",
            "Copying gs://beninbucket/yb_test/data/edc95501-42ce-4035-a1e4-879bd04bde23.npz...\n",
            "Copying gs://beninbucket/yb_test/data/ede992ec-cc29-44f4-96ce-b3e04b103fc7.npz...\n",
            "Copying gs://beninbucket/yb_test/data/ef99ddd2-2702-4f43-81d1-1c1bc416cbe6.npz...\n",
            "Copying gs://beninbucket/yb_test/data/f2907c0e-2f87-4d79-9581-c8f2756b082f.npz...\n",
            "Copying gs://beninbucket/yb_test/data/f33f4ac6-3d49-4fcb-863e-507b4e3b243f.npz...\n",
            "Copying gs://beninbucket/yb_test/data/f373128a-faf5-471e-9fca-8d65e5d60a1f.npz...\n",
            "Copying gs://beninbucket/yb_test/data/f3b3e034-2d63-4fc3-9fbd-fb2a3d544550.npz...\n",
            "Copying gs://beninbucket/yb_test/data/f7c5f1c1-346b-4feb-8456-8628964cd1b5.npz...\n",
            "Copying gs://beninbucket/yb_test/data/f9d35630-c629-4f55-8077-359d52d174a1.npz...\n",
            "Copying gs://beninbucket/yb_test/data/fc82c747-22bf-448f-8ac8-f3bbaa3d26ed.npz...\n",
            "Copying gs://beninbucket/yb_test/data/ff315bae-4bac-4e4f-9bec-9c1f865ac9d7.npz...\n",
            "| [140/140 files][ 55.4 MiB/ 55.4 MiB] 100% Done   2.8 MiB/s ETA 00:00:00       \n",
            "Operation completed over 140 objects/55.4 MiB.                                   \n"
          ]
        }
      ],
      "source": [
        "!mkdir -p data-training\n",
        "!gsutil -m cp {data_path}/* data-training"
      ]
    },
    {
      "cell_type": "code",
      "execution_count": 6,
      "metadata": {
        "id": "LmkHlD-vJ58d"
      },
      "outputs": [],
      "source": [
        "# Use this to wipe the folder if needed\n",
        "#%rm -r data-training"
      ]
    },
    {
      "cell_type": "markdown",
      "metadata": {
        "id": "2rwTshMtruzG"
      },
      "source": [
        "## 2.2 Look at dataset"
      ]
    },
    {
      "cell_type": "code",
      "execution_count": 7,
      "metadata": {
        "id": "1Tdv1we6qeBI"
      },
      "outputs": [],
      "source": [
        "import torch\n",
        "from read_data import DatasetFromPath, test_train_split\n",
        "\n",
        "dataset = DatasetFromPath('data-training')"
      ]
    },
    {
      "cell_type": "markdown",
      "metadata": {
        "id": "Yyk2Cv15hvcG"
      },
      "source": [
        "**Note**: to avoid using [Hugging Face 🤗 Datasets](https://huggingface.co/docs/datasets/main/en/index) (like in the weather forcasting sample), we're going to use a custom subclass of PyTorch's `torch.utils.data.Dataset` (`DatsetFromPath`). Hugging Face is nice to use a high-level interface for using datasets and should maybe be implemented in the future, but as of this writing (7/4/2023), VertexAI (what we're using for cloud training) has an issue with it's Hugging Face Trainer API (see [weather sample issue](https://github.com/GoogleCloudPlatform/python-docs-samples/issues/9272))."
      ]
    },
    {
      "cell_type": "markdown",
      "metadata": {
        "id": "_I2Y9u71sEgT"
      },
      "source": [
        "### Visualize"
      ]
    },
    {
      "cell_type": "markdown",
      "metadata": {
        "id": "vbmjRaT4j6JB"
      },
      "source": [
        "Let's grab the dataset (`data`) from our path (`/content/data_training`) and pull the top element from the dataset as `example`. In `DatasetFromPath`, the custom getter utilizes dictionary keys of `inputs` and `labels`, so to grab the inputs of example, we use `example['inputs']`.\n",
        "\n",
        "Check what was run through the pipeline. You should expect to see:\n",
        "- Dataset size of 2 * `POINTS_PER_CLASS`\n",
        "- inputs size of (`PATCH_SIZE`, `PATCH_SIZE`, number of input bands)\n",
        "- labels size of (`PATCH_SIZE`, `PATCH_SIZE`, number of label bands)"
      ]
    },
    {
      "cell_type": "code",
      "execution_count": 8,
      "metadata": {
        "id": "MRF7ypL_BEqf",
        "outputId": "c39207a5-4ec9-4163-b290-4f3ce631965a",
        "colab": {
          "base_uri": "https://localhost:8080/"
        }
      },
      "outputs": [
        {
          "output_type": "stream",
          "name": "stdout",
          "text": [
            "Dataset size: 1000\n",
            "inputs: (128, 128, 5)\n",
            "labels: (128, 128, 1)\n"
          ]
        }
      ],
      "source": [
        "print(f\"Dataset size: {len(dataset)}\")\n",
        "example = dataset[0]  # random access the first element\n",
        "\n",
        "print(f\"inputs: {example['inputs'].shape}\")\n",
        "print(f\"labels: {example['labels'].shape}\")"
      ]
    },
    {
      "cell_type": "markdown",
      "metadata": {
        "id": "G_OAWndLkvpa"
      },
      "source": [
        "The `DatsetFromPath` class also allows you to retrieve all of the inputs/labels in a dataset in their raw NumPy array form by indexing with \"inputs\" or \"labels\":"
      ]
    },
    {
      "cell_type": "code",
      "execution_count": 9,
      "metadata": {
        "id": "hS7A25EEku3W",
        "outputId": "3dea0f72-cd78-4c83-9fc0-42d7e26f4521",
        "colab": {
          "base_uri": "https://localhost:8080/"
        }
      },
      "outputs": [
        {
          "output_type": "stream",
          "name": "stdout",
          "text": [
            "All inputs: (1000, 128, 128, 5)\n",
            "All labels: (1000, 128, 128, 1)\n"
          ]
        }
      ],
      "source": [
        "inputs = dataset['inputs']\n",
        "labels = dataset['labels']\n",
        "\n",
        "print(f\"All inputs: {inputs.shape}\")\n",
        "print(f\"All labels: {labels.shape}\")"
      ]
    },
    {
      "cell_type": "markdown",
      "metadata": {
        "id": "1nbS_jurpKO6"
      },
      "source": [
        "Let's view our example using our visualization functionality. For Benin, blue = inside village, red = outside village."
      ]
    },
    {
      "cell_type": "code",
      "execution_count": 10,
      "metadata": {
        "id": "5JzlTSkhpMEU",
        "outputId": "4fd19da1-552c-4222-c4be-97f6c65582c5",
        "colab": {
          "base_uri": "https://localhost:8080/",
          "height": 350
        }
      },
      "outputs": [
        {
          "output_type": "display_data",
          "data": {
            "text/plain": [
              "<Figure size 640x480 with 2 Axes>"
            ],
            "image/png": "[encoded data removed]"
          },
          "metadata": {}
        }
      ],
      "source": [
        "from visualize import show_patch\n",
        "\n",
        "\n",
        "inputs = example['inputs']\n",
        "labels = example['labels']\n",
        "\n",
        "show_patch(inputs, labels)"
      ]
    },
    {
      "cell_type": "markdown",
      "metadata": {
        "id": "HDir8YB7l2pn"
      },
      "source": [
        "How let's split the dataset into a train and test subset using the test_train_split function. Test differt ratios to see how the dataset splits and view the first of each."
      ]
    },
    {
      "cell_type": "code",
      "execution_count": 11,
      "metadata": {
        "id": "CX2nnRlrkWxG",
        "outputId": "da2b2bb3-75a7-4105-f74c-3b968e940265",
        "colab": {
          "base_uri": "https://localhost:8080/",
          "height": 839
        }
      },
      "outputs": [
        {
          "output_type": "stream",
          "name": "stdout",
          "text": [
            "Train size: 800\n",
            "inputs: (128, 128, 5)\n",
            "labels: (128, 128, 1)\n",
            "Test size: 200\n",
            "inputs: (128, 128, 5)\n",
            "labels: (128, 128, 1)\n",
            "\n",
            "Train[0]:\n"
          ]
        },
        {
          "output_type": "display_data",
          "data": {
            "text/plain": [
              "<Figure size 640x480 with 2 Axes>"
            ],
            "image/png": "[encoded data removed]"
          },
          "metadata": {}
        },
        {
          "output_type": "stream",
          "name": "stdout",
          "text": [
            "Test[0]:\n"
          ]
        },
        {
          "output_type": "display_data",
          "data": {
            "text/plain": [
              "<Figure size 640x480 with 2 Axes>"
            ],
            "image/png": "[encoded data removed]"
          },
          "metadata": {}
        }
      ],
      "source": [
        "TEST_TRAIN_RATIO = 0.8\n",
        "train, test = test_train_split(dataset, ratio=TEST_TRAIN_RATIO)\n",
        "\n",
        "print(f\"Train size: {len(train)}\")\n",
        "train_example = train[0]  # random access the first element\n",
        "print(f\"inputs: {train_example['inputs'].shape}\")\n",
        "print(f\"labels: {train_example['labels'].shape}\")\n",
        "print(f\"Test size: {len(test)}\")\n",
        "test_example = test[0]  # random access the first element\n",
        "print(f\"inputs: {test_example['inputs'].shape}\")\n",
        "print(f\"labels: {test_example['labels'].shape}\\n\")\n",
        "\n",
        "train_inputs = train_example['inputs']\n",
        "train_labels = train_example['labels']\n",
        "test_inputs = test_example['inputs']\n",
        "test_labels = test_example['labels']\n",
        "print(f'Train[0]:')\n",
        "show_patch(train_inputs, train_labels)\n",
        "print(f'Test[0]:')\n",
        "show_patch(test_inputs, test_labels)"
      ]
    },
    {
      "cell_type": "markdown",
      "source": [
        "# 3. Helper functions"
      ],
      "metadata": {
        "id": "9eUN8VwBEeC9"
      }
    },
    {
      "cell_type": "markdown",
      "source": [
        "## 3.1 Transformers"
      ],
      "metadata": {
        "id": "x-Z1FLShEula"
      }
    },
    {
      "cell_type": "code",
      "source": [
        "def prep_normalize(dataset):\n",
        "  # Access inputs in dataset\n",
        "  inputs = dataset['inputs']\n",
        "\n",
        "  # Reshape to (num_inputs * num_pixels, num_bands)\n",
        "  reshaped_inputs = inputs.reshape(-1, inputs.shape[-1])\n",
        "\n",
        "  # Calculate mean, std and max for each band across all inputs\n",
        "  means = reshaped_inputs.mean(axis=0)\n",
        "  stds = reshaped_inputs.std(axis=0)\n",
        "\n",
        "  return {'mean': means.tolist(), 'std': stds.tolist()}\n",
        "\n",
        "NORM_TRAIN = prep_normalize(train)\n",
        "print(\"Train:\", NORM_TRAIN)\n",
        "NORM_TEST = prep_normalize(test)\n",
        "print(\"Test:\", NORM_TEST)"
      ],
      "metadata": {
        "id": "0T6wuODLqBvA",
        "outputId": "a7e907eb-3447-43e0-d371-c522ee76341f",
        "colab": {
          "base_uri": "https://localhost:8080/"
        }
      },
      "execution_count": 42,
      "outputs": [
        {
          "output_type": "stream",
          "name": "stdout",
          "text": [
            "Train: {'mean': [0.12017250061035156, 0.10598929226398468, 0.07156441360712051, 0.24593468010425568, 0.35416144132614136], 'std': [0.02683982439339161, 0.015557690523564816, 0.01132374256849289, 0.03158944845199585, 0.09940911829471588]}\n",
            "Test: {'mean': [0.11671027541160583, 0.10062150657176971, 0.07806497812271118, 0.24009855091571808, 0.3480548858642578], 'std': [0.026935962960124016, 0.014909759163856506, 0.010188768617808819, 0.03056202083826065, 0.09980544447898865]}\n"
          ]
        }
      ]
    },
    {
      "cell_type": "code",
      "source": [
        "from torchvision import transforms\n",
        "\n",
        "# Specify transforms for training\n",
        "transform_train = transforms.Compose([\n",
        "    transforms.ToTensor(),\n",
        "    transforms.RandomHorizontalFlip(),\n",
        "    transforms.RandomVerticalFlip(),\n",
        "    transforms.Normalize(\n",
        "        mean=NORM_TRAIN['mean'],\n",
        "        std=NORM_TRAIN['std'])\n",
        "    ])\n",
        "\n",
        "# Specify transforms for testing\n",
        "transform_test = transforms.Compose([\n",
        "    transforms.ToTensor(),\n",
        "    transforms.Normalize(\n",
        "        mean=NORM_TEST['mean'],\n",
        "        std=NORM_TEST['std'])\n",
        "    ])"
      ],
      "metadata": {
        "id": "2qlTpKoEEXLS"
      },
      "execution_count": 56,
      "outputs": []
    },
    {
      "cell_type": "code",
      "source": [
        "transform_train(test['inputs'][0])"
      ],
      "metadata": {
        "id": "39iBzrhDJNxG",
        "outputId": "1a4c5422-c82d-4f0c-cd44-dd9f7f46144b",
        "colab": {
          "base_uri": "https://localhost:8080/"
        }
      },
      "execution_count": 61,
      "outputs": [
        {
          "output_type": "execute_result",
          "data": {
            "text/plain": [
              "tensor([[[-0.3172, -0.3172, -0.0549,  ...,  0.0656,  0.0656,  0.0656],\n",
              "         [-0.5515, -0.5515, -0.4285,  ...,  0.3382,  0.3382,  0.3382],\n",
              "         [-0.5515, -0.5515, -0.4285,  ...,  0.3382,  0.3382,  0.3382],\n",
              "         ...,\n",
              "         [ 0.4628,  0.4628,  0.6761,  ...,  0.8859,  0.8859,  0.8859],\n",
              "         [ 0.4628,  0.4628,  0.6761,  ...,  0.8859,  0.8859,  0.8859],\n",
              "         [ 0.4628,  0.4628,  0.6761,  ...,  0.8859,  0.8859,  0.8859]],\n",
              "\n",
              "        [[-0.3222, -0.3222, -0.1719,  ...,  0.1869,  0.1869,  0.1869],\n",
              "         [-0.7058, -0.7058, -0.3222,  ..., -0.0658, -0.0658, -0.0658],\n",
              "         [-0.7058, -0.7058, -0.3222,  ..., -0.0658, -0.0658, -0.0658],\n",
              "         ...,\n",
              "         [-0.0603, -0.0603,  0.2256,  ...,  0.8343,  0.8343,  0.8343],\n",
              "         [-0.0603, -0.0603,  0.2256,  ...,  0.8343,  0.8343,  0.8343],\n",
              "         [-0.0603, -0.0603,  0.2256,  ...,  0.8343,  0.8343,  0.8343]],\n",
              "\n",
              "        [[-0.4358, -0.4358, -0.4871,  ..., -0.1929, -0.1929, -0.1929],\n",
              "         [-0.4857, -0.4857, -0.5356,  ...,  0.4090,  0.4090,  0.4090],\n",
              "         [-0.4857, -0.4857, -0.5356,  ...,  0.4090,  0.4090,  0.4090],\n",
              "         ...,\n",
              "         [ 0.3227,  0.3227,  0.5089,  ...,  0.3672,  0.3672,  0.3672],\n",
              "         [ 0.3227,  0.3227,  0.5089,  ...,  0.3672,  0.3672,  0.3672],\n",
              "         [ 0.3227,  0.3227,  0.5089,  ...,  0.3672,  0.3672,  0.3672]],\n",
              "\n",
              "        [[-0.3856, -0.3856, -0.4117,  ...,  0.1084,  0.1084,  0.1084],\n",
              "         [-0.2466, -0.2466, -0.5611,  ...,  0.2064,  0.2064,  0.2064],\n",
              "         [-0.2466, -0.2466, -0.5611,  ...,  0.2064,  0.2064,  0.2064],\n",
              "         ...,\n",
              "         [-0.4153, -0.4153, -0.4378,  ..., -0.3146, -0.3146, -0.3146],\n",
              "         [-0.4153, -0.4153, -0.4378,  ..., -0.3146, -0.3146, -0.3146],\n",
              "         [-0.4153, -0.4153, -0.4378,  ..., -0.3146, -0.3146, -0.3146]],\n",
              "\n",
              "        [[ 0.0904,  0.0904, -0.2050,  ..., -0.0284, -0.0284, -0.0284],\n",
              "         [ 0.4288,  0.4288,  0.1093,  ..., -0.2414, -0.2414, -0.2414],\n",
              "         [ 0.4288,  0.4288,  0.1093,  ..., -0.2414, -0.2414, -0.2414],\n",
              "         ...,\n",
              "         [-0.7272, -0.7272, -0.9441,  ..., -1.0595, -1.0595, -1.0595],\n",
              "         [-0.7272, -0.7272, -0.9441,  ..., -1.0595, -1.0595, -1.0595],\n",
              "         [-0.7272, -0.7272, -0.9441,  ..., -1.0595, -1.0595, -1.0595]]])"
            ]
          },
          "metadata": {},
          "execution_count": 61
        }
      ]
    }
  ],
  "metadata": {
    "colab": {
      "collapsed_sections": [
        "_MJ4kW1pEhwP",
        "qKs6HuxOzjMl",
        "wXT0jjZXA0Sl",
        "P8tk45vuaGsj",
        "IkoNQYudaMUl",
        "Gl7W7v-haPJO",
        "fuHHM5pXQ_DJ",
        "2rwTshMtruzG",
        "_I2Y9u71sEgT",
        "W3QlLRJCrjqP",
        "p-rwc6vWjZUR",
        "LBNZz_hzXhiJ",
        "X5L4ciSukV4y",
        "k73nwrXBkP-9",
        "NMM5PBYZXQb5"
      ],
      "machine_shape": "hm",
      "provenance": [],
      "include_colab_link": true
    },
    "gpuClass": "standard",
    "kernelspec": {
      "display_name": "Python 3",
      "name": "python3"
    },
    "language_info": {
      "codemirror_mode": {
        "name": "ipython",
        "version": 3
      },
      "file_extension": ".py",
      "mimetype": "text/x-python",
      "name": "python",
      "nbconvert_exporter": "python",
      "pygments_lexer": "ipython3",
      "version": "3.9.16"
    }
  },
  "nbformat": 4,
  "nbformat_minor": 0
}